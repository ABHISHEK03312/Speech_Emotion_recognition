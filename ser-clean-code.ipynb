{
 "cells": [
  {
   "cell_type": "code",
   "execution_count": 245,
   "metadata": {},
   "outputs": [],
   "source": [
    "import tensorflow\n",
    "import pandas as pd\n",
    "import time\n",
    "import numpy as np\n",
    "import pylab as plt\n",
    "import multiprocessing as mp\n",
    "import statistics\n",
    "from statistics import mean\n",
    "\n",
    "import librosa\n",
    "from librosa import feature\n",
    "from glob import glob\n",
    "import os\n",
    "\n",
    "from sklearn.preprocessing import StandardScaler, OneHotEncoder\n",
    "\n",
    "# tensorflow libraries\n",
    "import tensorflow as tf\n",
    "import tensorflow.keras as keras\n",
    "from tensorflow.keras import Sequential\n",
    "from keras.layers import Dense, Conv1D, MaxPooling1D, Flatten, Dropout, BatchNormalization, Conv2D, Activation\n",
    "from tensorflow.keras.callbacks import Callback\n",
    "from keras.utils import np_utils\n",
    "from keras.wrappers.scikit_learn import KerasClassifier\n",
    "\n",
    "# sklearn libraries are useful for preprocessing, performance measures, etc.\n",
    "from sklearn import preprocessing\n",
    "from sklearn.model_selection import KFold\n",
    "from sklearn.model_selection import cross_val_score\n",
    "from sklearn.model_selection import train_test_split\n",
    "from sklearn.preprocessing import LabelEncoder\n",
    "min_max_scaler = preprocessing.MinMaxScaler()\n",
    "\n",
    "encoder = OneHotEncoder()"
   ]
  },
  {
   "cell_type": "code",
   "execution_count": 246,
   "metadata": {},
   "outputs": [],
   "source": [
    "rootdir = '/Users/abhishekvaidyanathan/Desktop/NNDL-project/audio-files'\n",
    "audio_files = []\n",
    "for subdir, dirs, files in os.walk(rootdir):\n",
    "    for file in files:\n",
    "        audio_files.append(os.path.join(subdir, file))\n",
    "audio_files = audio_files[1:]"
   ]
  },
  {
   "cell_type": "code",
   "execution_count": 247,
   "metadata": {},
   "outputs": [],
   "source": [
    "dict_actors = {}\n",
    "for audio_file in audio_files:\n",
    "    try :\n",
    "        if (len(dict_actors[audio_file[-33:-25]])>0):\n",
    "            dict_actors[audio_file[-33:-25]].append(audio_file)\n",
    "    except:\n",
    "        dict_actors[audio_file[-33:-25]] = []\n",
    "        dict_actors[audio_file[-33:-25]].append(audio_file)"
   ]
  },
  {
   "cell_type": "code",
   "execution_count": 248,
   "metadata": {},
   "outputs": [],
   "source": [
    "data = pd.DataFrame(columns = ['Actor','Modality','Vocal_channel','Emotion','Emotional_intensity','Statement','Repetion','Gender','Audio_file'])"
   ]
  },
  {
   "cell_type": "code",
   "execution_count": 249,
   "metadata": {},
   "outputs": [],
   "source": [
    "def get_gender(value):\n",
    "    if(int(value)%2==0):\n",
    "        return 1\n",
    "    else :\n",
    "        return 0\n",
    "\n",
    "for keys in dict_actors:\n",
    "    for files in dict_actors[keys]:\n",
    "        data.loc[len(data)] = [keys,int(files[-24:-22]),int(files[-21:-19]),int(files[-18:-16]),int(files[-15:-13]),int(files[-12:-10]),int(files[-9:-7]),get_gender(files[-6:-4]),files]"
   ]
  },
  {
   "cell_type": "code",
   "execution_count": 311,
   "metadata": {},
   "outputs": [],
   "source": [
    "def get_feature_vector(y, sr):\n",
    "    result = []\n",
    "    \n",
    "    # multi-dim features\n",
    "    result = []\n",
    "    zcr = np.mean(librosa.feature.zero_crossing_rate(y=y).T, axis=0)\n",
    "    # result=np.hstack((result, zcr)) # stacking horizontally\n",
    "    result.extend(zcr)\n",
    "\n",
    "    # Chroma_stft\n",
    "    # stft = np.abs(librosa.stft(y))\n",
    "    chroma_stft = np.mean(librosa.feature.chroma_stft(y=y, sr=sr).T, axis=0)\n",
    "    result.extend(chroma_stft)\n",
    "    # result = np.hstack((result, chroma_stft)) # stacking horizontally\n",
    "\n",
    "    # MFCC\n",
    "    mfcc = np.mean(librosa.feature.mfcc(y=y, sr=sr).T, axis=0)\n",
    "    result.extend(mfcc)\n",
    "    # result = np.hstack((result, mfcc)) # stacking horizontally\n",
    "\n",
    "    # Root Mean Square Value\n",
    "    rms = np.mean(librosa.feature.rms(y=y).T, axis=0)\n",
    "    result.extend(rms)\n",
    "    # result = np.hstack((result, rms)) # stacking horizontally\n",
    "\n",
    "    # MelSpectogram\n",
    "    mel = np.mean(librosa.feature.melspectrogram(y=y, sr=sr).T, axis=0)\n",
    "    result.extend(mel)\n",
    "    \n",
    "    # single-dim features with special requirements\n",
    "    # feature_vector.append(np.mean(feature.rms(y=y)))\n",
    "    # feature_vector.append(np.mean(feature.zero_crossing_rate(y=y)))\n",
    "    result.extend([np.mean(x) for x in librosa.piptrack(y=y, sr=sr)])\n",
    "    \n",
    "    # single-dim features\n",
    "    feat_list = [\n",
    "        librosa.onset.onset_strength,\n",
    "        feature.spectral_rolloff,\n",
    "        feature.melspectrogram,\n",
    "        feature.spectral_centroid,\n",
    "        feature.spectral_bandwidth\n",
    "    ]\n",
    "    \n",
    "    for temp_func in feat_list:\n",
    "        result.append(np.mean(temp_func(y=y, sr=sr)))\n",
    "\n",
    "# def fft_plot(audio, sampling_rate):\n",
    "#     n=len(audio)\n",
    "#     T=1/sampling_rate    \n",
    "    yf=scipy.fft(y)    \n",
    "    result.extend(yf)    \n",
    "    # xf=np.linspace(0.0, 1.0/(2.0*T), int(n/2))\n",
    "    # fig,ax = plt.subplots()\n",
    "    # ax.plot(xf,2.0/n*np.abs(yf[:n//2]))\n",
    "    # plt.grid()\n",
    "    # plt.xlabel(\"Frequency -->\")\n",
    "    # plt.ylabel(\"Magnitude\")\n",
    "    # return plt.show()\n",
    "    \n",
    "    return result"
   ]
  },
  {
   "cell_type": "code",
   "execution_count": null,
   "metadata": {},
   "outputs": [],
   "source": [
    "audio_features = []\n",
    "for i in range(data.shape[0]):\n",
    "   y , sr = librosa.load(data.iloc[i]['Audio_file'],sr=None)\n",
    "   feature_vector = get_feature_vector(y, sr)\n",
    "   audio_features.append(feature_vector)"
   ]
  },
  {
   "cell_type": "code",
   "execution_count": 301,
   "metadata": {},
   "outputs": [
    {
     "name": "stderr",
     "output_type": "stream",
     "text": [
      "/var/folders/bf/k_40pbd90j3401sv0sntrcgw0000gn/T/ipykernel_7983/585319271.py:3: WavFileWarning: Chunk (non-data) not understood, skipping it.\n",
      "  rate, sr = wav.read(data.iloc[0]['Audio_file'])\n"
     ]
    }
   ],
   "source": [
    "from scipy.fftpack import fft,ifft\n",
    "from scipy.io import wavfile as wav\n",
    "rate, sr = wav.read(data.iloc[0]['Audio_file'])\n",
    "xx,yy = librosa.load(data.iloc[0]['Audio_file'])\n",
    "fft_out = fft(sr)"
   ]
  },
  {
   "cell_type": "code",
   "execution_count": 308,
   "metadata": {},
   "outputs": [],
   "source": [
    "X = librosa.stft(xx)\n",
    "Xdb = librosa.amplitude_to_db(abs(X))"
   ]
  },
  {
   "cell_type": "code",
   "execution_count": 307,
   "metadata": {},
   "outputs": [
    {
     "data": {
      "text/plain": [
       "(86081,)"
      ]
     },
     "execution_count": 307,
     "metadata": {},
     "output_type": "execute_result"
    }
   ],
   "source": [
    "xx.shape"
   ]
  },
  {
   "cell_type": "code",
   "execution_count": 326,
   "metadata": {},
   "outputs": [],
   "source": [
    "yf=fft(xx*w)    "
   ]
  },
  {
   "cell_type": "code",
   "execution_count": 327,
   "metadata": {},
   "outputs": [
    {
     "data": {
      "text/plain": [
       "(86081,)"
      ]
     },
     "execution_count": 327,
     "metadata": {},
     "output_type": "execute_result"
    }
   ],
   "source": [
    "yf.shape"
   ]
  },
  {
   "cell_type": "code",
   "execution_count": 325,
   "metadata": {},
   "outputs": [],
   "source": [
    "from scipy.fft import fftfreq\n",
    "from scipy.signal import blackman\n",
    "w = blackman(len(xx))"
   ]
  },
  {
   "cell_type": "code",
   "execution_count": 330,
   "metadata": {},
   "outputs": [],
   "source": [
    "xf = fftfreq(100, 1/yy)[:100//2]"
   ]
  },
  {
   "cell_type": "code",
   "execution_count": 331,
   "metadata": {},
   "outputs": [
    {
     "data": {
      "text/plain": [
       "(50,)"
      ]
     },
     "execution_count": 331,
     "metadata": {},
     "output_type": "execute_result"
    }
   ],
   "source": [
    "xf.shape"
   ]
  },
  {
   "cell_type": "code",
   "execution_count": 310,
   "metadata": {},
   "outputs": [
    {
     "data": {
      "text/plain": [
       "(1025, 169)"
      ]
     },
     "execution_count": 310,
     "metadata": {},
     "output_type": "execute_result"
    }
   ],
   "source": [
    "X.shape"
   ]
  },
  {
   "cell_type": "code",
   "execution_count": 309,
   "metadata": {},
   "outputs": [
    {
     "data": {
      "text/plain": [
       "(1025, 169)"
      ]
     },
     "execution_count": 309,
     "metadata": {},
     "output_type": "execute_result"
    }
   ],
   "source": [
    "Xdb.shape"
   ]
  },
  {
   "cell_type": "code",
   "execution_count": 332,
   "metadata": {},
   "outputs": [],
   "source": [
    "X_train_features = pd.read_csv(\"./SER_data/X_train_features.csv\")\n",
    "X_test_features = pd.read_csv(\"./SER_data/X_test_features.csv\")\n",
    "y_train_features = pd.read_csv(\"./SER_data/y_train_features.csv\")\n",
    "y_test_features = pd.read_csv(\"./SER_data/y_test_features.csv\")"
   ]
  },
  {
   "cell_type": "code",
   "execution_count": 211,
   "metadata": {},
   "outputs": [],
   "source": [
    "X_train = pd.read_csv(\"./SER_data/X_train.csv\")\n",
    "X_test = pd.read_csv(\"./SER_data/X_test.csv\")\n",
    "y_train = pd.read_csv(\"./SER_data/y_train.csv\")\n",
    "y_test = pd.read_csv(\"./SER_data/y_test.csv\")"
   ]
  },
  {
   "cell_type": "code",
   "execution_count": 333,
   "metadata": {},
   "outputs": [],
   "source": [
    "X_train_cnn_features = np.expand_dims(X_train_features,axis=2)\n",
    "X_test_cnn_features = np.expand_dims(X_test_features,axis=2)\n",
    "y_train_cnn_features = encoder.fit_transform(np.array(y_train_features).reshape(-1,1)).toarray()\n",
    "y_test_cnn_features = encoder.fit_transform(np.array(y_test_features).reshape(-1,1)).toarray()"
   ]
  },
  {
   "cell_type": "code",
   "execution_count": 212,
   "metadata": {},
   "outputs": [],
   "source": [
    "X_train_cnn = np.expand_dims(X_train,axis=2)\n",
    "X_test_cnn = np.expand_dims(X_test,axis=2)\n",
    "y_train_cnn = encoder.fit_transform(np.array(y_train).reshape(-1,1)).toarray()\n",
    "y_test_cnn = encoder.fit_transform(np.array(y_test).reshape(-1,1)).toarray()"
   ]
  },
  {
   "cell_type": "code",
   "execution_count": 365,
   "metadata": {},
   "outputs": [],
   "source": [
    "X_train_fourier = pd.read_csv(\"./SER_data/X_train_fourier.csv\")\n",
    "X_test_fourier = pd.read_csv(\"./SER_data/X_test_fourier.csv\")\n",
    "y_train_fourier = pd.read_csv(\"./SER_data/y_train_fourier.csv\")\n",
    "y_test_fourier = pd.read_csv(\"./SER_data/y_test_fourier.csv\")"
   ]
  },
  {
   "cell_type": "code",
   "execution_count": 366,
   "metadata": {},
   "outputs": [],
   "source": [
    "X_train_fourier_cnn = np.expand_dims(X_train_fourier,axis=2)\n",
    "X_test_fourier_cnn = np.expand_dims(X_test_fourier,axis=2)\n",
    "y_train_fourier_cnn = encoder.fit_transform(np.array(y_train_fourier).reshape(-1,1)).toarray()\n",
    "y_test_fourier_cnn = encoder.fit_transform(np.array(y_test_fourier).reshape(-1,1)).toarray()"
   ]
  },
  {
   "cell_type": "code",
   "execution_count": 7,
   "metadata": {},
   "outputs": [],
   "source": [
    "class time_for_batch(Callback):\n",
    "    def on_train_begin(self, logs={}):\n",
    "        self.times=[]\n",
    "    def on_train_batch_begin(self, batch, logs={}):\n",
    "        self.starttime = time.time()\n",
    "    def on_train_batch_end(self, batch, logs={}):\n",
    "        self.times.append(time.time()-self.starttime)\n",
    "        \n",
    "class time_for_epoch(Callback):\n",
    "    def on_train_begin(self, logs={}):\n",
    "        self.times = []\n",
    "    def on_epoch_begin(self, epoch, logs={}):\n",
    "        self.epoch_time_start = time.time()\n",
    "    def on_epoch_end(self, epoch, logs={}):\n",
    "        self.times.append(time.time() - self.epoch_time_start)"
   ]
  },
  {
   "cell_type": "code",
   "execution_count": 396,
   "metadata": {},
   "outputs": [],
   "source": [
    "def cnn_layers(no_folds,no_epochs,batch_size,X_train,y_train,X_test,y_test,epoch_times_dict):  \n",
    "\n",
    "  kf = KFold(n_splits=no_folds,random_state=None, shuffle=False)\n",
    "  KFold(n_splits=no_folds, random_state=None, shuffle=False)\n",
    "  history_results = []\n",
    "\n",
    "  # for train_index, test_index in kf.split(X_train):\n",
    "  #   X_train_K, X_test_K = X_train[train_index], X_train[test_index]\n",
    "  #   y_train_K, y_test_K = y_train[train_index], y_train[test_index]\n",
    "  # model = Sequential()\n",
    "  # input_size = X_train.shape[1]\n",
    "  # model.add(Dense(64, input_shape=(input_size,), activation = \"relu\"))\n",
    "  # model.add(BatchNormalization())\n",
    "  # model.add(Dropout(0.3))\n",
    "  # model.add(Dense(64, activation = \"relu\"))\n",
    "  # model.add(Dropout(0.3))\n",
    "  # model.add(Dense(32, activation = \"relu\"))\n",
    "  # model.add(Dropout(0.3))\n",
    "  # model.add(Dense(32, activation = \"relu\"))\n",
    "  # model.add(Dropout(0.3))\n",
    "  # # model.add(Dense(10, activation = \"relu\"))\n",
    "  # # model.add(Dropout(0.1))\n",
    "  # # model.add(Dense(8, activation = \"relu\"))\n",
    "  # # model.add(Dropout(0.1))\n",
    "  # model.add(Dense(16, activation = \"relu\"))\n",
    "  # model.add(Dense(8, activation = \"sigmoid\"))\n",
    "  # model.compile(loss=\"categorical_crossentropy\", optimizer=\"adam\",metrics=['accuracy'])\n",
    "\n",
    "  # model = Sequential()\n",
    "  # input_size = X_train.shape[1]\n",
    "  # model.add(Dense(200, input_shape=(input_size,), activation='relu'))\n",
    "  # model.add(Dropout(0.2))\n",
    "  # model.add(Dense(150, activation='relu'))\n",
    "  # model.add(Dropout(0.2))\n",
    "  # model.add(Dense(50, activation='relu'))\n",
    "  # model.add(Dense(8, activation='softmax'))\n",
    "  # model.compile(loss='categorical_crossentropy', optimizer='adam', metrics=['accuracy'])\n",
    "\n",
    "  model = Sequential()\n",
    "\n",
    "  model.add(Conv1D(128, 5, padding='same', input_shape=(X_train.shape[1],1)))\n",
    "  model.add(Activation('relu'))\n",
    "  model.add(MaxPooling1D(pool_size=(8)))\n",
    "  model.add(Dropout(0.2))\n",
    "\n",
    "  model.add(Conv1D(64, 5,padding='same'))\n",
    "  model.add(Activation('relu'))\n",
    "  model.add(MaxPooling1D(pool_size=(4)))\n",
    "  model.add(Dropout(0.1))\n",
    "\n",
    "  model.add(Conv1D(64, 5,padding='same'))\n",
    "  model.add(Activation('relu'))\n",
    "  # model.add(MaxPooling1D(pool_size=(2)))\n",
    "  model.add(Dropout(0.1))\n",
    "\n",
    "  model.add(Flatten())\n",
    "  model.add(Dense(32))\n",
    "  model.add(Dense(8))\n",
    "  model.add(Activation('softmax'))\n",
    "\n",
    "  print(model.summary())\n",
    "\n",
    "  # set callbacks\n",
    "  reduce_lr = tf.keras.callbacks.ReduceLROnPlateau(monitor='val_accuracy', \n",
    "                                                  factor=0.5, patience=4, \n",
    "                                                  verbose=1, mode='max', \n",
    "                                                  min_lr=0.001)\n",
    "\n",
    "  early_stop = tf.keras.callbacks.EarlyStopping(monitor='val_loss', patience=42,\n",
    "                                                verbose=1)\n",
    "\n",
    "  model_checkpoint = tf.keras.callbacks.ModelCheckpoint(filepath=os.path.join('/Users/abhishekvaidyanathan/Desktop/NNDL-saved-models/','all_model_weights.hdf5'), \n",
    "                                                        save_weights_only=True, \n",
    "                                                        monitor='val_accuracy', \n",
    "                                                        mode='max', \n",
    "                                                        save_best_only=True)\n",
    "\n",
    "  model.compile(optimizer=tf.keras.optimizers.Adam(lr=0.0001), loss='categorical_crossentropy', metrics=['accuracy'])\n",
    "\n",
    "  # model_checkpoint_callback = tf.keras.callbacks.ModelCheckpoint(\n",
    "  # filepath=\"/Users/abhishekvaidyanathan/Desktop/NNDL-saved-models/best_epoch_checkpoint_trial.tf\",\n",
    "  # save_weights_only=True,\n",
    "  # monitor='val_loss',\n",
    "  # mode='min',\n",
    "  # save_best_only=True)\n",
    "\n",
    "  history = model.fit(X_train, y_train,\n",
    "                batch_size=batch_size,\n",
    "                epochs=no_epochs,\n",
    "                verbose=2,\n",
    "                use_multiprocessing=False,\n",
    "                callbacks = [model_checkpoint],\n",
    "                validation_data=(X_test, y_test))\n",
    "\n",
    "  history_results.append(history)\n",
    "\n",
    "  return history_results"
   ]
  },
  {
   "cell_type": "code",
   "execution_count": 397,
   "metadata": {},
   "outputs": [
    {
     "name": "stdout",
     "output_type": "stream",
     "text": [
      "Model: \"sequential_93\"\n",
      "_________________________________________________________________\n",
      "Layer (type)                 Output Shape              Param #   \n",
      "=================================================================\n",
      "conv1d_150 (Conv1D)          (None, 166, 128)          768       \n",
      "_________________________________________________________________\n",
      "activation_149 (Activation)  (None, 166, 128)          0         \n",
      "_________________________________________________________________\n",
      "max_pooling1d_137 (MaxPoolin (None, 20, 128)           0         \n",
      "_________________________________________________________________\n",
      "dropout_204 (Dropout)        (None, 20, 128)           0         \n",
      "_________________________________________________________________\n",
      "conv1d_151 (Conv1D)          (None, 20, 64)            41024     \n",
      "_________________________________________________________________\n",
      "activation_150 (Activation)  (None, 20, 64)            0         \n",
      "_________________________________________________________________\n",
      "max_pooling1d_138 (MaxPoolin (None, 5, 64)             0         \n",
      "_________________________________________________________________\n",
      "dropout_205 (Dropout)        (None, 5, 64)             0         \n",
      "_________________________________________________________________\n",
      "conv1d_152 (Conv1D)          (None, 5, 64)             20544     \n",
      "_________________________________________________________________\n",
      "activation_151 (Activation)  (None, 5, 64)             0         \n",
      "_________________________________________________________________\n",
      "dropout_206 (Dropout)        (None, 5, 64)             0         \n",
      "_________________________________________________________________\n",
      "flatten_54 (Flatten)         (None, 320)               0         \n",
      "_________________________________________________________________\n",
      "dense_266 (Dense)            (None, 32)                10272     \n",
      "_________________________________________________________________\n",
      "dense_267 (Dense)            (None, 8)                 264       \n",
      "_________________________________________________________________\n",
      "activation_152 (Activation)  (None, 8)                 0         \n",
      "=================================================================\n",
      "Total params: 72,872\n",
      "Trainable params: 72,872\n",
      "Non-trainable params: 0\n",
      "_________________________________________________________________\n",
      "None\n",
      "Epoch 1/150\n",
      "34/34 - 1s - loss: 2.0742 - accuracy: 0.1518 - val_loss: 2.0669 - val_accuracy: 0.1875\n",
      "Epoch 2/150\n",
      "34/34 - 0s - loss: 2.0610 - accuracy: 0.1776 - val_loss: 2.0530 - val_accuracy: 0.1852\n",
      "Epoch 3/150\n",
      "34/34 - 0s - loss: 2.0444 - accuracy: 0.2004 - val_loss: 2.0352 - val_accuracy: 0.2153\n",
      "Epoch 4/150\n",
      "34/34 - 0s - loss: 2.0226 - accuracy: 0.1935 - val_loss: 2.0111 - val_accuracy: 0.2199\n",
      "Epoch 5/150\n",
      "34/34 - 0s - loss: 1.9996 - accuracy: 0.2143 - val_loss: 1.9839 - val_accuracy: 0.2037\n",
      "Epoch 6/150\n",
      "34/34 - 0s - loss: 1.9761 - accuracy: 0.2034 - val_loss: 1.9600 - val_accuracy: 0.2176\n",
      "Epoch 7/150\n",
      "34/34 - 0s - loss: 1.9535 - accuracy: 0.2361 - val_loss: 1.9457 - val_accuracy: 0.2199\n",
      "Epoch 8/150\n",
      "34/34 - 0s - loss: 1.9415 - accuracy: 0.2232 - val_loss: 1.9354 - val_accuracy: 0.2176\n",
      "Epoch 9/150\n",
      "34/34 - 0s - loss: 1.9289 - accuracy: 0.2192 - val_loss: 1.9262 - val_accuracy: 0.2269\n",
      "Epoch 10/150\n",
      "34/34 - 0s - loss: 1.9206 - accuracy: 0.2113 - val_loss: 1.9152 - val_accuracy: 0.2315\n",
      "Epoch 11/150\n",
      "34/34 - 0s - loss: 1.9118 - accuracy: 0.2391 - val_loss: 1.9114 - val_accuracy: 0.2269\n",
      "Epoch 12/150\n",
      "34/34 - 0s - loss: 1.9072 - accuracy: 0.2391 - val_loss: 1.8992 - val_accuracy: 0.2384\n",
      "Epoch 13/150\n",
      "34/34 - 0s - loss: 1.8982 - accuracy: 0.2242 - val_loss: 1.8917 - val_accuracy: 0.2431\n",
      "Epoch 14/150\n",
      "34/34 - 0s - loss: 1.8950 - accuracy: 0.2302 - val_loss: 1.8847 - val_accuracy: 0.2477\n",
      "Epoch 15/150\n",
      "34/34 - 0s - loss: 1.8847 - accuracy: 0.2401 - val_loss: 1.8789 - val_accuracy: 0.2384\n",
      "Epoch 16/150\n",
      "34/34 - 0s - loss: 1.8789 - accuracy: 0.2480 - val_loss: 1.8681 - val_accuracy: 0.2500\n",
      "Epoch 17/150\n",
      "34/34 - 0s - loss: 1.8639 - accuracy: 0.2560 - val_loss: 1.8620 - val_accuracy: 0.2593\n",
      "Epoch 18/150\n",
      "34/34 - 0s - loss: 1.8679 - accuracy: 0.2480 - val_loss: 1.8531 - val_accuracy: 0.2685\n",
      "Epoch 19/150\n",
      "34/34 - 0s - loss: 1.8682 - accuracy: 0.2708 - val_loss: 1.8510 - val_accuracy: 0.2662\n",
      "Epoch 20/150\n",
      "34/34 - 0s - loss: 1.8551 - accuracy: 0.2490 - val_loss: 1.8448 - val_accuracy: 0.2824\n",
      "Epoch 21/150\n",
      "34/34 - 0s - loss: 1.8454 - accuracy: 0.2679 - val_loss: 1.8360 - val_accuracy: 0.2870\n",
      "Epoch 22/150\n",
      "34/34 - 0s - loss: 1.8372 - accuracy: 0.2540 - val_loss: 1.8326 - val_accuracy: 0.2847\n",
      "Epoch 23/150\n",
      "34/34 - 0s - loss: 1.8447 - accuracy: 0.2798 - val_loss: 1.8269 - val_accuracy: 0.2917\n",
      "Epoch 24/150\n",
      "34/34 - 0s - loss: 1.8315 - accuracy: 0.2639 - val_loss: 1.8209 - val_accuracy: 0.2894\n",
      "Epoch 25/150\n",
      "34/34 - 0s - loss: 1.8302 - accuracy: 0.2649 - val_loss: 1.8171 - val_accuracy: 0.2870\n",
      "Epoch 26/150\n",
      "34/34 - 0s - loss: 1.8232 - accuracy: 0.2758 - val_loss: 1.8080 - val_accuracy: 0.3194\n",
      "Epoch 27/150\n",
      "34/34 - 0s - loss: 1.8241 - accuracy: 0.2996 - val_loss: 1.8051 - val_accuracy: 0.2963\n",
      "Epoch 28/150\n",
      "34/34 - 0s - loss: 1.8174 - accuracy: 0.2669 - val_loss: 1.8037 - val_accuracy: 0.3171\n",
      "Epoch 29/150\n",
      "34/34 - 0s - loss: 1.8050 - accuracy: 0.2817 - val_loss: 1.7941 - val_accuracy: 0.3125\n",
      "Epoch 30/150\n",
      "34/34 - 0s - loss: 1.7979 - accuracy: 0.2887 - val_loss: 1.7981 - val_accuracy: 0.3079\n",
      "Epoch 31/150\n",
      "34/34 - 0s - loss: 1.7910 - accuracy: 0.2937 - val_loss: 1.7867 - val_accuracy: 0.3264\n",
      "Epoch 32/150\n",
      "34/34 - 0s - loss: 1.8039 - accuracy: 0.2778 - val_loss: 1.7837 - val_accuracy: 0.3264\n",
      "Epoch 33/150\n",
      "34/34 - 0s - loss: 1.7980 - accuracy: 0.2927 - val_loss: 1.7934 - val_accuracy: 0.3171\n",
      "Epoch 34/150\n",
      "34/34 - 0s - loss: 1.7954 - accuracy: 0.2837 - val_loss: 1.7722 - val_accuracy: 0.3472\n",
      "Epoch 35/150\n",
      "34/34 - 0s - loss: 1.7921 - accuracy: 0.2808 - val_loss: 1.7690 - val_accuracy: 0.3403\n",
      "Epoch 36/150\n",
      "34/34 - 0s - loss: 1.7861 - accuracy: 0.2798 - val_loss: 1.7633 - val_accuracy: 0.3356\n",
      "Epoch 37/150\n",
      "34/34 - 0s - loss: 1.7776 - accuracy: 0.2996 - val_loss: 1.7596 - val_accuracy: 0.3218\n",
      "Epoch 38/150\n",
      "34/34 - 0s - loss: 1.7712 - accuracy: 0.3006 - val_loss: 1.7569 - val_accuracy: 0.3426\n",
      "Epoch 39/150\n",
      "34/34 - 0s - loss: 1.7731 - accuracy: 0.2986 - val_loss: 1.7532 - val_accuracy: 0.3218\n",
      "Epoch 40/150\n",
      "34/34 - 0s - loss: 1.7627 - accuracy: 0.3155 - val_loss: 1.7623 - val_accuracy: 0.3310\n",
      "Epoch 41/150\n",
      "34/34 - 0s - loss: 1.7741 - accuracy: 0.2937 - val_loss: 1.7465 - val_accuracy: 0.3426\n",
      "Epoch 42/150\n",
      "34/34 - 0s - loss: 1.7560 - accuracy: 0.3085 - val_loss: 1.7420 - val_accuracy: 0.3403\n",
      "Epoch 43/150\n",
      "34/34 - 0s - loss: 1.7586 - accuracy: 0.2887 - val_loss: 1.7427 - val_accuracy: 0.3356\n",
      "Epoch 44/150\n",
      "34/34 - 0s - loss: 1.7672 - accuracy: 0.3016 - val_loss: 1.7350 - val_accuracy: 0.3472\n",
      "Epoch 45/150\n",
      "34/34 - 0s - loss: 1.7434 - accuracy: 0.2966 - val_loss: 1.7421 - val_accuracy: 0.3194\n",
      "Epoch 46/150\n",
      "34/34 - 0s - loss: 1.7382 - accuracy: 0.3155 - val_loss: 1.7302 - val_accuracy: 0.3542\n",
      "Epoch 47/150\n",
      "34/34 - 0s - loss: 1.7505 - accuracy: 0.2966 - val_loss: 1.7206 - val_accuracy: 0.3542\n",
      "Epoch 48/150\n",
      "34/34 - 0s - loss: 1.7431 - accuracy: 0.3125 - val_loss: 1.7183 - val_accuracy: 0.3495\n",
      "Epoch 49/150\n",
      "34/34 - 0s - loss: 1.7450 - accuracy: 0.3304 - val_loss: 1.7149 - val_accuracy: 0.3542\n",
      "Epoch 50/150\n",
      "34/34 - 0s - loss: 1.7244 - accuracy: 0.3095 - val_loss: 1.7103 - val_accuracy: 0.3542\n",
      "Epoch 51/150\n",
      "34/34 - 0s - loss: 1.7293 - accuracy: 0.3135 - val_loss: 1.7067 - val_accuracy: 0.3495\n",
      "Epoch 52/150\n",
      "34/34 - 0s - loss: 1.7280 - accuracy: 0.3185 - val_loss: 1.7047 - val_accuracy: 0.3472\n",
      "Epoch 53/150\n",
      "34/34 - 0s - loss: 1.7217 - accuracy: 0.3135 - val_loss: 1.7035 - val_accuracy: 0.3333\n",
      "Epoch 54/150\n",
      "34/34 - 0s - loss: 1.7288 - accuracy: 0.3284 - val_loss: 1.7013 - val_accuracy: 0.3380\n",
      "Epoch 55/150\n",
      "34/34 - 0s - loss: 1.7056 - accuracy: 0.3373 - val_loss: 1.7070 - val_accuracy: 0.3472\n",
      "Epoch 56/150\n",
      "34/34 - 0s - loss: 1.7144 - accuracy: 0.3323 - val_loss: 1.6928 - val_accuracy: 0.3403\n",
      "Epoch 57/150\n",
      "34/34 - 0s - loss: 1.6999 - accuracy: 0.3294 - val_loss: 1.6901 - val_accuracy: 0.3565\n",
      "Epoch 58/150\n",
      "34/34 - 0s - loss: 1.7141 - accuracy: 0.3214 - val_loss: 1.6926 - val_accuracy: 0.3565\n",
      "Epoch 59/150\n",
      "34/34 - 0s - loss: 1.6951 - accuracy: 0.3393 - val_loss: 1.6822 - val_accuracy: 0.3704\n",
      "Epoch 60/150\n",
      "34/34 - 0s - loss: 1.7043 - accuracy: 0.3452 - val_loss: 1.6793 - val_accuracy: 0.3611\n",
      "Epoch 61/150\n",
      "34/34 - 0s - loss: 1.7119 - accuracy: 0.3244 - val_loss: 1.6787 - val_accuracy: 0.3704\n",
      "Epoch 62/150\n",
      "34/34 - 0s - loss: 1.6832 - accuracy: 0.3413 - val_loss: 1.6837 - val_accuracy: 0.3588\n",
      "Epoch 63/150\n",
      "34/34 - 0s - loss: 1.6851 - accuracy: 0.3403 - val_loss: 1.6722 - val_accuracy: 0.3519\n",
      "Epoch 64/150\n",
      "34/34 - 0s - loss: 1.6773 - accuracy: 0.3403 - val_loss: 1.6716 - val_accuracy: 0.3565\n",
      "Epoch 65/150\n",
      "34/34 - 0s - loss: 1.6898 - accuracy: 0.3343 - val_loss: 1.6668 - val_accuracy: 0.3542\n",
      "Epoch 66/150\n",
      "34/34 - 0s - loss: 1.6809 - accuracy: 0.3472 - val_loss: 1.6641 - val_accuracy: 0.3611\n",
      "Epoch 67/150\n",
      "34/34 - 0s - loss: 1.6951 - accuracy: 0.3393 - val_loss: 1.6601 - val_accuracy: 0.3588\n",
      "Epoch 68/150\n",
      "34/34 - 0s - loss: 1.6697 - accuracy: 0.3403 - val_loss: 1.6593 - val_accuracy: 0.3750\n",
      "Epoch 69/150\n",
      "34/34 - 0s - loss: 1.6886 - accuracy: 0.3363 - val_loss: 1.6594 - val_accuracy: 0.3634\n",
      "Epoch 70/150\n",
      "34/34 - 0s - loss: 1.6768 - accuracy: 0.3581 - val_loss: 1.6543 - val_accuracy: 0.3704\n",
      "Epoch 71/150\n",
      "34/34 - 0s - loss: 1.6722 - accuracy: 0.3393 - val_loss: 1.6666 - val_accuracy: 0.3681\n",
      "Epoch 72/150\n",
      "34/34 - 0s - loss: 1.6760 - accuracy: 0.3562 - val_loss: 1.6513 - val_accuracy: 0.3565\n",
      "Epoch 73/150\n",
      "34/34 - 0s - loss: 1.6692 - accuracy: 0.3304 - val_loss: 1.6462 - val_accuracy: 0.3542\n",
      "Epoch 74/150\n",
      "34/34 - 0s - loss: 1.6554 - accuracy: 0.3403 - val_loss: 1.6647 - val_accuracy: 0.3796\n",
      "Epoch 75/150\n",
      "34/34 - 0s - loss: 1.6757 - accuracy: 0.3621 - val_loss: 1.6444 - val_accuracy: 0.3565\n",
      "Epoch 76/150\n",
      "34/34 - 0s - loss: 1.6680 - accuracy: 0.3562 - val_loss: 1.6396 - val_accuracy: 0.3611\n",
      "Epoch 77/150\n",
      "34/34 - 0s - loss: 1.6608 - accuracy: 0.3552 - val_loss: 1.6491 - val_accuracy: 0.3704\n",
      "Epoch 78/150\n",
      "34/34 - 0s - loss: 1.6661 - accuracy: 0.3552 - val_loss: 1.6626 - val_accuracy: 0.3634\n",
      "Epoch 79/150\n",
      "34/34 - 0s - loss: 1.6530 - accuracy: 0.3681 - val_loss: 1.6320 - val_accuracy: 0.3704\n",
      "Epoch 80/150\n",
      "34/34 - 0s - loss: 1.6420 - accuracy: 0.3740 - val_loss: 1.6388 - val_accuracy: 0.3796\n",
      "Epoch 81/150\n",
      "34/34 - 0s - loss: 1.6682 - accuracy: 0.3393 - val_loss: 1.6289 - val_accuracy: 0.3750\n",
      "Epoch 82/150\n",
      "34/34 - 0s - loss: 1.6601 - accuracy: 0.3512 - val_loss: 1.6285 - val_accuracy: 0.3704\n",
      "Epoch 83/150\n",
      "34/34 - 0s - loss: 1.6537 - accuracy: 0.3601 - val_loss: 1.6242 - val_accuracy: 0.3704\n",
      "Epoch 84/150\n",
      "34/34 - 0s - loss: 1.6539 - accuracy: 0.3353 - val_loss: 1.6267 - val_accuracy: 0.3750\n",
      "Epoch 85/150\n",
      "34/34 - 0s - loss: 1.6367 - accuracy: 0.3552 - val_loss: 1.6196 - val_accuracy: 0.3843\n",
      "Epoch 86/150\n",
      "34/34 - 0s - loss: 1.6464 - accuracy: 0.3601 - val_loss: 1.6187 - val_accuracy: 0.3796\n",
      "Epoch 87/150\n",
      "34/34 - 0s - loss: 1.6546 - accuracy: 0.3423 - val_loss: 1.6264 - val_accuracy: 0.3866\n",
      "Epoch 88/150\n",
      "34/34 - 0s - loss: 1.6262 - accuracy: 0.3601 - val_loss: 1.6211 - val_accuracy: 0.3750\n",
      "Epoch 89/150\n",
      "34/34 - 0s - loss: 1.6403 - accuracy: 0.3502 - val_loss: 1.6149 - val_accuracy: 0.3727\n",
      "Epoch 90/150\n",
      "34/34 - 0s - loss: 1.6269 - accuracy: 0.3770 - val_loss: 1.6128 - val_accuracy: 0.3681\n",
      "Epoch 91/150\n",
      "34/34 - 0s - loss: 1.6261 - accuracy: 0.3661 - val_loss: 1.6133 - val_accuracy: 0.3796\n",
      "Epoch 92/150\n",
      "34/34 - 0s - loss: 1.6426 - accuracy: 0.3661 - val_loss: 1.6095 - val_accuracy: 0.3796\n",
      "Epoch 93/150\n",
      "34/34 - 0s - loss: 1.6378 - accuracy: 0.3581 - val_loss: 1.6061 - val_accuracy: 0.3819\n",
      "Epoch 94/150\n",
      "34/34 - 0s - loss: 1.6220 - accuracy: 0.3621 - val_loss: 1.6084 - val_accuracy: 0.3912\n",
      "Epoch 95/150\n",
      "34/34 - 0s - loss: 1.6266 - accuracy: 0.3591 - val_loss: 1.6073 - val_accuracy: 0.3727\n",
      "Epoch 96/150\n",
      "34/34 - 0s - loss: 1.6374 - accuracy: 0.3571 - val_loss: 1.6026 - val_accuracy: 0.3866\n",
      "Epoch 97/150\n",
      "34/34 - 0s - loss: 1.6183 - accuracy: 0.3552 - val_loss: 1.6034 - val_accuracy: 0.3681\n",
      "Epoch 98/150\n",
      "34/34 - 0s - loss: 1.6256 - accuracy: 0.3730 - val_loss: 1.6011 - val_accuracy: 0.3912\n",
      "Epoch 99/150\n",
      "34/34 - 0s - loss: 1.6079 - accuracy: 0.3760 - val_loss: 1.6018 - val_accuracy: 0.3843\n",
      "Epoch 100/150\n",
      "34/34 - 0s - loss: 1.6175 - accuracy: 0.3671 - val_loss: 1.5974 - val_accuracy: 0.3796\n",
      "Epoch 101/150\n",
      "34/34 - 0s - loss: 1.6043 - accuracy: 0.3879 - val_loss: 1.5931 - val_accuracy: 0.3889\n",
      "Epoch 102/150\n",
      "34/34 - 0s - loss: 1.6237 - accuracy: 0.3790 - val_loss: 1.5930 - val_accuracy: 0.3750\n",
      "Epoch 103/150\n",
      "34/34 - 0s - loss: 1.6172 - accuracy: 0.3661 - val_loss: 1.5960 - val_accuracy: 0.3843\n",
      "Epoch 104/150\n",
      "34/34 - 0s - loss: 1.6234 - accuracy: 0.3591 - val_loss: 1.5953 - val_accuracy: 0.3889\n",
      "Epoch 105/150\n",
      "34/34 - 0s - loss: 1.6148 - accuracy: 0.3562 - val_loss: 1.6024 - val_accuracy: 0.3843\n",
      "Epoch 106/150\n",
      "34/34 - 0s - loss: 1.6127 - accuracy: 0.3869 - val_loss: 1.5872 - val_accuracy: 0.3889\n",
      "Epoch 107/150\n",
      "34/34 - 0s - loss: 1.6027 - accuracy: 0.3770 - val_loss: 1.5939 - val_accuracy: 0.3819\n",
      "Epoch 108/150\n",
      "34/34 - 0s - loss: 1.6243 - accuracy: 0.3700 - val_loss: 1.5860 - val_accuracy: 0.3866\n",
      "Epoch 109/150\n",
      "34/34 - 0s - loss: 1.6017 - accuracy: 0.3681 - val_loss: 1.5862 - val_accuracy: 0.3935\n",
      "Epoch 110/150\n",
      "34/34 - 0s - loss: 1.6195 - accuracy: 0.3532 - val_loss: 1.5839 - val_accuracy: 0.3958\n",
      "Epoch 111/150\n",
      "34/34 - 0s - loss: 1.6015 - accuracy: 0.3849 - val_loss: 1.5903 - val_accuracy: 0.3866\n",
      "Epoch 112/150\n",
      "34/34 - 0s - loss: 1.6195 - accuracy: 0.3294 - val_loss: 1.5802 - val_accuracy: 0.4028\n",
      "Epoch 113/150\n",
      "34/34 - 0s - loss: 1.6049 - accuracy: 0.3770 - val_loss: 1.5837 - val_accuracy: 0.3889\n",
      "Epoch 114/150\n",
      "34/34 - 0s - loss: 1.6057 - accuracy: 0.3661 - val_loss: 1.5884 - val_accuracy: 0.3819\n",
      "Epoch 115/150\n",
      "34/34 - 0s - loss: 1.5844 - accuracy: 0.3750 - val_loss: 1.5811 - val_accuracy: 0.3958\n",
      "Epoch 116/150\n",
      "34/34 - 0s - loss: 1.5877 - accuracy: 0.3760 - val_loss: 1.5758 - val_accuracy: 0.3935\n",
      "Epoch 117/150\n",
      "34/34 - 0s - loss: 1.5952 - accuracy: 0.3800 - val_loss: 1.5818 - val_accuracy: 0.3866\n",
      "Epoch 118/150\n",
      "34/34 - 0s - loss: 1.5860 - accuracy: 0.3849 - val_loss: 1.5781 - val_accuracy: 0.3843\n",
      "Epoch 119/150\n",
      "34/34 - 0s - loss: 1.5833 - accuracy: 0.3700 - val_loss: 1.5729 - val_accuracy: 0.3796\n",
      "Epoch 120/150\n",
      "34/34 - 0s - loss: 1.5886 - accuracy: 0.3750 - val_loss: 1.5791 - val_accuracy: 0.3889\n",
      "Epoch 121/150\n",
      "34/34 - 0s - loss: 1.5909 - accuracy: 0.3839 - val_loss: 1.5765 - val_accuracy: 0.3819\n",
      "Epoch 122/150\n",
      "34/34 - 0s - loss: 1.5954 - accuracy: 0.3819 - val_loss: 1.5774 - val_accuracy: 0.3796\n",
      "Epoch 123/150\n",
      "34/34 - 0s - loss: 1.5841 - accuracy: 0.3919 - val_loss: 1.5775 - val_accuracy: 0.3866\n",
      "Epoch 124/150\n",
      "34/34 - 0s - loss: 1.5834 - accuracy: 0.3800 - val_loss: 1.5672 - val_accuracy: 0.4051\n",
      "Epoch 125/150\n",
      "34/34 - 0s - loss: 1.5783 - accuracy: 0.3720 - val_loss: 1.5641 - val_accuracy: 0.3981\n",
      "Epoch 126/150\n",
      "34/34 - 0s - loss: 1.5658 - accuracy: 0.3958 - val_loss: 1.5630 - val_accuracy: 0.4005\n",
      "Epoch 127/150\n",
      "34/34 - 0s - loss: 1.5747 - accuracy: 0.3760 - val_loss: 1.5717 - val_accuracy: 0.3889\n",
      "Epoch 128/150\n",
      "34/34 - 0s - loss: 1.5778 - accuracy: 0.3581 - val_loss: 1.5639 - val_accuracy: 0.3958\n",
      "Epoch 129/150\n",
      "34/34 - 0s - loss: 1.5654 - accuracy: 0.3919 - val_loss: 1.5594 - val_accuracy: 0.4074\n",
      "Epoch 130/150\n",
      "34/34 - 0s - loss: 1.5783 - accuracy: 0.3849 - val_loss: 1.5592 - val_accuracy: 0.3981\n",
      "Epoch 131/150\n",
      "34/34 - 0s - loss: 1.5796 - accuracy: 0.3760 - val_loss: 1.5642 - val_accuracy: 0.3935\n",
      "Epoch 132/150\n",
      "34/34 - 0s - loss: 1.5564 - accuracy: 0.3948 - val_loss: 1.5569 - val_accuracy: 0.4028\n",
      "Epoch 133/150\n",
      "34/34 - 0s - loss: 1.5713 - accuracy: 0.3938 - val_loss: 1.5556 - val_accuracy: 0.4144\n",
      "Epoch 134/150\n",
      "34/34 - 0s - loss: 1.5736 - accuracy: 0.3780 - val_loss: 1.5678 - val_accuracy: 0.3935\n",
      "Epoch 135/150\n",
      "34/34 - 0s - loss: 1.5482 - accuracy: 0.4067 - val_loss: 1.5569 - val_accuracy: 0.4028\n",
      "Epoch 136/150\n",
      "34/34 - 0s - loss: 1.5630 - accuracy: 0.3839 - val_loss: 1.5504 - val_accuracy: 0.4028\n",
      "Epoch 137/150\n",
      "34/34 - 0s - loss: 1.5734 - accuracy: 0.3671 - val_loss: 1.5541 - val_accuracy: 0.3958\n",
      "Epoch 138/150\n",
      "34/34 - 0s - loss: 1.5767 - accuracy: 0.3869 - val_loss: 1.5483 - val_accuracy: 0.4120\n",
      "Epoch 139/150\n",
      "34/34 - 0s - loss: 1.5873 - accuracy: 0.3621 - val_loss: 1.5478 - val_accuracy: 0.4097\n",
      "Epoch 140/150\n",
      "34/34 - 0s - loss: 1.5556 - accuracy: 0.3889 - val_loss: 1.5475 - val_accuracy: 0.3981\n",
      "Epoch 141/150\n",
      "34/34 - 0s - loss: 1.5575 - accuracy: 0.4008 - val_loss: 1.5462 - val_accuracy: 0.4051\n",
      "Epoch 142/150\n",
      "34/34 - 0s - loss: 1.5520 - accuracy: 0.4048 - val_loss: 1.5511 - val_accuracy: 0.3981\n",
      "Epoch 143/150\n",
      "34/34 - 0s - loss: 1.5585 - accuracy: 0.3770 - val_loss: 1.5466 - val_accuracy: 0.3981\n",
      "Epoch 144/150\n",
      "34/34 - 0s - loss: 1.5551 - accuracy: 0.4077 - val_loss: 1.5631 - val_accuracy: 0.3912\n",
      "Epoch 145/150\n",
      "34/34 - 0s - loss: 1.5523 - accuracy: 0.3929 - val_loss: 1.5441 - val_accuracy: 0.4028\n",
      "Epoch 146/150\n",
      "34/34 - 0s - loss: 1.5500 - accuracy: 0.3978 - val_loss: 1.5496 - val_accuracy: 0.3935\n",
      "Epoch 147/150\n",
      "34/34 - 0s - loss: 1.5524 - accuracy: 0.3800 - val_loss: 1.5570 - val_accuracy: 0.3958\n",
      "Epoch 148/150\n",
      "34/34 - 0s - loss: 1.5300 - accuracy: 0.4236 - val_loss: 1.5431 - val_accuracy: 0.4005\n",
      "Epoch 149/150\n",
      "34/34 - 0s - loss: 1.5598 - accuracy: 0.3929 - val_loss: 1.5431 - val_accuracy: 0.4028\n",
      "Epoch 150/150\n",
      "34/34 - 0s - loss: 1.5614 - accuracy: 0.3948 - val_loss: 1.5395 - val_accuracy: 0.3935\n"
     ]
    }
   ],
   "source": [
    "Batch_sizes = [30]\n",
    "model_results = {}\n",
    "epoch_times_dict = {}\n",
    "for size in Batch_sizes:\n",
    "  history = cnn_layers(2,150,size,X_train_fourier_cnn,y_train_fourier_cnn,X_test_fourier_cnn,y_test_fourier_cnn,epoch_times_dict)\n",
    "  model_results[size] = history"
   ]
  },
  {
   "cell_type": "code",
   "execution_count": 394,
   "metadata": {},
   "outputs": [
    {
     "data": {
      "image/png": "[encoded data removed]",
      "text/plain": [
       "<Figure size 432x288 with 1 Axes>"
      ]
     },
     "metadata": {
      "needs_background": "light"
     },
     "output_type": "display_data"
    }
   ],
   "source": [
    "plt.plot(model_results[24][0].history['val_loss'])\n",
    "plt.plot(model_results[24][0].history['loss'])\n",
    "plt.title('Validation loss history')\n",
    "plt.ylabel('Loss value')\n",
    "plt.xlabel('No. epoch')\n",
    "plt.show()"
   ]
  },
  {
   "cell_type": "code",
   "execution_count": 395,
   "metadata": {},
   "outputs": [
    {
     "data": {
      "image/png": "[encoded data removed]",
      "text/plain": [
       "<Figure size 432x288 with 1 Axes>"
      ]
     },
     "metadata": {
      "needs_background": "light"
     },
     "output_type": "display_data"
    }
   ],
   "source": [
    "plt.plot(model_results[24][0].history['val_accuracy'])\n",
    "plt.plot(model_results[24][0].history['accuracy'])\n",
    "plt.title('Validation loss history')\n",
    "plt.ylabel('Loss value')\n",
    "plt.xlabel('No. epoch')\n",
    "plt.show()"
   ]
  },
  {
   "cell_type": "code",
   "execution_count": null,
   "metadata": {},
   "outputs": [],
   "source": []
  },
  {
   "cell_type": "code",
   "execution_count": null,
   "metadata": {},
   "outputs": [],
   "source": []
  }
 ],
 "metadata": {
  "interpreter": {
   "hash": "aee8b7b246df8f9039afb4144a1f6fd8d2ca17a180786b69acc140d282b71a49"
  },
  "kernelspec": {
   "display_name": "Python 3.9.6 64-bit",
   "name": "python3"
  },
  "language_info": {
   "codemirror_mode": {
    "name": "ipython",
    "version": 3
   },
   "file_extension": ".py",
   "mimetype": "text/x-python",
   "name": "python",
   "nbconvert_exporter": "python",
   "pygments_lexer": "ipython3",
   "version": "3.9.6"
  },
  "orig_nbformat": 4
 },
 "nbformat": 4,
 "nbformat_minor": 2
}
