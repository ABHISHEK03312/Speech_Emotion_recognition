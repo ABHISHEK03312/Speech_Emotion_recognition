{
 "cells": [
  {
   "cell_type": "code",
   "execution_count": 1,
   "metadata": {},
   "outputs": [],
   "source": [
    "import tensorflow\n",
    "import pandas as pd\n",
    "import time\n",
    "import numpy as np\n",
    "import pylab as plt\n",
    "\n",
    "import os, sys\n",
    "os.environ['TF_CPP_MIN_LOG_LEVEL'] = '2'  # filters CUDA and TF logs\n",
    "\n",
    "import seaborn as sns\n",
    "import matplotlib.pyplot as plt\n",
    "\n",
    "from sklearn.preprocessing import OneHotEncoder\n",
    "\n",
    "# tensorflow libraries\n",
    "import tensorflow as tf\n",
    "import tensorflow.keras as keras\n",
    "from tensorflow.keras import Sequential\n",
    "from keras.layers import Dense, Conv1D, MaxPooling1D, Flatten, Dropout, BatchNormalization, Activation, LSTM\n",
    "\n",
    "# sklearn libraries are useful for preprocessing, performance measures, etc.\n",
    "from sklearn import preprocessing\n",
    "from sklearn.model_selection import train_test_split\n",
    "from sklearn.metrics import classification_report\n",
    "\n",
    "import shutil"
   ]
  },
  {
   "cell_type": "code",
   "execution_count": 2,
   "metadata": {},
   "outputs": [],
   "source": [
    "# load train and test data \n",
    "X_train = pd.read_csv(\"./SER_data/X_train.csv\")\n",
    "X_test = pd.read_csv(\"./SER_data/X_test.csv\")\n",
    "y_train = pd.read_csv(\"./SER_data/y_train.csv\")\n",
    "y_test = pd.read_csv(\"./SER_data/y_test.csv\")"
   ]
  },
  {
   "cell_type": "code",
   "execution_count": 3,
   "metadata": {},
   "outputs": [],
   "source": [
    "# convert data for input to CNN model. \n",
    "encoder = OneHotEncoder()\n",
    "X_train_cnn = np.expand_dims(X_train,axis=2)\n",
    "X_test_cnn = np.expand_dims(X_test,axis=2)\n",
    "y_train_cnn = encoder.fit_transform(np.array(y_train).reshape(-1,1)).toarray()\n",
    "y_test_cnn = encoder.fit_transform(np.array(y_test).reshape(-1,1)).toarray()"
   ]
  },
  {
   "cell_type": "code",
   "execution_count": 4,
   "metadata": {},
   "outputs": [],
   "source": [
    "result = pd.concat([y_train, y_test], axis=0)"
   ]
  },
  {
   "cell_type": "code",
   "execution_count": 5,
   "metadata": {},
   "outputs": [
    {
     "data": {
      "image/png": "[encoded data removed]",
      "text/plain": [
       "<Figure size 432x288 with 1 Axes>"
      ]
     },
     "metadata": {
      "needs_background": "light"
     },
     "output_type": "display_data"
    }
   ],
   "source": [
    "sns.countplot(x ='Emotion', data = result)\n",
    "plt.show()"
   ]
  },
  {
   "cell_type": "markdown",
   "metadata": {},
   "source": [
    "## Defining and training model"
   ]
  },
  {
   "cell_type": "markdown",
   "metadata": {},
   "source": [
    "### Base Model"
   ]
  },
  {
   "cell_type": "code",
   "execution_count": 18,
   "metadata": {},
   "outputs": [],
   "source": [
    "def base_model_architecture(no_epochs, batch_size, X_train, y_train, X_test, y_test, checkpoint='models/ser_base_model'): \n",
    "      \n",
    "      model = Sequential()\n",
    "      model.add(Conv1D(16,kernel_size=10,strides=2,activation='relu',input_shape=(X_train.shape[1],1)))\n",
    "      model.add(BatchNormalization())\n",
    "\n",
    "      model.add(Conv1D(32,kernel_size=10,strides=2,activation='relu'))\n",
    "      model.add(BatchNormalization())\n",
    "\n",
    "      model.add(Flatten())\n",
    "      model.add(Dense(8,activation='relu'))\n",
    "      model.add(Dense(8,activation='relu'))\n",
    "      model.add(Dense(8,activation='softmax'))\n",
    "\n",
    "      print(model.summary())\n",
    "\n",
    "    # set callbacks\n",
    "      reduce_lr = tf.keras.callbacks.ReduceLROnPlateau(monitor='val_accuracy', \n",
    "                                                      factor=0.5, patience=4, \n",
    "                                                      verbose=1, mode='max', \n",
    "                                                      min_lr=0.001)\n",
    "\n",
    "      early_stop = tf.keras.callbacks.EarlyStopping(monitor='val_loss', patience=10,\n",
    "                                                      verbose=1)\n",
    "\n",
    "      model_checkpoint = tf.keras.callbacks.ModelCheckpoint(filepath=checkpoint, \n",
    "                                                            save_weights_only=False,\n",
    "                                                            monitor='val_accuracy', \n",
    "                                                            mode='max', \n",
    "                                                            save_best_only=True)\n",
    "\n",
    "      model.compile(optimizer=tf.keras.optimizers.Adam(learning_rate=0.0001), loss='categorical_crossentropy', metrics=['accuracy'])\n",
    "\n",
    "      history = model.fit(X_train, y_train,\n",
    "                  batch_size=batch_size,\n",
    "                  epochs=no_epochs,\n",
    "                  verbose=2,\n",
    "                  use_multiprocessing=False,\n",
    "                  callbacks = [model_checkpoint, early_stop],\n",
    "                  validation_data=(X_test, y_test))\n",
    "\n",
    "      # loading best weights\n",
    "      model.load_weights(checkpoint)\n",
    "      \n",
    "      return history, model"
   ]
  },
  {
   "cell_type": "code",
   "execution_count": 20,
   "metadata": {},
   "outputs": [
    {
     "name": "stdout",
     "output_type": "stream",
     "text": [
      "Model: \"sequential_3\"\n",
      "_________________________________________________________________\n",
      "Layer (type)                 Output Shape              Param #   \n",
      "=================================================================\n",
      "conv1d_6 (Conv1D)            (None, 83, 16)            176       \n",
      "_________________________________________________________________\n",
      "batch_normalization_6 (Batch (None, 83, 16)            64        \n",
      "_________________________________________________________________\n",
      "conv1d_7 (Conv1D)            (None, 37, 32)            5152      \n",
      "_________________________________________________________________\n",
      "batch_normalization_7 (Batch (None, 37, 32)            128       \n",
      "_________________________________________________________________\n",
      "flatten_3 (Flatten)          (None, 1184)              0         \n",
      "_________________________________________________________________\n",
      "dense_9 (Dense)              (None, 8)                 9480      \n",
      "_________________________________________________________________\n",
      "dense_10 (Dense)             (None, 8)                 72        \n",
      "_________________________________________________________________\n",
      "dense_11 (Dense)             (None, 8)                 72        \n",
      "=================================================================\n",
      "Total params: 15,144\n",
      "Trainable params: 15,048\n",
      "Non-trainable params: 96\n",
      "_________________________________________________________________\n",
      "None\n",
      "Epoch 1/150\n",
      "63/63 - 1s - loss: 2.1107 - accuracy: 0.1558 - val_loss: 2.0779 - val_accuracy: 0.1620\n",
      "INFO:tensorflow:Assets written to: models/ser_base_model/assets\n",
      "Epoch 2/150\n",
      "63/63 - 0s - loss: 2.0622 - accuracy: 0.1746 - val_loss: 2.0740 - val_accuracy: 0.1366\n",
      "Epoch 3/150\n",
      "63/63 - 0s - loss: 2.0426 - accuracy: 0.1855 - val_loss: 2.0729 - val_accuracy: 0.1574\n",
      "Epoch 4/150\n",
      "63/63 - 0s - loss: 2.0254 - accuracy: 0.2133 - val_loss: 2.0703 - val_accuracy: 0.1505\n",
      "Epoch 5/150\n",
      "63/63 - 0s - loss: 2.0115 - accuracy: 0.2113 - val_loss: 2.0688 - val_accuracy: 0.1852\n",
      "INFO:tensorflow:Assets written to: models/ser_base_model/assets\n",
      "Epoch 6/150\n",
      "63/63 - 0s - loss: 1.9989 - accuracy: 0.2222 - val_loss: 2.0568 - val_accuracy: 0.2106\n",
      "INFO:tensorflow:Assets written to: models/ser_base_model/assets\n",
      "Epoch 7/150\n",
      "63/63 - 0s - loss: 1.9881 - accuracy: 0.2252 - val_loss: 2.0476 - val_accuracy: 0.2153\n",
      "INFO:tensorflow:Assets written to: models/ser_base_model/assets\n",
      "Epoch 8/150\n",
      "63/63 - 0s - loss: 1.9746 - accuracy: 0.2312 - val_loss: 2.0280 - val_accuracy: 0.2245\n",
      "INFO:tensorflow:Assets written to: models/ser_base_model/assets\n",
      "Epoch 9/150\n",
      "63/63 - 0s - loss: 1.9604 - accuracy: 0.2312 - val_loss: 2.0014 - val_accuracy: 0.2176\n",
      "Epoch 10/150\n",
      "63/63 - 0s - loss: 1.9437 - accuracy: 0.2718 - val_loss: 1.9910 - val_accuracy: 0.2315\n",
      "INFO:tensorflow:Assets written to: models/ser_base_model/assets\n",
      "Epoch 11/150\n",
      "63/63 - 0s - loss: 1.9288 - accuracy: 0.2758 - val_loss: 1.9683 - val_accuracy: 0.2245\n",
      "Epoch 12/150\n",
      "63/63 - 0s - loss: 1.9113 - accuracy: 0.2808 - val_loss: 1.9623 - val_accuracy: 0.2315\n",
      "Epoch 13/150\n",
      "63/63 - 0s - loss: 1.8999 - accuracy: 0.2649 - val_loss: 1.9546 - val_accuracy: 0.2454\n",
      "INFO:tensorflow:Assets written to: models/ser_base_model/assets\n",
      "Epoch 14/150\n",
      "63/63 - 0s - loss: 1.8935 - accuracy: 0.2788 - val_loss: 1.9382 - val_accuracy: 0.2500\n",
      "INFO:tensorflow:Assets written to: models/ser_base_model/assets\n",
      "Epoch 15/150\n",
      "63/63 - 0s - loss: 1.8775 - accuracy: 0.2907 - val_loss: 1.9359 - val_accuracy: 0.2361\n",
      "Epoch 16/150\n",
      "63/63 - 0s - loss: 1.8686 - accuracy: 0.3105 - val_loss: 1.9363 - val_accuracy: 0.2338\n",
      "Epoch 17/150\n",
      "63/63 - 0s - loss: 1.8574 - accuracy: 0.3065 - val_loss: 1.9411 - val_accuracy: 0.2245\n",
      "Epoch 18/150\n",
      "63/63 - 0s - loss: 1.8375 - accuracy: 0.3204 - val_loss: 1.9236 - val_accuracy: 0.2361\n",
      "Epoch 19/150\n",
      "63/63 - 0s - loss: 1.8308 - accuracy: 0.3095 - val_loss: 1.9387 - val_accuracy: 0.2292\n",
      "Epoch 20/150\n",
      "63/63 - 0s - loss: 1.8261 - accuracy: 0.3036 - val_loss: 1.9186 - val_accuracy: 0.2500\n",
      "Epoch 21/150\n",
      "63/63 - 0s - loss: 1.8143 - accuracy: 0.3254 - val_loss: 1.9180 - val_accuracy: 0.2407\n",
      "Epoch 22/150\n",
      "63/63 - 0s - loss: 1.8056 - accuracy: 0.3363 - val_loss: 1.9102 - val_accuracy: 0.2431\n",
      "Epoch 23/150\n",
      "63/63 - 0s - loss: 1.7935 - accuracy: 0.3304 - val_loss: 1.9137 - val_accuracy: 0.2431\n",
      "Epoch 24/150\n",
      "63/63 - 0s - loss: 1.7841 - accuracy: 0.3353 - val_loss: 1.9105 - val_accuracy: 0.2500\n",
      "Epoch 25/150\n",
      "63/63 - 0s - loss: 1.7756 - accuracy: 0.3353 - val_loss: 1.9086 - val_accuracy: 0.2500\n",
      "Epoch 26/150\n",
      "63/63 - 0s - loss: 1.7733 - accuracy: 0.3433 - val_loss: 1.9016 - val_accuracy: 0.2477\n",
      "Epoch 27/150\n",
      "63/63 - 0s - loss: 1.7683 - accuracy: 0.3383 - val_loss: 1.9033 - val_accuracy: 0.2477\n",
      "Epoch 28/150\n",
      "63/63 - 0s - loss: 1.7527 - accuracy: 0.3591 - val_loss: 1.9277 - val_accuracy: 0.2245\n",
      "Epoch 29/150\n",
      "63/63 - 0s - loss: 1.7447 - accuracy: 0.3502 - val_loss: 1.9004 - val_accuracy: 0.2546\n",
      "INFO:tensorflow:Assets written to: models/ser_base_model/assets\n",
      "Epoch 30/150\n",
      "63/63 - 0s - loss: 1.7311 - accuracy: 0.3661 - val_loss: 1.8917 - val_accuracy: 0.2546\n",
      "Epoch 31/150\n",
      "63/63 - 0s - loss: 1.7258 - accuracy: 0.3621 - val_loss: 1.8975 - val_accuracy: 0.2639\n",
      "INFO:tensorflow:Assets written to: models/ser_base_model/assets\n",
      "Epoch 32/150\n",
      "63/63 - 0s - loss: 1.7201 - accuracy: 0.3581 - val_loss: 1.8942 - val_accuracy: 0.2639\n",
      "Epoch 33/150\n",
      "63/63 - 0s - loss: 1.7097 - accuracy: 0.3690 - val_loss: 1.8935 - val_accuracy: 0.2731\n",
      "INFO:tensorflow:Assets written to: models/ser_base_model/assets\n",
      "Epoch 34/150\n",
      "63/63 - 0s - loss: 1.7107 - accuracy: 0.3601 - val_loss: 1.8807 - val_accuracy: 0.2708\n",
      "Epoch 35/150\n",
      "63/63 - 0s - loss: 1.7023 - accuracy: 0.3730 - val_loss: 1.8805 - val_accuracy: 0.2685\n",
      "Epoch 36/150\n",
      "63/63 - 0s - loss: 1.6888 - accuracy: 0.3810 - val_loss: 1.8807 - val_accuracy: 0.2778\n",
      "INFO:tensorflow:Assets written to: models/ser_base_model/assets\n",
      "Epoch 37/150\n",
      "63/63 - 0s - loss: 1.6728 - accuracy: 0.3839 - val_loss: 1.8842 - val_accuracy: 0.2731\n",
      "Epoch 38/150\n",
      "63/63 - 0s - loss: 1.6656 - accuracy: 0.3988 - val_loss: 1.8800 - val_accuracy: 0.2824\n",
      "INFO:tensorflow:Assets written to: models/ser_base_model/assets\n",
      "Epoch 39/150\n",
      "63/63 - 0s - loss: 1.6616 - accuracy: 0.4097 - val_loss: 1.8878 - val_accuracy: 0.2662\n",
      "Epoch 40/150\n",
      "63/63 - 0s - loss: 1.6566 - accuracy: 0.3919 - val_loss: 1.8869 - val_accuracy: 0.2755\n",
      "Epoch 41/150\n",
      "63/63 - 0s - loss: 1.6409 - accuracy: 0.4058 - val_loss: 1.8830 - val_accuracy: 0.2755\n",
      "Epoch 42/150\n",
      "63/63 - 0s - loss: 1.6281 - accuracy: 0.4127 - val_loss: 1.9059 - val_accuracy: 0.2593\n",
      "Epoch 43/150\n",
      "63/63 - 0s - loss: 1.6300 - accuracy: 0.4028 - val_loss: 1.8958 - val_accuracy: 0.2639\n",
      "Epoch 44/150\n",
      "63/63 - 0s - loss: 1.6143 - accuracy: 0.4286 - val_loss: 1.8751 - val_accuracy: 0.2894\n",
      "INFO:tensorflow:Assets written to: models/ser_base_model/assets\n",
      "Epoch 45/150\n",
      "63/63 - 0s - loss: 1.6097 - accuracy: 0.4236 - val_loss: 1.8657 - val_accuracy: 0.2801\n",
      "Epoch 46/150\n",
      "63/63 - 0s - loss: 1.6004 - accuracy: 0.4315 - val_loss: 1.8825 - val_accuracy: 0.2801\n",
      "Epoch 47/150\n",
      "63/63 - 0s - loss: 1.5943 - accuracy: 0.4444 - val_loss: 1.8638 - val_accuracy: 0.2824\n",
      "Epoch 48/150\n",
      "63/63 - 0s - loss: 1.5858 - accuracy: 0.4554 - val_loss: 1.8750 - val_accuracy: 0.2917\n",
      "INFO:tensorflow:Assets written to: models/ser_base_model/assets\n",
      "Epoch 49/150\n",
      "63/63 - 0s - loss: 1.5750 - accuracy: 0.4534 - val_loss: 1.8511 - val_accuracy: 0.2801\n",
      "Epoch 50/150\n",
      "63/63 - 0s - loss: 1.5652 - accuracy: 0.4544 - val_loss: 1.8512 - val_accuracy: 0.2963\n",
      "INFO:tensorflow:Assets written to: models/ser_base_model/assets\n",
      "Epoch 51/150\n",
      "63/63 - 0s - loss: 1.5592 - accuracy: 0.4504 - val_loss: 1.8622 - val_accuracy: 0.2778\n",
      "Epoch 52/150\n",
      "63/63 - 0s - loss: 1.5470 - accuracy: 0.4613 - val_loss: 1.8694 - val_accuracy: 0.3079\n",
      "INFO:tensorflow:Assets written to: models/ser_base_model/assets\n",
      "Epoch 53/150\n",
      "63/63 - 0s - loss: 1.5363 - accuracy: 0.4683 - val_loss: 1.8541 - val_accuracy: 0.2894\n",
      "Epoch 54/150\n",
      "63/63 - 0s - loss: 1.5319 - accuracy: 0.4881 - val_loss: 1.8618 - val_accuracy: 0.3032\n",
      "Epoch 55/150\n",
      "63/63 - 0s - loss: 1.5171 - accuracy: 0.4881 - val_loss: 1.8480 - val_accuracy: 0.3009\n",
      "Epoch 56/150\n",
      "63/63 - 0s - loss: 1.5087 - accuracy: 0.4821 - val_loss: 1.8453 - val_accuracy: 0.3056\n",
      "Epoch 57/150\n",
      "63/63 - 0s - loss: 1.5023 - accuracy: 0.4911 - val_loss: 1.8388 - val_accuracy: 0.3194\n",
      "INFO:tensorflow:Assets written to: models/ser_base_model/assets\n",
      "Epoch 58/150\n",
      "63/63 - 0s - loss: 1.4963 - accuracy: 0.5040 - val_loss: 1.8739 - val_accuracy: 0.2986\n",
      "Epoch 59/150\n",
      "63/63 - 0s - loss: 1.4808 - accuracy: 0.4911 - val_loss: 1.8549 - val_accuracy: 0.3125\n",
      "Epoch 60/150\n",
      "63/63 - 0s - loss: 1.4727 - accuracy: 0.5060 - val_loss: 1.8394 - val_accuracy: 0.3218\n",
      "INFO:tensorflow:Assets written to: models/ser_base_model/assets\n",
      "Epoch 61/150\n",
      "63/63 - 0s - loss: 1.4593 - accuracy: 0.5238 - val_loss: 1.8344 - val_accuracy: 0.3333\n",
      "INFO:tensorflow:Assets written to: models/ser_base_model/assets\n",
      "Epoch 62/150\n",
      "63/63 - 0s - loss: 1.4497 - accuracy: 0.5129 - val_loss: 1.8503 - val_accuracy: 0.3356\n",
      "INFO:tensorflow:Assets written to: models/ser_base_model/assets\n",
      "Epoch 63/150\n",
      "63/63 - 0s - loss: 1.4387 - accuracy: 0.5238 - val_loss: 1.8465 - val_accuracy: 0.3218\n",
      "Epoch 64/150\n",
      "63/63 - 0s - loss: 1.4402 - accuracy: 0.5099 - val_loss: 1.8560 - val_accuracy: 0.3310\n",
      "Epoch 65/150\n",
      "63/63 - 0s - loss: 1.4280 - accuracy: 0.5258 - val_loss: 1.8565 - val_accuracy: 0.3194\n",
      "Epoch 66/150\n",
      "63/63 - 0s - loss: 1.4155 - accuracy: 0.5357 - val_loss: 1.8358 - val_accuracy: 0.3310\n",
      "Epoch 67/150\n",
      "63/63 - 0s - loss: 1.4103 - accuracy: 0.5347 - val_loss: 1.8443 - val_accuracy: 0.3218\n",
      "Epoch 68/150\n",
      "63/63 - 0s - loss: 1.4037 - accuracy: 0.5337 - val_loss: 1.8395 - val_accuracy: 0.3380\n",
      "INFO:tensorflow:Assets written to: models/ser_base_model/assets\n",
      "Epoch 69/150\n",
      "63/63 - 0s - loss: 1.3983 - accuracy: 0.5367 - val_loss: 1.8408 - val_accuracy: 0.3449\n",
      "INFO:tensorflow:Assets written to: models/ser_base_model/assets\n",
      "Epoch 70/150\n",
      "63/63 - 0s - loss: 1.3796 - accuracy: 0.5516 - val_loss: 1.8237 - val_accuracy: 0.3356\n",
      "Epoch 71/150\n",
      "63/63 - 0s - loss: 1.3746 - accuracy: 0.5506 - val_loss: 1.8227 - val_accuracy: 0.3519\n",
      "INFO:tensorflow:Assets written to: models/ser_base_model/assets\n",
      "Epoch 72/150\n",
      "63/63 - 0s - loss: 1.3650 - accuracy: 0.5546 - val_loss: 1.8567 - val_accuracy: 0.3380\n",
      "Epoch 73/150\n",
      "63/63 - 0s - loss: 1.3643 - accuracy: 0.5575 - val_loss: 1.8205 - val_accuracy: 0.3588\n",
      "INFO:tensorflow:Assets written to: models/ser_base_model/assets\n",
      "Epoch 74/150\n",
      "63/63 - 0s - loss: 1.3516 - accuracy: 0.5655 - val_loss: 1.8392 - val_accuracy: 0.3333\n",
      "Epoch 75/150\n",
      "63/63 - 0s - loss: 1.3407 - accuracy: 0.5615 - val_loss: 1.8237 - val_accuracy: 0.3588\n",
      "Epoch 76/150\n",
      "63/63 - 0s - loss: 1.3281 - accuracy: 0.5833 - val_loss: 1.8438 - val_accuracy: 0.3472\n",
      "Epoch 77/150\n",
      "63/63 - 0s - loss: 1.3204 - accuracy: 0.5794 - val_loss: 1.8255 - val_accuracy: 0.3657\n",
      "INFO:tensorflow:Assets written to: models/ser_base_model/assets\n",
      "Epoch 78/150\n",
      "63/63 - 0s - loss: 1.3047 - accuracy: 0.5893 - val_loss: 1.8375 - val_accuracy: 0.3704\n",
      "INFO:tensorflow:Assets written to: models/ser_base_model/assets\n",
      "Epoch 79/150\n",
      "63/63 - 0s - loss: 1.2998 - accuracy: 0.5962 - val_loss: 1.8174 - val_accuracy: 0.3611\n",
      "Epoch 80/150\n",
      "63/63 - 0s - loss: 1.2932 - accuracy: 0.5794 - val_loss: 1.8360 - val_accuracy: 0.3495\n",
      "Epoch 81/150\n",
      "63/63 - 0s - loss: 1.2803 - accuracy: 0.6052 - val_loss: 1.8358 - val_accuracy: 0.3657\n",
      "Epoch 82/150\n",
      "63/63 - 0s - loss: 1.2824 - accuracy: 0.6071 - val_loss: 1.8332 - val_accuracy: 0.3310\n",
      "Epoch 83/150\n",
      "63/63 - 0s - loss: 1.2778 - accuracy: 0.6032 - val_loss: 1.8179 - val_accuracy: 0.3495\n",
      "Epoch 84/150\n",
      "63/63 - 0s - loss: 1.2644 - accuracy: 0.6131 - val_loss: 1.8277 - val_accuracy: 0.3472\n",
      "Epoch 85/150\n",
      "63/63 - 0s - loss: 1.2486 - accuracy: 0.6151 - val_loss: 1.8104 - val_accuracy: 0.3519\n",
      "Epoch 86/150\n",
      "63/63 - 0s - loss: 1.2520 - accuracy: 0.6151 - val_loss: 1.8237 - val_accuracy: 0.3565\n",
      "Epoch 87/150\n",
      "63/63 - 0s - loss: 1.2460 - accuracy: 0.6171 - val_loss: 1.8499 - val_accuracy: 0.3495\n",
      "Epoch 88/150\n",
      "63/63 - 0s - loss: 1.2271 - accuracy: 0.6310 - val_loss: 1.8306 - val_accuracy: 0.3426\n",
      "Epoch 89/150\n",
      "63/63 - 0s - loss: 1.2204 - accuracy: 0.6319 - val_loss: 1.8162 - val_accuracy: 0.3472\n",
      "Epoch 90/150\n",
      "63/63 - 0s - loss: 1.2139 - accuracy: 0.6319 - val_loss: 1.8146 - val_accuracy: 0.3380\n",
      "Epoch 91/150\n",
      "63/63 - 0s - loss: 1.2080 - accuracy: 0.6389 - val_loss: 1.8197 - val_accuracy: 0.3588\n",
      "Epoch 92/150\n",
      "63/63 - 0s - loss: 1.1998 - accuracy: 0.6329 - val_loss: 1.8310 - val_accuracy: 0.3657\n",
      "Epoch 93/150\n",
      "63/63 - 0s - loss: 1.1935 - accuracy: 0.6329 - val_loss: 1.8236 - val_accuracy: 0.3588\n",
      "Epoch 94/150\n",
      "63/63 - 0s - loss: 1.1842 - accuracy: 0.6458 - val_loss: 1.8185 - val_accuracy: 0.3889\n",
      "INFO:tensorflow:Assets written to: models/ser_base_model/assets\n",
      "Epoch 95/150\n",
      "63/63 - 0s - loss: 1.1809 - accuracy: 0.6458 - val_loss: 1.8274 - val_accuracy: 0.3704\n",
      "Epoch 00095: early stopping\n"
     ]
    }
   ],
   "source": [
    "batch_size = 16\n",
    "history, best_model = base_model_architecture(150, batch_size, X_train_cnn, y_train_cnn, X_test_cnn, y_test_cnn)"
   ]
  },
  {
   "cell_type": "code",
   "execution_count": 21,
   "metadata": {},
   "outputs": [
    {
     "data": {
      "image/png": "[encoded data removed]",
      "text/plain": [
       "<Figure size 432x288 with 1 Axes>"
      ]
     },
     "metadata": {
      "needs_background": "light"
     },
     "output_type": "display_data"
    }
   ],
   "source": [
    "plt.plot(history.history['val_loss'])\n",
    "plt.plot(history.history['loss'])\n",
    "plt.title('Validation loss')\n",
    "plt.ylabel('Loss value')\n",
    "plt.xlabel('No. epoch')\n",
    "plt.legend(['val', 'train'], loc='upper right')\n",
    "plt.show()"
   ]
  },
  {
   "cell_type": "code",
   "execution_count": 22,
   "metadata": {},
   "outputs": [
    {
     "data": {
      "image/png": "[encoded data removed]",
      "text/plain": [
       "<Figure size 432x288 with 1 Axes>"
      ]
     },
     "metadata": {
      "needs_background": "light"
     },
     "output_type": "display_data"
    }
   ],
   "source": [
    "plt.plot(history.history['val_accuracy'])\n",
    "plt.plot(history.history['accuracy'])\n",
    "plt.title('Validation accuracy')\n",
    "plt.ylabel('accuracy')\n",
    "plt.xlabel('No. epoch')\n",
    "plt.legend(['val', 'train'], loc='upper left')\n",
    "plt.show()"
   ]
  },
  {
   "cell_type": "code",
   "execution_count": 23,
   "metadata": {},
   "outputs": [],
   "source": [
    "pred_test = best_model.predict(X_test_cnn)\n",
    "y_pred = encoder.inverse_transform(pred_test)\n",
    "y_true = encoder.inverse_transform(y_test_cnn)"
   ]
  },
  {
   "cell_type": "code",
   "execution_count": 24,
   "metadata": {},
   "outputs": [
    {
     "name": "stdout",
     "output_type": "stream",
     "text": [
      "              precision    recall  f1-score   support\n",
      "\n",
      "           1       0.20      0.38      0.26        13\n",
      "           2       0.41      0.44      0.43        63\n",
      "           3       0.58      0.56      0.57        57\n",
      "           4       0.38      0.27      0.31        83\n",
      "           5       0.14      0.80      0.24        10\n",
      "           6       0.41      0.32      0.36        59\n",
      "           7       0.53      0.40      0.46        82\n",
      "           8       0.34      0.32      0.33        65\n",
      "\n",
      "    accuracy                           0.39       432\n",
      "   macro avg       0.37      0.44      0.37       432\n",
      "weighted avg       0.43      0.39      0.40       432\n",
      "\n"
     ]
    }
   ],
   "source": [
    "print(classification_report(y_pred,y_true))"
   ]
  },
  {
   "cell_type": "markdown",
   "metadata": {},
   "source": [
    "### Experiment model"
   ]
  },
  {
   "cell_type": "code",
   "execution_count": 28,
   "metadata": {},
   "outputs": [],
   "source": [
    "def experiment_model_architecture(no_epochs, batch_size, X_train, y_train, X_test, y_test, conv_input_dim, no_conv_layers, dense_input_dim, no_dense_layers, checkpoint='models/ser_experiment_models'): \n",
    "      \n",
    "    model = Sequential()\n",
    "\n",
    "    dropout = 0.2\n",
    "\n",
    "    for no_layers in range(no_conv_layers):\n",
    "        \n",
    "        model.add(Conv1D(conv_input_dim, 10, strides=2, input_shape=(X_train.shape[1],1)))\n",
    "        model.add(Activation('relu'))\n",
    "        model.add(BatchNormalization())\n",
    "        # model.add(MaxPooling1D(pool_size=(4)))\n",
    "        # model.add(Dropout(dropout))\n",
    "\n",
    "        conv_input_dim = conv_input_dim/2\n",
    "        dropout = 0.2\n",
    "    \n",
    "    model.add(Flatten())\n",
    "\n",
    "    for no_layers in range(no_dense_layers):\n",
    "        model.add(Dense(dense_input_dim))\n",
    "        # model.add(Dropout(dropout))\n",
    "        # if(no_layers==0 and no_dense_layers>1):\n",
    "        #     model.add(BatchNormalization())\n",
    "        # dense_input_dim = dense_input_dim/2\n",
    "\n",
    "    model.add(Dense(8))\n",
    "    model.add(Activation('softmax'))\n",
    "\n",
    "    print(model.summary())\n",
    "\n",
    "    # set callbacks\n",
    "    reduce_lr = tf.keras.callbacks.ReduceLROnPlateau(monitor='val_accuracy', \n",
    "                                                    factor=0.5, patience=4, \n",
    "                                                    verbose=1, mode='max', \n",
    "                                                    min_lr=0.001)\n",
    "\n",
    "    early_stop = tf.keras.callbacks.EarlyStopping(monitor='val_loss', patience=10,\n",
    "                                                    verbose=1)\n",
    "\n",
    "    model_checkpoint = tf.keras.callbacks.ModelCheckpoint(filepath=checkpoint, \n",
    "                                                          save_weights_only=False,\n",
    "                                                          monitor='val_accuracy', \n",
    "                                                          mode='max', \n",
    "                                                          save_best_only=True)\n",
    "\n",
    "    model.compile(optimizer=tf.keras.optimizers.Adam(learning_rate=0.0001), loss='categorical_crossentropy', metrics=['accuracy'])\n",
    "\n",
    "    history = model.fit(X_train, y_train,\n",
    "                batch_size=batch_size,\n",
    "                epochs=no_epochs,\n",
    "                verbose=2,\n",
    "                use_multiprocessing=False,\n",
    "                callbacks = [model_checkpoint, early_stop],\n",
    "                validation_data=(X_test, y_test))\n",
    "\n",
    "    # loading best weights\n",
    "    model.load_weights(checkpoint)\n",
    "    \n",
    "    return history, model"
   ]
  },
  {
   "cell_type": "markdown",
   "metadata": {},
   "source": [
    "#### Model architectures are defined as follows\n",
    "\n",
    "* Model 0 -> conv1d(256)→conv1d(128)→conv1d(64)→Dense(128)→Dense(64)→Dense(8)(Softmax)\n",
    "* Model 1 -> conv1d(256)→conv1d(128)→conv1d(64)→Dense(64)→Dense(8)(Softmax)\n",
    "* Model 2 -> conv1d(256)→conv1d(128)→Dense(128)→Dense(64)→Dense(8)(Softmax)\n",
    "* Model 3 -> conv1d(256)→conv1d(128)→Dense(64)→Dense(8)(Softmax)"
   ]
  },
  {
   "cell_type": "code",
   "execution_count": 35,
   "metadata": {},
   "outputs": [
    {
     "name": "stdout",
     "output_type": "stream",
     "text": [
      "Model: \"sequential_5\"\n",
      "_________________________________________________________________\n",
      "Layer (type)                 Output Shape              Param #   \n",
      "=================================================================\n",
      "conv1d_11 (Conv1D)           (None, 83, 256)           2816      \n",
      "_________________________________________________________________\n",
      "activation_4 (Activation)    (None, 83, 256)           0         \n",
      "_________________________________________________________________\n",
      "batch_normalization_11 (Batc (None, 83, 256)           1024      \n",
      "_________________________________________________________________\n",
      "conv1d_12 (Conv1D)           (None, 37, 128)           327808    \n",
      "_________________________________________________________________\n",
      "activation_5 (Activation)    (None, 37, 128)           0         \n",
      "_________________________________________________________________\n",
      "batch_normalization_12 (Batc (None, 37, 128)           512       \n",
      "_________________________________________________________________\n",
      "conv1d_13 (Conv1D)           (None, 14, 64)            81984     \n",
      "_________________________________________________________________\n",
      "activation_6 (Activation)    (None, 14, 64)            0         \n",
      "_________________________________________________________________\n",
      "batch_normalization_13 (Batc (None, 14, 64)            256       \n",
      "_________________________________________________________________\n",
      "flatten_5 (Flatten)          (None, 896)               0         \n",
      "_________________________________________________________________\n",
      "dense_15 (Dense)             (None, 64)                57408     \n",
      "_________________________________________________________________\n",
      "dense_16 (Dense)             (None, 64)                4160      \n",
      "_________________________________________________________________\n",
      "dense_17 (Dense)             (None, 8)                 520       \n",
      "_________________________________________________________________\n",
      "activation_7 (Activation)    (None, 8)                 0         \n",
      "=================================================================\n",
      "Total params: 476,488\n",
      "Trainable params: 475,592\n",
      "Non-trainable params: 896\n",
      "_________________________________________________________________\n",
      "None\n",
      "Epoch 1/150\n",
      "63/63 - 3s - loss: 2.1185 - accuracy: 0.2282 - val_loss: 2.1242 - val_accuracy: 0.1065\n",
      "INFO:tensorflow:Assets written to: ./models/ser_experiments_models/assets\n",
      "Epoch 2/150\n",
      "63/63 - 1s - loss: 1.6800 - accuracy: 0.3591 - val_loss: 2.1978 - val_accuracy: 0.1065\n",
      "Epoch 3/150\n",
      "63/63 - 1s - loss: 1.5231 - accuracy: 0.4266 - val_loss: 2.3374 - val_accuracy: 0.1296\n",
      "INFO:tensorflow:Assets written to: ./models/ser_experiments_models/assets\n",
      "Epoch 4/150\n",
      "63/63 - 1s - loss: 1.4544 - accuracy: 0.4514 - val_loss: 2.4530 - val_accuracy: 0.1296\n",
      "Epoch 5/150\n",
      "63/63 - 1s - loss: 1.3500 - accuracy: 0.5030 - val_loss: 2.4764 - val_accuracy: 0.1296\n",
      "Epoch 6/150\n",
      "63/63 - 1s - loss: 1.3104 - accuracy: 0.5079 - val_loss: 2.7688 - val_accuracy: 0.1296\n",
      "Epoch 7/150\n",
      "63/63 - 1s - loss: 1.2543 - accuracy: 0.5427 - val_loss: 2.9804 - val_accuracy: 0.1296\n",
      "Epoch 8/150\n",
      "63/63 - 1s - loss: 1.1522 - accuracy: 0.5804 - val_loss: 2.6757 - val_accuracy: 0.1319\n",
      "INFO:tensorflow:Assets written to: ./models/ser_experiments_models/assets\n",
      "Epoch 9/150\n",
      "63/63 - 1s - loss: 1.0879 - accuracy: 0.5962 - val_loss: 2.1042 - val_accuracy: 0.2431\n",
      "INFO:tensorflow:Assets written to: ./models/ser_experiments_models/assets\n",
      "Epoch 10/150\n",
      "63/63 - 1s - loss: 1.0622 - accuracy: 0.6200 - val_loss: 2.0066 - val_accuracy: 0.2870\n",
      "INFO:tensorflow:Assets written to: ./models/ser_experiments_models/assets\n",
      "Epoch 11/150\n",
      "63/63 - 2s - loss: 0.9941 - accuracy: 0.6538 - val_loss: 1.6836 - val_accuracy: 0.3310\n",
      "INFO:tensorflow:Assets written to: ./models/ser_experiments_models/assets\n",
      "Epoch 12/150\n",
      "63/63 - 1s - loss: 0.9540 - accuracy: 0.6587 - val_loss: 1.6557 - val_accuracy: 0.3634\n",
      "INFO:tensorflow:Assets written to: ./models/ser_experiments_models/assets\n",
      "Epoch 13/150\n",
      "63/63 - 1s - loss: 0.8692 - accuracy: 0.6925 - val_loss: 1.3955 - val_accuracy: 0.4769\n",
      "INFO:tensorflow:Assets written to: ./models/ser_experiments_models/assets\n",
      "Epoch 14/150\n",
      "63/63 - 1s - loss: 0.8448 - accuracy: 0.6954 - val_loss: 1.5964 - val_accuracy: 0.4236\n",
      "Epoch 15/150\n",
      "63/63 - 1s - loss: 0.8225 - accuracy: 0.7143 - val_loss: 1.6601 - val_accuracy: 0.4352\n",
      "Epoch 16/150\n",
      "63/63 - 1s - loss: 0.8095 - accuracy: 0.7173 - val_loss: 1.9587 - val_accuracy: 0.3565\n",
      "Epoch 17/150\n",
      "63/63 - 1s - loss: 0.7637 - accuracy: 0.7173 - val_loss: 1.6223 - val_accuracy: 0.4398\n",
      "Epoch 18/150\n",
      "63/63 - 1s - loss: 0.7129 - accuracy: 0.7540 - val_loss: 1.5692 - val_accuracy: 0.4606\n",
      "Epoch 19/150\n",
      "63/63 - 1s - loss: 0.6471 - accuracy: 0.7768 - val_loss: 1.6670 - val_accuracy: 0.4352\n",
      "Epoch 20/150\n",
      "63/63 - 1s - loss: 0.6094 - accuracy: 0.7877 - val_loss: 1.4512 - val_accuracy: 0.4815\n",
      "INFO:tensorflow:Assets written to: ./models/ser_experiments_models/assets\n",
      "Epoch 21/150\n",
      "63/63 - 1s - loss: 0.5216 - accuracy: 0.8224 - val_loss: 1.6193 - val_accuracy: 0.4630\n",
      "Epoch 22/150\n",
      "63/63 - 1s - loss: 0.4773 - accuracy: 0.8472 - val_loss: 1.8119 - val_accuracy: 0.4630\n",
      "Epoch 23/150\n",
      "63/63 - 1s - loss: 0.5120 - accuracy: 0.8214 - val_loss: 1.6428 - val_accuracy: 0.4537\n",
      "Epoch 00023: early stopping\n",
      "Model: \"sequential_6\"\n",
      "_________________________________________________________________\n",
      "Layer (type)                 Output Shape              Param #   \n",
      "=================================================================\n",
      "conv1d_14 (Conv1D)           (None, 83, 256)           2816      \n",
      "_________________________________________________________________\n",
      "activation_8 (Activation)    (None, 83, 256)           0         \n",
      "_________________________________________________________________\n",
      "batch_normalization_14 (Batc (None, 83, 256)           1024      \n",
      "_________________________________________________________________\n",
      "conv1d_15 (Conv1D)           (None, 37, 128)           327808    \n",
      "_________________________________________________________________\n",
      "activation_9 (Activation)    (None, 37, 128)           0         \n",
      "_________________________________________________________________\n",
      "batch_normalization_15 (Batc (None, 37, 128)           512       \n",
      "_________________________________________________________________\n",
      "conv1d_16 (Conv1D)           (None, 14, 64)            81984     \n",
      "_________________________________________________________________\n",
      "activation_10 (Activation)   (None, 14, 64)            0         \n",
      "_________________________________________________________________\n",
      "batch_normalization_16 (Batc (None, 14, 64)            256       \n",
      "_________________________________________________________________\n",
      "flatten_6 (Flatten)          (None, 896)               0         \n",
      "_________________________________________________________________\n",
      "dense_18 (Dense)             (None, 64)                57408     \n",
      "_________________________________________________________________\n",
      "dense_19 (Dense)             (None, 8)                 520       \n",
      "_________________________________________________________________\n",
      "activation_11 (Activation)   (None, 8)                 0         \n",
      "=================================================================\n",
      "Total params: 472,328\n",
      "Trainable params: 471,432\n",
      "Non-trainable params: 896\n",
      "_________________________________________________________________\n",
      "None\n",
      "Epoch 1/150\n",
      "63/63 - 4s - loss: 2.0269 - accuracy: 0.2639 - val_loss: 2.1422 - val_accuracy: 0.1296\n",
      "INFO:tensorflow:Assets written to: ./models/ser_experiments_models/assets\n",
      "Epoch 2/150\n",
      "63/63 - 1s - loss: 1.6117 - accuracy: 0.3998 - val_loss: 2.4514 - val_accuracy: 0.1296\n",
      "Epoch 3/150\n",
      "63/63 - 1s - loss: 1.5303 - accuracy: 0.4226 - val_loss: 2.7533 - val_accuracy: 0.1296\n",
      "Epoch 4/150\n",
      "63/63 - 2s - loss: 1.4175 - accuracy: 0.4782 - val_loss: 3.2046 - val_accuracy: 0.1296\n",
      "Epoch 5/150\n",
      "63/63 - 2s - loss: 1.3290 - accuracy: 0.5159 - val_loss: 3.5853 - val_accuracy: 0.1296\n",
      "Epoch 6/150\n",
      "63/63 - 1s - loss: 1.2400 - accuracy: 0.5308 - val_loss: 3.7518 - val_accuracy: 0.1296\n",
      "Epoch 7/150\n",
      "63/63 - 1s - loss: 1.1803 - accuracy: 0.5694 - val_loss: 3.9383 - val_accuracy: 0.1296\n",
      "Epoch 8/150\n",
      "63/63 - 1s - loss: 1.1586 - accuracy: 0.5813 - val_loss: 3.9718 - val_accuracy: 0.1296\n",
      "Epoch 9/150\n",
      "63/63 - 1s - loss: 1.0716 - accuracy: 0.6131 - val_loss: 3.3659 - val_accuracy: 0.1319\n",
      "WARNING:tensorflow:Unresolved object in checkpoint: (root).variables\n",
      "WARNING:tensorflow:Unresolved object in checkpoint: (root).trainable_variables\n",
      "WARNING:tensorflow:Unresolved object in checkpoint: (root).regularization_losses\n",
      "WARNING:tensorflow:Unresolved object in checkpoint: (root).keras_api\n",
      "WARNING:tensorflow:Unresolved object in checkpoint: (root).signatures\n",
      "WARNING:tensorflow:Unresolved object in checkpoint: (root).layer_with_weights-0.variables\n",
      "WARNING:tensorflow:Unresolved object in checkpoint: (root).layer_with_weights-0.trainable_variables\n",
      "WARNING:tensorflow:Unresolved object in checkpoint: (root).layer_with_weights-0.regularization_losses\n",
      "WARNING:tensorflow:Unresolved object in checkpoint: (root).layer_with_weights-0.keras_api\n",
      "WARNING:tensorflow:Unresolved object in checkpoint: (root).layer_with_weights-1.variables\n",
      "WARNING:tensorflow:Unresolved object in checkpoint: (root).layer_with_weights-1.trainable_variables\n",
      "WARNING:tensorflow:Unresolved object in checkpoint: (root).layer_with_weights-1.regularization_losses\n",
      "WARNING:tensorflow:Unresolved object in checkpoint: (root).layer_with_weights-1.keras_api\n",
      "WARNING:tensorflow:Unresolved object in checkpoint: (root).layer_with_weights-2.variables\n",
      "WARNING:tensorflow:Unresolved object in checkpoint: (root).layer_with_weights-2.trainable_variables\n",
      "WARNING:tensorflow:Unresolved object in checkpoint: (root).layer_with_weights-2.regularization_losses\n",
      "WARNING:tensorflow:Unresolved object in checkpoint: (root).layer_with_weights-2.keras_api\n",
      "WARNING:tensorflow:Unresolved object in checkpoint: (root).layer_with_weights-3.variables\n",
      "WARNING:tensorflow:Unresolved object in checkpoint: (root).layer_with_weights-3.trainable_variables\n",
      "WARNING:tensorflow:Unresolved object in checkpoint: (root).layer_with_weights-3.regularization_losses\n",
      "WARNING:tensorflow:Unresolved object in checkpoint: (root).layer_with_weights-3.keras_api\n",
      "WARNING:tensorflow:Unresolved object in checkpoint: (root).layer-4.variables\n",
      "WARNING:tensorflow:Unresolved object in checkpoint: (root).layer-4.trainable_variables\n",
      "WARNING:tensorflow:Unresolved object in checkpoint: (root).layer-4.regularization_losses\n",
      "WARNING:tensorflow:Unresolved object in checkpoint: (root).layer-4.keras_api\n",
      "WARNING:tensorflow:Unresolved object in checkpoint: (root).layer_with_weights-4.variables\n",
      "WARNING:tensorflow:Unresolved object in checkpoint: (root).layer_with_weights-4.trainable_variables\n",
      "WARNING:tensorflow:Unresolved object in checkpoint: (root).layer_with_weights-4.regularization_losses\n",
      "WARNING:tensorflow:Unresolved object in checkpoint: (root).layer_with_weights-4.keras_api\n",
      "WARNING:tensorflow:Unresolved object in checkpoint: (root).layer_with_weights-5.variables\n",
      "WARNING:tensorflow:Unresolved object in checkpoint: (root).layer_with_weights-5.trainable_variables\n",
      "WARNING:tensorflow:Unresolved object in checkpoint: (root).layer_with_weights-5.regularization_losses\n",
      "WARNING:tensorflow:Unresolved object in checkpoint: (root).layer_with_weights-5.keras_api\n",
      "WARNING:tensorflow:Unresolved object in checkpoint: (root).layer_with_weights-6.variables\n",
      "WARNING:tensorflow:Unresolved object in checkpoint: (root).layer_with_weights-6.trainable_variables\n",
      "WARNING:tensorflow:Unresolved object in checkpoint: (root).layer_with_weights-6.regularization_losses\n",
      "WARNING:tensorflow:Unresolved object in checkpoint: (root).layer_with_weights-6.keras_api\n",
      "WARNING:tensorflow:Unresolved object in checkpoint: (root).keras_api.layers\n",
      "WARNING:tensorflow:Unresolved object in checkpoint: (root).keras_api.layer_metrics\n",
      "WARNING:tensorflow:Unresolved object in checkpoint: (root).keras_api.layer_regularization_losses\n",
      "WARNING:tensorflow:Unresolved object in checkpoint: (root).keras_api.metrics\n",
      "WARNING:tensorflow:Unresolved object in checkpoint: (root).keras_api.non_trainable_variables\n",
      "WARNING:tensorflow:Unresolved object in checkpoint: (root).layer_with_weights-0.keras_api.layers\n",
      "WARNING:tensorflow:Unresolved object in checkpoint: (root).layer_with_weights-0.keras_api.layer_metrics\n",
      "WARNING:tensorflow:Unresolved object in checkpoint: (root).layer_with_weights-0.keras_api.layer_regularization_losses\n",
      "WARNING:tensorflow:Unresolved object in checkpoint: (root).layer_with_weights-0.keras_api.metrics\n",
      "WARNING:tensorflow:Unresolved object in checkpoint: (root).layer_with_weights-0.keras_api.non_trainable_variables\n",
      "WARNING:tensorflow:Unresolved object in checkpoint: (root).layer_with_weights-1.keras_api.layers\n",
      "WARNING:tensorflow:Unresolved object in checkpoint: (root).layer_with_weights-1.keras_api.layer_metrics\n",
      "WARNING:tensorflow:Unresolved object in checkpoint: (root).layer_with_weights-1.keras_api.layer_regularization_losses\n",
      "WARNING:tensorflow:Unresolved object in checkpoint: (root).layer_with_weights-1.keras_api.metrics\n",
      "WARNING:tensorflow:Unresolved object in checkpoint: (root).layer_with_weights-1.keras_api.non_trainable_variables\n",
      "WARNING:tensorflow:Unresolved object in checkpoint: (root).layer_with_weights-2.keras_api.layers\n",
      "WARNING:tensorflow:Unresolved object in checkpoint: (root).layer_with_weights-2.keras_api.layer_metrics\n",
      "WARNING:tensorflow:Unresolved object in checkpoint: (root).layer_with_weights-2.keras_api.layer_regularization_losses\n",
      "WARNING:tensorflow:Unresolved object in checkpoint: (root).layer_with_weights-2.keras_api.metrics\n",
      "WARNING:tensorflow:Unresolved object in checkpoint: (root).layer_with_weights-2.keras_api.non_trainable_variables\n",
      "WARNING:tensorflow:Unresolved object in checkpoint: (root).layer_with_weights-3.keras_api.layers\n",
      "WARNING:tensorflow:Unresolved object in checkpoint: (root).layer_with_weights-3.keras_api.layer_metrics\n",
      "WARNING:tensorflow:Unresolved object in checkpoint: (root).layer_with_weights-3.keras_api.layer_regularization_losses\n",
      "WARNING:tensorflow:Unresolved object in checkpoint: (root).layer_with_weights-3.keras_api.metrics\n",
      "WARNING:tensorflow:Unresolved object in checkpoint: (root).layer_with_weights-3.keras_api.non_trainable_variables\n",
      "WARNING:tensorflow:Unresolved object in checkpoint: (root).layer-4.keras_api.layers\n",
      "WARNING:tensorflow:Unresolved object in checkpoint: (root).layer-4.keras_api.layer_metrics\n",
      "WARNING:tensorflow:Unresolved object in checkpoint: (root).layer-4.keras_api.layer_regularization_losses\n",
      "WARNING:tensorflow:Unresolved object in checkpoint: (root).layer-4.keras_api.metrics\n",
      "WARNING:tensorflow:Unresolved object in checkpoint: (root).layer-4.keras_api.non_trainable_variables\n",
      "WARNING:tensorflow:Unresolved object in checkpoint: (root).layer_with_weights-4.keras_api.layers\n",
      "WARNING:tensorflow:Unresolved object in checkpoint: (root).layer_with_weights-4.keras_api.layer_metrics\n",
      "WARNING:tensorflow:Unresolved object in checkpoint: (root).layer_with_weights-4.keras_api.layer_regularization_losses\n",
      "WARNING:tensorflow:Unresolved object in checkpoint: (root).layer_with_weights-4.keras_api.metrics\n",
      "WARNING:tensorflow:Unresolved object in checkpoint: (root).layer_with_weights-4.keras_api.non_trainable_variables\n",
      "WARNING:tensorflow:Unresolved object in checkpoint: (root).layer_with_weights-5.keras_api.layers\n",
      "WARNING:tensorflow:Unresolved object in checkpoint: (root).layer_with_weights-5.keras_api.layer_metrics\n",
      "WARNING:tensorflow:Unresolved object in checkpoint: (root).layer_with_weights-5.keras_api.layer_regularization_losses\n",
      "WARNING:tensorflow:Unresolved object in checkpoint: (root).layer_with_weights-5.keras_api.metrics\n",
      "WARNING:tensorflow:Unresolved object in checkpoint: (root).layer_with_weights-5.keras_api.non_trainable_variables\n",
      "WARNING:tensorflow:Unresolved object in checkpoint: (root).layer_with_weights-6.keras_api.layers\n",
      "WARNING:tensorflow:Unresolved object in checkpoint: (root).layer_with_weights-6.keras_api.layer_metrics\n",
      "WARNING:tensorflow:Unresolved object in checkpoint: (root).layer_with_weights-6.keras_api.layer_regularization_losses\n",
      "WARNING:tensorflow:Unresolved object in checkpoint: (root).layer_with_weights-6.keras_api.metrics\n",
      "WARNING:tensorflow:Unresolved object in checkpoint: (root).layer_with_weights-6.keras_api.non_trainable_variables\n",
      "WARNING:tensorflow:Unresolved object in checkpoint: (root).keras_api.metrics.0\n",
      "WARNING:tensorflow:Unresolved object in checkpoint: (root).keras_api.metrics.1\n",
      "WARNING:tensorflow:Unresolved object in checkpoint: (root).keras_api.metrics.0.total\n",
      "WARNING:tensorflow:Unresolved object in checkpoint: (root).keras_api.metrics.0.count\n",
      "WARNING:tensorflow:Unresolved object in checkpoint: (root).keras_api.metrics.0.variables\n",
      "WARNING:tensorflow:Unresolved object in checkpoint: (root).keras_api.metrics.0.keras_api\n",
      "WARNING:tensorflow:Unresolved object in checkpoint: (root).keras_api.metrics.1.total\n",
      "WARNING:tensorflow:Unresolved object in checkpoint: (root).keras_api.metrics.1.count\n",
      "WARNING:tensorflow:Unresolved object in checkpoint: (root).keras_api.metrics.1._fn_kwargs\n",
      "WARNING:tensorflow:Unresolved object in checkpoint: (root).keras_api.metrics.1.variables\n",
      "WARNING:tensorflow:Unresolved object in checkpoint: (root).keras_api.metrics.1.keras_api\n",
      "WARNING:tensorflow:A checkpoint was restored (e.g. tf.train.Checkpoint.restore or tf.keras.Model.load_weights) but not all checkpointed values were used. See above for specific issues. Use expect_partial() on the load status object, e.g. tf.train.Checkpoint.restore(...).expect_partial(), to silence these warnings, or use assert_consumed() to make the check explicit. See https://www.tensorflow.org/guide/checkpoint#loading_mechanics for details.\n",
      "INFO:tensorflow:Assets written to: ./models/ser_experiments_models/assets\n",
      "Epoch 10/150\n",
      "63/63 - 1s - loss: 1.0484 - accuracy: 0.6319 - val_loss: 3.1001 - val_accuracy: 0.1458\n",
      "INFO:tensorflow:Assets written to: ./models/ser_experiments_models/assets\n",
      "Epoch 11/150\n",
      "63/63 - 1s - loss: 1.0215 - accuracy: 0.6597 - val_loss: 1.5534 - val_accuracy: 0.4120\n",
      "INFO:tensorflow:Assets written to: ./models/ser_experiments_models/assets\n",
      "Epoch 12/150\n",
      "63/63 - 1s - loss: 0.9478 - accuracy: 0.6577 - val_loss: 1.6487 - val_accuracy: 0.3958\n",
      "Epoch 13/150\n",
      "63/63 - 1s - loss: 0.9233 - accuracy: 0.6518 - val_loss: 1.6464 - val_accuracy: 0.3634\n",
      "Epoch 14/150\n",
      "63/63 - 1s - loss: 0.8746 - accuracy: 0.6905 - val_loss: 1.4790 - val_accuracy: 0.4190\n",
      "INFO:tensorflow:Assets written to: ./models/ser_experiments_models/assets\n",
      "Epoch 15/150\n",
      "63/63 - 1s - loss: 0.7837 - accuracy: 0.7292 - val_loss: 1.4519 - val_accuracy: 0.4653\n",
      "INFO:tensorflow:Assets written to: ./models/ser_experiments_models/assets\n",
      "Epoch 16/150\n",
      "63/63 - 1s - loss: 0.7553 - accuracy: 0.7331 - val_loss: 1.5044 - val_accuracy: 0.4722\n",
      "INFO:tensorflow:Assets written to: ./models/ser_experiments_models/assets\n",
      "Epoch 17/150\n",
      "63/63 - 1s - loss: 0.7417 - accuracy: 0.7431 - val_loss: 1.6721 - val_accuracy: 0.4005\n",
      "Epoch 18/150\n",
      "63/63 - 1s - loss: 0.7210 - accuracy: 0.7550 - val_loss: 1.8653 - val_accuracy: 0.4444\n",
      "Epoch 19/150\n",
      "63/63 - 1s - loss: 0.6379 - accuracy: 0.7817 - val_loss: 1.6472 - val_accuracy: 0.4282\n",
      "Epoch 20/150\n",
      "63/63 - 1s - loss: 0.5889 - accuracy: 0.8085 - val_loss: 1.4791 - val_accuracy: 0.4699\n",
      "Epoch 21/150\n",
      "63/63 - 1s - loss: 0.5404 - accuracy: 0.8294 - val_loss: 1.3969 - val_accuracy: 0.4838\n",
      "INFO:tensorflow:Assets written to: ./models/ser_experiments_models/assets\n",
      "Epoch 22/150\n",
      "63/63 - 1s - loss: 0.4948 - accuracy: 0.8522 - val_loss: 1.5572 - val_accuracy: 0.4491\n",
      "Epoch 23/150\n",
      "63/63 - 1s - loss: 0.4474 - accuracy: 0.8810 - val_loss: 1.5586 - val_accuracy: 0.5069\n",
      "INFO:tensorflow:Assets written to: ./models/ser_experiments_models/assets\n",
      "Epoch 24/150\n",
      "63/63 - 1s - loss: 0.4128 - accuracy: 0.8800 - val_loss: 1.4108 - val_accuracy: 0.5185\n",
      "INFO:tensorflow:Assets written to: ./models/ser_experiments_models/assets\n",
      "Epoch 25/150\n",
      "63/63 - 2s - loss: 0.4127 - accuracy: 0.8740 - val_loss: 1.4350 - val_accuracy: 0.5093\n",
      "Epoch 26/150\n",
      "63/63 - 2s - loss: 0.3880 - accuracy: 0.8948 - val_loss: 1.6613 - val_accuracy: 0.4769\n",
      "Epoch 27/150\n",
      "63/63 - 1s - loss: 0.3267 - accuracy: 0.9167 - val_loss: 1.4718 - val_accuracy: 0.5278\n",
      "INFO:tensorflow:Assets written to: ./models/ser_experiments_models/assets\n",
      "Epoch 28/150\n",
      "63/63 - 1s - loss: 0.2814 - accuracy: 0.9246 - val_loss: 1.6693 - val_accuracy: 0.5046\n",
      "Epoch 29/150\n",
      "63/63 - 1s - loss: 0.2738 - accuracy: 0.9296 - val_loss: 1.6926 - val_accuracy: 0.4352\n",
      "Epoch 30/150\n",
      "63/63 - 1s - loss: 0.2405 - accuracy: 0.9444 - val_loss: 1.5097 - val_accuracy: 0.5000\n",
      "Epoch 31/150\n",
      "63/63 - 1s - loss: 0.2056 - accuracy: 0.9603 - val_loss: 1.5442 - val_accuracy: 0.4792\n",
      "Epoch 00031: early stopping\n",
      "Model: \"sequential_7\"\n",
      "_________________________________________________________________\n",
      "Layer (type)                 Output Shape              Param #   \n",
      "=================================================================\n",
      "conv1d_17 (Conv1D)           (None, 83, 256)           2816      \n",
      "_________________________________________________________________\n",
      "activation_12 (Activation)   (None, 83, 256)           0         \n",
      "_________________________________________________________________\n",
      "batch_normalization_17 (Batc (None, 83, 256)           1024      \n",
      "_________________________________________________________________\n",
      "conv1d_18 (Conv1D)           (None, 37, 128)           327808    \n",
      "_________________________________________________________________\n",
      "activation_13 (Activation)   (None, 37, 128)           0         \n",
      "_________________________________________________________________\n",
      "batch_normalization_18 (Batc (None, 37, 128)           512       \n",
      "_________________________________________________________________\n",
      "flatten_7 (Flatten)          (None, 4736)              0         \n",
      "_________________________________________________________________\n",
      "dense_20 (Dense)             (None, 64)                303168    \n",
      "_________________________________________________________________\n",
      "dense_21 (Dense)             (None, 64)                4160      \n",
      "_________________________________________________________________\n",
      "dense_22 (Dense)             (None, 8)                 520       \n",
      "_________________________________________________________________\n",
      "activation_14 (Activation)   (None, 8)                 0         \n",
      "=================================================================\n",
      "Total params: 640,008\n",
      "Trainable params: 639,240\n",
      "Non-trainable params: 768\n",
      "_________________________________________________________________\n",
      "None\n",
      "Epoch 1/150\n",
      "63/63 - 2s - loss: 2.2451 - accuracy: 0.2530 - val_loss: 2.1111 - val_accuracy: 0.1296\n",
      "INFO:tensorflow:Assets written to: ./models/ser_experiments_models/assets\n",
      "Epoch 2/150\n",
      "63/63 - 1s - loss: 1.6666 - accuracy: 0.3879 - val_loss: 2.2570 - val_accuracy: 0.1296\n",
      "Epoch 3/150\n",
      "63/63 - 1s - loss: 1.5536 - accuracy: 0.4276 - val_loss: 2.4865 - val_accuracy: 0.1296\n",
      "Epoch 4/150\n",
      "63/63 - 1s - loss: 1.4088 - accuracy: 0.4841 - val_loss: 2.6691 - val_accuracy: 0.1343\n",
      "INFO:tensorflow:Assets written to: ./models/ser_experiments_models/assets\n",
      "Epoch 5/150\n",
      "63/63 - 1s - loss: 1.3645 - accuracy: 0.4950 - val_loss: 2.9013 - val_accuracy: 0.1296\n",
      "Epoch 6/150\n",
      "63/63 - 1s - loss: 1.3079 - accuracy: 0.5258 - val_loss: 2.9962 - val_accuracy: 0.1296\n",
      "Epoch 7/150\n",
      "63/63 - 1s - loss: 1.2213 - accuracy: 0.5655 - val_loss: 2.5124 - val_accuracy: 0.1875\n",
      "INFO:tensorflow:Assets written to: ./models/ser_experiments_models/assets\n",
      "Epoch 8/150\n",
      "63/63 - 1s - loss: 1.1284 - accuracy: 0.6042 - val_loss: 2.6276 - val_accuracy: 0.1412\n",
      "Epoch 9/150\n",
      "63/63 - 1s - loss: 1.0546 - accuracy: 0.6240 - val_loss: 2.1315 - val_accuracy: 0.1921\n",
      "INFO:tensorflow:Assets written to: ./models/ser_experiments_models/assets\n",
      "Epoch 10/150\n",
      "63/63 - 1s - loss: 1.0294 - accuracy: 0.6310 - val_loss: 1.6581 - val_accuracy: 0.3912\n",
      "INFO:tensorflow:Assets written to: ./models/ser_experiments_models/assets\n",
      "Epoch 11/150\n",
      "63/63 - 1s - loss: 0.9829 - accuracy: 0.6538 - val_loss: 1.4754 - val_accuracy: 0.4051\n",
      "INFO:tensorflow:Assets written to: ./models/ser_experiments_models/assets\n",
      "Epoch 12/150\n",
      "63/63 - 1s - loss: 0.9139 - accuracy: 0.6766 - val_loss: 1.3846 - val_accuracy: 0.4745\n",
      "INFO:tensorflow:Assets written to: ./models/ser_experiments_models/assets\n",
      "Epoch 13/150\n",
      "63/63 - 1s - loss: 0.9574 - accuracy: 0.6597 - val_loss: 1.3951 - val_accuracy: 0.4954\n",
      "INFO:tensorflow:Assets written to: ./models/ser_experiments_models/assets\n",
      "Epoch 14/150\n",
      "63/63 - 1s - loss: 0.8730 - accuracy: 0.6825 - val_loss: 1.3863 - val_accuracy: 0.4560\n",
      "Epoch 15/150\n",
      "63/63 - 1s - loss: 0.7747 - accuracy: 0.7371 - val_loss: 1.4865 - val_accuracy: 0.4769\n",
      "Epoch 16/150\n",
      "63/63 - 1s - loss: 0.7639 - accuracy: 0.7411 - val_loss: 1.6236 - val_accuracy: 0.4444\n",
      "Epoch 17/150\n",
      "63/63 - 1s - loss: 0.7567 - accuracy: 0.7341 - val_loss: 1.3616 - val_accuracy: 0.5162\n",
      "INFO:tensorflow:Assets written to: ./models/ser_experiments_models/assets\n",
      "Epoch 18/150\n",
      "63/63 - 1s - loss: 0.6364 - accuracy: 0.7887 - val_loss: 1.3031 - val_accuracy: 0.5556\n",
      "INFO:tensorflow:Assets written to: ./models/ser_experiments_models/assets\n",
      "Epoch 19/150\n",
      "63/63 - 1s - loss: 0.6172 - accuracy: 0.7907 - val_loss: 1.4861 - val_accuracy: 0.5139\n",
      "Epoch 20/150\n",
      "63/63 - 1s - loss: 0.6105 - accuracy: 0.7917 - val_loss: 1.3161 - val_accuracy: 0.5718\n",
      "INFO:tensorflow:Assets written to: ./models/ser_experiments_models/assets\n",
      "Epoch 21/150\n",
      "63/63 - 1s - loss: 0.4770 - accuracy: 0.8522 - val_loss: 1.3439 - val_accuracy: 0.5324\n",
      "Epoch 22/150\n",
      "63/63 - 1s - loss: 0.4582 - accuracy: 0.8601 - val_loss: 1.6640 - val_accuracy: 0.4722\n",
      "Epoch 23/150\n",
      "63/63 - 1s - loss: 0.4186 - accuracy: 0.8790 - val_loss: 1.4093 - val_accuracy: 0.5394\n",
      "Epoch 24/150\n",
      "63/63 - 1s - loss: 0.4171 - accuracy: 0.8740 - val_loss: 1.4221 - val_accuracy: 0.5509\n",
      "Epoch 25/150\n",
      "63/63 - 1s - loss: 0.3632 - accuracy: 0.8859 - val_loss: 1.4863 - val_accuracy: 0.5463\n",
      "Epoch 26/150\n",
      "63/63 - 1s - loss: 0.3183 - accuracy: 0.9157 - val_loss: 1.4020 - val_accuracy: 0.5394\n",
      "Epoch 27/150\n",
      "63/63 - 1s - loss: 0.2700 - accuracy: 0.9325 - val_loss: 1.4611 - val_accuracy: 0.5625\n",
      "Epoch 28/150\n",
      "63/63 - 1s - loss: 0.2796 - accuracy: 0.9246 - val_loss: 1.4837 - val_accuracy: 0.5116\n",
      "Epoch 00028: early stopping\n",
      "Model: \"sequential_8\"\n",
      "_________________________________________________________________\n",
      "Layer (type)                 Output Shape              Param #   \n",
      "=================================================================\n",
      "conv1d_19 (Conv1D)           (None, 83, 256)           2816      \n",
      "_________________________________________________________________\n",
      "activation_15 (Activation)   (None, 83, 256)           0         \n",
      "_________________________________________________________________\n",
      "batch_normalization_19 (Batc (None, 83, 256)           1024      \n",
      "_________________________________________________________________\n",
      "conv1d_20 (Conv1D)           (None, 37, 128)           327808    \n",
      "_________________________________________________________________\n",
      "activation_16 (Activation)   (None, 37, 128)           0         \n",
      "_________________________________________________________________\n",
      "batch_normalization_20 (Batc (None, 37, 128)           512       \n",
      "_________________________________________________________________\n",
      "flatten_8 (Flatten)          (None, 4736)              0         \n",
      "_________________________________________________________________\n",
      "dense_23 (Dense)             (None, 64)                303168    \n",
      "_________________________________________________________________\n",
      "dense_24 (Dense)             (None, 8)                 520       \n",
      "_________________________________________________________________\n",
      "activation_17 (Activation)   (None, 8)                 0         \n",
      "=================================================================\n",
      "Total params: 635,848\n",
      "Trainable params: 635,080\n",
      "Non-trainable params: 768\n",
      "_________________________________________________________________\n",
      "None\n",
      "Epoch 1/150\n",
      "63/63 - 2s - loss: 2.2816 - accuracy: 0.2401 - val_loss: 2.0887 - val_accuracy: 0.1296\n",
      "INFO:tensorflow:Assets written to: ./models/ser_experiments_models/assets\n",
      "Epoch 2/150\n",
      "63/63 - 1s - loss: 1.7414 - accuracy: 0.3492 - val_loss: 2.1611 - val_accuracy: 0.1296\n",
      "Epoch 3/150\n",
      "63/63 - 1s - loss: 1.5232 - accuracy: 0.4435 - val_loss: 2.2891 - val_accuracy: 0.1296\n",
      "Epoch 4/150\n",
      "63/63 - 1s - loss: 1.3406 - accuracy: 0.5030 - val_loss: 2.5074 - val_accuracy: 0.1296\n",
      "Epoch 5/150\n",
      "63/63 - 1s - loss: 1.3541 - accuracy: 0.5079 - val_loss: 2.7218 - val_accuracy: 0.1296\n",
      "Epoch 6/150\n",
      "63/63 - 1s - loss: 1.2200 - accuracy: 0.5575 - val_loss: 3.0333 - val_accuracy: 0.1296\n",
      "Epoch 7/150\n",
      "63/63 - 1s - loss: 1.2093 - accuracy: 0.5813 - val_loss: 2.8677 - val_accuracy: 0.1319\n",
      "INFO:tensorflow:Assets written to: ./models/ser_experiments_models/assets\n",
      "Epoch 8/150\n",
      "63/63 - 1s - loss: 1.0847 - accuracy: 0.6151 - val_loss: 2.5203 - val_accuracy: 0.1690\n",
      "INFO:tensorflow:Assets written to: ./models/ser_experiments_models/assets\n",
      "Epoch 9/150\n",
      "63/63 - 1s - loss: 1.1119 - accuracy: 0.6052 - val_loss: 2.1288 - val_accuracy: 0.2894\n",
      "INFO:tensorflow:Assets written to: ./models/ser_experiments_models/assets\n",
      "Epoch 10/150\n",
      "63/63 - 1s - loss: 1.0258 - accuracy: 0.6438 - val_loss: 1.9791 - val_accuracy: 0.2662\n",
      "Epoch 11/150\n",
      "63/63 - 1s - loss: 0.9124 - accuracy: 0.6776 - val_loss: 1.5915 - val_accuracy: 0.3981\n",
      "INFO:tensorflow:Assets written to: ./models/ser_experiments_models/assets\n",
      "Epoch 12/150\n",
      "63/63 - 1s - loss: 0.9574 - accuracy: 0.6776 - val_loss: 1.6362 - val_accuracy: 0.4560\n",
      "INFO:tensorflow:Assets written to: ./models/ser_experiments_models/assets\n",
      "Epoch 13/150\n",
      "63/63 - 1s - loss: 0.9357 - accuracy: 0.6498 - val_loss: 1.6800 - val_accuracy: 0.3935\n",
      "Epoch 14/150\n",
      "63/63 - 1s - loss: 0.8459 - accuracy: 0.6974 - val_loss: 1.3724 - val_accuracy: 0.4884\n",
      "INFO:tensorflow:Assets written to: ./models/ser_experiments_models/assets\n",
      "Epoch 15/150\n",
      "63/63 - 1s - loss: 0.7106 - accuracy: 0.7560 - val_loss: 1.4983 - val_accuracy: 0.4630\n",
      "Epoch 16/150\n",
      "63/63 - 1s - loss: 0.6613 - accuracy: 0.7748 - val_loss: 1.3873 - val_accuracy: 0.5139\n",
      "INFO:tensorflow:Assets written to: ./models/ser_experiments_models/assets\n",
      "Epoch 17/150\n",
      "63/63 - 1s - loss: 0.6454 - accuracy: 0.7798 - val_loss: 1.3941 - val_accuracy: 0.5255\n",
      "INFO:tensorflow:Assets written to: ./models/ser_experiments_models/assets\n",
      "Epoch 18/150\n",
      "63/63 - 1s - loss: 0.6276 - accuracy: 0.7748 - val_loss: 1.5186 - val_accuracy: 0.4884\n",
      "Epoch 19/150\n",
      "63/63 - 1s - loss: 0.5731 - accuracy: 0.8145 - val_loss: 1.5432 - val_accuracy: 0.5023\n",
      "Epoch 20/150\n",
      "63/63 - 1s - loss: 0.5080 - accuracy: 0.8413 - val_loss: 1.5343 - val_accuracy: 0.4653\n",
      "Epoch 21/150\n",
      "63/63 - 1s - loss: 0.4910 - accuracy: 0.8512 - val_loss: 1.3891 - val_accuracy: 0.5046\n",
      "Epoch 22/150\n",
      "63/63 - 1s - loss: 0.4526 - accuracy: 0.8591 - val_loss: 1.4037 - val_accuracy: 0.5023\n",
      "Epoch 23/150\n",
      "63/63 - 1s - loss: 0.4328 - accuracy: 0.8581 - val_loss: 1.6771 - val_accuracy: 0.5162\n",
      "Epoch 24/150\n",
      "63/63 - 1s - loss: 0.4002 - accuracy: 0.8790 - val_loss: 1.4401 - val_accuracy: 0.5347\n",
      "INFO:tensorflow:Assets written to: ./models/ser_experiments_models/assets\n",
      "Epoch 00024: early stopping\n"
     ]
    }
   ],
   "source": [
    "batch_size = 16\n",
    "model_input_layers = [[3,2],[3,1],[2,2],[2,1]]\n",
    "dir_path = './models/ser_experiments_models'\n",
    "history_models = {}\n",
    "i = 0\n",
    "for input_layers in model_input_layers:\n",
    "    history, best_model = experiment_model_architecture(150, batch_size, X_train_cnn, y_train_cnn, X_test_cnn, y_test_cnn,256,input_layers[0],64,input_layers[1],checkpoint=dir_path)\n",
    "    try:\n",
    "        shutil.rmtree(dir_path)\n",
    "    except OSError as e:\n",
    "        print(\"Error: %s : %s\" % (dir_path, e.strerror))\n",
    "    history_models[\"Model\"+str(i)] = [history,best_model]\n",
    "    i = i+1\n"
   ]
  },
  {
   "cell_type": "code",
   "execution_count": 36,
   "metadata": {},
   "outputs": [
    {
     "data": {
      "image/png": "[encoded data removed]",
      "text/plain": [
       "<Figure size 432x288 with 1 Axes>"
      ]
     },
     "metadata": {
      "needs_background": "light"
     },
     "output_type": "display_data"
    }
   ],
   "source": [
    "plt.plot(history_models[\"Model0\"][0].history['loss'])\n",
    "plt.plot(history_models[\"Model1\"][0].history['loss'])\n",
    "plt.plot(history_models[\"Model2\"][0].history['loss'])\n",
    "plt.plot(history_models[\"Model3\"][0].history['loss'])\n",
    "plt.title('Loss')\n",
    "plt.ylabel('Loss value')\n",
    "plt.xlabel('No epoch')\n",
    "plt.legend(['Model0', 'Model1', 'Model2', 'Model3'], loc='upper right')\n",
    "plt.show()"
   ]
  },
  {
   "cell_type": "code",
   "execution_count": 37,
   "metadata": {},
   "outputs": [
    {
     "data": {
      "image/png": "[encoded data removed]",
      "text/plain": [
       "<Figure size 432x288 with 1 Axes>"
      ]
     },
     "metadata": {
      "needs_background": "light"
     },
     "output_type": "display_data"
    }
   ],
   "source": [
    "plt.plot(history_models[\"Model0\"][0].history['val_loss'])\n",
    "plt.plot(history_models[\"Model1\"][0].history['val_loss'])\n",
    "plt.plot(history_models[\"Model2\"][0].history['val_loss'])\n",
    "plt.plot(history_models[\"Model3\"][0].history['val_loss'])\n",
    "plt.title('Val Loss')\n",
    "plt.ylabel('Val Loss value')\n",
    "plt.xlabel('No epoch')\n",
    "plt.legend(['Model0', 'Model1', 'Model2', 'Model3'], loc='upper right')\n",
    "plt.show()"
   ]
  },
  {
   "cell_type": "code",
   "execution_count": 38,
   "metadata": {},
   "outputs": [
    {
     "data": {
      "image/png": "[encoded data removed]",
      "text/plain": [
       "<Figure size 432x288 with 1 Axes>"
      ]
     },
     "metadata": {
      "needs_background": "light"
     },
     "output_type": "display_data"
    }
   ],
   "source": [
    "plt.plot(history_models[\"Model0\"][0].history['accuracy'])\n",
    "plt.plot(history_models[\"Model1\"][0].history['accuracy'])\n",
    "plt.plot(history_models[\"Model2\"][0].history['accuracy'])\n",
    "plt.plot(history_models[\"Model3\"][0].history['accuracy'])\n",
    "plt.title('Accuracy')\n",
    "plt.ylabel('Accuracy value')\n",
    "plt.xlabel('No epoch')\n",
    "plt.legend(['Model0', 'Model1', 'Model2', 'Model3'], loc='lower right')\n",
    "plt.show()"
   ]
  },
  {
   "cell_type": "code",
   "execution_count": 40,
   "metadata": {},
   "outputs": [
    {
     "data": {
      "image/png": "[encoded data removed]",
      "text/plain": [
       "<Figure size 432x288 with 1 Axes>"
      ]
     },
     "metadata": {
      "needs_background": "light"
     },
     "output_type": "display_data"
    }
   ],
   "source": [
    "plt.plot(history_models[\"Model0\"][0].history['val_accuracy'])\n",
    "plt.plot(history_models[\"Model1\"][0].history['val_accuracy'])\n",
    "plt.plot(history_models[\"Model2\"][0].history['val_accuracy'])\n",
    "plt.plot(history_models[\"Model3\"][0].history['val_accuracy'])\n",
    "plt.title('Val Accuracy')\n",
    "plt.ylabel('Val Accuracy value')\n",
    "plt.xlabel('No epoch')\n",
    "plt.legend(['Model0', 'Model1', 'Model2', 'Model3'], loc='lower right')\n",
    "plt.show()"
   ]
  },
  {
   "cell_type": "code",
   "execution_count": 41,
   "metadata": {},
   "outputs": [
    {
     "name": "stdout",
     "output_type": "stream",
     "text": [
      "----------------------------Prediction for Model0-----------------------------\n",
      "              precision    recall  f1-score   support\n",
      "\n",
      "           1       0.00      0.00      0.00         1\n",
      "           2       0.49      0.59      0.53        56\n",
      "           3       0.44      0.55      0.48        44\n",
      "           4       0.41      0.41      0.41        58\n",
      "           5       0.71      0.50      0.59        80\n",
      "           6       0.54      0.47      0.51        53\n",
      "           7       0.48      0.48      0.48        63\n",
      "           8       0.52      0.42      0.46        77\n",
      "\n",
      "    accuracy                           0.48       432\n",
      "   macro avg       0.45      0.43      0.43       432\n",
      "weighted avg       0.52      0.48      0.50       432\n",
      "\n",
      "------------------------------------------------------------------------------\n",
      "----------------------------Prediction for Model1-----------------------------\n",
      "              precision    recall  f1-score   support\n",
      "\n",
      "           1       0.32      0.21      0.25        38\n",
      "           2       0.57      0.63      0.60        62\n",
      "           3       0.51      0.55      0.53        51\n",
      "           4       0.64      0.40      0.49        93\n",
      "           5       0.59      0.77      0.67        43\n",
      "           6       0.59      0.51      0.55        53\n",
      "           7       0.52      0.55      0.53        58\n",
      "           8       0.39      0.71      0.50        34\n",
      "\n",
      "    accuracy                           0.53       432\n",
      "   macro avg       0.52      0.54      0.51       432\n",
      "weighted avg       0.54      0.53      0.52       432\n",
      "\n",
      "------------------------------------------------------------------------------\n",
      "----------------------------Prediction for Model2-----------------------------\n",
      "              precision    recall  f1-score   support\n",
      "\n",
      "           1       0.04      0.25      0.07         4\n",
      "           2       0.88      0.54      0.67       111\n",
      "           3       0.60      0.45      0.52        73\n",
      "           4       0.45      0.59      0.51        44\n",
      "           5       0.52      0.91      0.66        32\n",
      "           6       0.65      0.68      0.67        44\n",
      "           7       0.63      0.50      0.56        78\n",
      "           8       0.47      0.63      0.54        46\n",
      "\n",
      "    accuracy                           0.57       432\n",
      "   macro avg       0.53      0.57      0.52       432\n",
      "weighted avg       0.64      0.57      0.59       432\n",
      "\n",
      "------------------------------------------------------------------------------\n",
      "----------------------------Prediction for Model3-----------------------------\n",
      "              precision    recall  f1-score   support\n",
      "\n",
      "           1       0.20      0.28      0.23        18\n",
      "           2       0.76      0.51      0.62       101\n",
      "           3       0.53      0.41      0.46        70\n",
      "           4       0.57      0.55      0.56        60\n",
      "           5       0.57      0.68      0.62        47\n",
      "           6       0.59      0.63      0.61        43\n",
      "           7       0.42      0.58      0.49        45\n",
      "           8       0.44      0.56      0.49        48\n",
      "\n",
      "    accuracy                           0.53       432\n",
      "   macro avg       0.51      0.53      0.51       432\n",
      "weighted avg       0.56      0.53      0.54       432\n",
      "\n",
      "------------------------------------------------------------------------------\n"
     ]
    }
   ],
   "source": [
    "for keys in history_models:\n",
    "    pred_test = history_models[keys][1].predict(X_test_cnn)\n",
    "    y_pred = encoder.inverse_transform(pred_test)\n",
    "    y_true = encoder.inverse_transform(y_test_cnn)\n",
    "    print(\"----------------------------Prediction for \"+str(keys)+\"-----------------------------\")\n",
    "    print(classification_report(y_pred,y_true))\n",
    "    print(\"------------------------------------------------------------------------------\")"
   ]
  },
  {
   "cell_type": "markdown",
   "metadata": {},
   "source": [
    "#### Batch-size Experiments"
   ]
  },
  {
   "cell_type": "code",
   "execution_count": 44,
   "metadata": {},
   "outputs": [
    {
     "name": "stdout",
     "output_type": "stream",
     "text": [
      "Model: \"sequential_9\"\n",
      "_________________________________________________________________\n",
      "Layer (type)                 Output Shape              Param #   \n",
      "=================================================================\n",
      "conv1d_21 (Conv1D)           (None, 83, 256)           2816      \n",
      "_________________________________________________________________\n",
      "activation_18 (Activation)   (None, 83, 256)           0         \n",
      "_________________________________________________________________\n",
      "batch_normalization_21 (Batc (None, 83, 256)           1024      \n",
      "_________________________________________________________________\n",
      "conv1d_22 (Conv1D)           (None, 37, 128)           327808    \n",
      "_________________________________________________________________\n",
      "activation_19 (Activation)   (None, 37, 128)           0         \n",
      "_________________________________________________________________\n",
      "batch_normalization_22 (Batc (None, 37, 128)           512       \n",
      "_________________________________________________________________\n",
      "flatten_9 (Flatten)          (None, 4736)              0         \n",
      "_________________________________________________________________\n",
      "dense_25 (Dense)             (None, 64)                303168    \n",
      "_________________________________________________________________\n",
      "dense_26 (Dense)             (None, 8)                 520       \n",
      "_________________________________________________________________\n",
      "activation_20 (Activation)   (None, 8)                 0         \n",
      "=================================================================\n",
      "Total params: 635,848\n",
      "Trainable params: 635,080\n",
      "Non-trainable params: 768\n",
      "_________________________________________________________________\n",
      "None\n",
      "Epoch 1/150\n",
      "1008/1008 - 5s - loss: 2.8389 - accuracy: 0.2381 - val_loss: 1.9779 - val_accuracy: 0.3333\n",
      "INFO:tensorflow:Assets written to: ./models/ser_experiments_models/assets\n",
      "Epoch 2/150\n",
      "1008/1008 - 3s - loss: 2.2239 - accuracy: 0.3363 - val_loss: 2.6839 - val_accuracy: 0.2500\n",
      "Epoch 3/150\n",
      "1008/1008 - 3s - loss: 1.9511 - accuracy: 0.3810 - val_loss: 2.0947 - val_accuracy: 0.3102\n",
      "Epoch 4/150\n",
      "1008/1008 - 3s - loss: 1.8043 - accuracy: 0.4335 - val_loss: 2.3870 - val_accuracy: 0.3542\n",
      "INFO:tensorflow:Assets written to: ./models/ser_experiments_models/assets\n",
      "Epoch 5/150\n",
      "1008/1008 - 3s - loss: 1.5994 - accuracy: 0.4940 - val_loss: 2.4312 - val_accuracy: 0.3171\n",
      "Epoch 6/150\n",
      "1008/1008 - 3s - loss: 1.4060 - accuracy: 0.5437 - val_loss: 1.8141 - val_accuracy: 0.4537\n",
      "INFO:tensorflow:Assets written to: ./models/ser_experiments_models/assets\n",
      "Epoch 7/150\n",
      "1008/1008 - 3s - loss: 1.1828 - accuracy: 0.5843 - val_loss: 1.8065 - val_accuracy: 0.4190\n",
      "Epoch 8/150\n",
      "1008/1008 - 3s - loss: 0.9832 - accuracy: 0.6429 - val_loss: 2.0167 - val_accuracy: 0.3796\n",
      "Epoch 9/150\n",
      "1008/1008 - 3s - loss: 0.8950 - accuracy: 0.6806 - val_loss: 1.6754 - val_accuracy: 0.4630\n",
      "INFO:tensorflow:Assets written to: ./models/ser_experiments_models/assets\n",
      "Epoch 10/150\n",
      "1008/1008 - 3s - loss: 0.7581 - accuracy: 0.7202 - val_loss: 1.7015 - val_accuracy: 0.5069\n",
      "INFO:tensorflow:Assets written to: ./models/ser_experiments_models/assets\n",
      "Epoch 11/150\n",
      "1008/1008 - 4s - loss: 0.5744 - accuracy: 0.7937 - val_loss: 1.9383 - val_accuracy: 0.4583\n",
      "Epoch 12/150\n",
      "1008/1008 - 3s - loss: 0.5361 - accuracy: 0.8105 - val_loss: 1.7160 - val_accuracy: 0.4931\n",
      "Epoch 13/150\n",
      "1008/1008 - 3s - loss: 0.4351 - accuracy: 0.8403 - val_loss: 1.6728 - val_accuracy: 0.5394\n",
      "INFO:tensorflow:Assets written to: ./models/ser_experiments_models/assets\n",
      "Epoch 14/150\n",
      "1008/1008 - 3s - loss: 0.3637 - accuracy: 0.8631 - val_loss: 1.6367 - val_accuracy: 0.5162\n",
      "Epoch 15/150\n",
      "1008/1008 - 3s - loss: 0.2679 - accuracy: 0.9018 - val_loss: 1.8025 - val_accuracy: 0.4653\n",
      "Epoch 16/150\n",
      "1008/1008 - 3s - loss: 0.2658 - accuracy: 0.9087 - val_loss: 1.6433 - val_accuracy: 0.5162\n",
      "Epoch 17/150\n",
      "1008/1008 - 3s - loss: 0.2311 - accuracy: 0.9157 - val_loss: 2.4529 - val_accuracy: 0.4630\n",
      "Epoch 18/150\n",
      "1008/1008 - 3s - loss: 0.2255 - accuracy: 0.9315 - val_loss: 1.8801 - val_accuracy: 0.5394\n",
      "Epoch 19/150\n",
      "1008/1008 - 3s - loss: 0.1402 - accuracy: 0.9554 - val_loss: 1.7781 - val_accuracy: 0.5231\n",
      "Epoch 20/150\n",
      "1008/1008 - 3s - loss: 0.1764 - accuracy: 0.9365 - val_loss: 1.9085 - val_accuracy: 0.5069\n",
      "Epoch 21/150\n",
      "1008/1008 - 3s - loss: 0.1713 - accuracy: 0.9395 - val_loss: 2.0910 - val_accuracy: 0.5023\n",
      "Epoch 22/150\n",
      "1008/1008 - 3s - loss: 0.1347 - accuracy: 0.9524 - val_loss: 2.0859 - val_accuracy: 0.4838\n",
      "Epoch 23/150\n",
      "1008/1008 - 3s - loss: 0.1170 - accuracy: 0.9712 - val_loss: 2.0518 - val_accuracy: 0.5278\n",
      "Epoch 24/150\n",
      "1008/1008 - 3s - loss: 0.1388 - accuracy: 0.9504 - val_loss: 2.1466 - val_accuracy: 0.5486\n",
      "INFO:tensorflow:Assets written to: ./models/ser_experiments_models/assets\n",
      "Epoch 00024: early stopping\n",
      "Model: \"sequential_10\"\n",
      "_________________________________________________________________\n",
      "Layer (type)                 Output Shape              Param #   \n",
      "=================================================================\n",
      "conv1d_23 (Conv1D)           (None, 83, 256)           2816      \n",
      "_________________________________________________________________\n",
      "activation_21 (Activation)   (None, 83, 256)           0         \n",
      "_________________________________________________________________\n",
      "batch_normalization_23 (Batc (None, 83, 256)           1024      \n",
      "_________________________________________________________________\n",
      "conv1d_24 (Conv1D)           (None, 37, 128)           327808    \n",
      "_________________________________________________________________\n",
      "activation_22 (Activation)   (None, 37, 128)           0         \n",
      "_________________________________________________________________\n",
      "batch_normalization_24 (Batc (None, 37, 128)           512       \n",
      "_________________________________________________________________\n",
      "flatten_10 (Flatten)         (None, 4736)              0         \n",
      "_________________________________________________________________\n",
      "dense_27 (Dense)             (None, 64)                303168    \n",
      "_________________________________________________________________\n",
      "dense_28 (Dense)             (None, 8)                 520       \n",
      "_________________________________________________________________\n",
      "activation_23 (Activation)   (None, 8)                 0         \n",
      "=================================================================\n",
      "Total params: 635,848\n",
      "Trainable params: 635,080\n",
      "Non-trainable params: 768\n",
      "_________________________________________________________________\n",
      "None\n",
      "Epoch 1/150\n",
      "126/126 - 2s - loss: 2.2956 - accuracy: 0.2579 - val_loss: 2.1283 - val_accuracy: 0.1296\n",
      "INFO:tensorflow:Assets written to: ./models/ser_experiments_models/assets\n",
      "Epoch 2/150\n",
      "126/126 - 1s - loss: 1.6520 - accuracy: 0.3849 - val_loss: 2.4832 - val_accuracy: 0.1296\n",
      "Epoch 3/150\n",
      "126/126 - 2s - loss: 1.6163 - accuracy: 0.4177 - val_loss: 2.5637 - val_accuracy: 0.1296\n",
      "Epoch 4/150\n",
      "126/126 - 2s - loss: 1.4868 - accuracy: 0.4583 - val_loss: 2.5823 - val_accuracy: 0.1343\n",
      "INFO:tensorflow:Assets written to: ./models/ser_experiments_models/assets\n",
      "Epoch 5/150\n",
      "126/126 - 1s - loss: 1.3687 - accuracy: 0.5020 - val_loss: 1.7998 - val_accuracy: 0.3333\n",
      "INFO:tensorflow:Assets written to: ./models/ser_experiments_models/assets\n",
      "Epoch 6/150\n",
      "126/126 - 1s - loss: 1.3131 - accuracy: 0.5397 - val_loss: 1.5793 - val_accuracy: 0.4028\n",
      "INFO:tensorflow:Assets written to: ./models/ser_experiments_models/assets\n",
      "Epoch 7/150\n",
      "126/126 - 1s - loss: 1.2511 - accuracy: 0.5446 - val_loss: 1.6068 - val_accuracy: 0.4074\n",
      "INFO:tensorflow:Assets written to: ./models/ser_experiments_models/assets\n",
      "Epoch 8/150\n",
      "126/126 - 1s - loss: 1.2666 - accuracy: 0.5556 - val_loss: 1.9811 - val_accuracy: 0.3681\n",
      "Epoch 9/150\n",
      "126/126 - 2s - loss: 1.0969 - accuracy: 0.6002 - val_loss: 1.7141 - val_accuracy: 0.4398\n",
      "INFO:tensorflow:Assets written to: ./models/ser_experiments_models/assets\n",
      "Epoch 10/150\n",
      "126/126 - 1s - loss: 1.0674 - accuracy: 0.6121 - val_loss: 1.6895 - val_accuracy: 0.4213\n",
      "Epoch 11/150\n",
      "126/126 - 1s - loss: 1.0248 - accuracy: 0.6359 - val_loss: 1.6791 - val_accuracy: 0.4144\n",
      "Epoch 12/150\n",
      "126/126 - 2s - loss: 0.9344 - accuracy: 0.6746 - val_loss: 1.4214 - val_accuracy: 0.4815\n",
      "INFO:tensorflow:Assets written to: ./models/ser_experiments_models/assets\n",
      "Epoch 13/150\n",
      "126/126 - 1s - loss: 0.8296 - accuracy: 0.6984 - val_loss: 1.4976 - val_accuracy: 0.4931\n",
      "INFO:tensorflow:Assets written to: ./models/ser_experiments_models/assets\n",
      "Epoch 14/150\n",
      "126/126 - 1s - loss: 0.7303 - accuracy: 0.7401 - val_loss: 1.6123 - val_accuracy: 0.4676\n",
      "Epoch 15/150\n",
      "126/126 - 2s - loss: 0.7129 - accuracy: 0.7361 - val_loss: 1.5568 - val_accuracy: 0.5000\n",
      "INFO:tensorflow:Assets written to: ./models/ser_experiments_models/assets\n",
      "Epoch 16/150\n",
      "126/126 - 1s - loss: 0.7004 - accuracy: 0.7341 - val_loss: 1.5903 - val_accuracy: 0.5255\n",
      "INFO:tensorflow:Assets written to: ./models/ser_experiments_models/assets\n",
      "Epoch 17/150\n",
      "126/126 - 2s - loss: 0.6777 - accuracy: 0.7510 - val_loss: 1.7992 - val_accuracy: 0.4444\n",
      "Epoch 18/150\n",
      "126/126 - 2s - loss: 0.6151 - accuracy: 0.7837 - val_loss: 1.5249 - val_accuracy: 0.5185\n",
      "Epoch 19/150\n",
      "126/126 - 2s - loss: 0.4667 - accuracy: 0.8403 - val_loss: 1.6018 - val_accuracy: 0.4769\n",
      "Epoch 20/150\n",
      "126/126 - 1s - loss: 0.4150 - accuracy: 0.8710 - val_loss: 1.6606 - val_accuracy: 0.5417\n",
      "INFO:tensorflow:Assets written to: ./models/ser_experiments_models/assets\n",
      "Epoch 21/150\n",
      "126/126 - 1s - loss: 0.3885 - accuracy: 0.8810 - val_loss: 1.5889 - val_accuracy: 0.5093\n",
      "Epoch 22/150\n",
      "126/126 - 1s - loss: 0.3748 - accuracy: 0.8849 - val_loss: 1.5142 - val_accuracy: 0.5417\n",
      "Epoch 00022: early stopping\n",
      "Model: \"sequential_11\"\n",
      "_________________________________________________________________\n",
      "Layer (type)                 Output Shape              Param #   \n",
      "=================================================================\n",
      "conv1d_25 (Conv1D)           (None, 83, 256)           2816      \n",
      "_________________________________________________________________\n",
      "activation_24 (Activation)   (None, 83, 256)           0         \n",
      "_________________________________________________________________\n",
      "batch_normalization_25 (Batc (None, 83, 256)           1024      \n",
      "_________________________________________________________________\n",
      "conv1d_26 (Conv1D)           (None, 37, 128)           327808    \n",
      "_________________________________________________________________\n",
      "activation_25 (Activation)   (None, 37, 128)           0         \n",
      "_________________________________________________________________\n",
      "batch_normalization_26 (Batc (None, 37, 128)           512       \n",
      "_________________________________________________________________\n",
      "flatten_11 (Flatten)         (None, 4736)              0         \n",
      "_________________________________________________________________\n",
      "dense_29 (Dense)             (None, 64)                303168    \n",
      "_________________________________________________________________\n",
      "dense_30 (Dense)             (None, 8)                 520       \n",
      "_________________________________________________________________\n",
      "activation_26 (Activation)   (None, 8)                 0         \n",
      "=================================================================\n",
      "Total params: 635,848\n",
      "Trainable params: 635,080\n",
      "Non-trainable params: 768\n",
      "_________________________________________________________________\n",
      "None\n",
      "Epoch 1/150\n",
      "63/63 - 2s - loss: 2.1305 - accuracy: 0.2450 - val_loss: 2.0958 - val_accuracy: 0.1296\n",
      "INFO:tensorflow:Assets written to: ./models/ser_experiments_models/assets\n",
      "Epoch 2/150\n",
      "63/63 - 1s - loss: 1.6913 - accuracy: 0.3770 - val_loss: 2.1736 - val_accuracy: 0.1296\n",
      "Epoch 3/150\n",
      "63/63 - 1s - loss: 1.5490 - accuracy: 0.4315 - val_loss: 2.3057 - val_accuracy: 0.1296\n",
      "Epoch 4/150\n",
      "63/63 - 1s - loss: 1.4277 - accuracy: 0.4722 - val_loss: 2.5330 - val_accuracy: 0.1296\n",
      "Epoch 5/150\n",
      "63/63 - 1s - loss: 1.3012 - accuracy: 0.5317 - val_loss: 2.6318 - val_accuracy: 0.1296\n",
      "Epoch 6/150\n",
      "63/63 - 1s - loss: 1.1907 - accuracy: 0.5655 - val_loss: 2.5442 - val_accuracy: 0.1296\n",
      "Epoch 7/150\n",
      "63/63 - 1s - loss: 1.1636 - accuracy: 0.5675 - val_loss: 2.7230 - val_accuracy: 0.1458\n",
      "INFO:tensorflow:Assets written to: ./models/ser_experiments_models/assets\n",
      "Epoch 8/150\n",
      "63/63 - 1s - loss: 1.0903 - accuracy: 0.6081 - val_loss: 2.2784 - val_accuracy: 0.1782\n",
      "INFO:tensorflow:Assets written to: ./models/ser_experiments_models/assets\n",
      "Epoch 9/150\n",
      "63/63 - 1s - loss: 1.0300 - accuracy: 0.6349 - val_loss: 1.9209 - val_accuracy: 0.2500\n",
      "INFO:tensorflow:Assets written to: ./models/ser_experiments_models/assets\n",
      "Epoch 10/150\n",
      "63/63 - 1s - loss: 1.0058 - accuracy: 0.6359 - val_loss: 1.6161 - val_accuracy: 0.4282\n",
      "INFO:tensorflow:Assets written to: ./models/ser_experiments_models/assets\n",
      "Epoch 11/150\n",
      "63/63 - 1s - loss: 0.9140 - accuracy: 0.6518 - val_loss: 1.5681 - val_accuracy: 0.4259\n",
      "Epoch 12/150\n",
      "63/63 - 1s - loss: 0.8910 - accuracy: 0.6786 - val_loss: 1.3576 - val_accuracy: 0.4838\n",
      "INFO:tensorflow:Assets written to: ./models/ser_experiments_models/assets\n",
      "Epoch 13/150\n",
      "63/63 - 1s - loss: 0.7839 - accuracy: 0.7321 - val_loss: 1.5974 - val_accuracy: 0.4329\n",
      "Epoch 14/150\n",
      "63/63 - 1s - loss: 0.8287 - accuracy: 0.7133 - val_loss: 1.3082 - val_accuracy: 0.5139\n",
      "INFO:tensorflow:Assets written to: ./models/ser_experiments_models/assets\n",
      "Epoch 15/150\n",
      "63/63 - 1s - loss: 0.6667 - accuracy: 0.7669 - val_loss: 1.5409 - val_accuracy: 0.4676\n",
      "Epoch 16/150\n",
      "63/63 - 1s - loss: 0.6920 - accuracy: 0.7629 - val_loss: 1.3803 - val_accuracy: 0.5046\n",
      "Epoch 17/150\n",
      "63/63 - 1s - loss: 0.6203 - accuracy: 0.7907 - val_loss: 1.3309 - val_accuracy: 0.5093\n",
      "Epoch 18/150\n",
      "63/63 - 1s - loss: 0.5627 - accuracy: 0.8165 - val_loss: 1.4384 - val_accuracy: 0.4861\n",
      "Epoch 19/150\n",
      "63/63 - 1s - loss: 0.5951 - accuracy: 0.7966 - val_loss: 1.3349 - val_accuracy: 0.5301\n",
      "INFO:tensorflow:Assets written to: ./models/ser_experiments_models/assets\n",
      "Epoch 20/150\n",
      "63/63 - 1s - loss: 0.5148 - accuracy: 0.8313 - val_loss: 1.3376 - val_accuracy: 0.5278\n",
      "Epoch 21/150\n",
      "63/63 - 1s - loss: 0.4967 - accuracy: 0.8313 - val_loss: 1.4300 - val_accuracy: 0.5208\n",
      "Epoch 22/150\n",
      "63/63 - 1s - loss: 0.4442 - accuracy: 0.8552 - val_loss: 1.5343 - val_accuracy: 0.4838\n",
      "Epoch 23/150\n",
      "63/63 - 1s - loss: 0.4192 - accuracy: 0.8671 - val_loss: 1.4202 - val_accuracy: 0.5185\n",
      "Epoch 24/150\n",
      "63/63 - 1s - loss: 0.3677 - accuracy: 0.8889 - val_loss: 1.5115 - val_accuracy: 0.5255\n",
      "Epoch 00024: early stopping\n",
      "Model: \"sequential_12\"\n",
      "_________________________________________________________________\n",
      "Layer (type)                 Output Shape              Param #   \n",
      "=================================================================\n",
      "conv1d_27 (Conv1D)           (None, 83, 256)           2816      \n",
      "_________________________________________________________________\n",
      "activation_27 (Activation)   (None, 83, 256)           0         \n",
      "_________________________________________________________________\n",
      "batch_normalization_27 (Batc (None, 83, 256)           1024      \n",
      "_________________________________________________________________\n",
      "conv1d_28 (Conv1D)           (None, 37, 128)           327808    \n",
      "_________________________________________________________________\n",
      "activation_28 (Activation)   (None, 37, 128)           0         \n",
      "_________________________________________________________________\n",
      "batch_normalization_28 (Batc (None, 37, 128)           512       \n",
      "_________________________________________________________________\n",
      "flatten_12 (Flatten)         (None, 4736)              0         \n",
      "_________________________________________________________________\n",
      "dense_31 (Dense)             (None, 64)                303168    \n",
      "_________________________________________________________________\n",
      "dense_32 (Dense)             (None, 8)                 520       \n",
      "_________________________________________________________________\n",
      "activation_29 (Activation)   (None, 8)                 0         \n",
      "=================================================================\n",
      "Total params: 635,848\n",
      "Trainable params: 635,080\n",
      "Non-trainable params: 768\n",
      "_________________________________________________________________\n",
      "None\n",
      "Epoch 1/150\n",
      "32/32 - 2s - loss: 2.2177 - accuracy: 0.2212 - val_loss: 2.0733 - val_accuracy: 0.1458\n",
      "INFO:tensorflow:Assets written to: ./models/ser_experiments_models/assets\n",
      "Epoch 2/150\n",
      "32/32 - 1s - loss: 1.6928 - accuracy: 0.3750 - val_loss: 2.0966 - val_accuracy: 0.1296\n",
      "Epoch 3/150\n",
      "32/32 - 1s - loss: 1.5039 - accuracy: 0.4385 - val_loss: 2.1643 - val_accuracy: 0.1296\n",
      "Epoch 4/150\n",
      "32/32 - 1s - loss: 1.3755 - accuracy: 0.4901 - val_loss: 2.2672 - val_accuracy: 0.1296\n",
      "Epoch 5/150\n",
      "32/32 - 1s - loss: 1.2912 - accuracy: 0.5268 - val_loss: 2.3743 - val_accuracy: 0.1296\n",
      "Epoch 6/150\n",
      "32/32 - 1s - loss: 1.2123 - accuracy: 0.5724 - val_loss: 2.5261 - val_accuracy: 0.1296\n",
      "Epoch 7/150\n",
      "32/32 - 1s - loss: 1.2000 - accuracy: 0.5694 - val_loss: 2.6246 - val_accuracy: 0.1296\n",
      "Epoch 8/150\n",
      "32/32 - 1s - loss: 1.1170 - accuracy: 0.5942 - val_loss: 2.7499 - val_accuracy: 0.1296\n",
      "Epoch 9/150\n",
      "32/32 - 1s - loss: 1.1401 - accuracy: 0.6052 - val_loss: 2.9444 - val_accuracy: 0.1296\n",
      "Epoch 10/150\n",
      "32/32 - 1s - loss: 1.0726 - accuracy: 0.6111 - val_loss: 2.9389 - val_accuracy: 0.1296\n",
      "Epoch 11/150\n",
      "32/32 - 1s - loss: 1.0646 - accuracy: 0.6181 - val_loss: 3.0022 - val_accuracy: 0.1296\n",
      "Epoch 00011: early stopping\n",
      "Model: \"sequential_13\"\n",
      "_________________________________________________________________\n",
      "Layer (type)                 Output Shape              Param #   \n",
      "=================================================================\n",
      "conv1d_29 (Conv1D)           (None, 83, 256)           2816      \n",
      "_________________________________________________________________\n",
      "activation_30 (Activation)   (None, 83, 256)           0         \n",
      "_________________________________________________________________\n",
      "batch_normalization_29 (Batc (None, 83, 256)           1024      \n",
      "_________________________________________________________________\n",
      "conv1d_30 (Conv1D)           (None, 37, 128)           327808    \n",
      "_________________________________________________________________\n",
      "activation_31 (Activation)   (None, 37, 128)           0         \n",
      "_________________________________________________________________\n",
      "batch_normalization_30 (Batc (None, 37, 128)           512       \n",
      "_________________________________________________________________\n",
      "flatten_13 (Flatten)         (None, 4736)              0         \n",
      "_________________________________________________________________\n",
      "dense_33 (Dense)             (None, 64)                303168    \n",
      "_________________________________________________________________\n",
      "dense_34 (Dense)             (None, 8)                 520       \n",
      "_________________________________________________________________\n",
      "activation_32 (Activation)   (None, 8)                 0         \n",
      "=================================================================\n",
      "Total params: 635,848\n",
      "Trainable params: 635,080\n",
      "Non-trainable params: 768\n",
      "_________________________________________________________________\n",
      "None\n",
      "Epoch 1/150\n",
      "16/16 - 2s - loss: 2.2891 - accuracy: 0.1835 - val_loss: 2.0774 - val_accuracy: 0.1296\n",
      "INFO:tensorflow:Assets written to: ./models/ser_experiments_models/assets\n",
      "Epoch 2/150\n",
      "16/16 - 1s - loss: 1.7070 - accuracy: 0.3681 - val_loss: 2.0815 - val_accuracy: 0.1296\n",
      "Epoch 3/150\n",
      "16/16 - 1s - loss: 1.5189 - accuracy: 0.4296 - val_loss: 2.0939 - val_accuracy: 0.1296\n",
      "Epoch 4/150\n",
      "16/16 - 1s - loss: 1.4299 - accuracy: 0.4841 - val_loss: 2.1132 - val_accuracy: 0.1296\n",
      "Epoch 5/150\n",
      "16/16 - 1s - loss: 1.3210 - accuracy: 0.5169 - val_loss: 2.1360 - val_accuracy: 0.1296\n",
      "Epoch 6/150\n",
      "16/16 - 1s - loss: 1.2895 - accuracy: 0.5139 - val_loss: 2.1705 - val_accuracy: 0.1296\n",
      "Epoch 7/150\n",
      "16/16 - 1s - loss: 1.2299 - accuracy: 0.5615 - val_loss: 2.2178 - val_accuracy: 0.1296\n",
      "Epoch 8/150\n",
      "16/16 - 1s - loss: 1.1814 - accuracy: 0.5754 - val_loss: 2.2707 - val_accuracy: 0.1296\n",
      "Epoch 9/150\n",
      "16/16 - 1s - loss: 1.0744 - accuracy: 0.6250 - val_loss: 2.3159 - val_accuracy: 0.1296\n",
      "Epoch 10/150\n",
      "16/16 - 1s - loss: 1.0149 - accuracy: 0.6429 - val_loss: 2.3669 - val_accuracy: 0.1296\n",
      "Epoch 11/150\n",
      "16/16 - 1s - loss: 1.0091 - accuracy: 0.6508 - val_loss: 2.4352 - val_accuracy: 0.1296\n",
      "Epoch 00011: early stopping\n",
      "Model: \"sequential_14\"\n",
      "_________________________________________________________________\n",
      "Layer (type)                 Output Shape              Param #   \n",
      "=================================================================\n",
      "conv1d_31 (Conv1D)           (None, 83, 256)           2816      \n",
      "_________________________________________________________________\n",
      "activation_33 (Activation)   (None, 83, 256)           0         \n",
      "_________________________________________________________________\n",
      "batch_normalization_31 (Batc (None, 83, 256)           1024      \n",
      "_________________________________________________________________\n",
      "conv1d_32 (Conv1D)           (None, 37, 128)           327808    \n",
      "_________________________________________________________________\n",
      "activation_34 (Activation)   (None, 37, 128)           0         \n",
      "_________________________________________________________________\n",
      "batch_normalization_32 (Batc (None, 37, 128)           512       \n",
      "_________________________________________________________________\n",
      "flatten_14 (Flatten)         (None, 4736)              0         \n",
      "_________________________________________________________________\n",
      "dense_35 (Dense)             (None, 64)                303168    \n",
      "_________________________________________________________________\n",
      "dense_36 (Dense)             (None, 8)                 520       \n",
      "_________________________________________________________________\n",
      "activation_35 (Activation)   (None, 8)                 0         \n",
      "=================================================================\n",
      "Total params: 635,848\n",
      "Trainable params: 635,080\n",
      "Non-trainable params: 768\n",
      "_________________________________________________________________\n",
      "None\n",
      "Epoch 1/150\n",
      "8/8 - 2s - loss: 2.4850 - accuracy: 0.1776 - val_loss: 2.0783 - val_accuracy: 0.1227\n",
      "INFO:tensorflow:Assets written to: ./models/ser_experiments_models/assets\n",
      "Epoch 2/150\n",
      "8/8 - 1s - loss: 1.8322 - accuracy: 0.3274 - val_loss: 2.0790 - val_accuracy: 0.1319\n",
      "INFO:tensorflow:Assets written to: ./models/ser_experiments_models/assets\n",
      "Epoch 3/150\n",
      "8/8 - 1s - loss: 1.6738 - accuracy: 0.3442 - val_loss: 2.0814 - val_accuracy: 0.1412\n",
      "INFO:tensorflow:Assets written to: ./models/ser_experiments_models/assets\n",
      "Epoch 4/150\n",
      "8/8 - 1s - loss: 1.5426 - accuracy: 0.4276 - val_loss: 2.0838 - val_accuracy: 0.1157\n",
      "Epoch 5/150\n",
      "8/8 - 1s - loss: 1.4336 - accuracy: 0.4702 - val_loss: 2.0856 - val_accuracy: 0.1829\n",
      "INFO:tensorflow:Assets written to: ./models/ser_experiments_models/assets\n",
      "Epoch 6/150\n",
      "8/8 - 1s - loss: 1.3697 - accuracy: 0.5109 - val_loss: 2.0886 - val_accuracy: 0.1713\n",
      "Epoch 7/150\n",
      "8/8 - 1s - loss: 1.3244 - accuracy: 0.5149 - val_loss: 2.0926 - val_accuracy: 0.1528\n",
      "Epoch 8/150\n",
      "8/8 - 1s - loss: 1.2827 - accuracy: 0.5496 - val_loss: 2.0958 - val_accuracy: 0.1667\n",
      "Epoch 9/150\n",
      "8/8 - 1s - loss: 1.2428 - accuracy: 0.5427 - val_loss: 2.0986 - val_accuracy: 0.1667\n",
      "Epoch 10/150\n",
      "8/8 - 1s - loss: 1.1960 - accuracy: 0.5685 - val_loss: 2.1067 - val_accuracy: 0.1713\n",
      "Epoch 11/150\n",
      "8/8 - 1s - loss: 1.1702 - accuracy: 0.5794 - val_loss: 2.1133 - val_accuracy: 0.1528\n",
      "Epoch 00011: early stopping\n"
     ]
    }
   ],
   "source": [
    "batch_size = [1,8,16,32,64,128]\n",
    "model_input_layers = [[2,2]]\n",
    "dir_path = './models/ser_experiments_models'\n",
    "history_models_batch_size = {}\n",
    "for size in batch_size:\n",
    "    history, best_model = experiment_model_architecture(150, size, X_train_cnn, y_train_cnn, X_test_cnn, y_test_cnn,256,input_layers[0],64,input_layers[1],checkpoint=dir_path)\n",
    "    try:\n",
    "        shutil.rmtree(dir_path)\n",
    "    except OSError as e:\n",
    "        print(\"Error: %s : %s\" % (dir_path, e.strerror))\n",
    "    history_models_batch_size[size] = [history,best_model]"
   ]
  },
  {
   "cell_type": "code",
   "execution_count": 45,
   "metadata": {},
   "outputs": [],
   "source": [
    "string_size = [str(size) for size in batch_size]"
   ]
  },
  {
   "cell_type": "code",
   "execution_count": 47,
   "metadata": {},
   "outputs": [
    {
     "data": {
      "image/png": "[encoded data removed]",
      "text/plain": [
       "<Figure size 432x288 with 1 Axes>"
      ]
     },
     "metadata": {
      "needs_background": "light"
     },
     "output_type": "display_data"
    }
   ],
   "source": [
    "for size in batch_size:\n",
    "    plt.plot(history_models_batch_size[size][0].history['loss'])\n",
    "plt.title('loss for different batch_sizes')\n",
    "plt.ylabel('Loss value')\n",
    "plt.xlabel('No epoch')\n",
    "plt.legend(string_size, loc='upper right')\n",
    "plt.show()"
   ]
  },
  {
   "cell_type": "code",
   "execution_count": 48,
   "metadata": {},
   "outputs": [
    {
     "data": {
      "image/png": "[encoded data removed]",
      "text/plain": [
       "<Figure size 432x288 with 1 Axes>"
      ]
     },
     "metadata": {
      "needs_background": "light"
     },
     "output_type": "display_data"
    }
   ],
   "source": [
    "for size in batch_size:\n",
    "    plt.plot(history_models_batch_size[size][0].history['val_loss'])\n",
    "plt.title('loss for different batch_sizes')\n",
    "plt.ylabel('Loss value')\n",
    "plt.xlabel('No epoch')\n",
    "plt.legend(string_size, loc='upper right')\n",
    "plt.show()"
   ]
  },
  {
   "cell_type": "code",
   "execution_count": 49,
   "metadata": {},
   "outputs": [
    {
     "data": {
      "image/png": "[encoded data removed]",
      "text/plain": [
       "<Figure size 432x288 with 1 Axes>"
      ]
     },
     "metadata": {
      "needs_background": "light"
     },
     "output_type": "display_data"
    }
   ],
   "source": [
    "for size in batch_size:\n",
    "    plt.plot(history_models_batch_size[size][0].history['accuracy'])\n",
    "plt.title('loss for different batch_sizes')\n",
    "plt.ylabel('Loss value')\n",
    "plt.xlabel('No epoch')\n",
    "plt.legend(string_size, loc='upper right')\n",
    "plt.show()"
   ]
  },
  {
   "cell_type": "code",
   "execution_count": 50,
   "metadata": {},
   "outputs": [
    {
     "data": {
      "image/png": "[encoded data removed]",
      "text/plain": [
       "<Figure size 432x288 with 1 Axes>"
      ]
     },
     "metadata": {
      "needs_background": "light"
     },
     "output_type": "display_data"
    }
   ],
   "source": [
    "for size in batch_size:\n",
    "    plt.plot(history_models_batch_size[size][0].history['val_accuracy'])\n",
    "plt.title('loss for different batch_sizes')\n",
    "plt.ylabel('Loss value')\n",
    "plt.xlabel('No epoch')\n",
    "plt.legend(string_size, loc='upper right')\n",
    "plt.show()"
   ]
  },
  {
   "cell_type": "code",
   "execution_count": 51,
   "metadata": {},
   "outputs": [
    {
     "name": "stdout",
     "output_type": "stream",
     "text": [
      "----------------------------Prediction for batch size 1-------------------------\n",
      "              precision    recall  f1-score   support\n",
      "\n",
      "           1       0.16      0.21      0.18        19\n",
      "           2       0.85      0.49      0.62       118\n",
      "           3       0.56      0.49      0.53        63\n",
      "           4       0.47      0.48      0.47        56\n",
      "           5       0.75      0.64      0.69        66\n",
      "           6       0.59      0.79      0.68        34\n",
      "           7       0.52      0.60      0.56        53\n",
      "           8       0.26      0.70      0.38        23\n",
      "\n",
      "    accuracy                           0.55       432\n",
      "   macro avg       0.52      0.55      0.51       432\n",
      "weighted avg       0.62      0.55      0.56       432\n",
      "\n",
      "------------------------------------------------------------------------------\n",
      "----------------------------Prediction for batch size 8-------------------------\n",
      "              precision    recall  f1-score   support\n",
      "\n",
      "           1       0.04      1.00      0.08         1\n",
      "           2       0.88      0.55      0.68       109\n",
      "           3       0.64      0.43      0.51        81\n",
      "           4       0.52      0.60      0.56        50\n",
      "           5       0.41      0.85      0.55        27\n",
      "           6       0.78      0.52      0.63        69\n",
      "           7       0.39      0.57      0.46        42\n",
      "           8       0.40      0.47      0.43        53\n",
      "\n",
      "    accuracy                           0.54       432\n",
      "   macro avg       0.51      0.62      0.49       432\n",
      "weighted avg       0.64      0.54      0.56       432\n",
      "\n",
      "------------------------------------------------------------------------------\n",
      "----------------------------Prediction for batch size 16-------------------------\n",
      "              precision    recall  f1-score   support\n",
      "\n",
      "           1       0.20      0.23      0.21        22\n",
      "           2       0.65      0.51      0.57        86\n",
      "           3       0.58      0.44      0.50        72\n",
      "           4       0.52      0.48      0.50        63\n",
      "           5       0.54      0.81      0.65        37\n",
      "           6       0.46      0.62      0.52        34\n",
      "           7       0.60      0.50      0.54        74\n",
      "           8       0.48      0.68      0.57        44\n",
      "\n",
      "    accuracy                           0.53       432\n",
      "   macro avg       0.50      0.53      0.51       432\n",
      "weighted avg       0.54      0.53      0.53       432\n",
      "\n",
      "------------------------------------------------------------------------------\n",
      "----------------------------Prediction for batch size 32-------------------------\n",
      "              precision    recall  f1-score   support\n",
      "\n",
      "           1       0.00      0.00      0.00         0\n",
      "           2       0.00      0.00      0.00         0\n",
      "           3       0.00      0.00      0.00         0\n",
      "           4       0.00      0.00      0.00         0\n",
      "           5       0.95      0.13      0.23       408\n",
      "           6       0.22      0.42      0.29        24\n",
      "           7       0.00      0.00      0.00         0\n",
      "           8       0.00      0.00      0.00         0\n",
      "\n",
      "    accuracy                           0.15       432\n",
      "   macro avg       0.15      0.07      0.06       432\n",
      "weighted avg       0.91      0.15      0.23       432\n",
      "\n",
      "------------------------------------------------------------------------------\n"
     ]
    },
    {
     "name": "stderr",
     "output_type": "stream",
     "text": [
      "/Library/Frameworks/Python.framework/Versions/3.9/lib/python3.9/site-packages/sklearn/metrics/_classification.py:1248: UndefinedMetricWarning: Recall and F-score are ill-defined and being set to 0.0 in labels with no true samples. Use `zero_division` parameter to control this behavior.\n",
      "  _warn_prf(average, modifier, msg_start, len(result))\n",
      "/Library/Frameworks/Python.framework/Versions/3.9/lib/python3.9/site-packages/sklearn/metrics/_classification.py:1248: UndefinedMetricWarning: Recall and F-score are ill-defined and being set to 0.0 in labels with no true samples. Use `zero_division` parameter to control this behavior.\n",
      "  _warn_prf(average, modifier, msg_start, len(result))\n",
      "/Library/Frameworks/Python.framework/Versions/3.9/lib/python3.9/site-packages/sklearn/metrics/_classification.py:1248: UndefinedMetricWarning: Recall and F-score are ill-defined and being set to 0.0 in labels with no true samples. Use `zero_division` parameter to control this behavior.\n",
      "  _warn_prf(average, modifier, msg_start, len(result))\n"
     ]
    },
    {
     "name": "stdout",
     "output_type": "stream",
     "text": [
      "----------------------------Prediction for batch size 64-------------------------\n",
      "              precision    recall  f1-score   support\n",
      "\n",
      "           1       0.00      0.00      0.00         0\n",
      "           2       0.00      0.00      0.00         0\n",
      "           3       0.00      0.00      0.00         0\n",
      "           4       0.00      0.00      0.00         0\n",
      "           5       1.00      0.13      0.23       432\n",
      "           6       0.00      0.00      0.00         0\n",
      "           7       0.00      0.00      0.00         0\n",
      "           8       0.00      0.00      0.00         0\n",
      "\n",
      "    accuracy                           0.13       432\n",
      "   macro avg       0.12      0.02      0.03       432\n",
      "weighted avg       1.00      0.13      0.23       432\n",
      "\n",
      "------------------------------------------------------------------------------\n"
     ]
    },
    {
     "name": "stderr",
     "output_type": "stream",
     "text": [
      "/Library/Frameworks/Python.framework/Versions/3.9/lib/python3.9/site-packages/sklearn/metrics/_classification.py:1248: UndefinedMetricWarning: Recall and F-score are ill-defined and being set to 0.0 in labels with no true samples. Use `zero_division` parameter to control this behavior.\n",
      "  _warn_prf(average, modifier, msg_start, len(result))\n",
      "/Library/Frameworks/Python.framework/Versions/3.9/lib/python3.9/site-packages/sklearn/metrics/_classification.py:1248: UndefinedMetricWarning: Recall and F-score are ill-defined and being set to 0.0 in labels with no true samples. Use `zero_division` parameter to control this behavior.\n",
      "  _warn_prf(average, modifier, msg_start, len(result))\n",
      "/Library/Frameworks/Python.framework/Versions/3.9/lib/python3.9/site-packages/sklearn/metrics/_classification.py:1248: UndefinedMetricWarning: Recall and F-score are ill-defined and being set to 0.0 in labels with no true samples. Use `zero_division` parameter to control this behavior.\n",
      "  _warn_prf(average, modifier, msg_start, len(result))\n"
     ]
    },
    {
     "name": "stdout",
     "output_type": "stream",
     "text": [
      "----------------------------Prediction for batch size 128-------------------------\n",
      "              precision    recall  f1-score   support\n",
      "\n",
      "           1       0.44      0.14      0.22        76\n",
      "           2       0.00      0.00      0.00         0\n",
      "           3       0.00      0.00      0.00         0\n",
      "           4       0.00      0.00      0.00         0\n",
      "           5       0.20      1.00      0.33        11\n",
      "           6       0.00      0.00      0.00         0\n",
      "           7       0.92      0.17      0.28       345\n",
      "           8       0.00      0.00      0.00         0\n",
      "\n",
      "    accuracy                           0.18       432\n",
      "   macro avg       0.19      0.16      0.10       432\n",
      "weighted avg       0.82      0.18      0.27       432\n",
      "\n",
      "------------------------------------------------------------------------------\n"
     ]
    },
    {
     "name": "stderr",
     "output_type": "stream",
     "text": [
      "/Library/Frameworks/Python.framework/Versions/3.9/lib/python3.9/site-packages/sklearn/metrics/_classification.py:1248: UndefinedMetricWarning: Recall and F-score are ill-defined and being set to 0.0 in labels with no true samples. Use `zero_division` parameter to control this behavior.\n",
      "  _warn_prf(average, modifier, msg_start, len(result))\n",
      "/Library/Frameworks/Python.framework/Versions/3.9/lib/python3.9/site-packages/sklearn/metrics/_classification.py:1248: UndefinedMetricWarning: Recall and F-score are ill-defined and being set to 0.0 in labels with no true samples. Use `zero_division` parameter to control this behavior.\n",
      "  _warn_prf(average, modifier, msg_start, len(result))\n",
      "/Library/Frameworks/Python.framework/Versions/3.9/lib/python3.9/site-packages/sklearn/metrics/_classification.py:1248: UndefinedMetricWarning: Recall and F-score are ill-defined and being set to 0.0 in labels with no true samples. Use `zero_division` parameter to control this behavior.\n",
      "  _warn_prf(average, modifier, msg_start, len(result))\n"
     ]
    }
   ],
   "source": [
    "for size in batch_size:\n",
    "    pred_test = history_models_batch_size[size][1].predict(X_test_cnn)\n",
    "    y_pred = encoder.inverse_transform(pred_test)\n",
    "    y_true = encoder.inverse_transform(y_test_cnn)\n",
    "    print(\"----------------------------Prediction for batch size \"+str(size)+\"-------------------------\")\n",
    "    print(classification_report(y_pred,y_true))\n",
    "    print(\"------------------------------------------------------------------------------\")"
   ]
  },
  {
   "cell_type": "markdown",
   "metadata": {},
   "source": [
    "### Final Model"
   ]
  },
  {
   "cell_type": "code",
   "execution_count": 44,
   "metadata": {},
   "outputs": [],
   "source": [
    "def cnn_layers(no_epochs, batch_size, X_train, y_train, X_test, y_test, checkpoint='models/trial_ser'):  \n",
    "\n",
    "    model = Sequential()\n",
    "\n",
    "    model.add(Conv1D(256, 5, padding='same', input_shape=(X_train.shape[1],1)))\n",
    "    model.add(Activation('relu'))\n",
    "    model.add(BatchNormalization())\n",
    "    model.add(MaxPooling1D(pool_size=(4)))\n",
    "    model.add(Dropout(0.2))\n",
    "\n",
    "    model.add(Conv1D(128, 5,padding='same'))\n",
    "    model.add(Activation('relu'))\n",
    "    model.add(BatchNormalization())\n",
    "    model.add(MaxPooling1D(pool_size=(4)))\n",
    "    model.add(Dropout(0.1))\n",
    "\n",
    "    # model.add(Conv1D(64, 5,padding='same'))\n",
    "    # model.add(Activation('relu'))\n",
    "    # model.add(Dropout(0.1))\n",
    "\n",
    "    model.add(Flatten())\n",
    "    # model.add(Dense(128))\n",
    "    # model.add(Dropout(0.2))\n",
    "    # model.add(BatchNormalization())\n",
    "    model.add(Dense(64))\n",
    "    model.add(Dropout(0.2))\n",
    "    model.add(Dense(8))\n",
    "    model.add(Activation('softmax'))\n",
    "\n",
    "    print(model.summary())\n",
    "\n",
    "    # set callbacks\n",
    "    reduce_lr = tf.keras.callbacks.ReduceLROnPlateau(monitor='val_accuracy', \n",
    "                                                  factor=0.5, patience=4, \n",
    "                                                  verbose=1, mode='max', \n",
    "                                                  min_lr=0.001)\n",
    "\n",
    "    early_stop = tf.keras.callbacks.EarlyStopping(monitor='val_loss', patience=15,\n",
    "                                                verbose=1)\n",
    "\n",
    "    model_checkpoint = tf.keras.callbacks.ModelCheckpoint(filepath=checkpoint, \n",
    "                                                        save_weights_only=False,\n",
    "                                                        monitor='val_accuracy', \n",
    "                                                        mode='max', \n",
    "                                                        save_best_only=True)\n",
    "\n",
    "    model.compile(optimizer=tf.keras.optimizers.Adam(learning_rate=0.0001), loss='categorical_crossentropy', metrics=['accuracy'])\n",
    "\n",
    "    history = model.fit(X_train, y_train,\n",
    "                batch_size=batch_size,\n",
    "                epochs=no_epochs,\n",
    "                verbose=2,\n",
    "                use_multiprocessing=False,\n",
    "                callbacks = [model_checkpoint, early_stop],\n",
    "                validation_data=(X_test, y_test))\n",
    "\n",
    "    # loading best weights\n",
    "    model.load_weights(checkpoint)\n",
    "    \n",
    "    return history, model"
   ]
  },
  {
   "cell_type": "code",
   "execution_count": 45,
   "metadata": {},
   "outputs": [
    {
     "name": "stdout",
     "output_type": "stream",
     "text": [
      "Model: \"sequential_6\"\n",
      "_________________________________________________________________\n",
      "Layer (type)                 Output Shape              Param #   \n",
      "=================================================================\n",
      "conv1d_12 (Conv1D)           (None, 175, 256)          1536      \n",
      "_________________________________________________________________\n",
      "activation_11 (Activation)   (None, 175, 256)          0         \n",
      "_________________________________________________________________\n",
      "batch_normalization_12 (Batc (None, 175, 256)          1024      \n",
      "_________________________________________________________________\n",
      "max_pooling1d_8 (MaxPooling1 (None, 43, 256)           0         \n",
      "_________________________________________________________________\n",
      "dropout_11 (Dropout)         (None, 43, 256)           0         \n",
      "_________________________________________________________________\n",
      "conv1d_13 (Conv1D)           (None, 43, 128)           163968    \n",
      "_________________________________________________________________\n",
      "activation_12 (Activation)   (None, 43, 128)           0         \n",
      "_________________________________________________________________\n",
      "batch_normalization_13 (Batc (None, 43, 128)           512       \n",
      "_________________________________________________________________\n",
      "max_pooling1d_9 (MaxPooling1 (None, 10, 128)           0         \n",
      "_________________________________________________________________\n",
      "dropout_12 (Dropout)         (None, 10, 128)           0         \n",
      "_________________________________________________________________\n",
      "flatten_5 (Flatten)          (None, 1280)              0         \n",
      "_________________________________________________________________\n",
      "dense_10 (Dense)             (None, 64)                81984     \n",
      "_________________________________________________________________\n",
      "dropout_13 (Dropout)         (None, 64)                0         \n",
      "_________________________________________________________________\n",
      "dense_11 (Dense)             (None, 8)                 520       \n",
      "_________________________________________________________________\n",
      "activation_13 (Activation)   (None, 8)                 0         \n",
      "=================================================================\n",
      "Total params: 249,544\n",
      "Trainable params: 248,776\n",
      "Non-trainable params: 768\n",
      "_________________________________________________________________\n",
      "None\n",
      "Epoch 1/150\n",
      "63/63 - 3s - loss: 3.3229 - accuracy: 0.1756 - val_loss: 2.0867 - val_accuracy: 0.1944\n",
      "WARNING:tensorflow:Unresolved object in checkpoint: (root).trainable_variables\n"
     ]
    },
    {
     "name": "stderr",
     "output_type": "stream",
     "text": [
      "WARNING:tensorflow:Unresolved object in checkpoint: (root).trainable_variables\n"
     ]
    },
    {
     "name": "stdout",
     "output_type": "stream",
     "text": [
      "WARNING:tensorflow:Unresolved object in checkpoint: (root).variables\n"
     ]
    },
    {
     "name": "stderr",
     "output_type": "stream",
     "text": [
      "WARNING:tensorflow:Unresolved object in checkpoint: (root).variables\n"
     ]
    },
    {
     "name": "stdout",
     "output_type": "stream",
     "text": [
      "WARNING:tensorflow:Unresolved object in checkpoint: (root).regularization_losses\n"
     ]
    },
    {
     "name": "stderr",
     "output_type": "stream",
     "text": [
      "WARNING:tensorflow:Unresolved object in checkpoint: (root).regularization_losses\n"
     ]
    },
    {
     "name": "stdout",
     "output_type": "stream",
     "text": [
      "WARNING:tensorflow:Unresolved object in checkpoint: (root).keras_api\n"
     ]
    },
    {
     "name": "stderr",
     "output_type": "stream",
     "text": [
      "WARNING:tensorflow:Unresolved object in checkpoint: (root).keras_api\n"
     ]
    },
    {
     "name": "stdout",
     "output_type": "stream",
     "text": [
      "WARNING:tensorflow:Unresolved object in checkpoint: (root).signatures\n"
     ]
    },
    {
     "name": "stderr",
     "output_type": "stream",
     "text": [
      "WARNING:tensorflow:Unresolved object in checkpoint: (root).signatures\n"
     ]
    },
    {
     "name": "stdout",
     "output_type": "stream",
     "text": [
      "WARNING:tensorflow:Unresolved object in checkpoint: (root).layer_with_weights-0.trainable_variables\n"
     ]
    },
    {
     "name": "stderr",
     "output_type": "stream",
     "text": [
      "WARNING:tensorflow:Unresolved object in checkpoint: (root).layer_with_weights-0.trainable_variables\n"
     ]
    },
    {
     "name": "stdout",
     "output_type": "stream",
     "text": [
      "WARNING:tensorflow:Unresolved object in checkpoint: (root).layer_with_weights-0.variables\n"
     ]
    },
    {
     "name": "stderr",
     "output_type": "stream",
     "text": [
      "WARNING:tensorflow:Unresolved object in checkpoint: (root).layer_with_weights-0.variables\n"
     ]
    },
    {
     "name": "stdout",
     "output_type": "stream",
     "text": [
      "WARNING:tensorflow:Unresolved object in checkpoint: (root).layer_with_weights-0.regularization_losses\n"
     ]
    },
    {
     "name": "stderr",
     "output_type": "stream",
     "text": [
      "WARNING:tensorflow:Unresolved object in checkpoint: (root).layer_with_weights-0.regularization_losses\n"
     ]
    },
    {
     "name": "stdout",
     "output_type": "stream",
     "text": [
      "WARNING:tensorflow:Unresolved object in checkpoint: (root).layer_with_weights-0.keras_api\n"
     ]
    },
    {
     "name": "stderr",
     "output_type": "stream",
     "text": [
      "WARNING:tensorflow:Unresolved object in checkpoint: (root).layer_with_weights-0.keras_api\n"
     ]
    },
    {
     "name": "stdout",
     "output_type": "stream",
     "text": [
      "WARNING:tensorflow:Unresolved object in checkpoint: (root).layer-1.trainable_variables\n"
     ]
    },
    {
     "name": "stderr",
     "output_type": "stream",
     "text": [
      "WARNING:tensorflow:Unresolved object in checkpoint: (root).layer-1.trainable_variables\n"
     ]
    },
    {
     "name": "stdout",
     "output_type": "stream",
     "text": [
      "WARNING:tensorflow:Unresolved object in checkpoint: (root).layer-1.variables\n"
     ]
    },
    {
     "name": "stderr",
     "output_type": "stream",
     "text": [
      "WARNING:tensorflow:Unresolved object in checkpoint: (root).layer-1.variables\n"
     ]
    },
    {
     "name": "stdout",
     "output_type": "stream",
     "text": [
      "WARNING:tensorflow:Unresolved object in checkpoint: (root).layer-1.regularization_losses\n"
     ]
    },
    {
     "name": "stderr",
     "output_type": "stream",
     "text": [
      "WARNING:tensorflow:Unresolved object in checkpoint: (root).layer-1.regularization_losses\n"
     ]
    },
    {
     "name": "stdout",
     "output_type": "stream",
     "text": [
      "WARNING:tensorflow:Unresolved object in checkpoint: (root).layer-1.keras_api\n"
     ]
    },
    {
     "name": "stderr",
     "output_type": "stream",
     "text": [
      "WARNING:tensorflow:Unresolved object in checkpoint: (root).layer-1.keras_api\n"
     ]
    },
    {
     "name": "stdout",
     "output_type": "stream",
     "text": [
      "WARNING:tensorflow:Unresolved object in checkpoint: (root).layer_with_weights-1.trainable_variables\n"
     ]
    },
    {
     "name": "stderr",
     "output_type": "stream",
     "text": [
      "WARNING:tensorflow:Unresolved object in checkpoint: (root).layer_with_weights-1.trainable_variables\n"
     ]
    },
    {
     "name": "stdout",
     "output_type": "stream",
     "text": [
      "WARNING:tensorflow:Unresolved object in checkpoint: (root).layer_with_weights-1.variables\n"
     ]
    },
    {
     "name": "stderr",
     "output_type": "stream",
     "text": [
      "WARNING:tensorflow:Unresolved object in checkpoint: (root).layer_with_weights-1.variables\n"
     ]
    },
    {
     "name": "stdout",
     "output_type": "stream",
     "text": [
      "WARNING:tensorflow:Unresolved object in checkpoint: (root).layer_with_weights-1.regularization_losses\n"
     ]
    },
    {
     "name": "stderr",
     "output_type": "stream",
     "text": [
      "WARNING:tensorflow:Unresolved object in checkpoint: (root).layer_with_weights-1.regularization_losses\n"
     ]
    },
    {
     "name": "stdout",
     "output_type": "stream",
     "text": [
      "WARNING:tensorflow:Unresolved object in checkpoint: (root).layer_with_weights-1.keras_api\n"
     ]
    },
    {
     "name": "stderr",
     "output_type": "stream",
     "text": [
      "WARNING:tensorflow:Unresolved object in checkpoint: (root).layer_with_weights-1.keras_api\n"
     ]
    },
    {
     "name": "stdout",
     "output_type": "stream",
     "text": [
      "WARNING:tensorflow:Unresolved object in checkpoint: (root).layer-3.trainable_variables\n"
     ]
    },
    {
     "name": "stderr",
     "output_type": "stream",
     "text": [
      "WARNING:tensorflow:Unresolved object in checkpoint: (root).layer-3.trainable_variables\n"
     ]
    },
    {
     "name": "stdout",
     "output_type": "stream",
     "text": [
      "WARNING:tensorflow:Unresolved object in checkpoint: (root).layer-3.variables\n"
     ]
    },
    {
     "name": "stderr",
     "output_type": "stream",
     "text": [
      "WARNING:tensorflow:Unresolved object in checkpoint: (root).layer-3.variables\n"
     ]
    },
    {
     "name": "stdout",
     "output_type": "stream",
     "text": [
      "WARNING:tensorflow:Unresolved object in checkpoint: (root).layer-3.regularization_losses\n"
     ]
    },
    {
     "name": "stderr",
     "output_type": "stream",
     "text": [
      "WARNING:tensorflow:Unresolved object in checkpoint: (root).layer-3.regularization_losses\n"
     ]
    },
    {
     "name": "stdout",
     "output_type": "stream",
     "text": [
      "WARNING:tensorflow:Unresolved object in checkpoint: (root).layer-3.keras_api\n"
     ]
    },
    {
     "name": "stderr",
     "output_type": "stream",
     "text": [
      "WARNING:tensorflow:Unresolved object in checkpoint: (root).layer-3.keras_api\n"
     ]
    },
    {
     "name": "stdout",
     "output_type": "stream",
     "text": [
      "WARNING:tensorflow:Unresolved object in checkpoint: (root).layer-4.trainable_variables\n"
     ]
    },
    {
     "name": "stderr",
     "output_type": "stream",
     "text": [
      "WARNING:tensorflow:Unresolved object in checkpoint: (root).layer-4.trainable_variables\n"
     ]
    },
    {
     "name": "stdout",
     "output_type": "stream",
     "text": [
      "WARNING:tensorflow:Unresolved object in checkpoint: (root).layer-4.variables\n"
     ]
    },
    {
     "name": "stderr",
     "output_type": "stream",
     "text": [
      "WARNING:tensorflow:Unresolved object in checkpoint: (root).layer-4.variables\n"
     ]
    },
    {
     "name": "stdout",
     "output_type": "stream",
     "text": [
      "WARNING:tensorflow:Unresolved object in checkpoint: (root).layer-4.regularization_losses\n"
     ]
    },
    {
     "name": "stderr",
     "output_type": "stream",
     "text": [
      "WARNING:tensorflow:Unresolved object in checkpoint: (root).layer-4.regularization_losses\n"
     ]
    },
    {
     "name": "stdout",
     "output_type": "stream",
     "text": [
      "WARNING:tensorflow:Unresolved object in checkpoint: (root).layer-4.keras_api\n"
     ]
    },
    {
     "name": "stderr",
     "output_type": "stream",
     "text": [
      "WARNING:tensorflow:Unresolved object in checkpoint: (root).layer-4.keras_api\n"
     ]
    },
    {
     "name": "stdout",
     "output_type": "stream",
     "text": [
      "WARNING:tensorflow:Unresolved object in checkpoint: (root).layer_with_weights-2.trainable_variables\n"
     ]
    },
    {
     "name": "stderr",
     "output_type": "stream",
     "text": [
      "WARNING:tensorflow:Unresolved object in checkpoint: (root).layer_with_weights-2.trainable_variables\n"
     ]
    },
    {
     "name": "stdout",
     "output_type": "stream",
     "text": [
      "WARNING:tensorflow:Unresolved object in checkpoint: (root).layer_with_weights-2.variables\n"
     ]
    },
    {
     "name": "stderr",
     "output_type": "stream",
     "text": [
      "WARNING:tensorflow:Unresolved object in checkpoint: (root).layer_with_weights-2.variables\n"
     ]
    },
    {
     "name": "stdout",
     "output_type": "stream",
     "text": [
      "WARNING:tensorflow:Unresolved object in checkpoint: (root).layer_with_weights-2.regularization_losses\n"
     ]
    },
    {
     "name": "stderr",
     "output_type": "stream",
     "text": [
      "WARNING:tensorflow:Unresolved object in checkpoint: (root).layer_with_weights-2.regularization_losses\n"
     ]
    },
    {
     "name": "stdout",
     "output_type": "stream",
     "text": [
      "WARNING:tensorflow:Unresolved object in checkpoint: (root).layer_with_weights-2.keras_api\n"
     ]
    },
    {
     "name": "stderr",
     "output_type": "stream",
     "text": [
      "WARNING:tensorflow:Unresolved object in checkpoint: (root).layer_with_weights-2.keras_api\n"
     ]
    },
    {
     "name": "stdout",
     "output_type": "stream",
     "text": [
      "WARNING:tensorflow:Unresolved object in checkpoint: (root).layer-6.trainable_variables\n"
     ]
    },
    {
     "name": "stderr",
     "output_type": "stream",
     "text": [
      "WARNING:tensorflow:Unresolved object in checkpoint: (root).layer-6.trainable_variables\n"
     ]
    },
    {
     "name": "stdout",
     "output_type": "stream",
     "text": [
      "WARNING:tensorflow:Unresolved object in checkpoint: (root).layer-6.variables\n"
     ]
    },
    {
     "name": "stderr",
     "output_type": "stream",
     "text": [
      "WARNING:tensorflow:Unresolved object in checkpoint: (root).layer-6.variables\n"
     ]
    },
    {
     "name": "stdout",
     "output_type": "stream",
     "text": [
      "WARNING:tensorflow:Unresolved object in checkpoint: (root).layer-6.regularization_losses\n"
     ]
    },
    {
     "name": "stderr",
     "output_type": "stream",
     "text": [
      "WARNING:tensorflow:Unresolved object in checkpoint: (root).layer-6.regularization_losses\n"
     ]
    },
    {
     "name": "stdout",
     "output_type": "stream",
     "text": [
      "WARNING:tensorflow:Unresolved object in checkpoint: (root).layer-6.keras_api\n"
     ]
    },
    {
     "name": "stderr",
     "output_type": "stream",
     "text": [
      "WARNING:tensorflow:Unresolved object in checkpoint: (root).layer-6.keras_api\n"
     ]
    },
    {
     "name": "stdout",
     "output_type": "stream",
     "text": [
      "WARNING:tensorflow:Unresolved object in checkpoint: (root).layer_with_weights-3.trainable_variables\n"
     ]
    },
    {
     "name": "stderr",
     "output_type": "stream",
     "text": [
      "WARNING:tensorflow:Unresolved object in checkpoint: (root).layer_with_weights-3.trainable_variables\n"
     ]
    },
    {
     "name": "stdout",
     "output_type": "stream",
     "text": [
      "WARNING:tensorflow:Unresolved object in checkpoint: (root).layer_with_weights-3.variables\n"
     ]
    },
    {
     "name": "stderr",
     "output_type": "stream",
     "text": [
      "WARNING:tensorflow:Unresolved object in checkpoint: (root).layer_with_weights-3.variables\n"
     ]
    },
    {
     "name": "stdout",
     "output_type": "stream",
     "text": [
      "WARNING:tensorflow:Unresolved object in checkpoint: (root).layer_with_weights-3.regularization_losses\n"
     ]
    },
    {
     "name": "stderr",
     "output_type": "stream",
     "text": [
      "WARNING:tensorflow:Unresolved object in checkpoint: (root).layer_with_weights-3.regularization_losses\n"
     ]
    },
    {
     "name": "stdout",
     "output_type": "stream",
     "text": [
      "WARNING:tensorflow:Unresolved object in checkpoint: (root).layer_with_weights-3.keras_api\n"
     ]
    },
    {
     "name": "stderr",
     "output_type": "stream",
     "text": [
      "WARNING:tensorflow:Unresolved object in checkpoint: (root).layer_with_weights-3.keras_api\n"
     ]
    },
    {
     "name": "stdout",
     "output_type": "stream",
     "text": [
      "WARNING:tensorflow:Unresolved object in checkpoint: (root).layer-8.trainable_variables\n"
     ]
    },
    {
     "name": "stderr",
     "output_type": "stream",
     "text": [
      "WARNING:tensorflow:Unresolved object in checkpoint: (root).layer-8.trainable_variables\n"
     ]
    },
    {
     "name": "stdout",
     "output_type": "stream",
     "text": [
      "WARNING:tensorflow:Unresolved object in checkpoint: (root).layer-8.variables\n"
     ]
    },
    {
     "name": "stderr",
     "output_type": "stream",
     "text": [
      "WARNING:tensorflow:Unresolved object in checkpoint: (root).layer-8.variables\n"
     ]
    },
    {
     "name": "stdout",
     "output_type": "stream",
     "text": [
      "WARNING:tensorflow:Unresolved object in checkpoint: (root).layer-8.regularization_losses\n"
     ]
    },
    {
     "name": "stderr",
     "output_type": "stream",
     "text": [
      "WARNING:tensorflow:Unresolved object in checkpoint: (root).layer-8.regularization_losses\n"
     ]
    },
    {
     "name": "stdout",
     "output_type": "stream",
     "text": [
      "WARNING:tensorflow:Unresolved object in checkpoint: (root).layer-8.keras_api\n"
     ]
    },
    {
     "name": "stderr",
     "output_type": "stream",
     "text": [
      "WARNING:tensorflow:Unresolved object in checkpoint: (root).layer-8.keras_api\n"
     ]
    },
    {
     "name": "stdout",
     "output_type": "stream",
     "text": [
      "WARNING:tensorflow:Unresolved object in checkpoint: (root).layer-9.trainable_variables\n"
     ]
    },
    {
     "name": "stderr",
     "output_type": "stream",
     "text": [
      "WARNING:tensorflow:Unresolved object in checkpoint: (root).layer-9.trainable_variables\n"
     ]
    },
    {
     "name": "stdout",
     "output_type": "stream",
     "text": [
      "WARNING:tensorflow:Unresolved object in checkpoint: (root).layer-9.variables\n"
     ]
    },
    {
     "name": "stderr",
     "output_type": "stream",
     "text": [
      "WARNING:tensorflow:Unresolved object in checkpoint: (root).layer-9.variables\n"
     ]
    },
    {
     "name": "stdout",
     "output_type": "stream",
     "text": [
      "WARNING:tensorflow:Unresolved object in checkpoint: (root).layer-9.regularization_losses\n"
     ]
    },
    {
     "name": "stderr",
     "output_type": "stream",
     "text": [
      "WARNING:tensorflow:Unresolved object in checkpoint: (root).layer-9.regularization_losses\n"
     ]
    },
    {
     "name": "stdout",
     "output_type": "stream",
     "text": [
      "WARNING:tensorflow:Unresolved object in checkpoint: (root).layer-9.keras_api\n"
     ]
    },
    {
     "name": "stderr",
     "output_type": "stream",
     "text": [
      "WARNING:tensorflow:Unresolved object in checkpoint: (root).layer-9.keras_api\n"
     ]
    },
    {
     "name": "stdout",
     "output_type": "stream",
     "text": [
      "WARNING:tensorflow:Unresolved object in checkpoint: (root).layer_with_weights-4.trainable_variables\n"
     ]
    },
    {
     "name": "stderr",
     "output_type": "stream",
     "text": [
      "WARNING:tensorflow:Unresolved object in checkpoint: (root).layer_with_weights-4.trainable_variables\n"
     ]
    },
    {
     "name": "stdout",
     "output_type": "stream",
     "text": [
      "WARNING:tensorflow:Unresolved object in checkpoint: (root).layer_with_weights-4.variables\n"
     ]
    },
    {
     "name": "stderr",
     "output_type": "stream",
     "text": [
      "WARNING:tensorflow:Unresolved object in checkpoint: (root).layer_with_weights-4.variables\n"
     ]
    },
    {
     "name": "stdout",
     "output_type": "stream",
     "text": [
      "WARNING:tensorflow:Unresolved object in checkpoint: (root).layer_with_weights-4.regularization_losses\n"
     ]
    },
    {
     "name": "stderr",
     "output_type": "stream",
     "text": [
      "WARNING:tensorflow:Unresolved object in checkpoint: (root).layer_with_weights-4.regularization_losses\n"
     ]
    },
    {
     "name": "stdout",
     "output_type": "stream",
     "text": [
      "WARNING:tensorflow:Unresolved object in checkpoint: (root).layer_with_weights-4.keras_api\n"
     ]
    },
    {
     "name": "stderr",
     "output_type": "stream",
     "text": [
      "WARNING:tensorflow:Unresolved object in checkpoint: (root).layer_with_weights-4.keras_api\n"
     ]
    },
    {
     "name": "stdout",
     "output_type": "stream",
     "text": [
      "WARNING:tensorflow:Unresolved object in checkpoint: (root).layer_with_weights-5.trainable_variables\n"
     ]
    },
    {
     "name": "stderr",
     "output_type": "stream",
     "text": [
      "WARNING:tensorflow:Unresolved object in checkpoint: (root).layer_with_weights-5.trainable_variables\n"
     ]
    },
    {
     "name": "stdout",
     "output_type": "stream",
     "text": [
      "WARNING:tensorflow:Unresolved object in checkpoint: (root).layer_with_weights-5.variables\n"
     ]
    },
    {
     "name": "stderr",
     "output_type": "stream",
     "text": [
      "WARNING:tensorflow:Unresolved object in checkpoint: (root).layer_with_weights-5.variables\n"
     ]
    },
    {
     "name": "stdout",
     "output_type": "stream",
     "text": [
      "WARNING:tensorflow:Unresolved object in checkpoint: (root).layer_with_weights-5.regularization_losses\n"
     ]
    },
    {
     "name": "stderr",
     "output_type": "stream",
     "text": [
      "WARNING:tensorflow:Unresolved object in checkpoint: (root).layer_with_weights-5.regularization_losses\n"
     ]
    },
    {
     "name": "stdout",
     "output_type": "stream",
     "text": [
      "WARNING:tensorflow:Unresolved object in checkpoint: (root).layer_with_weights-5.keras_api\n"
     ]
    },
    {
     "name": "stderr",
     "output_type": "stream",
     "text": [
      "WARNING:tensorflow:Unresolved object in checkpoint: (root).layer_with_weights-5.keras_api\n"
     ]
    },
    {
     "name": "stdout",
     "output_type": "stream",
     "text": [
      "WARNING:tensorflow:Unresolved object in checkpoint: (root).layer-12.trainable_variables\n"
     ]
    },
    {
     "name": "stderr",
     "output_type": "stream",
     "text": [
      "WARNING:tensorflow:Unresolved object in checkpoint: (root).layer-12.trainable_variables\n"
     ]
    },
    {
     "name": "stdout",
     "output_type": "stream",
     "text": [
      "WARNING:tensorflow:Unresolved object in checkpoint: (root).layer-12.variables\n"
     ]
    },
    {
     "name": "stderr",
     "output_type": "stream",
     "text": [
      "WARNING:tensorflow:Unresolved object in checkpoint: (root).layer-12.variables\n"
     ]
    },
    {
     "name": "stdout",
     "output_type": "stream",
     "text": [
      "WARNING:tensorflow:Unresolved object in checkpoint: (root).layer-12.regularization_losses\n"
     ]
    },
    {
     "name": "stderr",
     "output_type": "stream",
     "text": [
      "WARNING:tensorflow:Unresolved object in checkpoint: (root).layer-12.regularization_losses\n"
     ]
    },
    {
     "name": "stdout",
     "output_type": "stream",
     "text": [
      "WARNING:tensorflow:Unresolved object in checkpoint: (root).layer-12.keras_api\n"
     ]
    },
    {
     "name": "stderr",
     "output_type": "stream",
     "text": [
      "WARNING:tensorflow:Unresolved object in checkpoint: (root).layer-12.keras_api\n"
     ]
    },
    {
     "name": "stdout",
     "output_type": "stream",
     "text": [
      "WARNING:tensorflow:Unresolved object in checkpoint: (root).layer_with_weights-6.trainable_variables\n"
     ]
    },
    {
     "name": "stderr",
     "output_type": "stream",
     "text": [
      "WARNING:tensorflow:Unresolved object in checkpoint: (root).layer_with_weights-6.trainable_variables\n"
     ]
    },
    {
     "name": "stdout",
     "output_type": "stream",
     "text": [
      "WARNING:tensorflow:Unresolved object in checkpoint: (root).layer_with_weights-6.variables\n"
     ]
    },
    {
     "name": "stderr",
     "output_type": "stream",
     "text": [
      "WARNING:tensorflow:Unresolved object in checkpoint: (root).layer_with_weights-6.variables\n"
     ]
    },
    {
     "name": "stdout",
     "output_type": "stream",
     "text": [
      "WARNING:tensorflow:Unresolved object in checkpoint: (root).layer_with_weights-6.regularization_losses\n"
     ]
    },
    {
     "name": "stderr",
     "output_type": "stream",
     "text": [
      "WARNING:tensorflow:Unresolved object in checkpoint: (root).layer_with_weights-6.regularization_losses\n"
     ]
    },
    {
     "name": "stdout",
     "output_type": "stream",
     "text": [
      "WARNING:tensorflow:Unresolved object in checkpoint: (root).layer_with_weights-6.keras_api\n"
     ]
    },
    {
     "name": "stderr",
     "output_type": "stream",
     "text": [
      "WARNING:tensorflow:Unresolved object in checkpoint: (root).layer_with_weights-6.keras_api\n"
     ]
    },
    {
     "name": "stdout",
     "output_type": "stream",
     "text": [
      "WARNING:tensorflow:Unresolved object in checkpoint: (root).layer-14.trainable_variables\n"
     ]
    },
    {
     "name": "stderr",
     "output_type": "stream",
     "text": [
      "WARNING:tensorflow:Unresolved object in checkpoint: (root).layer-14.trainable_variables\n"
     ]
    },
    {
     "name": "stdout",
     "output_type": "stream",
     "text": [
      "WARNING:tensorflow:Unresolved object in checkpoint: (root).layer-14.variables\n"
     ]
    },
    {
     "name": "stderr",
     "output_type": "stream",
     "text": [
      "WARNING:tensorflow:Unresolved object in checkpoint: (root).layer-14.variables\n"
     ]
    },
    {
     "name": "stdout",
     "output_type": "stream",
     "text": [
      "WARNING:tensorflow:Unresolved object in checkpoint: (root).layer-14.regularization_losses\n"
     ]
    },
    {
     "name": "stderr",
     "output_type": "stream",
     "text": [
      "WARNING:tensorflow:Unresolved object in checkpoint: (root).layer-14.regularization_losses\n"
     ]
    },
    {
     "name": "stdout",
     "output_type": "stream",
     "text": [
      "WARNING:tensorflow:Unresolved object in checkpoint: (root).layer-14.keras_api\n"
     ]
    },
    {
     "name": "stderr",
     "output_type": "stream",
     "text": [
      "WARNING:tensorflow:Unresolved object in checkpoint: (root).layer-14.keras_api\n"
     ]
    },
    {
     "name": "stdout",
     "output_type": "stream",
     "text": [
      "WARNING:tensorflow:Unresolved object in checkpoint: (root).layer_with_weights-7.trainable_variables\n"
     ]
    },
    {
     "name": "stderr",
     "output_type": "stream",
     "text": [
      "WARNING:tensorflow:Unresolved object in checkpoint: (root).layer_with_weights-7.trainable_variables\n"
     ]
    },
    {
     "name": "stdout",
     "output_type": "stream",
     "text": [
      "WARNING:tensorflow:Unresolved object in checkpoint: (root).layer_with_weights-7.variables\n"
     ]
    },
    {
     "name": "stderr",
     "output_type": "stream",
     "text": [
      "WARNING:tensorflow:Unresolved object in checkpoint: (root).layer_with_weights-7.variables\n"
     ]
    },
    {
     "name": "stdout",
     "output_type": "stream",
     "text": [
      "WARNING:tensorflow:Unresolved object in checkpoint: (root).layer_with_weights-7.regularization_losses\n"
     ]
    },
    {
     "name": "stderr",
     "output_type": "stream",
     "text": [
      "WARNING:tensorflow:Unresolved object in checkpoint: (root).layer_with_weights-7.regularization_losses\n"
     ]
    },
    {
     "name": "stdout",
     "output_type": "stream",
     "text": [
      "WARNING:tensorflow:Unresolved object in checkpoint: (root).layer_with_weights-7.keras_api\n"
     ]
    },
    {
     "name": "stderr",
     "output_type": "stream",
     "text": [
      "WARNING:tensorflow:Unresolved object in checkpoint: (root).layer_with_weights-7.keras_api\n"
     ]
    },
    {
     "name": "stdout",
     "output_type": "stream",
     "text": [
      "WARNING:tensorflow:Unresolved object in checkpoint: (root).layer-16.trainable_variables\n"
     ]
    },
    {
     "name": "stderr",
     "output_type": "stream",
     "text": [
      "WARNING:tensorflow:Unresolved object in checkpoint: (root).layer-16.trainable_variables\n"
     ]
    },
    {
     "name": "stdout",
     "output_type": "stream",
     "text": [
      "WARNING:tensorflow:Unresolved object in checkpoint: (root).layer-16.variables\n"
     ]
    },
    {
     "name": "stderr",
     "output_type": "stream",
     "text": [
      "WARNING:tensorflow:Unresolved object in checkpoint: (root).layer-16.variables\n"
     ]
    },
    {
     "name": "stdout",
     "output_type": "stream",
     "text": [
      "WARNING:tensorflow:Unresolved object in checkpoint: (root).layer-16.regularization_losses\n"
     ]
    },
    {
     "name": "stderr",
     "output_type": "stream",
     "text": [
      "WARNING:tensorflow:Unresolved object in checkpoint: (root).layer-16.regularization_losses\n"
     ]
    },
    {
     "name": "stdout",
     "output_type": "stream",
     "text": [
      "WARNING:tensorflow:Unresolved object in checkpoint: (root).layer-16.keras_api\n"
     ]
    },
    {
     "name": "stderr",
     "output_type": "stream",
     "text": [
      "WARNING:tensorflow:Unresolved object in checkpoint: (root).layer-16.keras_api\n"
     ]
    },
    {
     "name": "stdout",
     "output_type": "stream",
     "text": [
      "WARNING:tensorflow:Unresolved object in checkpoint: (root).keras_api.layer_metrics\n"
     ]
    },
    {
     "name": "stderr",
     "output_type": "stream",
     "text": [
      "WARNING:tensorflow:Unresolved object in checkpoint: (root).keras_api.layer_metrics\n"
     ]
    },
    {
     "name": "stdout",
     "output_type": "stream",
     "text": [
      "WARNING:tensorflow:Unresolved object in checkpoint: (root).keras_api.non_trainable_variables\n"
     ]
    },
    {
     "name": "stderr",
     "output_type": "stream",
     "text": [
      "WARNING:tensorflow:Unresolved object in checkpoint: (root).keras_api.non_trainable_variables\n"
     ]
    },
    {
     "name": "stdout",
     "output_type": "stream",
     "text": [
      "WARNING:tensorflow:Unresolved object in checkpoint: (root).keras_api.metrics\n"
     ]
    },
    {
     "name": "stderr",
     "output_type": "stream",
     "text": [
      "WARNING:tensorflow:Unresolved object in checkpoint: (root).keras_api.metrics\n"
     ]
    },
    {
     "name": "stdout",
     "output_type": "stream",
     "text": [
      "WARNING:tensorflow:Unresolved object in checkpoint: (root).keras_api.layer_regularization_losses\n"
     ]
    },
    {
     "name": "stderr",
     "output_type": "stream",
     "text": [
      "WARNING:tensorflow:Unresolved object in checkpoint: (root).keras_api.layer_regularization_losses\n"
     ]
    },
    {
     "name": "stdout",
     "output_type": "stream",
     "text": [
      "WARNING:tensorflow:Unresolved object in checkpoint: (root).keras_api.layers\n"
     ]
    },
    {
     "name": "stderr",
     "output_type": "stream",
     "text": [
      "WARNING:tensorflow:Unresolved object in checkpoint: (root).keras_api.layers\n"
     ]
    },
    {
     "name": "stdout",
     "output_type": "stream",
     "text": [
      "WARNING:tensorflow:Unresolved object in checkpoint: (root).layer_with_weights-0.keras_api.layer_metrics\n"
     ]
    },
    {
     "name": "stderr",
     "output_type": "stream",
     "text": [
      "WARNING:tensorflow:Unresolved object in checkpoint: (root).layer_with_weights-0.keras_api.layer_metrics\n"
     ]
    },
    {
     "name": "stdout",
     "output_type": "stream",
     "text": [
      "WARNING:tensorflow:Unresolved object in checkpoint: (root).layer_with_weights-0.keras_api.non_trainable_variables\n"
     ]
    },
    {
     "name": "stderr",
     "output_type": "stream",
     "text": [
      "WARNING:tensorflow:Unresolved object in checkpoint: (root).layer_with_weights-0.keras_api.non_trainable_variables\n"
     ]
    },
    {
     "name": "stdout",
     "output_type": "stream",
     "text": [
      "WARNING:tensorflow:Unresolved object in checkpoint: (root).layer_with_weights-0.keras_api.metrics\n"
     ]
    },
    {
     "name": "stderr",
     "output_type": "stream",
     "text": [
      "WARNING:tensorflow:Unresolved object in checkpoint: (root).layer_with_weights-0.keras_api.metrics\n"
     ]
    },
    {
     "name": "stdout",
     "output_type": "stream",
     "text": [
      "WARNING:tensorflow:Unresolved object in checkpoint: (root).layer_with_weights-0.keras_api.layer_regularization_losses\n"
     ]
    },
    {
     "name": "stderr",
     "output_type": "stream",
     "text": [
      "WARNING:tensorflow:Unresolved object in checkpoint: (root).layer_with_weights-0.keras_api.layer_regularization_losses\n"
     ]
    },
    {
     "name": "stdout",
     "output_type": "stream",
     "text": [
      "WARNING:tensorflow:Unresolved object in checkpoint: (root).layer_with_weights-0.keras_api.layers\n"
     ]
    },
    {
     "name": "stderr",
     "output_type": "stream",
     "text": [
      "WARNING:tensorflow:Unresolved object in checkpoint: (root).layer_with_weights-0.keras_api.layers\n"
     ]
    },
    {
     "name": "stdout",
     "output_type": "stream",
     "text": [
      "WARNING:tensorflow:Unresolved object in checkpoint: (root).layer-1.keras_api.layer_metrics\n"
     ]
    },
    {
     "name": "stderr",
     "output_type": "stream",
     "text": [
      "WARNING:tensorflow:Unresolved object in checkpoint: (root).layer-1.keras_api.layer_metrics\n"
     ]
    },
    {
     "name": "stdout",
     "output_type": "stream",
     "text": [
      "WARNING:tensorflow:Unresolved object in checkpoint: (root).layer-1.keras_api.non_trainable_variables\n"
     ]
    },
    {
     "name": "stderr",
     "output_type": "stream",
     "text": [
      "WARNING:tensorflow:Unresolved object in checkpoint: (root).layer-1.keras_api.non_trainable_variables\n"
     ]
    },
    {
     "name": "stdout",
     "output_type": "stream",
     "text": [
      "WARNING:tensorflow:Unresolved object in checkpoint: (root).layer-1.keras_api.metrics\n"
     ]
    },
    {
     "name": "stderr",
     "output_type": "stream",
     "text": [
      "WARNING:tensorflow:Unresolved object in checkpoint: (root).layer-1.keras_api.metrics\n"
     ]
    },
    {
     "name": "stdout",
     "output_type": "stream",
     "text": [
      "WARNING:tensorflow:Unresolved object in checkpoint: (root).layer-1.keras_api.layer_regularization_losses\n"
     ]
    },
    {
     "name": "stderr",
     "output_type": "stream",
     "text": [
      "WARNING:tensorflow:Unresolved object in checkpoint: (root).layer-1.keras_api.layer_regularization_losses\n"
     ]
    },
    {
     "name": "stdout",
     "output_type": "stream",
     "text": [
      "WARNING:tensorflow:Unresolved object in checkpoint: (root).layer-1.keras_api.layers\n"
     ]
    },
    {
     "name": "stderr",
     "output_type": "stream",
     "text": [
      "WARNING:tensorflow:Unresolved object in checkpoint: (root).layer-1.keras_api.layers\n"
     ]
    },
    {
     "name": "stdout",
     "output_type": "stream",
     "text": [
      "WARNING:tensorflow:Unresolved object in checkpoint: (root).layer_with_weights-1.keras_api.layer_metrics\n"
     ]
    },
    {
     "name": "stderr",
     "output_type": "stream",
     "text": [
      "WARNING:tensorflow:Unresolved object in checkpoint: (root).layer_with_weights-1.keras_api.layer_metrics\n"
     ]
    },
    {
     "name": "stdout",
     "output_type": "stream",
     "text": [
      "WARNING:tensorflow:Unresolved object in checkpoint: (root).layer_with_weights-1.keras_api.non_trainable_variables\n"
     ]
    },
    {
     "name": "stderr",
     "output_type": "stream",
     "text": [
      "WARNING:tensorflow:Unresolved object in checkpoint: (root).layer_with_weights-1.keras_api.non_trainable_variables\n"
     ]
    },
    {
     "name": "stdout",
     "output_type": "stream",
     "text": [
      "WARNING:tensorflow:Unresolved object in checkpoint: (root).layer_with_weights-1.keras_api.metrics\n"
     ]
    },
    {
     "name": "stderr",
     "output_type": "stream",
     "text": [
      "WARNING:tensorflow:Unresolved object in checkpoint: (root).layer_with_weights-1.keras_api.metrics\n"
     ]
    },
    {
     "name": "stdout",
     "output_type": "stream",
     "text": [
      "WARNING:tensorflow:Unresolved object in checkpoint: (root).layer_with_weights-1.keras_api.layer_regularization_losses\n"
     ]
    },
    {
     "name": "stderr",
     "output_type": "stream",
     "text": [
      "WARNING:tensorflow:Unresolved object in checkpoint: (root).layer_with_weights-1.keras_api.layer_regularization_losses\n"
     ]
    },
    {
     "name": "stdout",
     "output_type": "stream",
     "text": [
      "WARNING:tensorflow:Unresolved object in checkpoint: (root).layer_with_weights-1.keras_api.layers\n"
     ]
    },
    {
     "name": "stderr",
     "output_type": "stream",
     "text": [
      "WARNING:tensorflow:Unresolved object in checkpoint: (root).layer_with_weights-1.keras_api.layers\n"
     ]
    },
    {
     "name": "stdout",
     "output_type": "stream",
     "text": [
      "WARNING:tensorflow:Unresolved object in checkpoint: (root).layer-3.keras_api.layer_metrics\n"
     ]
    },
    {
     "name": "stderr",
     "output_type": "stream",
     "text": [
      "WARNING:tensorflow:Unresolved object in checkpoint: (root).layer-3.keras_api.layer_metrics\n"
     ]
    },
    {
     "name": "stdout",
     "output_type": "stream",
     "text": [
      "WARNING:tensorflow:Unresolved object in checkpoint: (root).layer-3.keras_api.non_trainable_variables\n"
     ]
    },
    {
     "name": "stderr",
     "output_type": "stream",
     "text": [
      "WARNING:tensorflow:Unresolved object in checkpoint: (root).layer-3.keras_api.non_trainable_variables\n"
     ]
    },
    {
     "name": "stdout",
     "output_type": "stream",
     "text": [
      "WARNING:tensorflow:Unresolved object in checkpoint: (root).layer-3.keras_api.metrics\n"
     ]
    },
    {
     "name": "stderr",
     "output_type": "stream",
     "text": [
      "WARNING:tensorflow:Unresolved object in checkpoint: (root).layer-3.keras_api.metrics\n"
     ]
    },
    {
     "name": "stdout",
     "output_type": "stream",
     "text": [
      "WARNING:tensorflow:Unresolved object in checkpoint: (root).layer-3.keras_api.layer_regularization_losses\n"
     ]
    },
    {
     "name": "stderr",
     "output_type": "stream",
     "text": [
      "WARNING:tensorflow:Unresolved object in checkpoint: (root).layer-3.keras_api.layer_regularization_losses\n"
     ]
    },
    {
     "name": "stdout",
     "output_type": "stream",
     "text": [
      "WARNING:tensorflow:Unresolved object in checkpoint: (root).layer-3.keras_api.layers\n"
     ]
    },
    {
     "name": "stderr",
     "output_type": "stream",
     "text": [
      "WARNING:tensorflow:Unresolved object in checkpoint: (root).layer-3.keras_api.layers\n"
     ]
    },
    {
     "name": "stdout",
     "output_type": "stream",
     "text": [
      "WARNING:tensorflow:Unresolved object in checkpoint: (root).layer-4.keras_api.layer_metrics\n"
     ]
    },
    {
     "name": "stderr",
     "output_type": "stream",
     "text": [
      "WARNING:tensorflow:Unresolved object in checkpoint: (root).layer-4.keras_api.layer_metrics\n"
     ]
    },
    {
     "name": "stdout",
     "output_type": "stream",
     "text": [
      "WARNING:tensorflow:Unresolved object in checkpoint: (root).layer-4.keras_api.non_trainable_variables\n"
     ]
    },
    {
     "name": "stderr",
     "output_type": "stream",
     "text": [
      "WARNING:tensorflow:Unresolved object in checkpoint: (root).layer-4.keras_api.non_trainable_variables\n"
     ]
    },
    {
     "name": "stdout",
     "output_type": "stream",
     "text": [
      "WARNING:tensorflow:Unresolved object in checkpoint: (root).layer-4.keras_api.metrics\n"
     ]
    },
    {
     "name": "stderr",
     "output_type": "stream",
     "text": [
      "WARNING:tensorflow:Unresolved object in checkpoint: (root).layer-4.keras_api.metrics\n"
     ]
    },
    {
     "name": "stdout",
     "output_type": "stream",
     "text": [
      "WARNING:tensorflow:Unresolved object in checkpoint: (root).layer-4.keras_api.layer_regularization_losses\n"
     ]
    },
    {
     "name": "stderr",
     "output_type": "stream",
     "text": [
      "WARNING:tensorflow:Unresolved object in checkpoint: (root).layer-4.keras_api.layer_regularization_losses\n"
     ]
    },
    {
     "name": "stdout",
     "output_type": "stream",
     "text": [
      "WARNING:tensorflow:Unresolved object in checkpoint: (root).layer-4.keras_api.layers\n"
     ]
    },
    {
     "name": "stderr",
     "output_type": "stream",
     "text": [
      "WARNING:tensorflow:Unresolved object in checkpoint: (root).layer-4.keras_api.layers\n"
     ]
    },
    {
     "name": "stdout",
     "output_type": "stream",
     "text": [
      "WARNING:tensorflow:Unresolved object in checkpoint: (root).layer_with_weights-2.keras_api.layer_metrics\n"
     ]
    },
    {
     "name": "stderr",
     "output_type": "stream",
     "text": [
      "WARNING:tensorflow:Unresolved object in checkpoint: (root).layer_with_weights-2.keras_api.layer_metrics\n"
     ]
    },
    {
     "name": "stdout",
     "output_type": "stream",
     "text": [
      "WARNING:tensorflow:Unresolved object in checkpoint: (root).layer_with_weights-2.keras_api.non_trainable_variables\n"
     ]
    },
    {
     "name": "stderr",
     "output_type": "stream",
     "text": [
      "WARNING:tensorflow:Unresolved object in checkpoint: (root).layer_with_weights-2.keras_api.non_trainable_variables\n"
     ]
    },
    {
     "name": "stdout",
     "output_type": "stream",
     "text": [
      "WARNING:tensorflow:Unresolved object in checkpoint: (root).layer_with_weights-2.keras_api.metrics\n"
     ]
    },
    {
     "name": "stderr",
     "output_type": "stream",
     "text": [
      "WARNING:tensorflow:Unresolved object in checkpoint: (root).layer_with_weights-2.keras_api.metrics\n"
     ]
    },
    {
     "name": "stdout",
     "output_type": "stream",
     "text": [
      "WARNING:tensorflow:Unresolved object in checkpoint: (root).layer_with_weights-2.keras_api.layer_regularization_losses\n"
     ]
    },
    {
     "name": "stderr",
     "output_type": "stream",
     "text": [
      "WARNING:tensorflow:Unresolved object in checkpoint: (root).layer_with_weights-2.keras_api.layer_regularization_losses\n"
     ]
    },
    {
     "name": "stdout",
     "output_type": "stream",
     "text": [
      "WARNING:tensorflow:Unresolved object in checkpoint: (root).layer_with_weights-2.keras_api.layers\n"
     ]
    },
    {
     "name": "stderr",
     "output_type": "stream",
     "text": [
      "WARNING:tensorflow:Unresolved object in checkpoint: (root).layer_with_weights-2.keras_api.layers\n"
     ]
    },
    {
     "name": "stdout",
     "output_type": "stream",
     "text": [
      "WARNING:tensorflow:Unresolved object in checkpoint: (root).layer-6.keras_api.layer_metrics\n"
     ]
    },
    {
     "name": "stderr",
     "output_type": "stream",
     "text": [
      "WARNING:tensorflow:Unresolved object in checkpoint: (root).layer-6.keras_api.layer_metrics\n"
     ]
    },
    {
     "name": "stdout",
     "output_type": "stream",
     "text": [
      "WARNING:tensorflow:Unresolved object in checkpoint: (root).layer-6.keras_api.non_trainable_variables\n"
     ]
    },
    {
     "name": "stderr",
     "output_type": "stream",
     "text": [
      "WARNING:tensorflow:Unresolved object in checkpoint: (root).layer-6.keras_api.non_trainable_variables\n"
     ]
    },
    {
     "name": "stdout",
     "output_type": "stream",
     "text": [
      "WARNING:tensorflow:Unresolved object in checkpoint: (root).layer-6.keras_api.metrics\n"
     ]
    },
    {
     "name": "stderr",
     "output_type": "stream",
     "text": [
      "WARNING:tensorflow:Unresolved object in checkpoint: (root).layer-6.keras_api.metrics\n"
     ]
    },
    {
     "name": "stdout",
     "output_type": "stream",
     "text": [
      "WARNING:tensorflow:Unresolved object in checkpoint: (root).layer-6.keras_api.layer_regularization_losses\n"
     ]
    },
    {
     "name": "stderr",
     "output_type": "stream",
     "text": [
      "WARNING:tensorflow:Unresolved object in checkpoint: (root).layer-6.keras_api.layer_regularization_losses\n"
     ]
    },
    {
     "name": "stdout",
     "output_type": "stream",
     "text": [
      "WARNING:tensorflow:Unresolved object in checkpoint: (root).layer-6.keras_api.layers\n"
     ]
    },
    {
     "name": "stderr",
     "output_type": "stream",
     "text": [
      "WARNING:tensorflow:Unresolved object in checkpoint: (root).layer-6.keras_api.layers\n"
     ]
    },
    {
     "name": "stdout",
     "output_type": "stream",
     "text": [
      "WARNING:tensorflow:Unresolved object in checkpoint: (root).layer_with_weights-3.keras_api.layer_metrics\n"
     ]
    },
    {
     "name": "stderr",
     "output_type": "stream",
     "text": [
      "WARNING:tensorflow:Unresolved object in checkpoint: (root).layer_with_weights-3.keras_api.layer_metrics\n"
     ]
    },
    {
     "name": "stdout",
     "output_type": "stream",
     "text": [
      "WARNING:tensorflow:Unresolved object in checkpoint: (root).layer_with_weights-3.keras_api.non_trainable_variables\n"
     ]
    },
    {
     "name": "stderr",
     "output_type": "stream",
     "text": [
      "WARNING:tensorflow:Unresolved object in checkpoint: (root).layer_with_weights-3.keras_api.non_trainable_variables\n"
     ]
    },
    {
     "name": "stdout",
     "output_type": "stream",
     "text": [
      "WARNING:tensorflow:Unresolved object in checkpoint: (root).layer_with_weights-3.keras_api.metrics\n"
     ]
    },
    {
     "name": "stderr",
     "output_type": "stream",
     "text": [
      "WARNING:tensorflow:Unresolved object in checkpoint: (root).layer_with_weights-3.keras_api.metrics\n"
     ]
    },
    {
     "name": "stdout",
     "output_type": "stream",
     "text": [
      "WARNING:tensorflow:Unresolved object in checkpoint: (root).layer_with_weights-3.keras_api.layer_regularization_losses\n"
     ]
    },
    {
     "name": "stderr",
     "output_type": "stream",
     "text": [
      "WARNING:tensorflow:Unresolved object in checkpoint: (root).layer_with_weights-3.keras_api.layer_regularization_losses\n"
     ]
    },
    {
     "name": "stdout",
     "output_type": "stream",
     "text": [
      "WARNING:tensorflow:Unresolved object in checkpoint: (root).layer_with_weights-3.keras_api.layers\n"
     ]
    },
    {
     "name": "stderr",
     "output_type": "stream",
     "text": [
      "WARNING:tensorflow:Unresolved object in checkpoint: (root).layer_with_weights-3.keras_api.layers\n"
     ]
    },
    {
     "name": "stdout",
     "output_type": "stream",
     "text": [
      "WARNING:tensorflow:Unresolved object in checkpoint: (root).layer-8.keras_api.layer_metrics\n"
     ]
    },
    {
     "name": "stderr",
     "output_type": "stream",
     "text": [
      "WARNING:tensorflow:Unresolved object in checkpoint: (root).layer-8.keras_api.layer_metrics\n"
     ]
    },
    {
     "name": "stdout",
     "output_type": "stream",
     "text": [
      "WARNING:tensorflow:Unresolved object in checkpoint: (root).layer-8.keras_api.non_trainable_variables\n"
     ]
    },
    {
     "name": "stderr",
     "output_type": "stream",
     "text": [
      "WARNING:tensorflow:Unresolved object in checkpoint: (root).layer-8.keras_api.non_trainable_variables\n"
     ]
    },
    {
     "name": "stdout",
     "output_type": "stream",
     "text": [
      "WARNING:tensorflow:Unresolved object in checkpoint: (root).layer-8.keras_api.metrics\n"
     ]
    },
    {
     "name": "stderr",
     "output_type": "stream",
     "text": [
      "WARNING:tensorflow:Unresolved object in checkpoint: (root).layer-8.keras_api.metrics\n"
     ]
    },
    {
     "name": "stdout",
     "output_type": "stream",
     "text": [
      "WARNING:tensorflow:Unresolved object in checkpoint: (root).layer-8.keras_api.layer_regularization_losses\n"
     ]
    },
    {
     "name": "stderr",
     "output_type": "stream",
     "text": [
      "WARNING:tensorflow:Unresolved object in checkpoint: (root).layer-8.keras_api.layer_regularization_losses\n"
     ]
    },
    {
     "name": "stdout",
     "output_type": "stream",
     "text": [
      "WARNING:tensorflow:Unresolved object in checkpoint: (root).layer-8.keras_api.layers\n"
     ]
    },
    {
     "name": "stderr",
     "output_type": "stream",
     "text": [
      "WARNING:tensorflow:Unresolved object in checkpoint: (root).layer-8.keras_api.layers\n"
     ]
    },
    {
     "name": "stdout",
     "output_type": "stream",
     "text": [
      "WARNING:tensorflow:Unresolved object in checkpoint: (root).layer-9.keras_api.layer_metrics\n"
     ]
    },
    {
     "name": "stderr",
     "output_type": "stream",
     "text": [
      "WARNING:tensorflow:Unresolved object in checkpoint: (root).layer-9.keras_api.layer_metrics\n"
     ]
    },
    {
     "name": "stdout",
     "output_type": "stream",
     "text": [
      "WARNING:tensorflow:Unresolved object in checkpoint: (root).layer-9.keras_api.non_trainable_variables\n"
     ]
    },
    {
     "name": "stderr",
     "output_type": "stream",
     "text": [
      "WARNING:tensorflow:Unresolved object in checkpoint: (root).layer-9.keras_api.non_trainable_variables\n"
     ]
    },
    {
     "name": "stdout",
     "output_type": "stream",
     "text": [
      "WARNING:tensorflow:Unresolved object in checkpoint: (root).layer-9.keras_api.metrics\n"
     ]
    },
    {
     "name": "stderr",
     "output_type": "stream",
     "text": [
      "WARNING:tensorflow:Unresolved object in checkpoint: (root).layer-9.keras_api.metrics\n"
     ]
    },
    {
     "name": "stdout",
     "output_type": "stream",
     "text": [
      "WARNING:tensorflow:Unresolved object in checkpoint: (root).layer-9.keras_api.layer_regularization_losses\n"
     ]
    },
    {
     "name": "stderr",
     "output_type": "stream",
     "text": [
      "WARNING:tensorflow:Unresolved object in checkpoint: (root).layer-9.keras_api.layer_regularization_losses\n"
     ]
    },
    {
     "name": "stdout",
     "output_type": "stream",
     "text": [
      "WARNING:tensorflow:Unresolved object in checkpoint: (root).layer-9.keras_api.layers\n"
     ]
    },
    {
     "name": "stderr",
     "output_type": "stream",
     "text": [
      "WARNING:tensorflow:Unresolved object in checkpoint: (root).layer-9.keras_api.layers\n"
     ]
    },
    {
     "name": "stdout",
     "output_type": "stream",
     "text": [
      "WARNING:tensorflow:Unresolved object in checkpoint: (root).layer_with_weights-4.cell.trainable_variables\n"
     ]
    },
    {
     "name": "stderr",
     "output_type": "stream",
     "text": [
      "WARNING:tensorflow:Unresolved object in checkpoint: (root).layer_with_weights-4.cell.trainable_variables\n"
     ]
    },
    {
     "name": "stdout",
     "output_type": "stream",
     "text": [
      "WARNING:tensorflow:Unresolved object in checkpoint: (root).layer_with_weights-4.cell.variables\n"
     ]
    },
    {
     "name": "stderr",
     "output_type": "stream",
     "text": [
      "WARNING:tensorflow:Unresolved object in checkpoint: (root).layer_with_weights-4.cell.variables\n"
     ]
    },
    {
     "name": "stdout",
     "output_type": "stream",
     "text": [
      "WARNING:tensorflow:Unresolved object in checkpoint: (root).layer_with_weights-4.cell.regularization_losses\n"
     ]
    },
    {
     "name": "stderr",
     "output_type": "stream",
     "text": [
      "WARNING:tensorflow:Unresolved object in checkpoint: (root).layer_with_weights-4.cell.regularization_losses\n"
     ]
    },
    {
     "name": "stdout",
     "output_type": "stream",
     "text": [
      "WARNING:tensorflow:Unresolved object in checkpoint: (root).layer_with_weights-4.cell.keras_api\n"
     ]
    },
    {
     "name": "stderr",
     "output_type": "stream",
     "text": [
      "WARNING:tensorflow:Unresolved object in checkpoint: (root).layer_with_weights-4.cell.keras_api\n"
     ]
    },
    {
     "name": "stdout",
     "output_type": "stream",
     "text": [
      "WARNING:tensorflow:Unresolved object in checkpoint: (root).layer_with_weights-4.keras_api.layer_metrics\n"
     ]
    },
    {
     "name": "stderr",
     "output_type": "stream",
     "text": [
      "WARNING:tensorflow:Unresolved object in checkpoint: (root).layer_with_weights-4.keras_api.layer_metrics\n"
     ]
    },
    {
     "name": "stdout",
     "output_type": "stream",
     "text": [
      "WARNING:tensorflow:Unresolved object in checkpoint: (root).layer_with_weights-4.keras_api.non_trainable_variables\n"
     ]
    },
    {
     "name": "stderr",
     "output_type": "stream",
     "text": [
      "WARNING:tensorflow:Unresolved object in checkpoint: (root).layer_with_weights-4.keras_api.non_trainable_variables\n"
     ]
    },
    {
     "name": "stdout",
     "output_type": "stream",
     "text": [
      "WARNING:tensorflow:Unresolved object in checkpoint: (root).layer_with_weights-4.keras_api.metrics\n"
     ]
    },
    {
     "name": "stderr",
     "output_type": "stream",
     "text": [
      "WARNING:tensorflow:Unresolved object in checkpoint: (root).layer_with_weights-4.keras_api.metrics\n"
     ]
    },
    {
     "name": "stdout",
     "output_type": "stream",
     "text": [
      "WARNING:tensorflow:Unresolved object in checkpoint: (root).layer_with_weights-4.keras_api.layers\n"
     ]
    },
    {
     "name": "stderr",
     "output_type": "stream",
     "text": [
      "WARNING:tensorflow:Unresolved object in checkpoint: (root).layer_with_weights-4.keras_api.layers\n"
     ]
    },
    {
     "name": "stdout",
     "output_type": "stream",
     "text": [
      "WARNING:tensorflow:Unresolved object in checkpoint: (root).layer_with_weights-4.keras_api.layer_regularization_losses\n"
     ]
    },
    {
     "name": "stderr",
     "output_type": "stream",
     "text": [
      "WARNING:tensorflow:Unresolved object in checkpoint: (root).layer_with_weights-4.keras_api.layer_regularization_losses\n"
     ]
    },
    {
     "name": "stdout",
     "output_type": "stream",
     "text": [
      "WARNING:tensorflow:Unresolved object in checkpoint: (root).layer_with_weights-4.keras_api.states\n"
     ]
    },
    {
     "name": "stderr",
     "output_type": "stream",
     "text": [
      "WARNING:tensorflow:Unresolved object in checkpoint: (root).layer_with_weights-4.keras_api.states\n"
     ]
    },
    {
     "name": "stdout",
     "output_type": "stream",
     "text": [
      "WARNING:tensorflow:Unresolved object in checkpoint: (root).layer_with_weights-5.cell.trainable_variables\n"
     ]
    },
    {
     "name": "stderr",
     "output_type": "stream",
     "text": [
      "WARNING:tensorflow:Unresolved object in checkpoint: (root).layer_with_weights-5.cell.trainable_variables\n"
     ]
    },
    {
     "name": "stdout",
     "output_type": "stream",
     "text": [
      "WARNING:tensorflow:Unresolved object in checkpoint: (root).layer_with_weights-5.cell.variables\n"
     ]
    },
    {
     "name": "stderr",
     "output_type": "stream",
     "text": [
      "WARNING:tensorflow:Unresolved object in checkpoint: (root).layer_with_weights-5.cell.variables\n"
     ]
    },
    {
     "name": "stdout",
     "output_type": "stream",
     "text": [
      "WARNING:tensorflow:Unresolved object in checkpoint: (root).layer_with_weights-5.cell.regularization_losses\n"
     ]
    },
    {
     "name": "stderr",
     "output_type": "stream",
     "text": [
      "WARNING:tensorflow:Unresolved object in checkpoint: (root).layer_with_weights-5.cell.regularization_losses\n"
     ]
    },
    {
     "name": "stdout",
     "output_type": "stream",
     "text": [
      "WARNING:tensorflow:Unresolved object in checkpoint: (root).layer_with_weights-5.cell.keras_api\n"
     ]
    },
    {
     "name": "stderr",
     "output_type": "stream",
     "text": [
      "WARNING:tensorflow:Unresolved object in checkpoint: (root).layer_with_weights-5.cell.keras_api\n"
     ]
    },
    {
     "name": "stdout",
     "output_type": "stream",
     "text": [
      "WARNING:tensorflow:Unresolved object in checkpoint: (root).layer_with_weights-5.keras_api.layer_metrics\n"
     ]
    },
    {
     "name": "stderr",
     "output_type": "stream",
     "text": [
      "WARNING:tensorflow:Unresolved object in checkpoint: (root).layer_with_weights-5.keras_api.layer_metrics\n"
     ]
    },
    {
     "name": "stdout",
     "output_type": "stream",
     "text": [
      "WARNING:tensorflow:Unresolved object in checkpoint: (root).layer_with_weights-5.keras_api.non_trainable_variables\n"
     ]
    },
    {
     "name": "stderr",
     "output_type": "stream",
     "text": [
      "WARNING:tensorflow:Unresolved object in checkpoint: (root).layer_with_weights-5.keras_api.non_trainable_variables\n"
     ]
    },
    {
     "name": "stdout",
     "output_type": "stream",
     "text": [
      "WARNING:tensorflow:Unresolved object in checkpoint: (root).layer_with_weights-5.keras_api.metrics\n"
     ]
    },
    {
     "name": "stderr",
     "output_type": "stream",
     "text": [
      "WARNING:tensorflow:Unresolved object in checkpoint: (root).layer_with_weights-5.keras_api.metrics\n"
     ]
    },
    {
     "name": "stdout",
     "output_type": "stream",
     "text": [
      "WARNING:tensorflow:Unresolved object in checkpoint: (root).layer_with_weights-5.keras_api.layers\n"
     ]
    },
    {
     "name": "stderr",
     "output_type": "stream",
     "text": [
      "WARNING:tensorflow:Unresolved object in checkpoint: (root).layer_with_weights-5.keras_api.layers\n"
     ]
    },
    {
     "name": "stdout",
     "output_type": "stream",
     "text": [
      "WARNING:tensorflow:Unresolved object in checkpoint: (root).layer_with_weights-5.keras_api.layer_regularization_losses\n"
     ]
    },
    {
     "name": "stderr",
     "output_type": "stream",
     "text": [
      "WARNING:tensorflow:Unresolved object in checkpoint: (root).layer_with_weights-5.keras_api.layer_regularization_losses\n"
     ]
    },
    {
     "name": "stdout",
     "output_type": "stream",
     "text": [
      "WARNING:tensorflow:Unresolved object in checkpoint: (root).layer_with_weights-5.keras_api.states\n"
     ]
    },
    {
     "name": "stderr",
     "output_type": "stream",
     "text": [
      "WARNING:tensorflow:Unresolved object in checkpoint: (root).layer_with_weights-5.keras_api.states\n"
     ]
    },
    {
     "name": "stdout",
     "output_type": "stream",
     "text": [
      "WARNING:tensorflow:Unresolved object in checkpoint: (root).layer-12.keras_api.layer_metrics\n"
     ]
    },
    {
     "name": "stderr",
     "output_type": "stream",
     "text": [
      "WARNING:tensorflow:Unresolved object in checkpoint: (root).layer-12.keras_api.layer_metrics\n"
     ]
    },
    {
     "name": "stdout",
     "output_type": "stream",
     "text": [
      "WARNING:tensorflow:Unresolved object in checkpoint: (root).layer-12.keras_api.non_trainable_variables\n"
     ]
    },
    {
     "name": "stderr",
     "output_type": "stream",
     "text": [
      "WARNING:tensorflow:Unresolved object in checkpoint: (root).layer-12.keras_api.non_trainable_variables\n"
     ]
    },
    {
     "name": "stdout",
     "output_type": "stream",
     "text": [
      "WARNING:tensorflow:Unresolved object in checkpoint: (root).layer-12.keras_api.metrics\n"
     ]
    },
    {
     "name": "stderr",
     "output_type": "stream",
     "text": [
      "WARNING:tensorflow:Unresolved object in checkpoint: (root).layer-12.keras_api.metrics\n"
     ]
    },
    {
     "name": "stdout",
     "output_type": "stream",
     "text": [
      "WARNING:tensorflow:Unresolved object in checkpoint: (root).layer-12.keras_api.layer_regularization_losses\n"
     ]
    },
    {
     "name": "stderr",
     "output_type": "stream",
     "text": [
      "WARNING:tensorflow:Unresolved object in checkpoint: (root).layer-12.keras_api.layer_regularization_losses\n"
     ]
    },
    {
     "name": "stdout",
     "output_type": "stream",
     "text": [
      "WARNING:tensorflow:Unresolved object in checkpoint: (root).layer-12.keras_api.layers\n"
     ]
    },
    {
     "name": "stderr",
     "output_type": "stream",
     "text": [
      "WARNING:tensorflow:Unresolved object in checkpoint: (root).layer-12.keras_api.layers\n"
     ]
    },
    {
     "name": "stdout",
     "output_type": "stream",
     "text": [
      "WARNING:tensorflow:Unresolved object in checkpoint: (root).layer_with_weights-6.keras_api.layer_metrics\n"
     ]
    },
    {
     "name": "stderr",
     "output_type": "stream",
     "text": [
      "WARNING:tensorflow:Unresolved object in checkpoint: (root).layer_with_weights-6.keras_api.layer_metrics\n"
     ]
    },
    {
     "name": "stdout",
     "output_type": "stream",
     "text": [
      "WARNING:tensorflow:Unresolved object in checkpoint: (root).layer_with_weights-6.keras_api.non_trainable_variables\n"
     ]
    },
    {
     "name": "stderr",
     "output_type": "stream",
     "text": [
      "WARNING:tensorflow:Unresolved object in checkpoint: (root).layer_with_weights-6.keras_api.non_trainable_variables\n"
     ]
    },
    {
     "name": "stdout",
     "output_type": "stream",
     "text": [
      "WARNING:tensorflow:Unresolved object in checkpoint: (root).layer_with_weights-6.keras_api.metrics\n"
     ]
    },
    {
     "name": "stderr",
     "output_type": "stream",
     "text": [
      "WARNING:tensorflow:Unresolved object in checkpoint: (root).layer_with_weights-6.keras_api.metrics\n"
     ]
    },
    {
     "name": "stdout",
     "output_type": "stream",
     "text": [
      "WARNING:tensorflow:Unresolved object in checkpoint: (root).layer_with_weights-6.keras_api.layer_regularization_losses\n"
     ]
    },
    {
     "name": "stderr",
     "output_type": "stream",
     "text": [
      "WARNING:tensorflow:Unresolved object in checkpoint: (root).layer_with_weights-6.keras_api.layer_regularization_losses\n"
     ]
    },
    {
     "name": "stdout",
     "output_type": "stream",
     "text": [
      "WARNING:tensorflow:Unresolved object in checkpoint: (root).layer_with_weights-6.keras_api.layers\n"
     ]
    },
    {
     "name": "stderr",
     "output_type": "stream",
     "text": [
      "WARNING:tensorflow:Unresolved object in checkpoint: (root).layer_with_weights-6.keras_api.layers\n"
     ]
    },
    {
     "name": "stdout",
     "output_type": "stream",
     "text": [
      "WARNING:tensorflow:Unresolved object in checkpoint: (root).layer-14.keras_api.layer_metrics\n"
     ]
    },
    {
     "name": "stderr",
     "output_type": "stream",
     "text": [
      "WARNING:tensorflow:Unresolved object in checkpoint: (root).layer-14.keras_api.layer_metrics\n"
     ]
    },
    {
     "name": "stdout",
     "output_type": "stream",
     "text": [
      "WARNING:tensorflow:Unresolved object in checkpoint: (root).layer-14.keras_api.non_trainable_variables\n"
     ]
    },
    {
     "name": "stderr",
     "output_type": "stream",
     "text": [
      "WARNING:tensorflow:Unresolved object in checkpoint: (root).layer-14.keras_api.non_trainable_variables\n"
     ]
    },
    {
     "name": "stdout",
     "output_type": "stream",
     "text": [
      "WARNING:tensorflow:Unresolved object in checkpoint: (root).layer-14.keras_api.metrics\n"
     ]
    },
    {
     "name": "stderr",
     "output_type": "stream",
     "text": [
      "WARNING:tensorflow:Unresolved object in checkpoint: (root).layer-14.keras_api.metrics\n"
     ]
    },
    {
     "name": "stdout",
     "output_type": "stream",
     "text": [
      "WARNING:tensorflow:Unresolved object in checkpoint: (root).layer-14.keras_api.layer_regularization_losses\n"
     ]
    },
    {
     "name": "stderr",
     "output_type": "stream",
     "text": [
      "WARNING:tensorflow:Unresolved object in checkpoint: (root).layer-14.keras_api.layer_regularization_losses\n"
     ]
    },
    {
     "name": "stdout",
     "output_type": "stream",
     "text": [
      "WARNING:tensorflow:Unresolved object in checkpoint: (root).layer-14.keras_api.layers\n"
     ]
    },
    {
     "name": "stderr",
     "output_type": "stream",
     "text": [
      "WARNING:tensorflow:Unresolved object in checkpoint: (root).layer-14.keras_api.layers\n"
     ]
    },
    {
     "name": "stdout",
     "output_type": "stream",
     "text": [
      "WARNING:tensorflow:Unresolved object in checkpoint: (root).layer_with_weights-7.keras_api.layer_metrics\n"
     ]
    },
    {
     "name": "stderr",
     "output_type": "stream",
     "text": [
      "WARNING:tensorflow:Unresolved object in checkpoint: (root).layer_with_weights-7.keras_api.layer_metrics\n"
     ]
    },
    {
     "name": "stdout",
     "output_type": "stream",
     "text": [
      "WARNING:tensorflow:Unresolved object in checkpoint: (root).layer_with_weights-7.keras_api.non_trainable_variables\n"
     ]
    },
    {
     "name": "stderr",
     "output_type": "stream",
     "text": [
      "WARNING:tensorflow:Unresolved object in checkpoint: (root).layer_with_weights-7.keras_api.non_trainable_variables\n"
     ]
    },
    {
     "name": "stdout",
     "output_type": "stream",
     "text": [
      "WARNING:tensorflow:Unresolved object in checkpoint: (root).layer_with_weights-7.keras_api.metrics\n"
     ]
    },
    {
     "name": "stderr",
     "output_type": "stream",
     "text": [
      "WARNING:tensorflow:Unresolved object in checkpoint: (root).layer_with_weights-7.keras_api.metrics\n"
     ]
    },
    {
     "name": "stdout",
     "output_type": "stream",
     "text": [
      "WARNING:tensorflow:Unresolved object in checkpoint: (root).layer_with_weights-7.keras_api.layer_regularization_losses\n"
     ]
    },
    {
     "name": "stderr",
     "output_type": "stream",
     "text": [
      "WARNING:tensorflow:Unresolved object in checkpoint: (root).layer_with_weights-7.keras_api.layer_regularization_losses\n"
     ]
    },
    {
     "name": "stdout",
     "output_type": "stream",
     "text": [
      "WARNING:tensorflow:Unresolved object in checkpoint: (root).layer_with_weights-7.keras_api.layers\n"
     ]
    },
    {
     "name": "stderr",
     "output_type": "stream",
     "text": [
      "WARNING:tensorflow:Unresolved object in checkpoint: (root).layer_with_weights-7.keras_api.layers\n"
     ]
    },
    {
     "name": "stdout",
     "output_type": "stream",
     "text": [
      "WARNING:tensorflow:Unresolved object in checkpoint: (root).layer-16.keras_api.layer_metrics\n"
     ]
    },
    {
     "name": "stderr",
     "output_type": "stream",
     "text": [
      "WARNING:tensorflow:Unresolved object in checkpoint: (root).layer-16.keras_api.layer_metrics\n"
     ]
    },
    {
     "name": "stdout",
     "output_type": "stream",
     "text": [
      "WARNING:tensorflow:Unresolved object in checkpoint: (root).layer-16.keras_api.non_trainable_variables\n"
     ]
    },
    {
     "name": "stderr",
     "output_type": "stream",
     "text": [
      "WARNING:tensorflow:Unresolved object in checkpoint: (root).layer-16.keras_api.non_trainable_variables\n"
     ]
    },
    {
     "name": "stdout",
     "output_type": "stream",
     "text": [
      "WARNING:tensorflow:Unresolved object in checkpoint: (root).layer-16.keras_api.metrics\n"
     ]
    },
    {
     "name": "stderr",
     "output_type": "stream",
     "text": [
      "WARNING:tensorflow:Unresolved object in checkpoint: (root).layer-16.keras_api.metrics\n"
     ]
    },
    {
     "name": "stdout",
     "output_type": "stream",
     "text": [
      "WARNING:tensorflow:Unresolved object in checkpoint: (root).layer-16.keras_api.layer_regularization_losses\n"
     ]
    },
    {
     "name": "stderr",
     "output_type": "stream",
     "text": [
      "WARNING:tensorflow:Unresolved object in checkpoint: (root).layer-16.keras_api.layer_regularization_losses\n"
     ]
    },
    {
     "name": "stdout",
     "output_type": "stream",
     "text": [
      "WARNING:tensorflow:Unresolved object in checkpoint: (root).layer-16.keras_api.layers\n"
     ]
    },
    {
     "name": "stderr",
     "output_type": "stream",
     "text": [
      "WARNING:tensorflow:Unresolved object in checkpoint: (root).layer-16.keras_api.layers\n"
     ]
    },
    {
     "name": "stdout",
     "output_type": "stream",
     "text": [
      "WARNING:tensorflow:Unresolved object in checkpoint: (root).keras_api.metrics.0\n"
     ]
    },
    {
     "name": "stderr",
     "output_type": "stream",
     "text": [
      "WARNING:tensorflow:Unresolved object in checkpoint: (root).keras_api.metrics.0\n"
     ]
    },
    {
     "name": "stdout",
     "output_type": "stream",
     "text": [
      "WARNING:tensorflow:Unresolved object in checkpoint: (root).keras_api.metrics.1\n"
     ]
    },
    {
     "name": "stderr",
     "output_type": "stream",
     "text": [
      "WARNING:tensorflow:Unresolved object in checkpoint: (root).keras_api.metrics.1\n"
     ]
    },
    {
     "name": "stdout",
     "output_type": "stream",
     "text": [
      "WARNING:tensorflow:Unresolved object in checkpoint: (root).layer_with_weights-4.cell.keras_api.layer_metrics\n"
     ]
    },
    {
     "name": "stderr",
     "output_type": "stream",
     "text": [
      "WARNING:tensorflow:Unresolved object in checkpoint: (root).layer_with_weights-4.cell.keras_api.layer_metrics\n"
     ]
    },
    {
     "name": "stdout",
     "output_type": "stream",
     "text": [
      "WARNING:tensorflow:Unresolved object in checkpoint: (root).layer_with_weights-4.cell.keras_api.non_trainable_variables\n"
     ]
    },
    {
     "name": "stderr",
     "output_type": "stream",
     "text": [
      "WARNING:tensorflow:Unresolved object in checkpoint: (root).layer_with_weights-4.cell.keras_api.non_trainable_variables\n"
     ]
    },
    {
     "name": "stdout",
     "output_type": "stream",
     "text": [
      "WARNING:tensorflow:Unresolved object in checkpoint: (root).layer_with_weights-4.cell.keras_api.metrics\n"
     ]
    },
    {
     "name": "stderr",
     "output_type": "stream",
     "text": [
      "WARNING:tensorflow:Unresolved object in checkpoint: (root).layer_with_weights-4.cell.keras_api.metrics\n"
     ]
    },
    {
     "name": "stdout",
     "output_type": "stream",
     "text": [
      "WARNING:tensorflow:Unresolved object in checkpoint: (root).layer_with_weights-4.cell.keras_api.layer_regularization_losses\n"
     ]
    },
    {
     "name": "stderr",
     "output_type": "stream",
     "text": [
      "WARNING:tensorflow:Unresolved object in checkpoint: (root).layer_with_weights-4.cell.keras_api.layer_regularization_losses\n"
     ]
    },
    {
     "name": "stdout",
     "output_type": "stream",
     "text": [
      "WARNING:tensorflow:Unresolved object in checkpoint: (root).layer_with_weights-4.cell.keras_api.layers\n"
     ]
    },
    {
     "name": "stderr",
     "output_type": "stream",
     "text": [
      "WARNING:tensorflow:Unresolved object in checkpoint: (root).layer_with_weights-4.cell.keras_api.layers\n"
     ]
    },
    {
     "name": "stdout",
     "output_type": "stream",
     "text": [
      "WARNING:tensorflow:Unresolved object in checkpoint: (root).layer_with_weights-5.cell.keras_api.layer_metrics\n"
     ]
    },
    {
     "name": "stderr",
     "output_type": "stream",
     "text": [
      "WARNING:tensorflow:Unresolved object in checkpoint: (root).layer_with_weights-5.cell.keras_api.layer_metrics\n"
     ]
    },
    {
     "name": "stdout",
     "output_type": "stream",
     "text": [
      "WARNING:tensorflow:Unresolved object in checkpoint: (root).layer_with_weights-5.cell.keras_api.non_trainable_variables\n"
     ]
    },
    {
     "name": "stderr",
     "output_type": "stream",
     "text": [
      "WARNING:tensorflow:Unresolved object in checkpoint: (root).layer_with_weights-5.cell.keras_api.non_trainable_variables\n"
     ]
    },
    {
     "name": "stdout",
     "output_type": "stream",
     "text": [
      "WARNING:tensorflow:Unresolved object in checkpoint: (root).layer_with_weights-5.cell.keras_api.metrics\n"
     ]
    },
    {
     "name": "stderr",
     "output_type": "stream",
     "text": [
      "WARNING:tensorflow:Unresolved object in checkpoint: (root).layer_with_weights-5.cell.keras_api.metrics\n"
     ]
    },
    {
     "name": "stdout",
     "output_type": "stream",
     "text": [
      "WARNING:tensorflow:Unresolved object in checkpoint: (root).layer_with_weights-5.cell.keras_api.layer_regularization_losses\n"
     ]
    },
    {
     "name": "stderr",
     "output_type": "stream",
     "text": [
      "WARNING:tensorflow:Unresolved object in checkpoint: (root).layer_with_weights-5.cell.keras_api.layer_regularization_losses\n"
     ]
    },
    {
     "name": "stdout",
     "output_type": "stream",
     "text": [
      "WARNING:tensorflow:Unresolved object in checkpoint: (root).layer_with_weights-5.cell.keras_api.layers\n"
     ]
    },
    {
     "name": "stderr",
     "output_type": "stream",
     "text": [
      "WARNING:tensorflow:Unresolved object in checkpoint: (root).layer_with_weights-5.cell.keras_api.layers\n"
     ]
    },
    {
     "name": "stdout",
     "output_type": "stream",
     "text": [
      "WARNING:tensorflow:Unresolved object in checkpoint: (root).keras_api.metrics.0.total\n"
     ]
    },
    {
     "name": "stderr",
     "output_type": "stream",
     "text": [
      "WARNING:tensorflow:Unresolved object in checkpoint: (root).keras_api.metrics.0.total\n"
     ]
    },
    {
     "name": "stdout",
     "output_type": "stream",
     "text": [
      "WARNING:tensorflow:Unresolved object in checkpoint: (root).keras_api.metrics.0.count\n"
     ]
    },
    {
     "name": "stderr",
     "output_type": "stream",
     "text": [
      "WARNING:tensorflow:Unresolved object in checkpoint: (root).keras_api.metrics.0.count\n"
     ]
    },
    {
     "name": "stdout",
     "output_type": "stream",
     "text": [
      "WARNING:tensorflow:Unresolved object in checkpoint: (root).keras_api.metrics.0.variables\n"
     ]
    },
    {
     "name": "stderr",
     "output_type": "stream",
     "text": [
      "WARNING:tensorflow:Unresolved object in checkpoint: (root).keras_api.metrics.0.variables\n"
     ]
    },
    {
     "name": "stdout",
     "output_type": "stream",
     "text": [
      "WARNING:tensorflow:Unresolved object in checkpoint: (root).keras_api.metrics.0.keras_api\n"
     ]
    },
    {
     "name": "stderr",
     "output_type": "stream",
     "text": [
      "WARNING:tensorflow:Unresolved object in checkpoint: (root).keras_api.metrics.0.keras_api\n"
     ]
    },
    {
     "name": "stdout",
     "output_type": "stream",
     "text": [
      "WARNING:tensorflow:Unresolved object in checkpoint: (root).keras_api.metrics.1.total\n"
     ]
    },
    {
     "name": "stderr",
     "output_type": "stream",
     "text": [
      "WARNING:tensorflow:Unresolved object in checkpoint: (root).keras_api.metrics.1.total\n"
     ]
    },
    {
     "name": "stdout",
     "output_type": "stream",
     "text": [
      "WARNING:tensorflow:Unresolved object in checkpoint: (root).keras_api.metrics.1.count\n"
     ]
    },
    {
     "name": "stderr",
     "output_type": "stream",
     "text": [
      "WARNING:tensorflow:Unresolved object in checkpoint: (root).keras_api.metrics.1.count\n"
     ]
    },
    {
     "name": "stdout",
     "output_type": "stream",
     "text": [
      "WARNING:tensorflow:Unresolved object in checkpoint: (root).keras_api.metrics.1._fn_kwargs\n"
     ]
    },
    {
     "name": "stderr",
     "output_type": "stream",
     "text": [
      "WARNING:tensorflow:Unresolved object in checkpoint: (root).keras_api.metrics.1._fn_kwargs\n"
     ]
    },
    {
     "name": "stdout",
     "output_type": "stream",
     "text": [
      "WARNING:tensorflow:Unresolved object in checkpoint: (root).keras_api.metrics.1.variables\n"
     ]
    },
    {
     "name": "stderr",
     "output_type": "stream",
     "text": [
      "WARNING:tensorflow:Unresolved object in checkpoint: (root).keras_api.metrics.1.variables\n"
     ]
    },
    {
     "name": "stdout",
     "output_type": "stream",
     "text": [
      "WARNING:tensorflow:Unresolved object in checkpoint: (root).keras_api.metrics.1.keras_api\n"
     ]
    },
    {
     "name": "stderr",
     "output_type": "stream",
     "text": [
      "WARNING:tensorflow:Unresolved object in checkpoint: (root).keras_api.metrics.1.keras_api\n"
     ]
    },
    {
     "name": "stdout",
     "output_type": "stream",
     "text": [
      "WARNING:tensorflow:A checkpoint was restored (e.g. tf.train.Checkpoint.restore or tf.keras.Model.load_weights) but not all checkpointed values were used. See above for specific issues. Use expect_partial() on the load status object, e.g. tf.train.Checkpoint.restore(...).expect_partial(), to silence these warnings, or use assert_consumed() to make the check explicit. See https://www.tensorflow.org/guide/checkpoint#loading_mechanics for details.\n"
     ]
    },
    {
     "name": "stderr",
     "output_type": "stream",
     "text": [
      "WARNING:tensorflow:A checkpoint was restored (e.g. tf.train.Checkpoint.restore or tf.keras.Model.load_weights) but not all checkpointed values were used. See above for specific issues. Use expect_partial() on the load status object, e.g. tf.train.Checkpoint.restore(...).expect_partial(), to silence these warnings, or use assert_consumed() to make the check explicit. See https://www.tensorflow.org/guide/checkpoint#loading_mechanics for details.\n"
     ]
    },
    {
     "name": "stdout",
     "output_type": "stream",
     "text": [
      "INFO:tensorflow:Assets written to: models/ser_trial/assets\n"
     ]
    },
    {
     "name": "stderr",
     "output_type": "stream",
     "text": [
      "INFO:tensorflow:Assets written to: models/ser_trial/assets\n"
     ]
    },
    {
     "name": "stdout",
     "output_type": "stream",
     "text": [
      "Epoch 2/150\n",
      "63/63 - 1s - loss: 2.6770 - accuracy: 0.2133 - val_loss: 2.1107 - val_accuracy: 0.2269\n",
      "INFO:tensorflow:Assets written to: models/ser_trial/assets\n"
     ]
    },
    {
     "name": "stderr",
     "output_type": "stream",
     "text": [
      "INFO:tensorflow:Assets written to: models/ser_trial/assets\n"
     ]
    },
    {
     "name": "stdout",
     "output_type": "stream",
     "text": [
      "Epoch 3/150\n",
      "63/63 - 1s - loss: 2.5002 - accuracy: 0.2073 - val_loss: 2.1299 - val_accuracy: 0.2338\n",
      "INFO:tensorflow:Assets written to: models/ser_trial/assets\n"
     ]
    },
    {
     "name": "stderr",
     "output_type": "stream",
     "text": [
      "INFO:tensorflow:Assets written to: models/ser_trial/assets\n"
     ]
    },
    {
     "name": "stdout",
     "output_type": "stream",
     "text": [
      "Epoch 4/150\n",
      "63/63 - 2s - loss: 2.3727 - accuracy: 0.2321 - val_loss: 2.1622 - val_accuracy: 0.1875\n",
      "Epoch 5/150\n",
      "63/63 - 2s - loss: 2.2643 - accuracy: 0.2510 - val_loss: 2.1766 - val_accuracy: 0.2616\n",
      "INFO:tensorflow:Assets written to: models/ser_trial/assets\n"
     ]
    },
    {
     "name": "stderr",
     "output_type": "stream",
     "text": [
      "INFO:tensorflow:Assets written to: models/ser_trial/assets\n"
     ]
    },
    {
     "name": "stdout",
     "output_type": "stream",
     "text": [
      "Epoch 6/150\n",
      "63/63 - 1s - loss: 2.2162 - accuracy: 0.2431 - val_loss: 2.2109 - val_accuracy: 0.1875\n",
      "Epoch 7/150\n",
      "63/63 - 2s - loss: 2.1322 - accuracy: 0.2688 - val_loss: 2.1457 - val_accuracy: 0.2338\n",
      "Epoch 8/150\n",
      "63/63 - 2s - loss: 2.0274 - accuracy: 0.3125 - val_loss: 2.0634 - val_accuracy: 0.2708\n",
      "INFO:tensorflow:Assets written to: models/ser_trial/assets\n"
     ]
    },
    {
     "name": "stderr",
     "output_type": "stream",
     "text": [
      "INFO:tensorflow:Assets written to: models/ser_trial/assets\n"
     ]
    },
    {
     "name": "stdout",
     "output_type": "stream",
     "text": [
      "Epoch 9/150\n",
      "63/63 - 1s - loss: 2.0724 - accuracy: 0.2847 - val_loss: 1.9953 - val_accuracy: 0.2755\n",
      "INFO:tensorflow:Assets written to: models/ser_trial/assets\n"
     ]
    },
    {
     "name": "stderr",
     "output_type": "stream",
     "text": [
      "INFO:tensorflow:Assets written to: models/ser_trial/assets\n"
     ]
    },
    {
     "name": "stdout",
     "output_type": "stream",
     "text": [
      "Epoch 10/150\n",
      "63/63 - 1s - loss: 2.0607 - accuracy: 0.2847 - val_loss: 1.9296 - val_accuracy: 0.2986\n",
      "INFO:tensorflow:Assets written to: models/ser_trial/assets\n"
     ]
    },
    {
     "name": "stderr",
     "output_type": "stream",
     "text": [
      "INFO:tensorflow:Assets written to: models/ser_trial/assets\n"
     ]
    },
    {
     "name": "stdout",
     "output_type": "stream",
     "text": [
      "Epoch 11/150\n",
      "63/63 - 1s - loss: 1.9602 - accuracy: 0.3115 - val_loss: 1.6766 - val_accuracy: 0.3588\n",
      "INFO:tensorflow:Assets written to: models/ser_trial/assets\n"
     ]
    },
    {
     "name": "stderr",
     "output_type": "stream",
     "text": [
      "INFO:tensorflow:Assets written to: models/ser_trial/assets\n"
     ]
    },
    {
     "name": "stdout",
     "output_type": "stream",
     "text": [
      "Epoch 12/150\n",
      "63/63 - 1s - loss: 1.9230 - accuracy: 0.3095 - val_loss: 1.6921 - val_accuracy: 0.3310\n",
      "Epoch 13/150\n",
      "63/63 - 1s - loss: 1.9203 - accuracy: 0.3145 - val_loss: 1.5874 - val_accuracy: 0.3935\n",
      "INFO:tensorflow:Assets written to: models/ser_trial/assets\n"
     ]
    },
    {
     "name": "stderr",
     "output_type": "stream",
     "text": [
      "INFO:tensorflow:Assets written to: models/ser_trial/assets\n"
     ]
    },
    {
     "name": "stdout",
     "output_type": "stream",
     "text": [
      "Epoch 14/150\n",
      "63/63 - 2s - loss: 1.8818 - accuracy: 0.3234 - val_loss: 1.5487 - val_accuracy: 0.4028\n",
      "INFO:tensorflow:Assets written to: models/ser_trial/assets\n"
     ]
    },
    {
     "name": "stderr",
     "output_type": "stream",
     "text": [
      "INFO:tensorflow:Assets written to: models/ser_trial/assets\n"
     ]
    },
    {
     "name": "stdout",
     "output_type": "stream",
     "text": [
      "Epoch 15/150\n",
      "63/63 - 1s - loss: 1.7999 - accuracy: 0.3690 - val_loss: 1.5972 - val_accuracy: 0.3519\n",
      "Epoch 16/150\n",
      "63/63 - 1s - loss: 1.8242 - accuracy: 0.3542 - val_loss: 1.4881 - val_accuracy: 0.4329\n",
      "INFO:tensorflow:Assets written to: models/ser_trial/assets\n"
     ]
    },
    {
     "name": "stderr",
     "output_type": "stream",
     "text": [
      "INFO:tensorflow:Assets written to: models/ser_trial/assets\n"
     ]
    },
    {
     "name": "stdout",
     "output_type": "stream",
     "text": [
      "Epoch 17/150\n",
      "63/63 - 1s - loss: 1.8234 - accuracy: 0.3323 - val_loss: 1.5391 - val_accuracy: 0.3889\n",
      "Epoch 18/150\n",
      "63/63 - 1s - loss: 1.8076 - accuracy: 0.3452 - val_loss: 1.5081 - val_accuracy: 0.4005\n",
      "Epoch 19/150\n",
      "63/63 - 1s - loss: 1.7544 - accuracy: 0.3621 - val_loss: 1.4724 - val_accuracy: 0.4468\n",
      "INFO:tensorflow:Assets written to: models/ser_trial/assets\n"
     ]
    },
    {
     "name": "stderr",
     "output_type": "stream",
     "text": [
      "INFO:tensorflow:Assets written to: models/ser_trial/assets\n"
     ]
    },
    {
     "name": "stdout",
     "output_type": "stream",
     "text": [
      "Epoch 20/150\n",
      "63/63 - 1s - loss: 1.7925 - accuracy: 0.3611 - val_loss: 1.5183 - val_accuracy: 0.4051\n",
      "Epoch 21/150\n",
      "63/63 - 1s - loss: 1.7364 - accuracy: 0.3681 - val_loss: 1.5099 - val_accuracy: 0.4120\n",
      "Epoch 22/150\n",
      "63/63 - 1s - loss: 1.7466 - accuracy: 0.3472 - val_loss: 1.4684 - val_accuracy: 0.4097\n",
      "Epoch 23/150\n",
      "63/63 - 1s - loss: 1.6614 - accuracy: 0.4038 - val_loss: 1.4422 - val_accuracy: 0.4282\n",
      "Epoch 24/150\n",
      "63/63 - 1s - loss: 1.6751 - accuracy: 0.3790 - val_loss: 1.5076 - val_accuracy: 0.4144\n",
      "Epoch 25/150\n",
      "63/63 - 1s - loss: 1.6438 - accuracy: 0.3919 - val_loss: 1.5043 - val_accuracy: 0.4259\n",
      "Epoch 26/150\n",
      "63/63 - 2s - loss: 1.6596 - accuracy: 0.3859 - val_loss: 1.4351 - val_accuracy: 0.4444\n",
      "Epoch 27/150\n",
      "63/63 - 2s - loss: 1.6025 - accuracy: 0.4087 - val_loss: 1.4599 - val_accuracy: 0.4306\n",
      "Epoch 28/150\n",
      "63/63 - 1s - loss: 1.6396 - accuracy: 0.3790 - val_loss: 1.4744 - val_accuracy: 0.4421\n",
      "Epoch 29/150\n",
      "63/63 - 1s - loss: 1.6014 - accuracy: 0.4048 - val_loss: 1.4139 - val_accuracy: 0.4606\n",
      "INFO:tensorflow:Assets written to: models/ser_trial/assets\n"
     ]
    },
    {
     "name": "stderr",
     "output_type": "stream",
     "text": [
      "INFO:tensorflow:Assets written to: models/ser_trial/assets\n"
     ]
    },
    {
     "name": "stdout",
     "output_type": "stream",
     "text": [
      "Epoch 30/150\n",
      "63/63 - 2s - loss: 1.5636 - accuracy: 0.4325 - val_loss: 1.5073 - val_accuracy: 0.4120\n",
      "Epoch 31/150\n",
      "63/63 - 2s - loss: 1.5836 - accuracy: 0.4018 - val_loss: 1.4403 - val_accuracy: 0.4537\n",
      "Epoch 32/150\n",
      "63/63 - 2s - loss: 1.5771 - accuracy: 0.4097 - val_loss: 1.4665 - val_accuracy: 0.4375\n",
      "Epoch 33/150\n",
      "63/63 - 2s - loss: 1.4893 - accuracy: 0.4692 - val_loss: 1.4806 - val_accuracy: 0.4144\n",
      "Epoch 34/150\n",
      "63/63 - 1s - loss: 1.5282 - accuracy: 0.4296 - val_loss: 1.4294 - val_accuracy: 0.4213\n",
      "Epoch 35/150\n",
      "63/63 - 1s - loss: 1.4647 - accuracy: 0.4742 - val_loss: 1.4770 - val_accuracy: 0.4282\n",
      "Epoch 36/150\n",
      "63/63 - 1s - loss: 1.4569 - accuracy: 0.4563 - val_loss: 1.4069 - val_accuracy: 0.4630\n",
      "INFO:tensorflow:Assets written to: models/ser_trial/assets\n"
     ]
    },
    {
     "name": "stderr",
     "output_type": "stream",
     "text": [
      "INFO:tensorflow:Assets written to: models/ser_trial/assets\n"
     ]
    },
    {
     "name": "stdout",
     "output_type": "stream",
     "text": [
      "Epoch 37/150\n",
      "63/63 - 1s - loss: 1.4277 - accuracy: 0.4692 - val_loss: 1.4270 - val_accuracy: 0.4444\n",
      "Epoch 38/150\n",
      "63/63 - 1s - loss: 1.4613 - accuracy: 0.4563 - val_loss: 1.4329 - val_accuracy: 0.4630\n",
      "Epoch 39/150\n",
      "63/63 - 1s - loss: 1.4002 - accuracy: 0.4653 - val_loss: 1.3675 - val_accuracy: 0.4583\n",
      "Epoch 40/150\n",
      "63/63 - 1s - loss: 1.3454 - accuracy: 0.5040 - val_loss: 1.3773 - val_accuracy: 0.4375\n",
      "Epoch 41/150\n",
      "63/63 - 1s - loss: 1.4006 - accuracy: 0.4812 - val_loss: 1.3790 - val_accuracy: 0.4491\n",
      "Epoch 42/150\n",
      "63/63 - 1s - loss: 1.3354 - accuracy: 0.5119 - val_loss: 1.4141 - val_accuracy: 0.4329\n",
      "Epoch 43/150\n",
      "63/63 - 1s - loss: 1.2946 - accuracy: 0.5248 - val_loss: 1.3822 - val_accuracy: 0.4606\n",
      "Epoch 44/150\n",
      "63/63 - 1s - loss: 1.3828 - accuracy: 0.4891 - val_loss: 1.3728 - val_accuracy: 0.4653\n",
      "INFO:tensorflow:Assets written to: models/ser_trial/assets\n"
     ]
    },
    {
     "name": "stderr",
     "output_type": "stream",
     "text": [
      "INFO:tensorflow:Assets written to: models/ser_trial/assets\n"
     ]
    },
    {
     "name": "stdout",
     "output_type": "stream",
     "text": [
      "Epoch 45/150\n",
      "63/63 - 1s - loss: 1.2996 - accuracy: 0.5069 - val_loss: 1.3479 - val_accuracy: 0.4792\n",
      "INFO:tensorflow:Assets written to: models/ser_trial/assets\n"
     ]
    },
    {
     "name": "stderr",
     "output_type": "stream",
     "text": [
      "INFO:tensorflow:Assets written to: models/ser_trial/assets\n"
     ]
    },
    {
     "name": "stdout",
     "output_type": "stream",
     "text": [
      "Epoch 46/150\n",
      "63/63 - 1s - loss: 1.3209 - accuracy: 0.5188 - val_loss: 1.3519 - val_accuracy: 0.4630\n",
      "Epoch 47/150\n",
      "63/63 - 1s - loss: 1.3013 - accuracy: 0.5258 - val_loss: 1.3791 - val_accuracy: 0.4884\n",
      "INFO:tensorflow:Assets written to: models/ser_trial/assets\n"
     ]
    },
    {
     "name": "stderr",
     "output_type": "stream",
     "text": [
      "INFO:tensorflow:Assets written to: models/ser_trial/assets\n"
     ]
    },
    {
     "name": "stdout",
     "output_type": "stream",
     "text": [
      "Epoch 48/150\n",
      "63/63 - 1s - loss: 1.3905 - accuracy: 0.4950 - val_loss: 1.3774 - val_accuracy: 0.4699\n",
      "Epoch 49/150\n",
      "63/63 - 1s - loss: 1.2734 - accuracy: 0.5308 - val_loss: 1.3686 - val_accuracy: 0.4676\n",
      "Epoch 50/150\n",
      "63/63 - 1s - loss: 1.2157 - accuracy: 0.5595 - val_loss: 1.3505 - val_accuracy: 0.4861\n",
      "Epoch 51/150\n",
      "63/63 - 1s - loss: 1.2287 - accuracy: 0.5456 - val_loss: 1.3903 - val_accuracy: 0.4954\n",
      "INFO:tensorflow:Assets written to: models/ser_trial/assets\n"
     ]
    },
    {
     "name": "stderr",
     "output_type": "stream",
     "text": [
      "INFO:tensorflow:Assets written to: models/ser_trial/assets\n"
     ]
    },
    {
     "name": "stdout",
     "output_type": "stream",
     "text": [
      "Epoch 52/150\n",
      "63/63 - 1s - loss: 1.2126 - accuracy: 0.5486 - val_loss: 1.3647 - val_accuracy: 0.4699\n",
      "Epoch 53/150\n",
      "63/63 - 1s - loss: 1.1699 - accuracy: 0.5744 - val_loss: 1.3988 - val_accuracy: 0.4653\n",
      "Epoch 54/150\n",
      "63/63 - 2s - loss: 1.1486 - accuracy: 0.5813 - val_loss: 1.3341 - val_accuracy: 0.4931\n",
      "Epoch 55/150\n",
      "63/63 - 1s - loss: 1.1641 - accuracy: 0.5804 - val_loss: 1.3418 - val_accuracy: 0.4907\n",
      "Epoch 56/150\n",
      "63/63 - 1s - loss: 1.1071 - accuracy: 0.5972 - val_loss: 1.3124 - val_accuracy: 0.5116\n",
      "INFO:tensorflow:Assets written to: models/ser_trial/assets\n"
     ]
    },
    {
     "name": "stderr",
     "output_type": "stream",
     "text": [
      "INFO:tensorflow:Assets written to: models/ser_trial/assets\n"
     ]
    },
    {
     "name": "stdout",
     "output_type": "stream",
     "text": [
      "Epoch 57/150\n",
      "63/63 - 1s - loss: 1.1370 - accuracy: 0.5605 - val_loss: 1.3843 - val_accuracy: 0.4884\n",
      "Epoch 58/150\n",
      "63/63 - 1s - loss: 1.1718 - accuracy: 0.5685 - val_loss: 1.3490 - val_accuracy: 0.4884\n",
      "Epoch 59/150\n",
      "63/63 - 1s - loss: 1.0934 - accuracy: 0.6062 - val_loss: 1.2844 - val_accuracy: 0.5231\n",
      "INFO:tensorflow:Assets written to: models/ser_trial/assets\n"
     ]
    },
    {
     "name": "stderr",
     "output_type": "stream",
     "text": [
      "INFO:tensorflow:Assets written to: models/ser_trial/assets\n"
     ]
    },
    {
     "name": "stdout",
     "output_type": "stream",
     "text": [
      "Epoch 60/150\n",
      "63/63 - 1s - loss: 1.1071 - accuracy: 0.6081 - val_loss: 1.3440 - val_accuracy: 0.5023\n",
      "Epoch 61/150\n",
      "63/63 - 1s - loss: 1.0847 - accuracy: 0.5923 - val_loss: 1.3038 - val_accuracy: 0.5208\n",
      "Epoch 62/150\n",
      "63/63 - 2s - loss: 1.0397 - accuracy: 0.6091 - val_loss: 1.3664 - val_accuracy: 0.5023\n",
      "Epoch 63/150\n",
      "63/63 - 1s - loss: 1.0657 - accuracy: 0.6042 - val_loss: 1.3684 - val_accuracy: 0.4861\n",
      "Epoch 64/150\n",
      "63/63 - 1s - loss: 1.0220 - accuracy: 0.6300 - val_loss: 1.3268 - val_accuracy: 0.5185\n",
      "Epoch 65/150\n",
      "63/63 - 1s - loss: 1.0094 - accuracy: 0.6300 - val_loss: 1.3305 - val_accuracy: 0.5069\n",
      "Epoch 66/150\n",
      "63/63 - 1s - loss: 0.9898 - accuracy: 0.6538 - val_loss: 1.3464 - val_accuracy: 0.5069\n",
      "Epoch 67/150\n",
      "63/63 - 1s - loss: 0.9740 - accuracy: 0.6419 - val_loss: 1.4615 - val_accuracy: 0.4977\n",
      "Epoch 68/150\n",
      "63/63 - 1s - loss: 0.9633 - accuracy: 0.6647 - val_loss: 1.2869 - val_accuracy: 0.5347\n",
      "INFO:tensorflow:Assets written to: models/ser_trial/assets\n"
     ]
    },
    {
     "name": "stderr",
     "output_type": "stream",
     "text": [
      "INFO:tensorflow:Assets written to: models/ser_trial/assets\n"
     ]
    },
    {
     "name": "stdout",
     "output_type": "stream",
     "text": [
      "Epoch 69/150\n",
      "63/63 - 1s - loss: 0.9606 - accuracy: 0.6419 - val_loss: 1.3910 - val_accuracy: 0.5046\n",
      "Epoch 70/150\n",
      "63/63 - 1s - loss: 0.9600 - accuracy: 0.6577 - val_loss: 1.2684 - val_accuracy: 0.5278\n",
      "Epoch 71/150\n",
      "63/63 - 1s - loss: 0.9044 - accuracy: 0.6627 - val_loss: 1.4559 - val_accuracy: 0.5000\n",
      "Epoch 72/150\n",
      "63/63 - 1s - loss: 0.9085 - accuracy: 0.6696 - val_loss: 1.3098 - val_accuracy: 0.5347\n",
      "Epoch 73/150\n",
      "63/63 - 1s - loss: 0.9099 - accuracy: 0.6954 - val_loss: 1.3003 - val_accuracy: 0.5301\n",
      "Epoch 74/150\n",
      "63/63 - 1s - loss: 0.8810 - accuracy: 0.6756 - val_loss: 1.3232 - val_accuracy: 0.5463\n",
      "INFO:tensorflow:Assets written to: models/ser_trial/assets\n"
     ]
    },
    {
     "name": "stderr",
     "output_type": "stream",
     "text": [
      "INFO:tensorflow:Assets written to: models/ser_trial/assets\n"
     ]
    },
    {
     "name": "stdout",
     "output_type": "stream",
     "text": [
      "Epoch 75/150\n",
      "63/63 - 1s - loss: 0.9060 - accuracy: 0.6716 - val_loss: 1.3996 - val_accuracy: 0.5162\n",
      "Epoch 76/150\n",
      "63/63 - 1s - loss: 0.8594 - accuracy: 0.6736 - val_loss: 1.4096 - val_accuracy: 0.5255\n",
      "Epoch 77/150\n",
      "63/63 - 2s - loss: 0.8417 - accuracy: 0.6944 - val_loss: 1.4283 - val_accuracy: 0.5162\n",
      "Epoch 78/150\n",
      "63/63 - 1s - loss: 0.8571 - accuracy: 0.6895 - val_loss: 1.3637 - val_accuracy: 0.5185\n",
      "Epoch 79/150\n",
      "63/63 - 1s - loss: 0.8428 - accuracy: 0.7073 - val_loss: 1.3361 - val_accuracy: 0.5324\n",
      "Epoch 80/150\n",
      "63/63 - 1s - loss: 0.8395 - accuracy: 0.6954 - val_loss: 1.3171 - val_accuracy: 0.5278\n",
      "Epoch 81/150\n",
      "63/63 - 1s - loss: 0.7810 - accuracy: 0.7192 - val_loss: 1.3017 - val_accuracy: 0.5093\n",
      "Epoch 82/150\n",
      "63/63 - 1s - loss: 0.7911 - accuracy: 0.7173 - val_loss: 1.3158 - val_accuracy: 0.5370\n",
      "Epoch 83/150\n",
      "63/63 - 1s - loss: 0.7410 - accuracy: 0.7341 - val_loss: 1.3759 - val_accuracy: 0.5162\n",
      "Epoch 84/150\n",
      "63/63 - 1s - loss: 0.7522 - accuracy: 0.7242 - val_loss: 1.3343 - val_accuracy: 0.5463\n",
      "Epoch 85/150\n",
      "63/63 - 1s - loss: 0.7439 - accuracy: 0.7341 - val_loss: 1.3306 - val_accuracy: 0.5255\n",
      "Epoch 00085: early stopping\n"
     ]
    },
    {
     "name": "stderr",
     "output_type": "stream",
     "text": [
      "2021-11-13 19:27:53.410684: W tensorflow/core/util/tensor_slice_reader.cc:95] Could not open models/ser_trial: Failed precondition: models/ser_trial; Is a directory: perhaps your file is in a different file format and you need to use a different restore operator?\n"
     ]
    }
   ],
   "source": [
    "batch_size = 16\n",
    "history, best_model = cnn_layers(150, batch_size, X_train_cnn, y_train_cnn, X_test_cnn, y_test_cnn)"
   ]
  },
  {
   "cell_type": "code",
   "execution_count": 46,
   "metadata": {},
   "outputs": [
    {
     "data": {
      "image/png": "[encoded data removed]",
      "text/plain": [
       "<Figure size 432x288 with 1 Axes>"
      ]
     },
     "metadata": {
      "needs_background": "light"
     },
     "output_type": "display_data"
    }
   ],
   "source": [
    "plt.plot(history.history['val_loss'])\n",
    "plt.plot(history.history['loss'])\n",
    "plt.title('Validation loss')\n",
    "plt.ylabel('Loss value')\n",
    "plt.xlabel('No. epoch')\n",
    "plt.legend(['val', 'train'], loc='upper right')\n",
    "plt.show()"
   ]
  },
  {
   "cell_type": "code",
   "execution_count": 47,
   "metadata": {},
   "outputs": [
    {
     "data": {
      "image/png": "[encoded data removed]",
      "text/plain": [
       "<Figure size 432x288 with 1 Axes>"
      ]
     },
     "metadata": {
      "needs_background": "light"
     },
     "output_type": "display_data"
    }
   ],
   "source": [
    "plt.plot(history.history['val_accuracy'])\n",
    "plt.plot(history.history['accuracy'])\n",
    "plt.title('Validation accuracy')\n",
    "plt.ylabel('accuracy')\n",
    "plt.xlabel('No. epoch')\n",
    "plt.legend(['val', 'train'], loc='upper left')\n",
    "plt.show()"
   ]
  },
  {
   "cell_type": "code",
   "execution_count": 48,
   "metadata": {},
   "outputs": [],
   "source": [
    "pred_test = best_model.predict(X_test_cnn)\n",
    "y_pred = encoder.inverse_transform(pred_test)\n",
    "y_true = encoder.inverse_transform(y_test_cnn)"
   ]
  },
  {
   "cell_type": "code",
   "execution_count": 49,
   "metadata": {},
   "outputs": [
    {
     "name": "stdout",
     "output_type": "stream",
     "text": [
      "              precision    recall  f1-score   support\n",
      "\n",
      "           1       0.20      0.42      0.27        12\n",
      "           2       0.76      0.47      0.58       110\n",
      "           3       0.42      0.45      0.43        51\n",
      "           4       0.29      0.74      0.42        23\n",
      "           5       0.73      0.64      0.68        64\n",
      "           6       0.74      0.60      0.66        57\n",
      "           7       0.42      0.53      0.47        49\n",
      "           8       0.61      0.58      0.59        66\n",
      "\n",
      "    accuracy                           0.55       432\n",
      "   macro avg       0.52      0.55      0.51       432\n",
      "weighted avg       0.61      0.55      0.56       432\n",
      "\n"
     ]
    }
   ],
   "source": [
    "print(classification_report(y_pred,y_true))"
   ]
  },
  {
   "cell_type": "code",
   "execution_count": null,
   "metadata": {},
   "outputs": [],
   "source": []
  },
  {
   "cell_type": "markdown",
   "metadata": {},
   "source": [
    "## Making new predictions"
   ]
  },
  {
   "cell_type": "code",
   "execution_count": 50,
   "metadata": {},
   "outputs": [
    {
     "name": "stdout",
     "output_type": "stream",
     "text": [
      "Model: \"sequential\"\n",
      "_________________________________________________________________\n",
      "Layer (type)                 Output Shape              Param #   \n",
      "=================================================================\n",
      "conv1d (Conv1D)              (None, 175, 256)          1536      \n",
      "_________________________________________________________________\n",
      "activation (Activation)      (None, 175, 256)          0         \n",
      "_________________________________________________________________\n",
      "batch_normalization (BatchNo (None, 175, 256)          1024      \n",
      "_________________________________________________________________\n",
      "max_pooling1d (MaxPooling1D) (None, 43, 256)           0         \n",
      "_________________________________________________________________\n",
      "dropout (Dropout)            (None, 43, 256)           0         \n",
      "_________________________________________________________________\n",
      "conv1d_1 (Conv1D)            (None, 43, 128)           163968    \n",
      "_________________________________________________________________\n",
      "activation_1 (Activation)    (None, 43, 128)           0         \n",
      "_________________________________________________________________\n",
      "batch_normalization_1 (Batch (None, 43, 128)           512       \n",
      "_________________________________________________________________\n",
      "max_pooling1d_1 (MaxPooling1 (None, 10, 128)           0         \n",
      "_________________________________________________________________\n",
      "dropout_1 (Dropout)          (None, 10, 128)           0         \n",
      "_________________________________________________________________\n",
      "flatten (Flatten)            (None, 1280)              0         \n",
      "_________________________________________________________________\n",
      "dense (Dense)                (None, 64)                81984     \n",
      "_________________________________________________________________\n",
      "dropout_2 (Dropout)          (None, 64)                0         \n",
      "_________________________________________________________________\n",
      "dense_1 (Dense)              (None, 8)                 520       \n",
      "_________________________________________________________________\n",
      "activation_2 (Activation)    (None, 8)                 0         \n",
      "=================================================================\n",
      "Total params: 249,544\n",
      "Trainable params: 248,776\n",
      "Non-trainable params: 768\n",
      "_________________________________________________________________\n"
     ]
    }
   ],
   "source": [
    "model = keras.models.load_model(\"models/ser_175\")\n",
    "model.summary()"
   ]
  },
  {
   "cell_type": "code",
   "execution_count": 51,
   "metadata": {},
   "outputs": [
    {
     "data": {
      "text/plain": [
       "array([[[5.13879661e-01],\n",
       "        [4.20216500e-01],\n",
       "        [3.52318310e-01],\n",
       "        [3.52128765e-01],\n",
       "        [4.10555228e-01],\n",
       "        [2.49298959e-01],\n",
       "        [3.32038850e-01],\n",
       "        [5.28832254e-01],\n",
       "        [2.44089480e-01],\n",
       "        [4.41323976e-01],\n",
       "        [4.70069313e-01],\n",
       "        [2.66829587e-01],\n",
       "        [2.49618022e-01],\n",
       "        [3.96854861e-01],\n",
       "        [3.60917658e-01],\n",
       "        [3.31655576e-01],\n",
       "        [4.19279684e-01],\n",
       "        [3.45033404e-01],\n",
       "        [3.15891851e-01],\n",
       "        [2.19326411e-01],\n",
       "        [2.56897994e-01],\n",
       "        [3.65789160e-01],\n",
       "        [2.04769100e-01],\n",
       "        [2.89265888e-01],\n",
       "        [4.10228502e-01],\n",
       "        [1.16020585e-01],\n",
       "        [7.23640742e-01],\n",
       "        [4.70699569e-01],\n",
       "        [5.69370298e-01],\n",
       "        [5.80902369e-01],\n",
       "        [4.85528610e-01],\n",
       "        [3.90744057e-01],\n",
       "        [1.79684575e-01],\n",
       "        [4.91847265e-01],\n",
       "        [4.93649178e-01],\n",
       "        [7.67192377e-01],\n",
       "        [4.03262273e-01],\n",
       "        [6.15605219e-01],\n",
       "        [1.42604135e-06],\n",
       "        [4.30471920e-05],\n",
       "        [2.61411156e-04],\n",
       "        [3.40740211e-05],\n",
       "        [1.57956041e-05],\n",
       "        [2.16274909e-05],\n",
       "        [2.44770061e-04],\n",
       "        [5.09041110e-03],\n",
       "        [1.49719110e-02],\n",
       "        [2.92400714e-02],\n",
       "        [2.36136868e-02],\n",
       "        [2.04721279e-03],\n",
       "        [1.03120743e-04],\n",
       "        [1.54068323e-05],\n",
       "        [4.62624411e-06],\n",
       "        [3.12772515e-05],\n",
       "        [3.24376597e-03],\n",
       "        [5.93642110e-03],\n",
       "        [1.12259966e-02],\n",
       "        [8.77408186e-03],\n",
       "        [2.55786518e-03],\n",
       "        [7.29293367e-04],\n",
       "        [1.25573114e-04],\n",
       "        [7.11020848e-06],\n",
       "        [1.71885687e-04],\n",
       "        [3.17474012e-03],\n",
       "        [3.15723832e-03],\n",
       "        [9.71166071e-04],\n",
       "        [1.96048289e-03],\n",
       "        [4.95418282e-03],\n",
       "        [5.70333946e-03],\n",
       "        [2.31852066e-03],\n",
       "        [4.83193326e-04],\n",
       "        [7.17320777e-05],\n",
       "        [1.02421393e-04],\n",
       "        [2.50995112e-04],\n",
       "        [3.33348915e-04],\n",
       "        [3.55907911e-03],\n",
       "        [5.37757556e-03],\n",
       "        [2.23937477e-03],\n",
       "        [9.58956893e-04],\n",
       "        [6.42066131e-04],\n",
       "        [3.90531831e-04],\n",
       "        [3.25078668e-04],\n",
       "        [1.33726306e-03],\n",
       "        [2.48911922e-03],\n",
       "        [9.48807458e-04],\n",
       "        [7.65334025e-04],\n",
       "        [4.06557484e-04],\n",
       "        [5.04228021e-04],\n",
       "        [1.15145514e-03],\n",
       "        [1.01781006e-03],\n",
       "        [8.16036666e-04],\n",
       "        [1.18215498e-03],\n",
       "        [1.33275212e-03],\n",
       "        [5.45349428e-04],\n",
       "        [6.15909224e-04],\n",
       "        [3.20524632e-04],\n",
       "        [4.52412481e-04],\n",
       "        [8.62560612e-04],\n",
       "        [8.06044084e-04],\n",
       "        [9.54107723e-04],\n",
       "        [3.57991517e-03],\n",
       "        [2.17332262e-03],\n",
       "        [6.49464493e-04],\n",
       "        [9.17411165e-04],\n",
       "        [1.01752282e-03],\n",
       "        [3.89983456e-04],\n",
       "        [2.48828474e-04],\n",
       "        [3.77442251e-04],\n",
       "        [5.56329201e-04],\n",
       "        [9.51352518e-04],\n",
       "        [1.45672348e-03],\n",
       "        [1.38876699e-03],\n",
       "        [2.13612807e-03],\n",
       "        [4.24832676e-03],\n",
       "        [3.09133630e-03],\n",
       "        [5.35123005e-03],\n",
       "        [4.83210252e-03],\n",
       "        [1.68557955e-03],\n",
       "        [1.73276832e-03],\n",
       "        [1.44897789e-03],\n",
       "        [2.27732521e-03],\n",
       "        [3.15135063e-03],\n",
       "        [2.26080559e-03],\n",
       "        [9.95522749e-04],\n",
       "        [2.19842611e-03],\n",
       "        [2.37995065e-03],\n",
       "        [3.00838316e-03],\n",
       "        [4.24793402e-03],\n",
       "        [3.76970040e-03],\n",
       "        [2.51694177e-03],\n",
       "        [4.05479563e-03],\n",
       "        [2.43831425e-03],\n",
       "        [3.60320052e-03],\n",
       "        [4.74889641e-03],\n",
       "        [3.76807394e-03],\n",
       "        [3.15237668e-03],\n",
       "        [1.42829794e-03],\n",
       "        [7.70733836e-04],\n",
       "        [7.50035116e-04],\n",
       "        [1.19154201e-03],\n",
       "        [1.83804131e-03],\n",
       "        [2.35880394e-03],\n",
       "        [1.99059886e-03],\n",
       "        [2.59233096e-03],\n",
       "        [3.17944999e-03],\n",
       "        [2.81909203e-03],\n",
       "        [1.90001363e-03],\n",
       "        [1.26105575e-03],\n",
       "        [1.98396902e-03],\n",
       "        [5.08458164e-03],\n",
       "        [5.51028732e-03],\n",
       "        [4.43536963e-03],\n",
       "        [3.26804787e-03],\n",
       "        [3.06650543e-03],\n",
       "        [3.66805672e-03],\n",
       "        [3.15169040e-03],\n",
       "        [3.15740737e-03],\n",
       "        [2.41755089e-03],\n",
       "        [1.77192348e-03],\n",
       "        [1.39687030e-03],\n",
       "        [1.15607603e-03],\n",
       "        [8.90826541e-04],\n",
       "        [4.93362867e-04],\n",
       "        [3.45750651e-04],\n",
       "        [4.65446149e-04],\n",
       "        [3.42592312e-02],\n",
       "        [7.72219456e-02],\n",
       "        [3.81121628e-01],\n",
       "        [7.75936154e-01],\n",
       "        [7.09046176e-02],\n",
       "        [4.22621734e-01],\n",
       "        [4.27976620e-01],\n",
       "        [6.92649233e-03],\n",
       "        [4.24781927e-01],\n",
       "        [4.45168210e-01]],\n",
       "\n",
       "       [[2.55897110e-01],\n",
       "        [3.38096061e-01],\n",
       "        [6.36035253e-01],\n",
       "        [4.78214214e-01],\n",
       "        [4.27330133e-01],\n",
       "        [3.66695362e-01],\n",
       "        [4.71856624e-01],\n",
       "        [3.00611541e-01],\n",
       "        [3.89258073e-01],\n",
       "        [2.62962339e-01],\n",
       "        [3.91169373e-01],\n",
       "        [3.78927966e-01],\n",
       "        [2.05106369e-01],\n",
       "        [4.16804568e-01],\n",
       "        [4.55132244e-01],\n",
       "        [3.93415010e-01],\n",
       "        [3.86733694e-01],\n",
       "        [3.71524858e-01],\n",
       "        [3.07171553e-01],\n",
       "        [2.63994688e-01],\n",
       "        [2.16171197e-01],\n",
       "        [2.91053411e-01],\n",
       "        [3.35638811e-01],\n",
       "        [3.69636210e-01],\n",
       "        [4.33248116e-01],\n",
       "        [1.46663320e-01],\n",
       "        [5.24414452e-01],\n",
       "        [4.38041227e-01],\n",
       "        [3.41311017e-01],\n",
       "        [3.35681000e-01],\n",
       "        [3.65418614e-01],\n",
       "        [1.98093240e-01],\n",
       "        [6.08962469e-01],\n",
       "        [3.90785047e-01],\n",
       "        [4.31995788e-01],\n",
       "        [6.26528262e-01],\n",
       "        [5.26413664e-01],\n",
       "        [4.98319321e-01],\n",
       "        [5.74546940e-09],\n",
       "        [1.15005533e-06],\n",
       "        [8.72646880e-05],\n",
       "        [8.09563777e-05],\n",
       "        [4.56670152e-05],\n",
       "        [2.69528449e-04],\n",
       "        [1.11528857e-03],\n",
       "        [3.85243901e-03],\n",
       "        [2.35289229e-03],\n",
       "        [8.42838719e-04],\n",
       "        [9.19998157e-04],\n",
       "        [2.87639502e-04],\n",
       "        [5.84577010e-05],\n",
       "        [4.36571306e-05],\n",
       "        [2.63325890e-05],\n",
       "        [1.96973317e-04],\n",
       "        [4.30503214e-03],\n",
       "        [2.90357063e-03],\n",
       "        [1.12321140e-03],\n",
       "        [3.60010483e-04],\n",
       "        [2.00306904e-04],\n",
       "        [3.38280893e-05],\n",
       "        [5.57634529e-06],\n",
       "        [3.27469243e-06],\n",
       "        [1.25966083e-05],\n",
       "        [6.87751336e-05],\n",
       "        [4.68733901e-05],\n",
       "        [1.23664792e-05],\n",
       "        [4.87438238e-06],\n",
       "        [4.63071634e-06],\n",
       "        [5.56754313e-06],\n",
       "        [3.93282551e-06],\n",
       "        [8.13192974e-06],\n",
       "        [2.19241012e-05],\n",
       "        [2.14365410e-05],\n",
       "        [7.32447798e-06],\n",
       "        [1.24746261e-06],\n",
       "        [2.79948549e-06],\n",
       "        [5.67063611e-06],\n",
       "        [1.21701184e-05],\n",
       "        [7.56094199e-06],\n",
       "        [8.06985764e-06],\n",
       "        [2.65961807e-05],\n",
       "        [1.94739034e-05],\n",
       "        [1.33912915e-05],\n",
       "        [1.15199841e-05],\n",
       "        [6.93814413e-06],\n",
       "        [1.00356837e-05],\n",
       "        [2.02235371e-05],\n",
       "        [1.15753664e-05],\n",
       "        [6.35265858e-06],\n",
       "        [1.51422991e-05],\n",
       "        [7.36797275e-05],\n",
       "        [9.12867762e-06],\n",
       "        [2.77737893e-06],\n",
       "        [1.19638544e-05],\n",
       "        [4.96875055e-05],\n",
       "        [1.00812141e-05],\n",
       "        [7.55919284e-06],\n",
       "        [1.21964456e-05],\n",
       "        [1.16146376e-05],\n",
       "        [1.45761457e-05],\n",
       "        [5.61126917e-05],\n",
       "        [2.31596335e-05],\n",
       "        [8.14676948e-06],\n",
       "        [2.90102983e-06],\n",
       "        [1.84488336e-06],\n",
       "        [1.51919125e-06],\n",
       "        [4.03030568e-06],\n",
       "        [6.58633107e-06],\n",
       "        [2.23923094e-05],\n",
       "        [2.03335473e-05],\n",
       "        [5.60689881e-05],\n",
       "        [5.20656763e-05],\n",
       "        [2.51640287e-05],\n",
       "        [4.13383202e-05],\n",
       "        [1.95498397e-05],\n",
       "        [2.59765639e-05],\n",
       "        [2.58754993e-05],\n",
       "        [1.92076458e-05],\n",
       "        [2.21774845e-05],\n",
       "        [2.25858954e-05],\n",
       "        [1.88645171e-05],\n",
       "        [1.30950642e-05],\n",
       "        [7.93799369e-06],\n",
       "        [6.25772774e-06],\n",
       "        [2.09596583e-05],\n",
       "        [5.55957583e-05],\n",
       "        [1.18175214e-04],\n",
       "        [1.75086831e-04],\n",
       "        [3.87514474e-04],\n",
       "        [1.95104368e-04],\n",
       "        [3.48082990e-04],\n",
       "        [2.01568351e-04],\n",
       "        [2.42001916e-04],\n",
       "        [2.93608706e-04],\n",
       "        [1.91072970e-04],\n",
       "        [3.55019495e-04],\n",
       "        [3.35549816e-04],\n",
       "        [2.41242035e-04],\n",
       "        [2.63186600e-04],\n",
       "        [4.18950599e-04],\n",
       "        [3.81425318e-04],\n",
       "        [4.42057941e-04],\n",
       "        [2.74589352e-04],\n",
       "        [3.27498327e-04],\n",
       "        [2.96255226e-04],\n",
       "        [2.68562007e-04],\n",
       "        [1.92777248e-04],\n",
       "        [7.05078510e-05],\n",
       "        [9.45703107e-05],\n",
       "        [2.41170356e-04],\n",
       "        [4.88873743e-04],\n",
       "        [5.54257955e-04],\n",
       "        [5.96841262e-04],\n",
       "        [7.64869638e-04],\n",
       "        [5.65682108e-04],\n",
       "        [5.34373933e-04],\n",
       "        [4.25303753e-04],\n",
       "        [3.79466420e-04],\n",
       "        [1.77924727e-04],\n",
       "        [1.95802662e-04],\n",
       "        [1.05728961e-04],\n",
       "        [1.14767525e-04],\n",
       "        [8.77969044e-05],\n",
       "        [1.05612504e-04],\n",
       "        [1.67464210e-04],\n",
       "        [1.84611610e-02],\n",
       "        [1.83116599e-02],\n",
       "        [1.90197622e-01],\n",
       "        [5.86235358e-01],\n",
       "        [1.34923808e-02],\n",
       "        [1.80288165e-01],\n",
       "        [4.83478859e-01],\n",
       "        [6.36109407e-04],\n",
       "        [5.33854494e-01],\n",
       "        [4.26018233e-01]]])"
      ]
     },
     "execution_count": 51,
     "metadata": {},
     "output_type": "execute_result"
    }
   ],
   "source": [
    "dummy_feature_input = [list(X_train.loc[0]), list(X_train.loc[1])]  # output format of previous model\n",
    "model_input = np.expand_dims(dummy_feature_input, axis=2)\n",
    "model_input"
   ]
  },
  {
   "cell_type": "code",
   "execution_count": 52,
   "metadata": {},
   "outputs": [
    {
     "name": "stdout",
     "output_type": "stream",
     "text": [
      "[6, 4]\n",
      "['fearful', 'sad']\n"
     ]
    }
   ],
   "source": [
    "preds = model.predict(model_input)\n",
    "pred_emotions = []\n",
    "emotion_dict = {1:\"neutral\", 2:\"calm\", 3:\"happy\", 4:\"sad\", 5:'angry', 6:'fearful', 7:'disgust', 8:'surprised'}\n",
    "for probs in preds:\n",
    "    pred = np.argmax(probs)\n",
    "    pred_emotions.append(pred+1)\n",
    "print(pred_emotions)\n",
    "print([emotion_dict[p] for p in pred_emotions])"
   ]
  },
  {
   "cell_type": "code",
   "execution_count": null,
   "metadata": {},
   "outputs": [],
   "source": []
  },
  {
   "cell_type": "markdown",
   "metadata": {},
   "source": [
    "## Model Architecture"
   ]
  },
  {
   "cell_type": "code",
   "execution_count": 53,
   "metadata": {},
   "outputs": [],
   "source": [
    "from keras.utils.vis_utils import plot_model"
   ]
  },
  {
   "cell_type": "code",
   "execution_count": 54,
   "metadata": {},
   "outputs": [
    {
     "name": "stdout",
     "output_type": "stream",
     "text": [
      "Model: \"sequential\"\n",
      "_________________________________________________________________\n",
      "Layer (type)                 Output Shape              Param #   \n",
      "=================================================================\n",
      "conv1d (Conv1D)              (None, 175, 256)          1536      \n",
      "_________________________________________________________________\n",
      "activation (Activation)      (None, 175, 256)          0         \n",
      "_________________________________________________________________\n",
      "batch_normalization (BatchNo (None, 175, 256)          1024      \n",
      "_________________________________________________________________\n",
      "max_pooling1d (MaxPooling1D) (None, 43, 256)           0         \n",
      "_________________________________________________________________\n",
      "dropout (Dropout)            (None, 43, 256)           0         \n",
      "_________________________________________________________________\n",
      "conv1d_1 (Conv1D)            (None, 43, 128)           163968    \n",
      "_________________________________________________________________\n",
      "activation_1 (Activation)    (None, 43, 128)           0         \n",
      "_________________________________________________________________\n",
      "batch_normalization_1 (Batch (None, 43, 128)           512       \n",
      "_________________________________________________________________\n",
      "max_pooling1d_1 (MaxPooling1 (None, 10, 128)           0         \n",
      "_________________________________________________________________\n",
      "dropout_1 (Dropout)          (None, 10, 128)           0         \n",
      "_________________________________________________________________\n",
      "flatten (Flatten)            (None, 1280)              0         \n",
      "_________________________________________________________________\n",
      "dense (Dense)                (None, 64)                81984     \n",
      "_________________________________________________________________\n",
      "dropout_2 (Dropout)          (None, 64)                0         \n",
      "_________________________________________________________________\n",
      "dense_1 (Dense)              (None, 8)                 520       \n",
      "_________________________________________________________________\n",
      "activation_2 (Activation)    (None, 8)                 0         \n",
      "=================================================================\n",
      "Total params: 249,544\n",
      "Trainable params: 248,776\n",
      "Non-trainable params: 768\n",
      "_________________________________________________________________\n"
     ]
    }
   ],
   "source": [
    "model.summary()"
   ]
  },
  {
   "cell_type": "code",
   "execution_count": 55,
   "metadata": {},
   "outputs": [
    {
     "data": {
      "image/png": "[encoded data removed]",
      "text/plain": [
       "<IPython.core.display.Image object>"
      ]
     },
     "execution_count": 55,
     "metadata": {},
     "output_type": "execute_result"
    }
   ],
   "source": [
    "plot_model(model, to_file='model_plot.png', show_shapes=True, show_layer_names=True)"
   ]
  },
  {
   "cell_type": "code",
   "execution_count": null,
   "metadata": {},
   "outputs": [],
   "source": []
  }
 ],
 "metadata": {
  "interpreter": {
   "hash": "aee8b7b246df8f9039afb4144a1f6fd8d2ca17a180786b69acc140d282b71a49"
  },
  "kernelspec": {
   "display_name": "Python 3.9.6 64-bit",
   "name": "python3"
  },
  "language_info": {
   "codemirror_mode": {
    "name": "ipython",
    "version": 3
   },
   "file_extension": ".py",
   "mimetype": "text/x-python",
   "name": "python",
   "nbconvert_exporter": "python",
   "pygments_lexer": "ipython3",
   "version": "3.9.6"
  }
 },
 "nbformat": 4,
 "nbformat_minor": 2
}
