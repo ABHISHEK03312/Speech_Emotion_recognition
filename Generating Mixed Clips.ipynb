{
 "cells": [
  {
   "cell_type": "code",
   "execution_count": 1,
   "id": "85f2c9f0",
   "metadata": {},
   "outputs": [
    {
     "name": "stderr",
     "output_type": "stream",
     "text": [
      "c:\\users\\iyeng\\appdata\\local\\programs\\python\\python38\\lib\\site-packages\\pydub\\utils.py:170: RuntimeWarning: Couldn't find ffmpeg or avconv - defaulting to ffmpeg, but may not work\n",
      "  warn(\"Couldn't find ffmpeg or avconv - defaulting to ffmpeg, but may not work\", RuntimeWarning)\n"
     ]
    }
   ],
   "source": [
    "from pydub import AudioSegment\n",
    "import numpy as np\n",
    "import pandas as pd\n",
    "import random"
   ]
  },
  {
   "cell_type": "code",
   "execution_count": 2,
   "id": "214a7f5c",
   "metadata": {},
   "outputs": [
    {
     "data": {
      "text/html": [
       "<div>\n",
       "<style scoped>\n",
       "    .dataframe tbody tr th:only-of-type {\n",
       "        vertical-align: middle;\n",
       "    }\n",
       "\n",
       "    .dataframe tbody tr th {\n",
       "        vertical-align: top;\n",
       "    }\n",
       "\n",
       "    .dataframe thead th {\n",
       "        text-align: right;\n",
       "    }\n",
       "</style>\n",
       "<table border=\"1\" class=\"dataframe\">\n",
       "  <thead>\n",
       "    <tr style=\"text-align: right;\">\n",
       "      <th></th>\n",
       "      <th>Actor</th>\n",
       "      <th>Modality</th>\n",
       "      <th>Vocal_channel</th>\n",
       "      <th>Emotion</th>\n",
       "      <th>Emotional_intensity</th>\n",
       "      <th>Statement</th>\n",
       "      <th>Repetion</th>\n",
       "      <th>Gender</th>\n",
       "      <th>Audio_file</th>\n",
       "    </tr>\n",
       "  </thead>\n",
       "  <tbody>\n",
       "    <tr>\n",
       "      <th>0</th>\n",
       "      <td>Actor_01</td>\n",
       "      <td>3</td>\n",
       "      <td>1</td>\n",
       "      <td>1</td>\n",
       "      <td>1</td>\n",
       "      <td>1</td>\n",
       "      <td>1</td>\n",
       "      <td>0</td>\n",
       "      <td>/Users/iyeng/Desktop/NTU/NTU Sem 5/CZ4042/Grou...</td>\n",
       "    </tr>\n",
       "    <tr>\n",
       "      <th>1</th>\n",
       "      <td>Actor_01</td>\n",
       "      <td>3</td>\n",
       "      <td>1</td>\n",
       "      <td>1</td>\n",
       "      <td>1</td>\n",
       "      <td>1</td>\n",
       "      <td>2</td>\n",
       "      <td>0</td>\n",
       "      <td>/Users/iyeng/Desktop/NTU/NTU Sem 5/CZ4042/Grou...</td>\n",
       "    </tr>\n",
       "    <tr>\n",
       "      <th>2</th>\n",
       "      <td>Actor_01</td>\n",
       "      <td>3</td>\n",
       "      <td>1</td>\n",
       "      <td>1</td>\n",
       "      <td>1</td>\n",
       "      <td>2</td>\n",
       "      <td>1</td>\n",
       "      <td>0</td>\n",
       "      <td>/Users/iyeng/Desktop/NTU/NTU Sem 5/CZ4042/Grou...</td>\n",
       "    </tr>\n",
       "    <tr>\n",
       "      <th>3</th>\n",
       "      <td>Actor_01</td>\n",
       "      <td>3</td>\n",
       "      <td>1</td>\n",
       "      <td>1</td>\n",
       "      <td>1</td>\n",
       "      <td>2</td>\n",
       "      <td>2</td>\n",
       "      <td>0</td>\n",
       "      <td>/Users/iyeng/Desktop/NTU/NTU Sem 5/CZ4042/Grou...</td>\n",
       "    </tr>\n",
       "    <tr>\n",
       "      <th>4</th>\n",
       "      <td>Actor_01</td>\n",
       "      <td>3</td>\n",
       "      <td>1</td>\n",
       "      <td>2</td>\n",
       "      <td>1</td>\n",
       "      <td>1</td>\n",
       "      <td>1</td>\n",
       "      <td>0</td>\n",
       "      <td>/Users/iyeng/Desktop/NTU/NTU Sem 5/CZ4042/Grou...</td>\n",
       "    </tr>\n",
       "  </tbody>\n",
       "</table>\n",
       "</div>"
      ],
      "text/plain": [
       "      Actor  Modality  Vocal_channel  Emotion  Emotional_intensity  Statement  \\\n",
       "0  Actor_01         3              1        1                    1          1   \n",
       "1  Actor_01         3              1        1                    1          1   \n",
       "2  Actor_01         3              1        1                    1          2   \n",
       "3  Actor_01         3              1        1                    1          2   \n",
       "4  Actor_01         3              1        2                    1          1   \n",
       "\n",
       "   Repetion  Gender                                         Audio_file  \n",
       "0         1       0  /Users/iyeng/Desktop/NTU/NTU Sem 5/CZ4042/Grou...  \n",
       "1         2       0  /Users/iyeng/Desktop/NTU/NTU Sem 5/CZ4042/Grou...  \n",
       "2         1       0  /Users/iyeng/Desktop/NTU/NTU Sem 5/CZ4042/Grou...  \n",
       "3         2       0  /Users/iyeng/Desktop/NTU/NTU Sem 5/CZ4042/Grou...  \n",
       "4         1       0  /Users/iyeng/Desktop/NTU/NTU Sem 5/CZ4042/Grou...  "
      ]
     },
     "execution_count": 2,
     "metadata": {},
     "output_type": "execute_result"
    }
   ],
   "source": [
    "file_locs = pd.read_csv('local_audio_files.csv')\n",
    "file_locs.head()"
   ]
  },
  {
   "cell_type": "code",
   "execution_count": 3,
   "id": "de4dc2a2",
   "metadata": {},
   "outputs": [
    {
     "name": "stdout",
     "output_type": "stream",
     "text": [
      "{'Actor_20', 'Actor_10', 'Actor_18', 'Actor_13', 'Actor_07', 'Actor_15', 'Actor_17', 'Actor_01', 'Actor_12', 'Actor_19', 'Actor_16', 'Actor_22', 'Actor_24', 'Actor_06', 'Actor_09', 'Actor_03', 'Actor_14', 'Actor_02', 'Actor_08', 'Actor_21', 'Actor_04', 'Actor_11', 'Actor_23', 'Actor_05'}\n"
     ]
    }
   ],
   "source": [
    "actors = set(file_locs['Actor'].unique())\n",
    "print(actors)"
   ]
  },
  {
   "cell_type": "code",
   "execution_count": 4,
   "id": "50cb1461",
   "metadata": {},
   "outputs": [],
   "source": [
    "def get_random_mixed_clip(data=file_locs, actors=actors):\n",
    "    clip_num = random.randint(2, 4)  # 2 to 4 clips combined into a single clip\n",
    "    speaker_num = random.randint(2, clip_num)  # at least 2 speakers chosen\n",
    "    speaker_choices = random.sample(actors, speaker_num)\n",
    "    \n",
    "    # given n speakers and m clips, generating a random distribution of clips per speaker such that each speaker is at least once\n",
    "    arr = [1 for _ in range(speaker_num)]\n",
    "    for _ in range(clip_num-speaker_num):  # number of slots left to be filled\n",
    "        arr[random.randint(0, speaker_num-1)] += 1\n",
    "    \n",
    "    idxs = data.Emotion[data.Actor.eq(speaker_choices[0])].sample(arr[0]).index\n",
    "    for i in range(1, len(arr)):\n",
    "        idxs = idxs.union(data.Emotion[data.Actor.eq(speaker_choices[i])].sample(arr[i]).index)\n",
    "    clip_df = data.loc[idxs].reset_index(drop=True)\n",
    "    return clip_df"
   ]
  },
  {
   "cell_type": "code",
   "execution_count": 5,
   "id": "090b3c5e",
   "metadata": {},
   "outputs": [
    {
     "data": {
      "text/html": [
       "<div>\n",
       "<style scoped>\n",
       "    .dataframe tbody tr th:only-of-type {\n",
       "        vertical-align: middle;\n",
       "    }\n",
       "\n",
       "    .dataframe tbody tr th {\n",
       "        vertical-align: top;\n",
       "    }\n",
       "\n",
       "    .dataframe thead th {\n",
       "        text-align: right;\n",
       "    }\n",
       "</style>\n",
       "<table border=\"1\" class=\"dataframe\">\n",
       "  <thead>\n",
       "    <tr style=\"text-align: right;\">\n",
       "      <th></th>\n",
       "      <th>Actor</th>\n",
       "      <th>Modality</th>\n",
       "      <th>Vocal_channel</th>\n",
       "      <th>Emotion</th>\n",
       "      <th>Emotional_intensity</th>\n",
       "      <th>Statement</th>\n",
       "      <th>Repetion</th>\n",
       "      <th>Gender</th>\n",
       "      <th>Audio_file</th>\n",
       "    </tr>\n",
       "  </thead>\n",
       "  <tbody>\n",
       "    <tr>\n",
       "      <th>0</th>\n",
       "      <td>Actor_02</td>\n",
       "      <td>3</td>\n",
       "      <td>1</td>\n",
       "      <td>5</td>\n",
       "      <td>2</td>\n",
       "      <td>2</td>\n",
       "      <td>2</td>\n",
       "      <td>1</td>\n",
       "      <td>/Users/iyeng/Desktop/NTU/NTU Sem 5/CZ4042/Grou...</td>\n",
       "    </tr>\n",
       "    <tr>\n",
       "      <th>1</th>\n",
       "      <td>Actor_08</td>\n",
       "      <td>3</td>\n",
       "      <td>1</td>\n",
       "      <td>6</td>\n",
       "      <td>1</td>\n",
       "      <td>2</td>\n",
       "      <td>1</td>\n",
       "      <td>1</td>\n",
       "      <td>/Users/iyeng/Desktop/NTU/NTU Sem 5/CZ4042/Grou...</td>\n",
       "    </tr>\n",
       "    <tr>\n",
       "      <th>2</th>\n",
       "      <td>Actor_12</td>\n",
       "      <td>3</td>\n",
       "      <td>1</td>\n",
       "      <td>8</td>\n",
       "      <td>2</td>\n",
       "      <td>2</td>\n",
       "      <td>2</td>\n",
       "      <td>1</td>\n",
       "      <td>/Users/iyeng/Desktop/NTU/NTU Sem 5/CZ4042/Grou...</td>\n",
       "    </tr>\n",
       "  </tbody>\n",
       "</table>\n",
       "</div>"
      ],
      "text/plain": [
       "      Actor  Modality  Vocal_channel  Emotion  Emotional_intensity  Statement  \\\n",
       "0  Actor_02         3              1        5                    2          2   \n",
       "1  Actor_08         3              1        6                    1          2   \n",
       "2  Actor_12         3              1        8                    2          2   \n",
       "\n",
       "   Repetion  Gender                                         Audio_file  \n",
       "0         2       1  /Users/iyeng/Desktop/NTU/NTU Sem 5/CZ4042/Grou...  \n",
       "1         1       1  /Users/iyeng/Desktop/NTU/NTU Sem 5/CZ4042/Grou...  \n",
       "2         2       1  /Users/iyeng/Desktop/NTU/NTU Sem 5/CZ4042/Grou...  "
      ]
     },
     "execution_count": 5,
     "metadata": {},
     "output_type": "execute_result"
    }
   ],
   "source": [
    "get_random_mixed_clip()"
   ]
  },
  {
   "cell_type": "code",
   "execution_count": 7,
   "id": "a46850bd",
   "metadata": {},
   "outputs": [],
   "source": [
    "def combine_clips(clip_df):\n",
    "    clips = []\n",
    "    for path in clip_df['Audio_file']:\n",
    "        clips.append(AudioSegment.from_wav(path))\n",
    "    final_clip = clips[0]\n",
    "    for clip in clips[1:]:\n",
    "        final_clip = final_clip + clip\n",
    "    \n",
    "    return final_clip"
   ]
  },
  {
   "cell_type": "code",
   "execution_count": 8,
   "id": "1b77f487",
   "metadata": {},
   "outputs": [
    {
     "data": {
      "text/html": [
       "<div>\n",
       "<style scoped>\n",
       "    .dataframe tbody tr th:only-of-type {\n",
       "        vertical-align: middle;\n",
       "    }\n",
       "\n",
       "    .dataframe tbody tr th {\n",
       "        vertical-align: top;\n",
       "    }\n",
       "\n",
       "    .dataframe thead th {\n",
       "        text-align: right;\n",
       "    }\n",
       "</style>\n",
       "<table border=\"1\" class=\"dataframe\">\n",
       "  <thead>\n",
       "    <tr style=\"text-align: right;\">\n",
       "      <th></th>\n",
       "      <th>Actor</th>\n",
       "      <th>Modality</th>\n",
       "      <th>Vocal_channel</th>\n",
       "      <th>Emotion</th>\n",
       "      <th>Emotional_intensity</th>\n",
       "      <th>Statement</th>\n",
       "      <th>Repetion</th>\n",
       "      <th>Gender</th>\n",
       "      <th>Audio_file</th>\n",
       "    </tr>\n",
       "  </thead>\n",
       "  <tbody>\n",
       "    <tr>\n",
       "      <th>0</th>\n",
       "      <td>Actor_11</td>\n",
       "      <td>3</td>\n",
       "      <td>1</td>\n",
       "      <td>2</td>\n",
       "      <td>2</td>\n",
       "      <td>1</td>\n",
       "      <td>2</td>\n",
       "      <td>0</td>\n",
       "      <td>/Users/iyeng/Desktop/NTU/NTU Sem 5/CZ4042/Grou...</td>\n",
       "    </tr>\n",
       "    <tr>\n",
       "      <th>1</th>\n",
       "      <td>Actor_11</td>\n",
       "      <td>3</td>\n",
       "      <td>1</td>\n",
       "      <td>3</td>\n",
       "      <td>2</td>\n",
       "      <td>2</td>\n",
       "      <td>1</td>\n",
       "      <td>0</td>\n",
       "      <td>/Users/iyeng/Desktop/NTU/NTU Sem 5/CZ4042/Grou...</td>\n",
       "    </tr>\n",
       "    <tr>\n",
       "      <th>2</th>\n",
       "      <td>Actor_13</td>\n",
       "      <td>3</td>\n",
       "      <td>1</td>\n",
       "      <td>7</td>\n",
       "      <td>2</td>\n",
       "      <td>2</td>\n",
       "      <td>2</td>\n",
       "      <td>0</td>\n",
       "      <td>/Users/iyeng/Desktop/NTU/NTU Sem 5/CZ4042/Grou...</td>\n",
       "    </tr>\n",
       "  </tbody>\n",
       "</table>\n",
       "</div>"
      ],
      "text/plain": [
       "      Actor  Modality  Vocal_channel  Emotion  Emotional_intensity  Statement  \\\n",
       "0  Actor_11         3              1        2                    2          1   \n",
       "1  Actor_11         3              1        3                    2          2   \n",
       "2  Actor_13         3              1        7                    2          2   \n",
       "\n",
       "   Repetion  Gender                                         Audio_file  \n",
       "0         2       0  /Users/iyeng/Desktop/NTU/NTU Sem 5/CZ4042/Grou...  \n",
       "1         1       0  /Users/iyeng/Desktop/NTU/NTU Sem 5/CZ4042/Grou...  \n",
       "2         2       0  /Users/iyeng/Desktop/NTU/NTU Sem 5/CZ4042/Grou...  "
      ]
     },
     "execution_count": 8,
     "metadata": {},
     "output_type": "execute_result"
    }
   ],
   "source": [
    "mixed_clip_df = get_random_mixed_clip()\n",
    "mixed_clip = combine_clips(mixed_clip_df)\n",
    "mixed_clip_df  # showing output in ipynb terminal"
   ]
  },
  {
   "cell_type": "code",
   "execution_count": 9,
   "id": "813e88db",
   "metadata": {},
   "outputs": [],
   "source": [
    "def generate_clip_name(clip_df):\n",
    "    emotion_dict = {1:\"neutral\", 2:\"calm\", 3:\"happy\", 4:\"sad\", 5:'angry', 6:'fearful', 7:'disgust', 8:'surprised'}\n",
    "    name = 'mixed_clip'\n",
    "    for i in range(len(clip_df)):\n",
    "        name+= '_'+clip_df['Actor'][i][-2:]+'_'+emotion_dict[clip_df['Emotion'][i]]\n",
    "    return name+'.wav'"
   ]
  },
  {
   "cell_type": "code",
   "execution_count": 10,
   "id": "18efb2b9",
   "metadata": {},
   "outputs": [
    {
     "data": {
      "text/plain": [
       "'mixed_clip_10_sad_21_angry_24_angry_24_fearful.wav'"
      ]
     },
     "execution_count": 10,
     "metadata": {},
     "output_type": "execute_result"
    }
   ],
   "source": [
    "generate_clip_name(get_random_mixed_clip())"
   ]
  },
  {
   "cell_type": "code",
   "execution_count": 11,
   "id": "aa0579dd",
   "metadata": {},
   "outputs": [],
   "source": [
    "for _ in range(10):  # generating 10 clips\n",
    "    mixed_clip_df = get_random_mixed_clip()\n",
    "    mixed_clip = combine_clips(mixed_clip_df)\n",
    "    clip_name = generate_clip_name(mixed_clip_df)\n",
    "    mixed_clip.export(\"mixed_data/\"+clip_name, format=\"wav\")"
   ]
  },
  {
   "cell_type": "code",
   "execution_count": null,
   "id": "37ebd61c",
   "metadata": {},
   "outputs": [],
   "source": []
  }
 ],
 "metadata": {
  "kernelspec": {
   "display_name": "Python 3",
   "language": "python",
   "name": "python3"
  },
  "language_info": {
   "codemirror_mode": {
    "name": "ipython",
    "version": 3
   },
   "file_extension": ".py",
   "mimetype": "text/x-python",
   "name": "python",
   "nbconvert_exporter": "python",
   "pygments_lexer": "ipython3",
   "version": "3.8.8"
  }
 },
 "nbformat": 4,
 "nbformat_minor": 5
}
