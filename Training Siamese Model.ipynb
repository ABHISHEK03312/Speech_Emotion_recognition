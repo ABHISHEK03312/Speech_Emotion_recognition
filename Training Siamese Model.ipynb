{
 "cells": [
  {
   "cell_type": "markdown",
   "id": "4d8c8bbf",
   "metadata": {},
   "source": [
    "## Warning: If CUDA is available, use CPU instead of GPU\n",
    "Overhead of GPU makes training this small model very slow, force keras to use the CPU instead.\n",
    "\n",
    "Run the below cell before anything else:"
   ]
  },
  {
   "cell_type": "code",
   "execution_count": 1,
   "id": "5b19bd60",
   "metadata": {},
   "outputs": [],
   "source": [
    "import os\n",
    "os.environ[\"CUDA_DEVICE_ORDER\"]=\"PCI_BUS_ID\"\n",
    "os.environ[\"CUDA_VISIBLE_DEVICES\"]=\"-1\""
   ]
  },
  {
   "cell_type": "markdown",
   "id": "47c6abcd",
   "metadata": {},
   "source": [
    "Now, try running the imports"
   ]
  },
  {
   "cell_type": "code",
   "execution_count": 2,
   "id": "e494bc6d",
   "metadata": {},
   "outputs": [],
   "source": [
    "import pandas as pd\n",
    "import time\n",
    "import numpy as np\n",
    "import matplotlib.pyplot as plt\n",
    "import seaborn as sns\n",
    "\n",
    "from sklearn.metrics import confusion_matrix\n",
    "from sklearn.metrics import classification_report\n",
    "\n",
    "# tensorflow libraries\n",
    "import tensorflow as tf\n",
    "import tensorflow.keras as keras\n",
    "from tensorflow.keras.models import Model\n",
    "from tensorflow.keras import Sequential\n",
    "from tensorflow.keras.layers import Input, Dense, Dropout, Lambda, Dot\n",
    "import tensorflow.keras.backend as K"
   ]
  },
  {
   "cell_type": "code",
   "execution_count": 3,
   "id": "181dcef4",
   "metadata": {
    "scrolled": true
   },
   "outputs": [
    {
     "name": "stdout",
     "output_type": "stream",
     "text": [
      "[name: \"/device:CPU:0\"\n",
      "device_type: \"CPU\"\n",
      "memory_limit: 268435456\n",
      "locality {\n",
      "}\n",
      "incarnation: 2393079330346199654\n",
      "xla_global_id: -1\n",
      "]\n"
     ]
    }
   ],
   "source": [
    "from tensorflow.python.client import device_lib\n",
    "print(device_lib.list_local_devices())"
   ]
  },
  {
   "cell_type": "markdown",
   "id": "2c56e3ce",
   "metadata": {},
   "source": [
    "## Only proceed if no GPU device is shown in the above cell"
   ]
  },
  {
   "cell_type": "code",
   "execution_count": 4,
   "id": "2b9e32c0",
   "metadata": {},
   "outputs": [],
   "source": [
    "train_df = pd.read_pickle('Speaker_Classification_data/train.df')\n",
    "test_df = pd.read_pickle('Speaker_Classification_data/test.df')"
   ]
  },
  {
   "cell_type": "code",
   "execution_count": 5,
   "id": "aa933888",
   "metadata": {},
   "outputs": [
    {
     "data": {
      "text/html": [
       "<div>\n",
       "<style scoped>\n",
       "    .dataframe tbody tr th:only-of-type {\n",
       "        vertical-align: middle;\n",
       "    }\n",
       "\n",
       "    .dataframe tbody tr th {\n",
       "        vertical-align: top;\n",
       "    }\n",
       "\n",
       "    .dataframe thead th {\n",
       "        text-align: right;\n",
       "    }\n",
       "</style>\n",
       "<table border=\"1\" class=\"dataframe\">\n",
       "  <thead>\n",
       "    <tr style=\"text-align: right;\">\n",
       "      <th></th>\n",
       "      <th>inputA</th>\n",
       "      <th>inputB</th>\n",
       "      <th>label</th>\n",
       "    </tr>\n",
       "  </thead>\n",
       "  <tbody>\n",
       "    <tr>\n",
       "      <th>0</th>\n",
       "      <td>[0.6259576307297445, 0.40422018505075, 0.33808...</td>\n",
       "      <td>[0.8785945881900982, 0.04003334094116476, 0.18...</td>\n",
       "      <td>1</td>\n",
       "    </tr>\n",
       "    <tr>\n",
       "      <th>1</th>\n",
       "      <td>[0.512732250501038, 0.41837384487043455, 0.459...</td>\n",
       "      <td>[0.5508735478037253, 0.35679966623366144, 0.40...</td>\n",
       "      <td>1</td>\n",
       "    </tr>\n",
       "    <tr>\n",
       "      <th>2</th>\n",
       "      <td>[0.5705212932258709, 0.40447019253630095, 0.57...</td>\n",
       "      <td>[0.5002341964855943, 0.44852124181224495, 0.70...</td>\n",
       "      <td>1</td>\n",
       "    </tr>\n",
       "    <tr>\n",
       "      <th>3</th>\n",
       "      <td>[0.6716892570459904, 0.2568239174356624, 0.465...</td>\n",
       "      <td>[0.3180312526532941, 0.5282743435568443, 0.729...</td>\n",
       "      <td>0</td>\n",
       "    </tr>\n",
       "    <tr>\n",
       "      <th>4</th>\n",
       "      <td>[0.4092282572898532, 0.6629626243964712, 0.771...</td>\n",
       "      <td>[0.4472490363914092, 0.7145415799053311, 0.654...</td>\n",
       "      <td>1</td>\n",
       "    </tr>\n",
       "  </tbody>\n",
       "</table>\n",
       "</div>"
      ],
      "text/plain": [
       "                                              inputA  \\\n",
       "0  [0.6259576307297445, 0.40422018505075, 0.33808...   \n",
       "1  [0.512732250501038, 0.41837384487043455, 0.459...   \n",
       "2  [0.5705212932258709, 0.40447019253630095, 0.57...   \n",
       "3  [0.6716892570459904, 0.2568239174356624, 0.465...   \n",
       "4  [0.4092282572898532, 0.6629626243964712, 0.771...   \n",
       "\n",
       "                                              inputB  label  \n",
       "0  [0.8785945881900982, 0.04003334094116476, 0.18...      1  \n",
       "1  [0.5508735478037253, 0.35679966623366144, 0.40...      1  \n",
       "2  [0.5002341964855943, 0.44852124181224495, 0.70...      1  \n",
       "3  [0.3180312526532941, 0.5282743435568443, 0.729...      0  \n",
       "4  [0.4472490363914092, 0.7145415799053311, 0.654...      1  "
      ]
     },
     "execution_count": 5,
     "metadata": {},
     "output_type": "execute_result"
    }
   ],
   "source": [
    "train_df.head()"
   ]
  },
  {
   "cell_type": "code",
   "execution_count": 6,
   "id": "a74816d3",
   "metadata": {},
   "outputs": [
    {
     "data": {
      "text/html": [
       "<div>\n",
       "<style scoped>\n",
       "    .dataframe tbody tr th:only-of-type {\n",
       "        vertical-align: middle;\n",
       "    }\n",
       "\n",
       "    .dataframe tbody tr th {\n",
       "        vertical-align: top;\n",
       "    }\n",
       "\n",
       "    .dataframe thead th {\n",
       "        text-align: right;\n",
       "    }\n",
       "</style>\n",
       "<table border=\"1\" class=\"dataframe\">\n",
       "  <thead>\n",
       "    <tr style=\"text-align: right;\">\n",
       "      <th></th>\n",
       "      <th>inputA</th>\n",
       "      <th>inputB</th>\n",
       "      <th>label</th>\n",
       "    </tr>\n",
       "  </thead>\n",
       "  <tbody>\n",
       "    <tr>\n",
       "      <th>0</th>\n",
       "      <td>[0.5142333013044343, 1.0, 0.528514533012731, 0...</td>\n",
       "      <td>[0.5838474859123154, 0.737866278911825, 0.6344...</td>\n",
       "      <td>1</td>\n",
       "    </tr>\n",
       "    <tr>\n",
       "      <th>1</th>\n",
       "      <td>[0.9184059557245976, 0.2592263926049499, 0.368...</td>\n",
       "      <td>[0.439322194783416, 0.6883048330484197, 0.7197...</td>\n",
       "      <td>1</td>\n",
       "    </tr>\n",
       "    <tr>\n",
       "      <th>2</th>\n",
       "      <td>[0.20991285946164542, 0.5907850984592853, 0.77...</td>\n",
       "      <td>[0.4313755682924979, 0.4552303973251103, 0.689...</td>\n",
       "      <td>0</td>\n",
       "    </tr>\n",
       "    <tr>\n",
       "      <th>3</th>\n",
       "      <td>[0.38706602283265934, 0.3531728127170686, 0.76...</td>\n",
       "      <td>[0.464291056204104, 0.307338873764661, 0.57590...</td>\n",
       "      <td>1</td>\n",
       "    </tr>\n",
       "    <tr>\n",
       "      <th>4</th>\n",
       "      <td>[0.5765927650414007, 0.2964150457391947, 0.518...</td>\n",
       "      <td>[0.5946977418212969, 0.2639801834168179, 0.549...</td>\n",
       "      <td>1</td>\n",
       "    </tr>\n",
       "  </tbody>\n",
       "</table>\n",
       "</div>"
      ],
      "text/plain": [
       "                                              inputA  \\\n",
       "0  [0.5142333013044343, 1.0, 0.528514533012731, 0...   \n",
       "1  [0.9184059557245976, 0.2592263926049499, 0.368...   \n",
       "2  [0.20991285946164542, 0.5907850984592853, 0.77...   \n",
       "3  [0.38706602283265934, 0.3531728127170686, 0.76...   \n",
       "4  [0.5765927650414007, 0.2964150457391947, 0.518...   \n",
       "\n",
       "                                              inputB  label  \n",
       "0  [0.5838474859123154, 0.737866278911825, 0.6344...      1  \n",
       "1  [0.439322194783416, 0.6883048330484197, 0.7197...      1  \n",
       "2  [0.4313755682924979, 0.4552303973251103, 0.689...      0  \n",
       "3  [0.464291056204104, 0.307338873764661, 0.57590...      1  \n",
       "4  [0.5946977418212969, 0.2639801834168179, 0.549...      1  "
      ]
     },
     "execution_count": 6,
     "metadata": {},
     "output_type": "execute_result"
    }
   ],
   "source": [
    "test_df.head()"
   ]
  },
  {
   "cell_type": "code",
   "execution_count": null,
   "id": "8eae6459",
   "metadata": {},
   "outputs": [],
   "source": []
  },
  {
   "cell_type": "markdown",
   "id": "80d6d64e",
   "metadata": {},
   "source": [
    "## Defining and training model"
   ]
  },
  {
   "cell_type": "code",
   "execution_count": 6,
   "id": "726daf43",
   "metadata": {},
   "outputs": [],
   "source": [
    "def build_siamese_model(inputsize, nlayers=2, nsize=64, emb_dim=100):\n",
    "    inputs = Input(inputsize)\n",
    "    x = Dense(nsize, activation='relu')(inputs)\n",
    "    x = Dropout(0.1)(x)\n",
    "    for _ in range(nlayers-1):\n",
    "        x = Dense(nsize, activation='relu')(x)\n",
    "        x = Dropout(0.1)(x)\n",
    "    outputs = Dense(emb_dim)(x)\n",
    "    model = Model(inputs, outputs)\n",
    "    \n",
    "    return model"
   ]
  },
  {
   "cell_type": "code",
   "execution_count": 8,
   "id": "20f70e74",
   "metadata": {},
   "outputs": [],
   "source": [
    "# building model\n",
    "input_shape = len(train_df['inputA'][0])\n",
    "inputA = Input(input_shape)\n",
    "inputB = Input(input_shape)\n",
    "featureExtractor = build_siamese_model(input_shape)\n",
    "featsA = featureExtractor(inputA)\n",
    "featsB = featureExtractor(inputB)\n",
    "\n",
    "output_cos = Dot(axes=1, normalize=True)([featsA, featsB])\n",
    "model = Model(inputs=[inputA, inputB], outputs=output_cos)\n",
    "\n",
    "model.compile(loss=\"binary_crossentropy\", optimizer=\"adam\", metrics=[\"accuracy\"])"
   ]
  },
  {
   "cell_type": "code",
   "execution_count": 9,
   "id": "6b6725d3",
   "metadata": {},
   "outputs": [
    {
     "name": "stdout",
     "output_type": "stream",
     "text": [
      "Model: \"model_1\"\n",
      "__________________________________________________________________________________________________\n",
      " Layer (type)                   Output Shape         Param #     Connected to                     \n",
      "==================================================================================================\n",
      " input_1 (InputLayer)           [(None, 175)]        0           []                               \n",
      "                                                                                                  \n",
      " input_2 (InputLayer)           [(None, 175)]        0           []                               \n",
      "                                                                                                  \n",
      " model (Functional)             (None, 100)          21924       ['input_1[0][0]',                \n",
      "                                                                  'input_2[0][0]']                \n",
      "                                                                                                  \n",
      " dot (Dot)                      (None, 1)            0           ['model[0][0]',                  \n",
      "                                                                  'model[1][0]']                  \n",
      "                                                                                                  \n",
      "==================================================================================================\n",
      "Total params: 21,924\n",
      "Trainable params: 21,924\n",
      "Non-trainable params: 0\n",
      "__________________________________________________________________________________________________\n"
     ]
    }
   ],
   "source": [
    "model.summary()"
   ]
  },
  {
   "cell_type": "code",
   "execution_count": 10,
   "id": "f39bbd4d",
   "metadata": {},
   "outputs": [],
   "source": [
    "X1_train = np.asarray(list(train_df['inputA']), dtype=np.float32)\n",
    "X2_train = np.asarray(list(train_df['inputB']), dtype=np.float32)\n",
    "\n",
    "X1_test = np.asarray(list(test_df['inputA']), dtype=np.float32)\n",
    "X2_test = np.asarray(list(test_df['inputB']), dtype=np.float32)"
   ]
  },
  {
   "cell_type": "code",
   "execution_count": 11,
   "id": "2ef0f743",
   "metadata": {
    "scrolled": true
   },
   "outputs": [
    {
     "name": "stdout",
     "output_type": "stream",
     "text": [
      "Epoch 1/50\n",
      "59471/59471 - 78s - loss: 0.5875 - accuracy: 0.7300 - val_loss: 0.3990 - val_accuracy: 0.8433 - 78s/epoch - 1ms/step\n",
      "Epoch 2/50\n",
      "59471/59471 - 69s - loss: 0.4136 - accuracy: 0.8275 - val_loss: 0.3349 - val_accuracy: 0.8839 - 69s/epoch - 1ms/step\n",
      "Epoch 3/50\n",
      "59471/59471 - 66s - loss: 0.3216 - accuracy: 0.8761 - val_loss: 0.2694 - val_accuracy: 0.9042 - 66s/epoch - 1ms/step\n",
      "Epoch 4/50\n",
      "59471/59471 - 70s - loss: 0.2784 - accuracy: 0.8971 - val_loss: 0.2145 - val_accuracy: 0.9247 - 70s/epoch - 1ms/step\n",
      "Epoch 5/50\n",
      "59471/59471 - 69s - loss: 0.2489 - accuracy: 0.9098 - val_loss: 0.2342 - val_accuracy: 0.9153 - 69s/epoch - 1ms/step\n",
      "Epoch 6/50\n",
      "59471/59471 - 68s - loss: 0.2378 - accuracy: 0.9153 - val_loss: 0.2291 - val_accuracy: 0.9159 - 68s/epoch - 1ms/step\n",
      "Epoch 7/50\n",
      "59471/59471 - 73s - loss: 0.2190 - accuracy: 0.9230 - val_loss: 0.1778 - val_accuracy: 0.9390 - 73s/epoch - 1ms/step\n",
      "Epoch 8/50\n",
      "59471/59471 - 69s - loss: 0.2160 - accuracy: 0.9250 - val_loss: 0.1684 - val_accuracy: 0.9428 - 69s/epoch - 1ms/step\n",
      "Epoch 9/50\n",
      "59471/59471 - 70s - loss: 0.1924 - accuracy: 0.9324 - val_loss: 0.1470 - val_accuracy: 0.9464 - 70s/epoch - 1ms/step\n",
      "Epoch 10/50\n",
      "59471/59471 - 68s - loss: 0.1839 - accuracy: 0.9356 - val_loss: 0.1410 - val_accuracy: 0.9510 - 68s/epoch - 1ms/step\n",
      "Epoch 11/50\n",
      "59471/59471 - 69s - loss: 0.1791 - accuracy: 0.9402 - val_loss: 0.1275 - val_accuracy: 0.9533 - 69s/epoch - 1ms/step\n",
      "Epoch 12/50\n",
      "59471/59471 - 73s - loss: 0.1779 - accuracy: 0.9404 - val_loss: 0.3810 - val_accuracy: 0.8927 - 73s/epoch - 1ms/step\n",
      "Epoch 13/50\n",
      "59471/59471 - 75s - loss: 0.1867 - accuracy: 0.9396 - val_loss: 0.1169 - val_accuracy: 0.9596 - 75s/epoch - 1ms/step\n",
      "Epoch 14/50\n",
      "59471/59471 - 70s - loss: 0.1701 - accuracy: 0.9454 - val_loss: 0.1077 - val_accuracy: 0.9629 - 70s/epoch - 1ms/step\n",
      "Epoch 15/50\n",
      "59471/59471 - 69s - loss: 0.1611 - accuracy: 0.9487 - val_loss: 0.1094 - val_accuracy: 0.9623 - 69s/epoch - 1ms/step\n",
      "Epoch 16/50\n",
      "59471/59471 - 76s - loss: 0.1832 - accuracy: 0.9425 - val_loss: 0.1184 - val_accuracy: 0.9581 - 76s/epoch - 1ms/step\n",
      "Epoch 17/50\n",
      "59471/59471 - 76s - loss: 0.1504 - accuracy: 0.9531 - val_loss: 0.1069 - val_accuracy: 0.9676 - 76s/epoch - 1ms/step\n",
      "Epoch 18/50\n",
      "59471/59471 - 69s - loss: 0.1636 - accuracy: 0.9505 - val_loss: 0.0934 - val_accuracy: 0.9686 - 69s/epoch - 1ms/step\n",
      "Epoch 19/50\n",
      "59471/59471 - 68s - loss: 0.1498 - accuracy: 0.9551 - val_loss: 0.0844 - val_accuracy: 0.9732 - 68s/epoch - 1ms/step\n",
      "Epoch 20/50\n",
      "59471/59471 - 70s - loss: 0.1581 - accuracy: 0.9504 - val_loss: 0.0913 - val_accuracy: 0.9693 - 70s/epoch - 1ms/step\n",
      "Epoch 21/50\n",
      "59471/59471 - 73s - loss: 0.1428 - accuracy: 0.9558 - val_loss: 0.0855 - val_accuracy: 0.9733 - 73s/epoch - 1ms/step\n",
      "Epoch 22/50\n",
      "59471/59471 - 70s - loss: 0.1444 - accuracy: 0.9564 - val_loss: 0.0849 - val_accuracy: 0.9723 - 70s/epoch - 1ms/step\n",
      "Epoch 23/50\n",
      "59471/59471 - 74s - loss: 0.1357 - accuracy: 0.9601 - val_loss: 0.0744 - val_accuracy: 0.9748 - 74s/epoch - 1ms/step\n",
      "Epoch 24/50\n",
      "59471/59471 - 70s - loss: 0.1531 - accuracy: 0.9528 - val_loss: 0.0727 - val_accuracy: 0.9740 - 70s/epoch - 1ms/step\n",
      "Epoch 25/50\n",
      "59471/59471 - 71s - loss: 0.1293 - accuracy: 0.9593 - val_loss: 0.0709 - val_accuracy: 0.9770 - 71s/epoch - 1ms/step\n",
      "Epoch 26/50\n",
      "59471/59471 - 71s - loss: 0.1328 - accuracy: 0.9601 - val_loss: 0.0710 - val_accuracy: 0.9778 - 71s/epoch - 1ms/step\n",
      "Epoch 27/50\n",
      "59471/59471 - 71s - loss: 0.1247 - accuracy: 0.9611 - val_loss: 0.1103 - val_accuracy: 0.9651 - 71s/epoch - 1ms/step\n",
      "Epoch 28/50\n",
      "59471/59471 - 76s - loss: 0.1676 - accuracy: 0.9522 - val_loss: 0.0643 - val_accuracy: 0.9779 - 76s/epoch - 1ms/step\n",
      "Epoch 29/50\n",
      "59471/59471 - 75s - loss: 0.1254 - accuracy: 0.9618 - val_loss: 0.0637 - val_accuracy: 0.9793 - 75s/epoch - 1ms/step\n",
      "Epoch 30/50\n",
      "59471/59471 - 71s - loss: 0.1448 - accuracy: 0.9571 - val_loss: 0.0703 - val_accuracy: 0.9735 - 71s/epoch - 1ms/step\n",
      "Epoch 31/50\n",
      "59471/59471 - 71s - loss: 0.1264 - accuracy: 0.9612 - val_loss: 0.0602 - val_accuracy: 0.9806 - 71s/epoch - 1ms/step\n",
      "Epoch 32/50\n",
      "59471/59471 - 73s - loss: 0.1174 - accuracy: 0.9646 - val_loss: 0.0834 - val_accuracy: 0.9708 - 73s/epoch - 1ms/step\n",
      "Epoch 33/50\n",
      "59471/59471 - 71s - loss: 0.1662 - accuracy: 0.9544 - val_loss: 0.0646 - val_accuracy: 0.9785 - 71s/epoch - 1ms/step\n",
      "Epoch 34/50\n",
      "59471/59471 - 72s - loss: 0.1363 - accuracy: 0.9585 - val_loss: 0.0563 - val_accuracy: 0.9802 - 72s/epoch - 1ms/step\n",
      "Epoch 35/50\n",
      "59471/59471 - 72s - loss: 0.1125 - accuracy: 0.9653 - val_loss: 0.0585 - val_accuracy: 0.9803 - 72s/epoch - 1ms/step\n",
      "Epoch 36/50\n",
      "59471/59471 - 79s - loss: 0.1366 - accuracy: 0.9575 - val_loss: 0.0516 - val_accuracy: 0.9809 - 79s/epoch - 1ms/step\n",
      "Epoch 37/50\n",
      "59471/59471 - 76s - loss: 0.1134 - accuracy: 0.9658 - val_loss: 0.0528 - val_accuracy: 0.9813 - 76s/epoch - 1ms/step\n",
      "Epoch 38/50\n",
      "59471/59471 - 79s - loss: 0.1172 - accuracy: 0.9653 - val_loss: 0.0562 - val_accuracy: 0.9804 - 79s/epoch - 1ms/step\n",
      "Epoch 39/50\n",
      "59471/59471 - 70s - loss: 0.1286 - accuracy: 0.9628 - val_loss: 0.0463 - val_accuracy: 0.9842 - 70s/epoch - 1ms/step\n",
      "Epoch 40/50\n",
      "59471/59471 - 78s - loss: 0.1369 - accuracy: 0.9621 - val_loss: 0.2762 - val_accuracy: 0.9060 - 78s/epoch - 1ms/step\n",
      "Epoch 41/50\n",
      "59471/59471 - 69s - loss: 0.1621 - accuracy: 0.9524 - val_loss: 0.1968 - val_accuracy: 0.9372 - 69s/epoch - 1ms/step\n",
      "Epoch 42/50\n",
      "59471/59471 - 66s - loss: 0.1090 - accuracy: 0.9685 - val_loss: 0.0469 - val_accuracy: 0.9849 - 66s/epoch - 1ms/step\n",
      "Epoch 43/50\n",
      "59471/59471 - 67s - loss: 0.1520 - accuracy: 0.9572 - val_loss: 0.0508 - val_accuracy: 0.9817 - 67s/epoch - 1ms/step\n",
      "Epoch 44/50\n",
      "59471/59471 - 68s - loss: 0.1047 - accuracy: 0.9682 - val_loss: 0.0599 - val_accuracy: 0.9784 - 68s/epoch - 1ms/step\n",
      "Epoch 45/50\n",
      "59471/59471 - 67s - loss: 0.1063 - accuracy: 0.9702 - val_loss: 0.0527 - val_accuracy: 0.9812 - 67s/epoch - 1ms/step\n",
      "Epoch 46/50\n",
      "59471/59471 - 67s - loss: 0.1614 - accuracy: 0.9556 - val_loss: 0.0485 - val_accuracy: 0.9832 - 67s/epoch - 1ms/step\n",
      "Epoch 47/50\n",
      "59471/59471 - 68s - loss: 0.1003 - accuracy: 0.9696 - val_loss: 0.0441 - val_accuracy: 0.9847 - 68s/epoch - 1ms/step\n",
      "Epoch 48/50\n",
      "59471/59471 - 67s - loss: 0.1254 - accuracy: 0.9631 - val_loss: 0.0436 - val_accuracy: 0.9856 - 67s/epoch - 1ms/step\n",
      "Epoch 49/50\n",
      "59471/59471 - 67s - loss: 0.0993 - accuracy: 0.9705 - val_loss: 0.0394 - val_accuracy: 0.9871 - 67s/epoch - 1ms/step\n",
      "Epoch 50/50\n",
      "59471/59471 - 67s - loss: 0.1095 - accuracy: 0.9683 - val_loss: 0.0440 - val_accuracy: 0.9865 - 67s/epoch - 1ms/step\n"
     ]
    }
   ],
   "source": [
    "history = model.fit([X1_train, X2_train], train_df['label'],\n",
    "          validation_data=([X1_test, X2_test], test_df['label']),\n",
    "          batch_size=1, epochs=50, verbose=2)"
   ]
  },
  {
   "cell_type": "code",
   "execution_count": 12,
   "id": "b25d2ae7",
   "metadata": {},
   "outputs": [],
   "source": [
    "def plot_from_history(hist, metric='accuracy', label='Training and Test accuracy', save_path=\"\"):\n",
    "    plt.figure()\n",
    "    plt.plot(range(1, 51), hist[metric], 'orange', label='Training '+metric)\n",
    "    plt.plot(range(1, 51), hist[\"val_\"+metric], 'blue', label='Test '+metric)\n",
    "    plt.title(label)\n",
    "    plt.xlabel('Epochs')\n",
    "    plt.ylabel(metric)\n",
    "    plt.legend()\n",
    "    if len(save_path):\n",
    "        plt.savefig(save_path)\n",
    "    plt.show()"
   ]
  },
  {
   "cell_type": "code",
   "execution_count": 13,
   "id": "c8c54dbd",
   "metadata": {},
   "outputs": [
    {
     "data": {
      "image/png": "[encoded data removed]",
      "text/plain": [
       "<Figure size 432x288 with 1 Axes>"
      ]
     },
     "metadata": {
      "needs_background": "light"
     },
     "output_type": "display_data"
    }
   ],
   "source": [
    "plot_from_history(history.history)"
   ]
  },
  {
   "cell_type": "code",
   "execution_count": 14,
   "id": "508f66b5",
   "metadata": {},
   "outputs": [
    {
     "name": "stdout",
     "output_type": "stream",
     "text": [
      "INFO:tensorflow:Assets written to: ./models/base_siamese_175\\assets\n"
     ]
    }
   ],
   "source": [
    "model.save(\"./models/new_siamese_175\")"
   ]
  },
  {
   "cell_type": "code",
   "execution_count": null,
   "id": "298c7414",
   "metadata": {},
   "outputs": [],
   "source": []
  },
  {
   "cell_type": "markdown",
   "id": "25f9f724",
   "metadata": {},
   "source": [
    "## Loading and testing best model"
   ]
  },
  {
   "cell_type": "code",
   "execution_count": 7,
   "id": "dd70d77b",
   "metadata": {},
   "outputs": [
    {
     "name": "stdout",
     "output_type": "stream",
     "text": [
      "Model: \"model_1\"\n",
      "__________________________________________________________________________________________________\n",
      " Layer (type)                   Output Shape         Param #     Connected to                     \n",
      "==================================================================================================\n",
      " input_1 (InputLayer)           [(None, 175)]        0           []                               \n",
      "                                                                                                  \n",
      " input_2 (InputLayer)           [(None, 175)]        0           []                               \n",
      "                                                                                                  \n",
      " model (Functional)             (None, 100)          21924       ['input_1[0][0]',                \n",
      "                                                                  'input_2[0][0]']                \n",
      "                                                                                                  \n",
      " dot (Dot)                      (None, 1)            0           ['model[0][0]',                  \n",
      "                                                                  'model[1][0]']                  \n",
      "                                                                                                  \n",
      "==================================================================================================\n",
      "Total params: 21,924\n",
      "Trainable params: 21,924\n",
      "Non-trainable params: 0\n",
      "__________________________________________________________________________________________________\n"
     ]
    }
   ],
   "source": [
    "model = keras.models.load_model(\"./models/base_siamese_175\")\n",
    "model.summary()"
   ]
  },
  {
   "cell_type": "code",
   "execution_count": 8,
   "id": "8f31bf7d",
   "metadata": {},
   "outputs": [
    {
     "data": {
      "text/plain": [
       "0.99954754"
      ]
     },
     "execution_count": 8,
     "metadata": {},
     "output_type": "execute_result"
    }
   ],
   "source": [
    "model.predict([np.array([train_df['inputA'][0]]), np.array([train_df['inputB'][0]])])[0][0]"
   ]
  },
  {
   "cell_type": "code",
   "execution_count": 9,
   "id": "799761e2",
   "metadata": {},
   "outputs": [
    {
     "data": {
      "text/plain": [
       "array([[ 0.99954754],\n",
       "       [ 0.784888  ],\n",
       "       [ 0.93954587],\n",
       "       ...,\n",
       "       [-0.0120241 ],\n",
       "       [ 0.9998923 ],\n",
       "       [-0.01533243]], dtype=float32)"
      ]
     },
     "execution_count": 9,
     "metadata": {},
     "output_type": "execute_result"
    }
   ],
   "source": [
    "model.predict([np.array(list(train_df['inputA'])), np.array(list(train_df['inputB']))])"
   ]
  },
  {
   "cell_type": "code",
   "execution_count": 10,
   "id": "b88aced5",
   "metadata": {},
   "outputs": [
    {
     "name": "stdout",
     "output_type": "stream",
     "text": [
      "Done in: 1.4191858768463135 seconds\n",
      "Average time per pred: 2.3863494423270393e-05 seconds\n"
     ]
    },
    {
     "data": {
      "text/html": [
       "<div>\n",
       "<style scoped>\n",
       "    .dataframe tbody tr th:only-of-type {\n",
       "        vertical-align: middle;\n",
       "    }\n",
       "\n",
       "    .dataframe tbody tr th {\n",
       "        vertical-align: top;\n",
       "    }\n",
       "\n",
       "    .dataframe thead th {\n",
       "        text-align: right;\n",
       "    }\n",
       "</style>\n",
       "<table border=\"1\" class=\"dataframe\">\n",
       "  <thead>\n",
       "    <tr style=\"text-align: right;\">\n",
       "      <th></th>\n",
       "      <th>inputA</th>\n",
       "      <th>inputB</th>\n",
       "      <th>label</th>\n",
       "      <th>preds</th>\n",
       "    </tr>\n",
       "  </thead>\n",
       "  <tbody>\n",
       "    <tr>\n",
       "      <th>0</th>\n",
       "      <td>[0.6259576307297445, 0.40422018505075, 0.33808...</td>\n",
       "      <td>[0.8785945881900982, 0.04003334094116476, 0.18...</td>\n",
       "      <td>1</td>\n",
       "      <td>0.999548</td>\n",
       "    </tr>\n",
       "    <tr>\n",
       "      <th>1</th>\n",
       "      <td>[0.512732250501038, 0.41837384487043455, 0.459...</td>\n",
       "      <td>[0.5508735478037253, 0.35679966623366144, 0.40...</td>\n",
       "      <td>1</td>\n",
       "      <td>0.784888</td>\n",
       "    </tr>\n",
       "    <tr>\n",
       "      <th>2</th>\n",
       "      <td>[0.5705212932258709, 0.40447019253630095, 0.57...</td>\n",
       "      <td>[0.5002341964855943, 0.44852124181224495, 0.70...</td>\n",
       "      <td>1</td>\n",
       "      <td>0.939546</td>\n",
       "    </tr>\n",
       "    <tr>\n",
       "      <th>3</th>\n",
       "      <td>[0.6716892570459904, 0.2568239174356624, 0.465...</td>\n",
       "      <td>[0.3180312526532941, 0.5282743435568443, 0.729...</td>\n",
       "      <td>0</td>\n",
       "      <td>-0.044265</td>\n",
       "    </tr>\n",
       "    <tr>\n",
       "      <th>4</th>\n",
       "      <td>[0.4092282572898532, 0.6629626243964712, 0.771...</td>\n",
       "      <td>[0.4472490363914092, 0.7145415799053311, 0.654...</td>\n",
       "      <td>1</td>\n",
       "      <td>0.846460</td>\n",
       "    </tr>\n",
       "  </tbody>\n",
       "</table>\n",
       "</div>"
      ],
      "text/plain": [
       "                                              inputA  \\\n",
       "0  [0.6259576307297445, 0.40422018505075, 0.33808...   \n",
       "1  [0.512732250501038, 0.41837384487043455, 0.459...   \n",
       "2  [0.5705212932258709, 0.40447019253630095, 0.57...   \n",
       "3  [0.6716892570459904, 0.2568239174356624, 0.465...   \n",
       "4  [0.4092282572898532, 0.6629626243964712, 0.771...   \n",
       "\n",
       "                                              inputB  label     preds  \n",
       "0  [0.8785945881900982, 0.04003334094116476, 0.18...      1  0.999548  \n",
       "1  [0.5508735478037253, 0.35679966623366144, 0.40...      1  0.784888  \n",
       "2  [0.5002341964855943, 0.44852124181224495, 0.70...      1  0.939546  \n",
       "3  [0.3180312526532941, 0.5282743435568443, 0.729...      0 -0.044265  \n",
       "4  [0.4472490363914092, 0.7145415799053311, 0.654...      1  0.846460  "
      ]
     },
     "execution_count": 10,
     "metadata": {},
     "output_type": "execute_result"
    }
   ],
   "source": [
    "start = time.time()\n",
    "preds = [x[0] for x in model.predict([np.array(list(train_df['inputA'])), np.array(list(train_df['inputB']))])]\n",
    "end = time.time()\n",
    "train_results = train_df.copy()\n",
    "train_results['preds'] = preds\n",
    "print(\"Done in:\", (end-start), \"seconds\")\n",
    "print(\"Average time per pred:\", ((end-start)/len(train_df)), \"seconds\")\n",
    "train_results.head()"
   ]
  },
  {
   "cell_type": "code",
   "execution_count": 11,
   "id": "85eee755",
   "metadata": {
    "scrolled": false
   },
   "outputs": [
    {
     "data": {
      "text/plain": [
       "<AxesSubplot:title={'center':'preds'}, xlabel='label'>"
      ]
     },
     "execution_count": 11,
     "metadata": {},
     "output_type": "execute_result"
    },
    {
     "data": {
      "image/png": "[encoded data removed]",
      "text/plain": [
       "<Figure size 576x576 with 1 Axes>"
      ]
     },
     "metadata": {
      "needs_background": "light"
     },
     "output_type": "display_data"
    }
   ],
   "source": [
    "train_results.boxplot('preds', 'label', figsize=(8,8))"
   ]
  },
  {
   "cell_type": "code",
   "execution_count": 12,
   "id": "bddc5cb9",
   "metadata": {},
   "outputs": [
    {
     "data": {
      "text/plain": [
       "[<matplotlib.axis.YTick at 0x24d7ee1d8e0>,\n",
       " <matplotlib.axis.YTick at 0x24d7ee1d4c0>,\n",
       " <matplotlib.axis.YTick at 0x24d7ee00580>,\n",
       " <matplotlib.axis.YTick at 0x24d7ee8b7c0>,\n",
       " <matplotlib.axis.YTick at 0x24d7eeb0e80>,\n",
       " <matplotlib.axis.YTick at 0x24d7eeb0580>,\n",
       " <matplotlib.axis.YTick at 0x24d7eeb0af0>,\n",
       " <matplotlib.axis.YTick at 0x24d7ee8bc10>,\n",
       " <matplotlib.axis.YTick at 0x24d7eeb0f70>,\n",
       " <matplotlib.axis.YTick at 0x24d7eec0970>,\n",
       " <matplotlib.axis.YTick at 0x24d7eec0070>,\n",
       " <matplotlib.axis.YTick at 0x24d7eec0b20>,\n",
       " <matplotlib.axis.YTick at 0x24d7ef1f400>,\n",
       " <matplotlib.axis.YTick at 0x24d7ef1f9a0>,\n",
       " <matplotlib.axis.YTick at 0x24d7ef1f100>,\n",
       " <matplotlib.axis.YTick at 0x24d7ef3cd00>,\n",
       " <matplotlib.axis.YTick at 0x24d7ef1f460>,\n",
       " <matplotlib.axis.YTick at 0x24d7eec0730>,\n",
       " <matplotlib.axis.YTick at 0x24d7ef3c970>,\n",
       " <matplotlib.axis.YTick at 0x24d7ef3c040>,\n",
       " <matplotlib.axis.YTick at 0x24d7ef3ce80>,\n",
       " <matplotlib.axis.YTick at 0x24d7ef2ca90>,\n",
       " <matplotlib.axis.YTick at 0x24d7ef2c580>,\n",
       " <matplotlib.axis.YTick at 0x24d7ef2cc40>,\n",
       " <matplotlib.axis.YTick at 0x24d7efc8e80>,\n",
       " <matplotlib.axis.YTick at 0x24d7ef2c640>,\n",
       " <matplotlib.axis.YTick at 0x24d7ef3cb50>,\n",
       " <matplotlib.axis.YTick at 0x24d7ef1f6a0>,\n",
       " <matplotlib.axis.YTick at 0x24d7efc8490>,\n",
       " <matplotlib.axis.YTick at 0x24d7efc8af0>,\n",
       " <matplotlib.axis.YTick at 0x24d7efd8a30>,\n",
       " <matplotlib.axis.YTick at 0x24d7efd82b0>,\n",
       " <matplotlib.axis.YTick at 0x24d7efd8e20>,\n",
       " <matplotlib.axis.YTick at 0x24d7efe0a30>,\n",
       " <matplotlib.axis.YTick at 0x24d7efd8310>,\n",
       " <matplotlib.axis.YTick at 0x24d7efc8760>,\n",
       " <matplotlib.axis.YTick at 0x24d7ef2caf0>,\n",
       " <matplotlib.axis.YTick at 0x24d7efe0400>,\n",
       " <matplotlib.axis.YTick at 0x24d7efe0340>,\n",
       " <matplotlib.axis.YTick at 0x24d7eff6610>]"
      ]
     },
     "execution_count": 12,
     "metadata": {},
     "output_type": "execute_result"
    },
    {
     "data": {
      "image/png": "[encoded data removed]",
      "text/plain": [
       "<Figure size 1152x1152 with 1 Axes>"
      ]
     },
     "metadata": {
      "needs_background": "light"
     },
     "output_type": "display_data"
    }
   ],
   "source": [
    "fig, ax = plt.subplots(figsize=(16, 16))\n",
    "sns.violinplot(ax=ax, x=\"label\", y=\"preds\", data=train_results)\n",
    "ax.set_yticks([-1+0.05*x for x in range(40)])"
   ]
  },
  {
   "cell_type": "code",
   "execution_count": 13,
   "id": "b5750c5a",
   "metadata": {},
   "outputs": [
    {
     "data": {
      "text/html": [
       "<div>\n",
       "<style scoped>\n",
       "    .dataframe tbody tr th:only-of-type {\n",
       "        vertical-align: middle;\n",
       "    }\n",
       "\n",
       "    .dataframe tbody tr th {\n",
       "        vertical-align: top;\n",
       "    }\n",
       "\n",
       "    .dataframe thead th {\n",
       "        text-align: right;\n",
       "    }\n",
       "</style>\n",
       "<table border=\"1\" class=\"dataframe\">\n",
       "  <thead>\n",
       "    <tr style=\"text-align: right;\">\n",
       "      <th></th>\n",
       "      <th>inputA</th>\n",
       "      <th>inputB</th>\n",
       "      <th>label</th>\n",
       "      <th>preds</th>\n",
       "      <th>pred_class</th>\n",
       "    </tr>\n",
       "  </thead>\n",
       "  <tbody>\n",
       "    <tr>\n",
       "      <th>0</th>\n",
       "      <td>[0.6259576307297445, 0.40422018505075, 0.33808...</td>\n",
       "      <td>[0.8785945881900982, 0.04003334094116476, 0.18...</td>\n",
       "      <td>1</td>\n",
       "      <td>0.999548</td>\n",
       "      <td>1</td>\n",
       "    </tr>\n",
       "    <tr>\n",
       "      <th>1</th>\n",
       "      <td>[0.512732250501038, 0.41837384487043455, 0.459...</td>\n",
       "      <td>[0.5508735478037253, 0.35679966623366144, 0.40...</td>\n",
       "      <td>1</td>\n",
       "      <td>0.784888</td>\n",
       "      <td>1</td>\n",
       "    </tr>\n",
       "    <tr>\n",
       "      <th>2</th>\n",
       "      <td>[0.5705212932258709, 0.40447019253630095, 0.57...</td>\n",
       "      <td>[0.5002341964855943, 0.44852124181224495, 0.70...</td>\n",
       "      <td>1</td>\n",
       "      <td>0.939546</td>\n",
       "      <td>1</td>\n",
       "    </tr>\n",
       "    <tr>\n",
       "      <th>3</th>\n",
       "      <td>[0.6716892570459904, 0.2568239174356624, 0.465...</td>\n",
       "      <td>[0.3180312526532941, 0.5282743435568443, 0.729...</td>\n",
       "      <td>0</td>\n",
       "      <td>-0.044265</td>\n",
       "      <td>0</td>\n",
       "    </tr>\n",
       "    <tr>\n",
       "      <th>4</th>\n",
       "      <td>[0.4092282572898532, 0.6629626243964712, 0.771...</td>\n",
       "      <td>[0.4472490363914092, 0.7145415799053311, 0.654...</td>\n",
       "      <td>1</td>\n",
       "      <td>0.846460</td>\n",
       "      <td>1</td>\n",
       "    </tr>\n",
       "  </tbody>\n",
       "</table>\n",
       "</div>"
      ],
      "text/plain": [
       "                                              inputA  \\\n",
       "0  [0.6259576307297445, 0.40422018505075, 0.33808...   \n",
       "1  [0.512732250501038, 0.41837384487043455, 0.459...   \n",
       "2  [0.5705212932258709, 0.40447019253630095, 0.57...   \n",
       "3  [0.6716892570459904, 0.2568239174356624, 0.465...   \n",
       "4  [0.4092282572898532, 0.6629626243964712, 0.771...   \n",
       "\n",
       "                                              inputB  label     preds  \\\n",
       "0  [0.8785945881900982, 0.04003334094116476, 0.18...      1  0.999548   \n",
       "1  [0.5508735478037253, 0.35679966623366144, 0.40...      1  0.784888   \n",
       "2  [0.5002341964855943, 0.44852124181224495, 0.70...      1  0.939546   \n",
       "3  [0.3180312526532941, 0.5282743435568443, 0.729...      0 -0.044265   \n",
       "4  [0.4472490363914092, 0.7145415799053311, 0.654...      1  0.846460   \n",
       "\n",
       "   pred_class  \n",
       "0           1  \n",
       "1           1  \n",
       "2           1  \n",
       "3           0  \n",
       "4           1  "
      ]
     },
     "execution_count": 13,
     "metadata": {},
     "output_type": "execute_result"
    }
   ],
   "source": [
    "threshold = 0.75\n",
    "train_results['pred_class'] = train_results.apply(lambda x: int(x['preds']>=threshold), axis=1)\n",
    "train_results.head()"
   ]
  },
  {
   "cell_type": "code",
   "execution_count": 14,
   "id": "2a08d9ba",
   "metadata": {},
   "outputs": [
    {
     "name": "stdout",
     "output_type": "stream",
     "text": [
      "[[29229   450]\n",
      " [  146 29646]]\n"
     ]
    }
   ],
   "source": [
    "print(confusion_matrix(train_results.label, train_results.pred_class))"
   ]
  },
  {
   "cell_type": "code",
   "execution_count": 15,
   "id": "ad357c19",
   "metadata": {},
   "outputs": [
    {
     "name": "stdout",
     "output_type": "stream",
     "text": [
      "              precision    recall  f1-score   support\n",
      "\n",
      "           0       1.00      0.98      0.99     29679\n",
      "           1       0.99      1.00      0.99     29792\n",
      "\n",
      "    accuracy                           0.99     59471\n",
      "   macro avg       0.99      0.99      0.99     59471\n",
      "weighted avg       0.99      0.99      0.99     59471\n",
      "\n"
     ]
    }
   ],
   "source": [
    "print(classification_report(train_results.label, train_results.pred_class))"
   ]
  },
  {
   "cell_type": "code",
   "execution_count": 16,
   "id": "ea3446df",
   "metadata": {},
   "outputs": [],
   "source": [
    "train_results.to_csv('results/siamese_train_preds.csv', index=False, columns=['label', 'preds', 'pred_class'])"
   ]
  },
  {
   "cell_type": "code",
   "execution_count": 17,
   "id": "b94854c8",
   "metadata": {},
   "outputs": [
    {
     "name": "stdout",
     "output_type": "stream",
     "text": [
      "Done in: 0.6162338256835938 seconds\n",
      "Average time per pred: 1.0361921368122173e-05 seconds\n"
     ]
    },
    {
     "data": {
      "text/html": [
       "<div>\n",
       "<style scoped>\n",
       "    .dataframe tbody tr th:only-of-type {\n",
       "        vertical-align: middle;\n",
       "    }\n",
       "\n",
       "    .dataframe tbody tr th {\n",
       "        vertical-align: top;\n",
       "    }\n",
       "\n",
       "    .dataframe thead th {\n",
       "        text-align: right;\n",
       "    }\n",
       "</style>\n",
       "<table border=\"1\" class=\"dataframe\">\n",
       "  <thead>\n",
       "    <tr style=\"text-align: right;\">\n",
       "      <th></th>\n",
       "      <th>inputA</th>\n",
       "      <th>inputB</th>\n",
       "      <th>label</th>\n",
       "      <th>preds</th>\n",
       "    </tr>\n",
       "  </thead>\n",
       "  <tbody>\n",
       "    <tr>\n",
       "      <th>0</th>\n",
       "      <td>[0.5142333013044343, 1.0, 0.528514533012731, 0...</td>\n",
       "      <td>[0.5838474859123154, 0.737866278911825, 0.6344...</td>\n",
       "      <td>1</td>\n",
       "      <td>0.994371</td>\n",
       "    </tr>\n",
       "    <tr>\n",
       "      <th>1</th>\n",
       "      <td>[0.9184059557245976, 0.2592263926049499, 0.368...</td>\n",
       "      <td>[0.439322194783416, 0.6883048330484197, 0.7197...</td>\n",
       "      <td>1</td>\n",
       "      <td>0.998511</td>\n",
       "    </tr>\n",
       "    <tr>\n",
       "      <th>2</th>\n",
       "      <td>[0.20991285946164542, 0.5907850984592853, 0.77...</td>\n",
       "      <td>[0.4313755682924979, 0.4552303973251103, 0.689...</td>\n",
       "      <td>0</td>\n",
       "      <td>0.831328</td>\n",
       "    </tr>\n",
       "    <tr>\n",
       "      <th>3</th>\n",
       "      <td>[0.38706602283265934, 0.3531728127170686, 0.76...</td>\n",
       "      <td>[0.464291056204104, 0.307338873764661, 0.57590...</td>\n",
       "      <td>1</td>\n",
       "      <td>0.999972</td>\n",
       "    </tr>\n",
       "    <tr>\n",
       "      <th>4</th>\n",
       "      <td>[0.5765927650414007, 0.2964150457391947, 0.518...</td>\n",
       "      <td>[0.5946977418212969, 0.2639801834168179, 0.549...</td>\n",
       "      <td>1</td>\n",
       "      <td>0.999818</td>\n",
       "    </tr>\n",
       "  </tbody>\n",
       "</table>\n",
       "</div>"
      ],
      "text/plain": [
       "                                              inputA  \\\n",
       "0  [0.5142333013044343, 1.0, 0.528514533012731, 0...   \n",
       "1  [0.9184059557245976, 0.2592263926049499, 0.368...   \n",
       "2  [0.20991285946164542, 0.5907850984592853, 0.77...   \n",
       "3  [0.38706602283265934, 0.3531728127170686, 0.76...   \n",
       "4  [0.5765927650414007, 0.2964150457391947, 0.518...   \n",
       "\n",
       "                                              inputB  label     preds  \n",
       "0  [0.5838474859123154, 0.737866278911825, 0.6344...      1  0.994371  \n",
       "1  [0.439322194783416, 0.6883048330484197, 0.7197...      1  0.998511  \n",
       "2  [0.4313755682924979, 0.4552303973251103, 0.689...      0  0.831328  \n",
       "3  [0.464291056204104, 0.307338873764661, 0.57590...      1  0.999972  \n",
       "4  [0.5946977418212969, 0.2639801834168179, 0.549...      1  0.999818  "
      ]
     },
     "execution_count": 17,
     "metadata": {},
     "output_type": "execute_result"
    }
   ],
   "source": [
    "start = time.time()\n",
    "preds = [x[0] for x in model.predict([np.array(list(test_df['inputA'])), np.array(list(test_df['inputB']))])]\n",
    "end = time.time()\n",
    "test_results = test_df.copy()\n",
    "test_results['preds'] = preds\n",
    "print(\"Done in:\", (end-start), \"seconds\")\n",
    "print(\"Average time per pred:\", ((end-start)/len(train_df)), \"seconds\")\n",
    "test_results.head()"
   ]
  },
  {
   "cell_type": "code",
   "execution_count": 18,
   "id": "d6f0ee32",
   "metadata": {},
   "outputs": [
    {
     "data": {
      "text/html": [
       "<div>\n",
       "<style scoped>\n",
       "    .dataframe tbody tr th:only-of-type {\n",
       "        vertical-align: middle;\n",
       "    }\n",
       "\n",
       "    .dataframe tbody tr th {\n",
       "        vertical-align: top;\n",
       "    }\n",
       "\n",
       "    .dataframe thead th {\n",
       "        text-align: right;\n",
       "    }\n",
       "</style>\n",
       "<table border=\"1\" class=\"dataframe\">\n",
       "  <thead>\n",
       "    <tr style=\"text-align: right;\">\n",
       "      <th></th>\n",
       "      <th>inputA</th>\n",
       "      <th>inputB</th>\n",
       "      <th>label</th>\n",
       "      <th>preds</th>\n",
       "      <th>pred_class</th>\n",
       "    </tr>\n",
       "  </thead>\n",
       "  <tbody>\n",
       "    <tr>\n",
       "      <th>0</th>\n",
       "      <td>[0.5142333013044343, 1.0, 0.528514533012731, 0...</td>\n",
       "      <td>[0.5838474859123154, 0.737866278911825, 0.6344...</td>\n",
       "      <td>1</td>\n",
       "      <td>0.994371</td>\n",
       "      <td>1</td>\n",
       "    </tr>\n",
       "    <tr>\n",
       "      <th>1</th>\n",
       "      <td>[0.9184059557245976, 0.2592263926049499, 0.368...</td>\n",
       "      <td>[0.439322194783416, 0.6883048330484197, 0.7197...</td>\n",
       "      <td>1</td>\n",
       "      <td>0.998511</td>\n",
       "      <td>1</td>\n",
       "    </tr>\n",
       "    <tr>\n",
       "      <th>2</th>\n",
       "      <td>[0.20991285946164542, 0.5907850984592853, 0.77...</td>\n",
       "      <td>[0.4313755682924979, 0.4552303973251103, 0.689...</td>\n",
       "      <td>0</td>\n",
       "      <td>0.831328</td>\n",
       "      <td>1</td>\n",
       "    </tr>\n",
       "    <tr>\n",
       "      <th>3</th>\n",
       "      <td>[0.38706602283265934, 0.3531728127170686, 0.76...</td>\n",
       "      <td>[0.464291056204104, 0.307338873764661, 0.57590...</td>\n",
       "      <td>1</td>\n",
       "      <td>0.999972</td>\n",
       "      <td>1</td>\n",
       "    </tr>\n",
       "    <tr>\n",
       "      <th>4</th>\n",
       "      <td>[0.5765927650414007, 0.2964150457391947, 0.518...</td>\n",
       "      <td>[0.5946977418212969, 0.2639801834168179, 0.549...</td>\n",
       "      <td>1</td>\n",
       "      <td>0.999818</td>\n",
       "      <td>1</td>\n",
       "    </tr>\n",
       "  </tbody>\n",
       "</table>\n",
       "</div>"
      ],
      "text/plain": [
       "                                              inputA  \\\n",
       "0  [0.5142333013044343, 1.0, 0.528514533012731, 0...   \n",
       "1  [0.9184059557245976, 0.2592263926049499, 0.368...   \n",
       "2  [0.20991285946164542, 0.5907850984592853, 0.77...   \n",
       "3  [0.38706602283265934, 0.3531728127170686, 0.76...   \n",
       "4  [0.5765927650414007, 0.2964150457391947, 0.518...   \n",
       "\n",
       "                                              inputB  label     preds  \\\n",
       "0  [0.5838474859123154, 0.737866278911825, 0.6344...      1  0.994371   \n",
       "1  [0.439322194783416, 0.6883048330484197, 0.7197...      1  0.998511   \n",
       "2  [0.4313755682924979, 0.4552303973251103, 0.689...      0  0.831328   \n",
       "3  [0.464291056204104, 0.307338873764661, 0.57590...      1  0.999972   \n",
       "4  [0.5946977418212969, 0.2639801834168179, 0.549...      1  0.999818   \n",
       "\n",
       "   pred_class  \n",
       "0           1  \n",
       "1           1  \n",
       "2           1  \n",
       "3           1  \n",
       "4           1  "
      ]
     },
     "execution_count": 18,
     "metadata": {},
     "output_type": "execute_result"
    }
   ],
   "source": [
    "threshold = 0.75\n",
    "test_results['pred_class'] = test_results.apply(lambda x: int(x['preds']>=threshold), axis=1)\n",
    "test_results.head()"
   ]
  },
  {
   "cell_type": "code",
   "execution_count": 19,
   "id": "d4c92b6a",
   "metadata": {},
   "outputs": [
    {
     "name": "stdout",
     "output_type": "stream",
     "text": [
      "[[12619   182]\n",
      " [   71 12616]]\n"
     ]
    }
   ],
   "source": [
    "print(confusion_matrix(test_results.label, test_results.pred_class))"
   ]
  },
  {
   "cell_type": "code",
   "execution_count": 20,
   "id": "2939e09b",
   "metadata": {},
   "outputs": [
    {
     "name": "stdout",
     "output_type": "stream",
     "text": [
      "              precision    recall  f1-score   support\n",
      "\n",
      "           0       0.99      0.99      0.99     12801\n",
      "           1       0.99      0.99      0.99     12687\n",
      "\n",
      "    accuracy                           0.99     25488\n",
      "   macro avg       0.99      0.99      0.99     25488\n",
      "weighted avg       0.99      0.99      0.99     25488\n",
      "\n"
     ]
    }
   ],
   "source": [
    "print(classification_report(test_results.label, test_results.pred_class))"
   ]
  },
  {
   "cell_type": "code",
   "execution_count": 21,
   "id": "d45d077e",
   "metadata": {},
   "outputs": [],
   "source": [
    "test_results.to_csv('results/siamese_test_preds.csv', index=False, columns=['label', 'preds', 'pred_class'])"
   ]
  },
  {
   "cell_type": "code",
   "execution_count": null,
   "id": "2862f307",
   "metadata": {},
   "outputs": [],
   "source": []
  }
 ],
 "metadata": {
  "kernelspec": {
   "display_name": "Python 3",
   "language": "python",
   "name": "python3"
  },
  "language_info": {
   "codemirror_mode": {
    "name": "ipython",
    "version": 3
   },
   "file_extension": ".py",
   "mimetype": "text/x-python",
   "name": "python",
   "nbconvert_exporter": "python",
   "pygments_lexer": "ipython3",
   "version": "3.8.8"
  }
 },
 "nbformat": 4,
 "nbformat_minor": 5
}
