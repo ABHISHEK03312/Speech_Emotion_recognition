{
 "cells": [
  {
   "cell_type": "code",
   "execution_count": 1,
   "metadata": {},
   "outputs": [],
   "source": [
    "import librosa\n",
    "from librosa import feature\n",
    "import numpy as np"
   ]
  },
  {
   "cell_type": "code",
   "execution_count": 98,
   "metadata": {},
   "outputs": [],
   "source": [
    "x, sr=librosa.load(\"mixed_data\\mixed_clip_08_calm_10_angry_13_happy_20_sad.wav\")"
   ]
  },
  {
   "cell_type": "code",
   "execution_count": 109,
   "metadata": {},
   "outputs": [
    {
     "data": {
      "text/plain": [
       "array([[     0, 259584],\n",
       "       [260096, 271872],\n",
       "       [274944, 317440],\n",
       "       [320512, 321024],\n",
       "       [321536, 322048],\n",
       "       [323072, 326656],\n",
       "       [348672, 385536]])"
      ]
     },
     "execution_count": 109,
     "metadata": {},
     "output_type": "execute_result"
    }
   ],
   "source": [
    "nonMuteSections = librosa.effects.split(x, top_db=70)  # split audio with any audio signal lesser than 20db as mute\n",
    "nonMuteSections"
   ]
  },
  {
   "cell_type": "code",
   "execution_count": 101,
   "metadata": {},
   "outputs": [
    {
     "data": {
      "image/png": "[encoded data removed]",
      "text/plain": [
       "<Figure size 432x288 with 1 Axes>"
      ]
     },
     "metadata": {
      "needs_background": "light"
     },
     "output_type": "display_data"
    }
   ],
   "source": [
    "from librosa import display\n",
    "import matplotlib.pyplot as plt\n",
    "plt.figure()\n",
    "librosa.display.waveplot(y=x, sr=sr)\n",
    "plt.xlabel(\"Time (seconds) ==>\")\n",
    "plt.ylabel(\"Amplitude\")\n",
    "plt.show()"
   ]
  },
  {
   "cell_type": "code",
   "execution_count": 66,
   "metadata": {},
   "outputs": [],
   "source": [
    "def get_feature_vector(y, sr):\n",
    "    feature_vector = []\n",
    "    \n",
    "    # multi-dim features\n",
    "    feature_vector.extend(np.mean(feature.mfcc(y=y, sr=sr, n_mfcc=13), axis=1))\n",
    "    feature_vector.extend(np.mean(feature.chroma_stft(y=y, sr=sr), axis=1))\n",
    "    feature_vector.extend(np.mean(feature.spectral_contrast(y=y, sr=sr), axis=1))\n",
    "    feature_vector.extend(np.mean(librosa.feature.tonnetz(y=librosa.effects.harmonic(y), sr=sr),axis=1))\n",
    "    \n",
    "    # single-dim features with special requirements\n",
    "    feature_vector.append(np.mean(feature.rms(y=y)))\n",
    "    feature_vector.append(np.mean(feature.zero_crossing_rate(y=y)))\n",
    "    feature_vector.extend([np.mean(x) for x in librosa.piptrack(y=y, sr=sr)])\n",
    "    \n",
    "    # single-dim features\n",
    "    feat_list = [\n",
    "        librosa.onset.onset_strength,\n",
    "        feature.spectral_rolloff,\n",
    "        feature.melspectrogram,\n",
    "        feature.spectral_centroid,\n",
    "        feature.spectral_bandwidth\n",
    "    ]\n",
    "    \n",
    "    for temp_func in feat_list:\n",
    "        feature_vector.append(np.mean(temp_func(y=y, sr=sr)))\n",
    "    \n",
    "    return feature_vector"
   ]
  },
  {
   "cell_type": "code",
   "execution_count": 85,
   "metadata": {},
   "outputs": [
    {
     "name": "stdout",
     "output_type": "stream",
     "text": [
      "15872\n",
      "[-2.3635840e-07  3.6738354e-07 -5.4713507e-07 ... -5.9957699e-07\n",
      "  9.7140730e-07 -1.5731117e-06]\n",
      "90624\n",
      "[ 1.1396173e-05  2.1697157e-05  3.2749740e-05 ...  3.9340495e-07\n",
      " -4.8244084e-07  5.8181672e-07]\n",
      "172544\n",
      "[-1.4240237e-06  2.0258617e-06 -4.0033869e-06 ... -2.8401337e-06\n",
      "  9.3955305e-06  8.2480210e-06]\n"
     ]
    }
   ],
   "source": [
    "audio_features = []\n",
    "for i in range(nonMuteSections.shape[0]):\n",
    "   print(nonMuteSections[i][0])\n",
    "   slice=x[nonMuteSections[i][0]-15000:nonMuteSections[i][1]+15000]\n",
    "   print(slice)\n",
    "\n",
    "   feature_vector = get_feature_vector(slice, sr)\n",
    "   audio_features.append(feature_vector) "
   ]
  },
  {
   "cell_type": "code",
   "execution_count": 86,
   "metadata": {},
   "outputs": [
    {
     "data": {
      "text/plain": [
       "47"
      ]
     },
     "execution_count": 86,
     "metadata": {},
     "output_type": "execute_result"
    }
   ],
   "source": [
    "len(audio_features[2])"
   ]
  },
  {
   "cell_type": "code",
   "execution_count": 87,
   "metadata": {},
   "outputs": [],
   "source": [
    "def build_siamese_model(inputsize, nlayers=2, nsize=64, emb_dim=100):\n",
    "    inputs = Input(inputsize)\n",
    "    x = Dense(nsize, activation='relu')(inputs)\n",
    "    x = Dropout(0.1)(x)\n",
    "    for _ in range(nlayers-1):\n",
    "        x = Dense(nsize, activation='relu')(x)\n",
    "        x = Dropout(0.1)(x)\n",
    "    outputs = Dense(emb_dim)(x)\n",
    "    model = Model(inputs, outputs)\n",
    "    \n",
    "    return model"
   ]
  },
  {
   "cell_type": "code",
   "execution_count": 88,
   "metadata": {},
   "outputs": [],
   "source": [
    "def cosine_similarity(vests):\n",
    "    x, y = vests\n",
    "    x = K.l2_normalize(x, axis=-1)\n",
    "    y = K.l2_normalize(y, axis=-1)\n",
    "    return K.sum(x * y, axis=-1, keepdims=True)\n",
    "\n",
    "def cos_dist_output_shape(shapes):\n",
    "    shape1, shape2 = shapes\n",
    "    return (shape1[0],1)"
   ]
  },
  {
   "cell_type": "code",
   "execution_count": 80,
   "metadata": {},
   "outputs": [],
   "source": [
    "# building model\n",
    "input_shape = len(audio_features[0])\n",
    "inputA = Input(input_shape)\n",
    "inputB = Input(input_shape)\n",
    "featureExtractor = build_siamese_model(input_shape)\n",
    "featsA = featureExtractor(inputA)\n",
    "featsB = featureExtractor(inputB)\n",
    "\n",
    "output_cos = Lambda(cosine_similarity, output_shape=cos_dist_output_shape)([featsA, featsB])\n",
    "model = Model(inputs=[inputA, inputB], outputs=output_cos)\n",
    "\n",
    "model.compile(loss=\"binary_crossentropy\", optimizer=\"adam\", metrics=[\"accuracy\"])"
   ]
  },
  {
   "cell_type": "code",
   "execution_count": 81,
   "metadata": {},
   "outputs": [],
   "source": [
    "from tensorflow.keras.models import Model\n",
    "from tensorflow.keras import Sequential\n",
    "from tensorflow.keras.layers import Input, Dense, Dropout, Lambda\n",
    "import tensorflow.keras.backend as K"
   ]
  },
  {
   "cell_type": "code",
   "execution_count": 90,
   "metadata": {},
   "outputs": [
    {
     "data": {
      "text/plain": [
       "<tensorflow.python.training.tracking.util.CheckpointLoadStatus at 0x24c5db53b80>"
      ]
     },
     "execution_count": 90,
     "metadata": {},
     "output_type": "execute_result"
    }
   ],
   "source": [
    "model.load_weights(\"models/base_siamese\")"
   ]
  },
  {
   "cell_type": "code",
   "execution_count": 91,
   "metadata": {},
   "outputs": [
    {
     "name": "stdout",
     "output_type": "stream",
     "text": [
      "Model: \"model_3\"\n",
      "__________________________________________________________________________________________________\n",
      " Layer (type)                   Output Shape         Param #     Connected to                     \n",
      "==================================================================================================\n",
      " input_4 (InputLayer)           [(None, 47)]         0           []                               \n",
      "                                                                                                  \n",
      " input_5 (InputLayer)           [(None, 47)]         0           []                               \n",
      "                                                                                                  \n",
      " model_2 (Functional)           (None, 100)          13732       ['input_4[0][0]',                \n",
      "                                                                  'input_5[0][0]']                \n",
      "                                                                                                  \n",
      " lambda_1 (Lambda)              (None, 1)            0           ['model_2[0][0]',                \n",
      "                                                                  'model_2[1][0]']                \n",
      "                                                                                                  \n",
      "==================================================================================================\n",
      "Total params: 13,732\n",
      "Trainable params: 13,732\n",
      "Non-trainable params: 0\n",
      "__________________________________________________________________________________________________\n"
     ]
    }
   ],
   "source": [
    "model.summary()"
   ]
  },
  {
   "cell_type": "code",
   "execution_count": 92,
   "metadata": {},
   "outputs": [
    {
     "data": {
      "text/plain": [
       "0.99872917"
      ]
     },
     "execution_count": 92,
     "metadata": {},
     "output_type": "execute_result"
    }
   ],
   "source": [
    "model.predict([np.array([audio_features[2]]), np.array([audio_features[0]])])[0][0]"
   ]
  },
  {
   "cell_type": "code",
   "execution_count": 97,
   "metadata": {},
   "outputs": [
    {
     "data": {
      "text/plain": [
       "(1, 47)"
      ]
     },
     "execution_count": 97,
     "metadata": {},
     "output_type": "execute_result"
    }
   ],
   "source": [
    "np.array([audio_features[0]]).shape"
   ]
  },
  {
   "cell_type": "code",
   "execution_count": null,
   "metadata": {},
   "outputs": [],
   "source": []
  }
 ],
 "metadata": {
  "interpreter": {
   "hash": "45dacd681cb6d09141c5478311700e25fdd8d553fd4e9f04c67146e27650bb04"
  },
  "kernelspec": {
   "display_name": "Python 3.9.5 64-bit ('venv': venv)",
   "language": "python",
   "name": "python3"
  },
  "language_info": {
   "codemirror_mode": {
    "name": "ipython",
    "version": 3
   },
   "file_extension": ".py",
   "mimetype": "text/x-python",
   "name": "python",
   "nbconvert_exporter": "python",
   "pygments_lexer": "ipython3",
   "version": "3.9.5"
  },
  "orig_nbformat": 4
 },
 "nbformat": 4,
 "nbformat_minor": 2
}
