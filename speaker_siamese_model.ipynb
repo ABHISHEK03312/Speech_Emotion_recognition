{
 "cells": [
  {
   "cell_type": "markdown",
   "id": "4d8c8bbf",
   "metadata": {},
   "source": [
    "## Warning: If CUDA is available, use CPU instead of GPU\n",
    "Overhead of GPU makes training this small model very slow, force keras to use the CPU instead.\n",
    "\n",
    "Run the below cell before anything else:"
   ]
  },
  {
   "cell_type": "code",
   "execution_count": 1,
   "id": "5b19bd60",
   "metadata": {},
   "outputs": [],
   "source": [
    "import os\n",
    "os.environ[\"CUDA_DEVICE_ORDER\"]=\"PCI_BUS_ID\"\n",
    "os.environ[\"CUDA_VISIBLE_DEVICES\"]=\"-1\""
   ]
  },
  {
   "cell_type": "markdown",
   "id": "47c6abcd",
   "metadata": {},
   "source": [
    "Now, try running the imports"
   ]
  },
  {
   "cell_type": "code",
   "execution_count": 2,
   "id": "e494bc6d",
   "metadata": {},
   "outputs": [],
   "source": [
    "import pandas as pd\n",
    "import time\n",
    "import numpy as np\n",
    "import matplotlib.pyplot as plt\n",
    "import seaborn as sns\n",
    "\n",
    "from sklearn.metrics import confusion_matrix\n",
    "from sklearn.metrics import classification_report\n",
    "\n",
    "# tensorflow libraries\n",
    "import tensorflow as tf\n",
    "import tensorflow.keras as keras\n",
    "from tensorflow.keras.models import Model\n",
    "from tensorflow.keras import Sequential\n",
    "from tensorflow.keras.layers import Input, Dense, Dropout, Lambda, Dot\n",
    "import tensorflow.keras.backend as K"
   ]
  },
  {
   "cell_type": "code",
   "execution_count": 3,
   "id": "181dcef4",
   "metadata": {
    "scrolled": true
   },
   "outputs": [
    {
     "name": "stdout",
     "output_type": "stream",
     "text": [
      "[name: \"/device:CPU:0\"\n",
      "device_type: \"CPU\"\n",
      "memory_limit: 268435456\n",
      "locality {\n",
      "}\n",
      "incarnation: 5236434653910898479\n",
      "xla_global_id: -1\n",
      "]\n"
     ]
    }
   ],
   "source": [
    "from tensorflow.python.client import device_lib\n",
    "print(device_lib.list_local_devices())"
   ]
  },
  {
   "cell_type": "markdown",
   "id": "2c56e3ce",
   "metadata": {},
   "source": [
    "## Only proceed if no GPU device is shown in the above cell"
   ]
  },
  {
   "cell_type": "code",
   "execution_count": 4,
   "id": "2b9e32c0",
   "metadata": {},
   "outputs": [],
   "source": [
    "train_df = pd.read_pickle('Speaker_Classification_data/train.df')\n",
    "test_df = pd.read_pickle('Speaker_Classification_data/test.df')"
   ]
  },
  {
   "cell_type": "code",
   "execution_count": 5,
   "id": "aa933888",
   "metadata": {},
   "outputs": [
    {
     "data": {
      "text/html": [
       "<div>\n",
       "<style scoped>\n",
       "    .dataframe tbody tr th:only-of-type {\n",
       "        vertical-align: middle;\n",
       "    }\n",
       "\n",
       "    .dataframe tbody tr th {\n",
       "        vertical-align: top;\n",
       "    }\n",
       "\n",
       "    .dataframe thead th {\n",
       "        text-align: right;\n",
       "    }\n",
       "</style>\n",
       "<table border=\"1\" class=\"dataframe\">\n",
       "  <thead>\n",
       "    <tr style=\"text-align: right;\">\n",
       "      <th></th>\n",
       "      <th>inputA</th>\n",
       "      <th>inputB</th>\n",
       "      <th>label</th>\n",
       "    </tr>\n",
       "  </thead>\n",
       "  <tbody>\n",
       "    <tr>\n",
       "      <th>0</th>\n",
       "      <td>[0.24985932948240364, 0.6350656914100974, 0.82...</td>\n",
       "      <td>[0.7820350888855649, 0.3198341320895355, 0.303...</td>\n",
       "      <td>1</td>\n",
       "    </tr>\n",
       "    <tr>\n",
       "      <th>1</th>\n",
       "      <td>[0.3447592728071933, 0.7605236831924497, 0.789...</td>\n",
       "      <td>[0.6068565133586963, 0.4892604057585005, 0.647...</td>\n",
       "      <td>1</td>\n",
       "    </tr>\n",
       "    <tr>\n",
       "      <th>2</th>\n",
       "      <td>[0.5835598702428237, 0.2923623783944991, 0.494...</td>\n",
       "      <td>[0.7092419823457793, 0.3953920733270686, 0.584...</td>\n",
       "      <td>0</td>\n",
       "    </tr>\n",
       "    <tr>\n",
       "      <th>3</th>\n",
       "      <td>[0.6494945188525626, 0.33861761010055624, 0.29...</td>\n",
       "      <td>[0.412796658774194, 0.6307090412962476, 0.7552...</td>\n",
       "      <td>0</td>\n",
       "    </tr>\n",
       "    <tr>\n",
       "      <th>4</th>\n",
       "      <td>[0.5530646953235432, 0.46914860434629924, 0.48...</td>\n",
       "      <td>[0.605411651622807, 0.5611188390198073, 0.5267...</td>\n",
       "      <td>1</td>\n",
       "    </tr>\n",
       "  </tbody>\n",
       "</table>\n",
       "</div>"
      ],
      "text/plain": [
       "                                              inputA  \\\n",
       "0  [0.24985932948240364, 0.6350656914100974, 0.82...   \n",
       "1  [0.3447592728071933, 0.7605236831924497, 0.789...   \n",
       "2  [0.5835598702428237, 0.2923623783944991, 0.494...   \n",
       "3  [0.6494945188525626, 0.33861761010055624, 0.29...   \n",
       "4  [0.5530646953235432, 0.46914860434629924, 0.48...   \n",
       "\n",
       "                                              inputB  label  \n",
       "0  [0.7820350888855649, 0.3198341320895355, 0.303...      1  \n",
       "1  [0.6068565133586963, 0.4892604057585005, 0.647...      1  \n",
       "2  [0.7092419823457793, 0.3953920733270686, 0.584...      0  \n",
       "3  [0.412796658774194, 0.6307090412962476, 0.7552...      0  \n",
       "4  [0.605411651622807, 0.5611188390198073, 0.5267...      1  "
      ]
     },
     "execution_count": 5,
     "metadata": {},
     "output_type": "execute_result"
    }
   ],
   "source": [
    "train_df.head()"
   ]
  },
  {
   "cell_type": "code",
   "execution_count": 6,
   "id": "a74816d3",
   "metadata": {},
   "outputs": [
    {
     "data": {
      "text/html": [
       "<div>\n",
       "<style scoped>\n",
       "    .dataframe tbody tr th:only-of-type {\n",
       "        vertical-align: middle;\n",
       "    }\n",
       "\n",
       "    .dataframe tbody tr th {\n",
       "        vertical-align: top;\n",
       "    }\n",
       "\n",
       "    .dataframe thead th {\n",
       "        text-align: right;\n",
       "    }\n",
       "</style>\n",
       "<table border=\"1\" class=\"dataframe\">\n",
       "  <thead>\n",
       "    <tr style=\"text-align: right;\">\n",
       "      <th></th>\n",
       "      <th>inputA</th>\n",
       "      <th>inputB</th>\n",
       "      <th>label</th>\n",
       "    </tr>\n",
       "  </thead>\n",
       "  <tbody>\n",
       "    <tr>\n",
       "      <th>0</th>\n",
       "      <td>[0.7599851760351478, 0.27829568977021635, 0.39...</td>\n",
       "      <td>[0.3881078382392493, 0.6320058758104472, 0.777...</td>\n",
       "      <td>1</td>\n",
       "    </tr>\n",
       "    <tr>\n",
       "      <th>1</th>\n",
       "      <td>[0.23891840228138905, 0.19716560358624316, 0.7...</td>\n",
       "      <td>[0.1339817574334914, 0.3268776091606487, 0.788...</td>\n",
       "      <td>1</td>\n",
       "    </tr>\n",
       "    <tr>\n",
       "      <th>2</th>\n",
       "      <td>[0.75814829097616, 0.38292398110746095, 0.6330...</td>\n",
       "      <td>[0.3696297750956259, 0.5905143892117646, 0.885...</td>\n",
       "      <td>0</td>\n",
       "    </tr>\n",
       "    <tr>\n",
       "      <th>3</th>\n",
       "      <td>[0.2607263177495158, 0.6446019065053701, 0.742...</td>\n",
       "      <td>[0.729151566561377, 0.1314536503611208, 0.2343...</td>\n",
       "      <td>0</td>\n",
       "    </tr>\n",
       "    <tr>\n",
       "      <th>4</th>\n",
       "      <td>[0.7674167172311745, 0.26044605158506295, 0.08...</td>\n",
       "      <td>[0.8528030713373913, 0.2308533587518186, 0.265...</td>\n",
       "      <td>1</td>\n",
       "    </tr>\n",
       "  </tbody>\n",
       "</table>\n",
       "</div>"
      ],
      "text/plain": [
       "                                              inputA  \\\n",
       "0  [0.7599851760351478, 0.27829568977021635, 0.39...   \n",
       "1  [0.23891840228138905, 0.19716560358624316, 0.7...   \n",
       "2  [0.75814829097616, 0.38292398110746095, 0.6330...   \n",
       "3  [0.2607263177495158, 0.6446019065053701, 0.742...   \n",
       "4  [0.7674167172311745, 0.26044605158506295, 0.08...   \n",
       "\n",
       "                                              inputB  label  \n",
       "0  [0.3881078382392493, 0.6320058758104472, 0.777...      1  \n",
       "1  [0.1339817574334914, 0.3268776091606487, 0.788...      1  \n",
       "2  [0.3696297750956259, 0.5905143892117646, 0.885...      0  \n",
       "3  [0.729151566561377, 0.1314536503611208, 0.2343...      0  \n",
       "4  [0.8528030713373913, 0.2308533587518186, 0.265...      1  "
      ]
     },
     "execution_count": 6,
     "metadata": {},
     "output_type": "execute_result"
    }
   ],
   "source": [
    "test_df.head()"
   ]
  },
  {
   "cell_type": "code",
   "execution_count": 7,
   "id": "726daf43",
   "metadata": {},
   "outputs": [],
   "source": [
    "def build_siamese_model(inputsize, nlayers=2, nsize=64, emb_dim=100):\n",
    "    inputs = Input(inputsize)\n",
    "    x = Dense(nsize, activation='relu')(inputs)\n",
    "    x = Dropout(0.1)(x)\n",
    "    for _ in range(nlayers-1):\n",
    "        x = Dense(nsize, activation='relu')(x)\n",
    "        x = Dropout(0.1)(x)\n",
    "    outputs = Dense(emb_dim)(x)\n",
    "    model = Model(inputs, outputs)\n",
    "    \n",
    "    return model"
   ]
  },
  {
   "cell_type": "code",
   "execution_count": 6,
   "id": "32869e28",
   "metadata": {},
   "outputs": [],
   "source": [
    "# def cosine_similarity(vests):\n",
    "#     x, y = vests\n",
    "#     x = K.l2_normalize(x, axis=-1)\n",
    "#     y = K.l2_normalize(y, axis=-1)\n",
    "#     return K.sum(x * y, axis=-1, keepdims=True)\n",
    "\n",
    "# def cos_dist_output_shape(shapes):\n",
    "#     shape1, shape2 = shapes\n",
    "#     return (shape1[0],1)"
   ]
  },
  {
   "cell_type": "code",
   "execution_count": 8,
   "id": "20f70e74",
   "metadata": {},
   "outputs": [],
   "source": [
    "# building model\n",
    "input_shape = len(train_df['inputA'][0])\n",
    "inputA = Input(input_shape)\n",
    "inputB = Input(input_shape)\n",
    "featureExtractor = build_siamese_model(input_shape)\n",
    "featsA = featureExtractor(inputA)\n",
    "featsB = featureExtractor(inputB)\n",
    "\n",
    "output_cos = Dot(axes=1, normalize=True)([featsA, featsB])\n",
    "model = Model(inputs=[inputA, inputB], outputs=output_cos)\n",
    "\n",
    "model.compile(loss=\"binary_crossentropy\", optimizer=\"adam\", metrics=[\"accuracy\"])"
   ]
  },
  {
   "cell_type": "code",
   "execution_count": 9,
   "id": "6b6725d3",
   "metadata": {},
   "outputs": [
    {
     "name": "stdout",
     "output_type": "stream",
     "text": [
      "Model: \"model_1\"\n",
      "__________________________________________________________________________________________________\n",
      " Layer (type)                   Output Shape         Param #     Connected to                     \n",
      "==================================================================================================\n",
      " input_1 (InputLayer)           [(None, 47)]         0           []                               \n",
      "                                                                                                  \n",
      " input_2 (InputLayer)           [(None, 47)]         0           []                               \n",
      "                                                                                                  \n",
      " model (Functional)             (None, 100)          13732       ['input_1[0][0]',                \n",
      "                                                                  'input_2[0][0]']                \n",
      "                                                                                                  \n",
      " dot (Dot)                      (None, 1)            0           ['model[0][0]',                  \n",
      "                                                                  'model[1][0]']                  \n",
      "                                                                                                  \n",
      "==================================================================================================\n",
      "Total params: 13,732\n",
      "Trainable params: 13,732\n",
      "Non-trainable params: 0\n",
      "__________________________________________________________________________________________________\n"
     ]
    }
   ],
   "source": [
    "model.summary()"
   ]
  },
  {
   "cell_type": "code",
   "execution_count": 10,
   "id": "f39bbd4d",
   "metadata": {},
   "outputs": [],
   "source": [
    "X1_train = np.asarray(list(train_df['inputA']), dtype=np.float32)\n",
    "X2_train = np.asarray(list(train_df['inputB']), dtype=np.float32)\n",
    "\n",
    "X1_test = np.asarray(list(test_df['inputA']), dtype=np.float32)\n",
    "X2_test = np.asarray(list(test_df['inputB']), dtype=np.float32)"
   ]
  },
  {
   "cell_type": "code",
   "execution_count": 11,
   "id": "2ef0f743",
   "metadata": {
    "scrolled": true
   },
   "outputs": [
    {
     "name": "stdout",
     "output_type": "stream",
     "text": [
      "Epoch 1/50\n",
      "59471/59471 - 43s - loss: 0.5935 - accuracy: 0.7301 - val_loss: 0.4635 - val_accuracy: 0.8196 - 43s/epoch - 718us/step\n",
      "Epoch 2/50\n",
      "59471/59471 - 42s - loss: 0.4460 - accuracy: 0.8091 - val_loss: 0.3533 - val_accuracy: 0.8665 - 42s/epoch - 713us/step\n",
      "Epoch 3/50\n",
      "59471/59471 - 42s - loss: 0.3967 - accuracy: 0.8377 - val_loss: 0.3057 - val_accuracy: 0.8802 - 42s/epoch - 706us/step\n",
      "Epoch 4/50\n",
      "59471/59471 - 42s - loss: 0.3910 - accuracy: 0.8389 - val_loss: 0.2806 - val_accuracy: 0.8913 - 42s/epoch - 708us/step\n",
      "Epoch 5/50\n",
      "59471/59471 - 42s - loss: 0.3439 - accuracy: 0.8629 - val_loss: 0.2973 - val_accuracy: 0.8838 - 42s/epoch - 708us/step\n",
      "Epoch 6/50\n",
      "59471/59471 - 42s - loss: 0.3269 - accuracy: 0.8700 - val_loss: 0.2436 - val_accuracy: 0.9063 - 42s/epoch - 704us/step\n",
      "Epoch 7/50\n",
      "59471/59471 - 42s - loss: 0.3128 - accuracy: 0.8795 - val_loss: 0.2209 - val_accuracy: 0.9215 - 42s/epoch - 704us/step\n",
      "Epoch 8/50\n",
      "59471/59471 - 43s - loss: 0.3025 - accuracy: 0.8851 - val_loss: 0.2884 - val_accuracy: 0.9020 - 43s/epoch - 715us/step\n",
      "Epoch 9/50\n",
      "59471/59471 - 42s - loss: 0.2893 - accuracy: 0.8903 - val_loss: 0.2920 - val_accuracy: 0.8874 - 42s/epoch - 714us/step\n",
      "Epoch 10/50\n",
      "59471/59471 - 43s - loss: 0.2912 - accuracy: 0.8918 - val_loss: 0.2161 - val_accuracy: 0.9216 - 43s/epoch - 720us/step\n",
      "Epoch 11/50\n",
      "59471/59471 - 42s - loss: 0.2900 - accuracy: 0.8940 - val_loss: 0.2118 - val_accuracy: 0.9209 - 42s/epoch - 711us/step\n",
      "Epoch 12/50\n",
      "59471/59471 - 42s - loss: 0.2733 - accuracy: 0.8991 - val_loss: 0.1852 - val_accuracy: 0.9385 - 42s/epoch - 713us/step\n",
      "Epoch 13/50\n",
      "59471/59471 - 42s - loss: 0.2685 - accuracy: 0.9016 - val_loss: 0.1815 - val_accuracy: 0.9357 - 42s/epoch - 711us/step\n",
      "Epoch 14/50\n",
      "59471/59471 - 42s - loss: 0.2698 - accuracy: 0.9027 - val_loss: 0.2458 - val_accuracy: 0.9070 - 42s/epoch - 708us/step\n",
      "Epoch 15/50\n",
      "59471/59471 - 43s - loss: 0.2640 - accuracy: 0.9051 - val_loss: 0.2312 - val_accuracy: 0.9125 - 43s/epoch - 717us/step\n",
      "Epoch 16/50\n",
      "59471/59471 - 43s - loss: 0.2531 - accuracy: 0.9103 - val_loss: 0.2411 - val_accuracy: 0.9095 - 43s/epoch - 717us/step\n",
      "Epoch 17/50\n",
      "59471/59471 - 43s - loss: 0.2537 - accuracy: 0.9094 - val_loss: 0.1648 - val_accuracy: 0.9439 - 43s/epoch - 715us/step\n",
      "Epoch 18/50\n",
      "59471/59471 - 42s - loss: 0.2548 - accuracy: 0.9094 - val_loss: 0.1581 - val_accuracy: 0.9463 - 42s/epoch - 710us/step\n",
      "Epoch 19/50\n",
      "59471/59471 - 42s - loss: 0.2580 - accuracy: 0.9089 - val_loss: 0.1993 - val_accuracy: 0.9278 - 42s/epoch - 712us/step\n",
      "Epoch 20/50\n",
      "59471/59471 - 42s - loss: 0.2456 - accuracy: 0.9132 - val_loss: 0.2279 - val_accuracy: 0.9108 - 42s/epoch - 711us/step\n",
      "Epoch 21/50\n",
      "59471/59471 - 43s - loss: 0.2424 - accuracy: 0.9153 - val_loss: 0.1487 - val_accuracy: 0.9506 - 43s/epoch - 715us/step\n",
      "Epoch 22/50\n",
      "59471/59471 - 42s - loss: 0.2405 - accuracy: 0.9138 - val_loss: 0.1576 - val_accuracy: 0.9506 - 42s/epoch - 713us/step\n",
      "Epoch 23/50\n",
      "59471/59471 - 42s - loss: 0.2434 - accuracy: 0.9123 - val_loss: 0.1531 - val_accuracy: 0.9482 - 42s/epoch - 712us/step\n",
      "Epoch 24/50\n",
      "59471/59471 - 42s - loss: 0.2340 - accuracy: 0.9160 - val_loss: 0.1566 - val_accuracy: 0.9480 - 42s/epoch - 712us/step\n",
      "Epoch 25/50\n",
      "59471/59471 - 43s - loss: 0.2276 - accuracy: 0.9199 - val_loss: 0.1422 - val_accuracy: 0.9519 - 43s/epoch - 717us/step\n",
      "Epoch 26/50\n",
      "59471/59471 - 43s - loss: 0.2300 - accuracy: 0.9187 - val_loss: 0.1485 - val_accuracy: 0.9534 - 43s/epoch - 716us/step\n",
      "Epoch 27/50\n",
      "59471/59471 - 43s - loss: 0.2323 - accuracy: 0.9175 - val_loss: 0.1651 - val_accuracy: 0.9435 - 43s/epoch - 716us/step\n",
      "Epoch 28/50\n",
      "59471/59471 - 42s - loss: 0.2345 - accuracy: 0.9154 - val_loss: 0.1488 - val_accuracy: 0.9488 - 42s/epoch - 712us/step\n",
      "Epoch 29/50\n",
      "59471/59471 - 42s - loss: 0.2329 - accuracy: 0.9170 - val_loss: 0.1596 - val_accuracy: 0.9481 - 42s/epoch - 712us/step\n",
      "Epoch 30/50\n",
      "59471/59471 - 42s - loss: 0.2357 - accuracy: 0.9157 - val_loss: 0.2289 - val_accuracy: 0.9132 - 42s/epoch - 713us/step\n",
      "Epoch 31/50\n",
      "59471/59471 - 42s - loss: 0.2231 - accuracy: 0.9216 - val_loss: 0.1879 - val_accuracy: 0.9326 - 42s/epoch - 707us/step\n",
      "Epoch 32/50\n",
      "59471/59471 - 42s - loss: 0.2259 - accuracy: 0.9185 - val_loss: 0.1366 - val_accuracy: 0.9536 - 42s/epoch - 708us/step\n",
      "Epoch 33/50\n",
      "59471/59471 - 42s - loss: 0.2223 - accuracy: 0.9222 - val_loss: 0.1325 - val_accuracy: 0.9566 - 42s/epoch - 702us/step\n",
      "Epoch 34/50\n",
      "59471/59471 - 42s - loss: 0.2221 - accuracy: 0.9203 - val_loss: 0.1564 - val_accuracy: 0.9481 - 42s/epoch - 699us/step\n",
      "Epoch 35/50\n",
      "59471/59471 - 42s - loss: 0.2192 - accuracy: 0.9230 - val_loss: 0.1303 - val_accuracy: 0.9563 - 42s/epoch - 700us/step\n",
      "Epoch 36/50\n",
      "59471/59471 - 42s - loss: 0.2168 - accuracy: 0.9241 - val_loss: 0.1395 - val_accuracy: 0.9551 - 42s/epoch - 707us/step\n",
      "Epoch 37/50\n",
      "59471/59471 - 42s - loss: 0.2135 - accuracy: 0.9245 - val_loss: 0.1548 - val_accuracy: 0.9424 - 42s/epoch - 699us/step\n",
      "Epoch 38/50\n",
      "59471/59471 - 42s - loss: 0.2190 - accuracy: 0.9239 - val_loss: 0.1380 - val_accuracy: 0.9519 - 42s/epoch - 712us/step\n",
      "Epoch 39/50\n",
      "59471/59471 - 42s - loss: 0.2220 - accuracy: 0.9224 - val_loss: 0.1356 - val_accuracy: 0.9527 - 42s/epoch - 714us/step\n",
      "Epoch 40/50\n",
      "59471/59471 - 42s - loss: 0.2266 - accuracy: 0.9176 - val_loss: 0.1270 - val_accuracy: 0.9571 - 42s/epoch - 714us/step\n",
      "Epoch 41/50\n",
      "59471/59471 - 43s - loss: 0.2134 - accuracy: 0.9232 - val_loss: 0.1373 - val_accuracy: 0.9566 - 43s/epoch - 719us/step\n",
      "Epoch 42/50\n",
      "59471/59471 - 42s - loss: 0.2149 - accuracy: 0.9261 - val_loss: 0.1307 - val_accuracy: 0.9554 - 42s/epoch - 714us/step\n",
      "Epoch 43/50\n",
      "59471/59471 - 43s - loss: 0.2199 - accuracy: 0.9237 - val_loss: 0.2766 - val_accuracy: 0.8898 - 43s/epoch - 715us/step\n",
      "Epoch 44/50\n",
      "59471/59471 - 42s - loss: 0.2132 - accuracy: 0.9231 - val_loss: 0.1277 - val_accuracy: 0.9600 - 42s/epoch - 709us/step\n",
      "Epoch 45/50\n",
      "59471/59471 - 42s - loss: 0.2057 - accuracy: 0.9280 - val_loss: 0.1319 - val_accuracy: 0.9568 - 42s/epoch - 708us/step\n",
      "Epoch 46/50\n",
      "59471/59471 - 43s - loss: 0.2109 - accuracy: 0.9265 - val_loss: 0.1526 - val_accuracy: 0.9519 - 43s/epoch - 715us/step\n",
      "Epoch 47/50\n",
      "59471/59471 - 42s - loss: 0.2306 - accuracy: 0.9163 - val_loss: 0.1345 - val_accuracy: 0.9569 - 42s/epoch - 710us/step\n",
      "Epoch 48/50\n",
      "59471/59471 - 43s - loss: 0.2071 - accuracy: 0.9270 - val_loss: 0.1158 - val_accuracy: 0.9627 - 43s/epoch - 716us/step\n",
      "Epoch 49/50\n",
      "59471/59471 - 42s - loss: 0.2207 - accuracy: 0.9258 - val_loss: 0.1580 - val_accuracy: 0.9439 - 42s/epoch - 709us/step\n",
      "Epoch 50/50\n",
      "59471/59471 - 42s - loss: 0.2073 - accuracy: 0.9287 - val_loss: 0.1217 - val_accuracy: 0.9617 - 42s/epoch - 713us/step\n"
     ]
    }
   ],
   "source": [
    "history = model.fit([X1_train, X2_train], train_df['label'],\n",
    "          validation_data=([X1_test, X2_test], test_df['label']),\n",
    "          batch_size=1, epochs=50, verbose=2)"
   ]
  },
  {
   "cell_type": "code",
   "execution_count": 12,
   "id": "b25d2ae7",
   "metadata": {},
   "outputs": [],
   "source": [
    "def plot_from_history(hist, metric='accuracy', label='Training and Test accuracy', save_path=\"\"):\n",
    "    plt.figure()\n",
    "    plt.plot(range(1, 51), hist[metric], 'orange', label='Training '+metric)\n",
    "    plt.plot(range(1, 51), hist[\"val_\"+metric], 'blue', label='Test '+metric)\n",
    "    plt.title(label)\n",
    "    plt.xlabel('Epochs')\n",
    "    plt.ylabel(metric)\n",
    "    plt.legend()\n",
    "    if len(save_path):\n",
    "        plt.savefig(save_path)\n",
    "    plt.show()"
   ]
  },
  {
   "cell_type": "code",
   "execution_count": 13,
   "id": "c8c54dbd",
   "metadata": {},
   "outputs": [
    {
     "data": {
      "image/png": "[encoded data removed]",
      "text/plain": [
       "<Figure size 432x288 with 1 Axes>"
      ]
     },
     "metadata": {
      "needs_background": "light"
     },
     "output_type": "display_data"
    }
   ],
   "source": [
    "plot_from_history(history.history)"
   ]
  },
  {
   "cell_type": "code",
   "execution_count": 14,
   "id": "508f66b5",
   "metadata": {},
   "outputs": [
    {
     "name": "stdout",
     "output_type": "stream",
     "text": [
      "INFO:tensorflow:Assets written to: ./models/base_siamese\\assets\n"
     ]
    }
   ],
   "source": [
    "model.save(\"./models/base_siamese\")"
   ]
  },
  {
   "cell_type": "code",
   "execution_count": 15,
   "id": "cc182594",
   "metadata": {},
   "outputs": [
    {
     "data": {
      "text/plain": [
       "(1, 47)"
      ]
     },
     "execution_count": 15,
     "metadata": {},
     "output_type": "execute_result"
    }
   ],
   "source": [
    "np.array([train_df['inputA'][0]]).shape"
   ]
  },
  {
   "cell_type": "code",
   "execution_count": 16,
   "id": "8f31bf7d",
   "metadata": {},
   "outputs": [
    {
     "data": {
      "text/plain": [
       "0.9827808"
      ]
     },
     "execution_count": 16,
     "metadata": {},
     "output_type": "execute_result"
    }
   ],
   "source": [
    "model.predict([np.array([train_df['inputA'][0]]), np.array([train_df['inputB'][0]])])[0][0]"
   ]
  },
  {
   "cell_type": "code",
   "execution_count": 17,
   "id": "799761e2",
   "metadata": {},
   "outputs": [
    {
     "data": {
      "text/plain": [
       "array([[ 0.98278105],\n",
       "       [ 0.9952177 ],\n",
       "       [-0.07286598],\n",
       "       ...,\n",
       "       [ 0.85519844],\n",
       "       [ 0.2225051 ],\n",
       "       [ 0.9810283 ]], dtype=float32)"
      ]
     },
     "execution_count": 17,
     "metadata": {},
     "output_type": "execute_result"
    }
   ],
   "source": [
    "model.predict([np.array(list(train_df['inputA'])), np.array(list(train_df['inputB']))])"
   ]
  },
  {
   "cell_type": "code",
   "execution_count": 41,
   "id": "b88aced5",
   "metadata": {},
   "outputs": [
    {
     "name": "stdout",
     "output_type": "stream",
     "text": [
      "Done in: 1.0154037475585938 seconds\n",
      "Average time per pred: 1.7073930950523678e-05 seconds\n"
     ]
    },
    {
     "data": {
      "text/html": [
       "<div>\n",
       "<style scoped>\n",
       "    .dataframe tbody tr th:only-of-type {\n",
       "        vertical-align: middle;\n",
       "    }\n",
       "\n",
       "    .dataframe tbody tr th {\n",
       "        vertical-align: top;\n",
       "    }\n",
       "\n",
       "    .dataframe thead th {\n",
       "        text-align: right;\n",
       "    }\n",
       "</style>\n",
       "<table border=\"1\" class=\"dataframe\">\n",
       "  <thead>\n",
       "    <tr style=\"text-align: right;\">\n",
       "      <th></th>\n",
       "      <th>inputA</th>\n",
       "      <th>inputB</th>\n",
       "      <th>label</th>\n",
       "      <th>preds</th>\n",
       "    </tr>\n",
       "  </thead>\n",
       "  <tbody>\n",
       "    <tr>\n",
       "      <th>0</th>\n",
       "      <td>[0.24985932948240364, 0.6350656914100974, 0.82...</td>\n",
       "      <td>[0.7820350888855649, 0.3198341320895355, 0.303...</td>\n",
       "      <td>1</td>\n",
       "      <td>0.982781</td>\n",
       "    </tr>\n",
       "    <tr>\n",
       "      <th>1</th>\n",
       "      <td>[0.3447592728071933, 0.7605236831924497, 0.789...</td>\n",
       "      <td>[0.6068565133586963, 0.4892604057585005, 0.647...</td>\n",
       "      <td>1</td>\n",
       "      <td>0.995218</td>\n",
       "    </tr>\n",
       "    <tr>\n",
       "      <th>2</th>\n",
       "      <td>[0.5835598702428237, 0.2923623783944991, 0.494...</td>\n",
       "      <td>[0.7092419823457793, 0.3953920733270686, 0.584...</td>\n",
       "      <td>0</td>\n",
       "      <td>-0.072866</td>\n",
       "    </tr>\n",
       "    <tr>\n",
       "      <th>3</th>\n",
       "      <td>[0.6494945188525626, 0.33861761010055624, 0.29...</td>\n",
       "      <td>[0.412796658774194, 0.6307090412962476, 0.7552...</td>\n",
       "      <td>0</td>\n",
       "      <td>-0.307386</td>\n",
       "    </tr>\n",
       "    <tr>\n",
       "      <th>4</th>\n",
       "      <td>[0.5530646953235432, 0.46914860434629924, 0.48...</td>\n",
       "      <td>[0.605411651622807, 0.5611188390198073, 0.5267...</td>\n",
       "      <td>1</td>\n",
       "      <td>0.995306</td>\n",
       "    </tr>\n",
       "  </tbody>\n",
       "</table>\n",
       "</div>"
      ],
      "text/plain": [
       "                                              inputA  \\\n",
       "0  [0.24985932948240364, 0.6350656914100974, 0.82...   \n",
       "1  [0.3447592728071933, 0.7605236831924497, 0.789...   \n",
       "2  [0.5835598702428237, 0.2923623783944991, 0.494...   \n",
       "3  [0.6494945188525626, 0.33861761010055624, 0.29...   \n",
       "4  [0.5530646953235432, 0.46914860434629924, 0.48...   \n",
       "\n",
       "                                              inputB  label     preds  \n",
       "0  [0.7820350888855649, 0.3198341320895355, 0.303...      1  0.982781  \n",
       "1  [0.6068565133586963, 0.4892604057585005, 0.647...      1  0.995218  \n",
       "2  [0.7092419823457793, 0.3953920733270686, 0.584...      0 -0.072866  \n",
       "3  [0.412796658774194, 0.6307090412962476, 0.7552...      0 -0.307386  \n",
       "4  [0.605411651622807, 0.5611188390198073, 0.5267...      1  0.995306  "
      ]
     },
     "execution_count": 41,
     "metadata": {},
     "output_type": "execute_result"
    }
   ],
   "source": [
    "start = time.time()\n",
    "preds = [x[0] for x in model.predict([np.array(list(train_df['inputA'])), np.array(list(train_df['inputB']))])]\n",
    "end = time.time()\n",
    "train_results = train_df.copy()\n",
    "train_results['preds'] = preds\n",
    "print(\"Done in:\", (end-start), \"seconds\")\n",
    "print(\"Average time per pred:\", ((end-start)/len(train_df)), \"seconds\")\n",
    "train_results.head()"
   ]
  },
  {
   "cell_type": "code",
   "execution_count": 42,
   "id": "85eee755",
   "metadata": {},
   "outputs": [
    {
     "data": {
      "text/plain": [
       "<AxesSubplot:title={'center':'preds'}, xlabel='label'>"
      ]
     },
     "execution_count": 42,
     "metadata": {},
     "output_type": "execute_result"
    },
    {
     "data": {
      "image/png": "[encoded data removed]",
      "text/plain": [
       "<Figure size 576x576 with 1 Axes>"
      ]
     },
     "metadata": {
      "needs_background": "light"
     },
     "output_type": "display_data"
    }
   ],
   "source": [
    "train_results.boxplot('preds', 'label', figsize=(8,8))"
   ]
  },
  {
   "cell_type": "code",
   "execution_count": 20,
   "id": "bddc5cb9",
   "metadata": {},
   "outputs": [
    {
     "data": {
      "image/png": "[encoded data removed]",
      "text/plain": [
       "<Figure size 432x288 with 1 Axes>"
      ]
     },
     "metadata": {
      "needs_background": "light"
     },
     "output_type": "display_data"
    }
   ],
   "source": [
    "ax = sns.violinplot(x=\"label\", y=\"preds\", data=train_results)"
   ]
  },
  {
   "cell_type": "code",
   "execution_count": 43,
   "id": "b5750c5a",
   "metadata": {},
   "outputs": [
    {
     "data": {
      "text/html": [
       "<div>\n",
       "<style scoped>\n",
       "    .dataframe tbody tr th:only-of-type {\n",
       "        vertical-align: middle;\n",
       "    }\n",
       "\n",
       "    .dataframe tbody tr th {\n",
       "        vertical-align: top;\n",
       "    }\n",
       "\n",
       "    .dataframe thead th {\n",
       "        text-align: right;\n",
       "    }\n",
       "</style>\n",
       "<table border=\"1\" class=\"dataframe\">\n",
       "  <thead>\n",
       "    <tr style=\"text-align: right;\">\n",
       "      <th></th>\n",
       "      <th>inputA</th>\n",
       "      <th>inputB</th>\n",
       "      <th>label</th>\n",
       "      <th>preds</th>\n",
       "      <th>pred_class</th>\n",
       "    </tr>\n",
       "  </thead>\n",
       "  <tbody>\n",
       "    <tr>\n",
       "      <th>0</th>\n",
       "      <td>[0.24985932948240364, 0.6350656914100974, 0.82...</td>\n",
       "      <td>[0.7820350888855649, 0.3198341320895355, 0.303...</td>\n",
       "      <td>1</td>\n",
       "      <td>0.982781</td>\n",
       "      <td>1</td>\n",
       "    </tr>\n",
       "    <tr>\n",
       "      <th>1</th>\n",
       "      <td>[0.3447592728071933, 0.7605236831924497, 0.789...</td>\n",
       "      <td>[0.6068565133586963, 0.4892604057585005, 0.647...</td>\n",
       "      <td>1</td>\n",
       "      <td>0.995218</td>\n",
       "      <td>1</td>\n",
       "    </tr>\n",
       "    <tr>\n",
       "      <th>2</th>\n",
       "      <td>[0.5835598702428237, 0.2923623783944991, 0.494...</td>\n",
       "      <td>[0.7092419823457793, 0.3953920733270686, 0.584...</td>\n",
       "      <td>0</td>\n",
       "      <td>-0.072866</td>\n",
       "      <td>0</td>\n",
       "    </tr>\n",
       "    <tr>\n",
       "      <th>3</th>\n",
       "      <td>[0.6494945188525626, 0.33861761010055624, 0.29...</td>\n",
       "      <td>[0.412796658774194, 0.6307090412962476, 0.7552...</td>\n",
       "      <td>0</td>\n",
       "      <td>-0.307386</td>\n",
       "      <td>0</td>\n",
       "    </tr>\n",
       "    <tr>\n",
       "      <th>4</th>\n",
       "      <td>[0.5530646953235432, 0.46914860434629924, 0.48...</td>\n",
       "      <td>[0.605411651622807, 0.5611188390198073, 0.5267...</td>\n",
       "      <td>1</td>\n",
       "      <td>0.995306</td>\n",
       "      <td>1</td>\n",
       "    </tr>\n",
       "  </tbody>\n",
       "</table>\n",
       "</div>"
      ],
      "text/plain": [
       "                                              inputA  \\\n",
       "0  [0.24985932948240364, 0.6350656914100974, 0.82...   \n",
       "1  [0.3447592728071933, 0.7605236831924497, 0.789...   \n",
       "2  [0.5835598702428237, 0.2923623783944991, 0.494...   \n",
       "3  [0.6494945188525626, 0.33861761010055624, 0.29...   \n",
       "4  [0.5530646953235432, 0.46914860434629924, 0.48...   \n",
       "\n",
       "                                              inputB  label     preds  \\\n",
       "0  [0.7820350888855649, 0.3198341320895355, 0.303...      1  0.982781   \n",
       "1  [0.6068565133586963, 0.4892604057585005, 0.647...      1  0.995218   \n",
       "2  [0.7092419823457793, 0.3953920733270686, 0.584...      0 -0.072866   \n",
       "3  [0.412796658774194, 0.6307090412962476, 0.7552...      0 -0.307386   \n",
       "4  [0.605411651622807, 0.5611188390198073, 0.5267...      1  0.995306   \n",
       "\n",
       "   pred_class  \n",
       "0           1  \n",
       "1           1  \n",
       "2           0  \n",
       "3           0  \n",
       "4           1  "
      ]
     },
     "execution_count": 43,
     "metadata": {},
     "output_type": "execute_result"
    }
   ],
   "source": [
    "threshold = 0.65\n",
    "train_results['pred_class'] = train_results.apply(lambda x: int(x['preds']>=threshold), axis=1)\n",
    "train_results.head()"
   ]
  },
  {
   "cell_type": "code",
   "execution_count": 44,
   "id": "2a08d9ba",
   "metadata": {},
   "outputs": [
    {
     "name": "stdout",
     "output_type": "stream",
     "text": [
      "[[28205  1576]\n",
      " [  658 29032]]\n"
     ]
    }
   ],
   "source": [
    "print(confusion_matrix(train_results.label, train_results.pred_class))"
   ]
  },
  {
   "cell_type": "code",
   "execution_count": 32,
   "id": "ad357c19",
   "metadata": {},
   "outputs": [
    {
     "name": "stdout",
     "output_type": "stream",
     "text": [
      "              precision    recall  f1-score   support\n",
      "\n",
      "           0       0.98      0.95      0.96     29781\n",
      "           1       0.95      0.98      0.96     29690\n",
      "\n",
      "    accuracy                           0.96     59471\n",
      "   macro avg       0.96      0.96      0.96     59471\n",
      "weighted avg       0.96      0.96      0.96     59471\n",
      "\n"
     ]
    }
   ],
   "source": [
    "print(classification_report(train_results.label, train_results.pred_class))"
   ]
  },
  {
   "cell_type": "code",
   "execution_count": 33,
   "id": "ea3446df",
   "metadata": {},
   "outputs": [],
   "source": [
    "train_results.to_csv('siamese_train_preds.csv', index=False)"
   ]
  },
  {
   "cell_type": "code",
   "execution_count": 34,
   "id": "b94854c8",
   "metadata": {},
   "outputs": [
    {
     "name": "stdout",
     "output_type": "stream",
     "text": [
      "Done in: 0.4433107376098633 seconds\n",
      "Average time per pred: 7.454233788062472e-06 seconds\n"
     ]
    },
    {
     "data": {
      "text/html": [
       "<div>\n",
       "<style scoped>\n",
       "    .dataframe tbody tr th:only-of-type {\n",
       "        vertical-align: middle;\n",
       "    }\n",
       "\n",
       "    .dataframe tbody tr th {\n",
       "        vertical-align: top;\n",
       "    }\n",
       "\n",
       "    .dataframe thead th {\n",
       "        text-align: right;\n",
       "    }\n",
       "</style>\n",
       "<table border=\"1\" class=\"dataframe\">\n",
       "  <thead>\n",
       "    <tr style=\"text-align: right;\">\n",
       "      <th></th>\n",
       "      <th>inputA</th>\n",
       "      <th>inputB</th>\n",
       "      <th>label</th>\n",
       "      <th>preds</th>\n",
       "    </tr>\n",
       "  </thead>\n",
       "  <tbody>\n",
       "    <tr>\n",
       "      <th>0</th>\n",
       "      <td>[0.7599851760351478, 0.27829568977021635, 0.39...</td>\n",
       "      <td>[0.3881078382392493, 0.6320058758104472, 0.777...</td>\n",
       "      <td>1</td>\n",
       "      <td>0.970224</td>\n",
       "    </tr>\n",
       "    <tr>\n",
       "      <th>1</th>\n",
       "      <td>[0.23891840228138905, 0.19716560358624316, 0.7...</td>\n",
       "      <td>[0.1339817574334914, 0.3268776091606487, 0.788...</td>\n",
       "      <td>1</td>\n",
       "      <td>0.930405</td>\n",
       "    </tr>\n",
       "    <tr>\n",
       "      <th>2</th>\n",
       "      <td>[0.75814829097616, 0.38292398110746095, 0.6330...</td>\n",
       "      <td>[0.3696297750956259, 0.5905143892117646, 0.885...</td>\n",
       "      <td>0</td>\n",
       "      <td>-0.218806</td>\n",
       "    </tr>\n",
       "    <tr>\n",
       "      <th>3</th>\n",
       "      <td>[0.2607263177495158, 0.6446019065053701, 0.742...</td>\n",
       "      <td>[0.729151566561377, 0.1314536503611208, 0.2343...</td>\n",
       "      <td>0</td>\n",
       "      <td>-0.058160</td>\n",
       "    </tr>\n",
       "    <tr>\n",
       "      <th>4</th>\n",
       "      <td>[0.7674167172311745, 0.26044605158506295, 0.08...</td>\n",
       "      <td>[0.8528030713373913, 0.2308533587518186, 0.265...</td>\n",
       "      <td>1</td>\n",
       "      <td>0.944587</td>\n",
       "    </tr>\n",
       "  </tbody>\n",
       "</table>\n",
       "</div>"
      ],
      "text/plain": [
       "                                              inputA  \\\n",
       "0  [0.7599851760351478, 0.27829568977021635, 0.39...   \n",
       "1  [0.23891840228138905, 0.19716560358624316, 0.7...   \n",
       "2  [0.75814829097616, 0.38292398110746095, 0.6330...   \n",
       "3  [0.2607263177495158, 0.6446019065053701, 0.742...   \n",
       "4  [0.7674167172311745, 0.26044605158506295, 0.08...   \n",
       "\n",
       "                                              inputB  label     preds  \n",
       "0  [0.3881078382392493, 0.6320058758104472, 0.777...      1  0.970224  \n",
       "1  [0.1339817574334914, 0.3268776091606487, 0.788...      1  0.930405  \n",
       "2  [0.3696297750956259, 0.5905143892117646, 0.885...      0 -0.218806  \n",
       "3  [0.729151566561377, 0.1314536503611208, 0.2343...      0 -0.058160  \n",
       "4  [0.8528030713373913, 0.2308533587518186, 0.265...      1  0.944587  "
      ]
     },
     "execution_count": 34,
     "metadata": {},
     "output_type": "execute_result"
    }
   ],
   "source": [
    "start = time.time()\n",
    "preds = [x[0] for x in model.predict([np.array(list(test_df['inputA'])), np.array(list(test_df['inputB']))])]\n",
    "end = time.time()\n",
    "test_results = test_df.copy()\n",
    "test_results['preds'] = preds\n",
    "print(\"Done in:\", (end-start), \"seconds\")\n",
    "print(\"Average time per pred:\", ((end-start)/len(train_df)), \"seconds\")\n",
    "test_results.head()"
   ]
  },
  {
   "cell_type": "code",
   "execution_count": 35,
   "id": "d6f0ee32",
   "metadata": {},
   "outputs": [
    {
     "data": {
      "text/html": [
       "<div>\n",
       "<style scoped>\n",
       "    .dataframe tbody tr th:only-of-type {\n",
       "        vertical-align: middle;\n",
       "    }\n",
       "\n",
       "    .dataframe tbody tr th {\n",
       "        vertical-align: top;\n",
       "    }\n",
       "\n",
       "    .dataframe thead th {\n",
       "        text-align: right;\n",
       "    }\n",
       "</style>\n",
       "<table border=\"1\" class=\"dataframe\">\n",
       "  <thead>\n",
       "    <tr style=\"text-align: right;\">\n",
       "      <th></th>\n",
       "      <th>inputA</th>\n",
       "      <th>inputB</th>\n",
       "      <th>label</th>\n",
       "      <th>preds</th>\n",
       "      <th>pred_class</th>\n",
       "    </tr>\n",
       "  </thead>\n",
       "  <tbody>\n",
       "    <tr>\n",
       "      <th>0</th>\n",
       "      <td>[0.7599851760351478, 0.27829568977021635, 0.39...</td>\n",
       "      <td>[0.3881078382392493, 0.6320058758104472, 0.777...</td>\n",
       "      <td>1</td>\n",
       "      <td>0.970224</td>\n",
       "      <td>1</td>\n",
       "    </tr>\n",
       "    <tr>\n",
       "      <th>1</th>\n",
       "      <td>[0.23891840228138905, 0.19716560358624316, 0.7...</td>\n",
       "      <td>[0.1339817574334914, 0.3268776091606487, 0.788...</td>\n",
       "      <td>1</td>\n",
       "      <td>0.930405</td>\n",
       "      <td>1</td>\n",
       "    </tr>\n",
       "    <tr>\n",
       "      <th>2</th>\n",
       "      <td>[0.75814829097616, 0.38292398110746095, 0.6330...</td>\n",
       "      <td>[0.3696297750956259, 0.5905143892117646, 0.885...</td>\n",
       "      <td>0</td>\n",
       "      <td>-0.218806</td>\n",
       "      <td>0</td>\n",
       "    </tr>\n",
       "    <tr>\n",
       "      <th>3</th>\n",
       "      <td>[0.2607263177495158, 0.6446019065053701, 0.742...</td>\n",
       "      <td>[0.729151566561377, 0.1314536503611208, 0.2343...</td>\n",
       "      <td>0</td>\n",
       "      <td>-0.058160</td>\n",
       "      <td>0</td>\n",
       "    </tr>\n",
       "    <tr>\n",
       "      <th>4</th>\n",
       "      <td>[0.7674167172311745, 0.26044605158506295, 0.08...</td>\n",
       "      <td>[0.8528030713373913, 0.2308533587518186, 0.265...</td>\n",
       "      <td>1</td>\n",
       "      <td>0.944587</td>\n",
       "      <td>1</td>\n",
       "    </tr>\n",
       "  </tbody>\n",
       "</table>\n",
       "</div>"
      ],
      "text/plain": [
       "                                              inputA  \\\n",
       "0  [0.7599851760351478, 0.27829568977021635, 0.39...   \n",
       "1  [0.23891840228138905, 0.19716560358624316, 0.7...   \n",
       "2  [0.75814829097616, 0.38292398110746095, 0.6330...   \n",
       "3  [0.2607263177495158, 0.6446019065053701, 0.742...   \n",
       "4  [0.7674167172311745, 0.26044605158506295, 0.08...   \n",
       "\n",
       "                                              inputB  label     preds  \\\n",
       "0  [0.3881078382392493, 0.6320058758104472, 0.777...      1  0.970224   \n",
       "1  [0.1339817574334914, 0.3268776091606487, 0.788...      1  0.930405   \n",
       "2  [0.3696297750956259, 0.5905143892117646, 0.885...      0 -0.218806   \n",
       "3  [0.729151566561377, 0.1314536503611208, 0.2343...      0 -0.058160   \n",
       "4  [0.8528030713373913, 0.2308533587518186, 0.265...      1  0.944587   \n",
       "\n",
       "   pred_class  \n",
       "0           1  \n",
       "1           1  \n",
       "2           0  \n",
       "3           0  \n",
       "4           1  "
      ]
     },
     "execution_count": 35,
     "metadata": {},
     "output_type": "execute_result"
    }
   ],
   "source": [
    "threshold = 0.65\n",
    "test_results['pred_class'] = test_results.apply(lambda x: int(x['preds']>=threshold), axis=1)\n",
    "test_results.head()"
   ]
  },
  {
   "cell_type": "code",
   "execution_count": 36,
   "id": "d4c92b6a",
   "metadata": {},
   "outputs": [
    {
     "name": "stdout",
     "output_type": "stream",
     "text": [
      "[[12004   695]\n",
      " [  347 12442]]\n"
     ]
    }
   ],
   "source": [
    "print(confusion_matrix(test_results.label, test_results.pred_class))"
   ]
  },
  {
   "cell_type": "code",
   "execution_count": 37,
   "id": "2939e09b",
   "metadata": {},
   "outputs": [
    {
     "name": "stdout",
     "output_type": "stream",
     "text": [
      "              precision    recall  f1-score   support\n",
      "\n",
      "           0       0.97      0.95      0.96     12699\n",
      "           1       0.95      0.97      0.96     12789\n",
      "\n",
      "    accuracy                           0.96     25488\n",
      "   macro avg       0.96      0.96      0.96     25488\n",
      "weighted avg       0.96      0.96      0.96     25488\n",
      "\n"
     ]
    }
   ],
   "source": [
    "print(classification_report(test_results.label, test_results.pred_class))"
   ]
  },
  {
   "cell_type": "code",
   "execution_count": 38,
   "id": "d45d077e",
   "metadata": {},
   "outputs": [],
   "source": [
    "test_results.to_csv('siamese_test_preds.csv', index=False)"
   ]
  },
  {
   "cell_type": "code",
   "execution_count": 39,
   "id": "6b61a4da",
   "metadata": {},
   "outputs": [],
   "source": [
    "model = keras.models.load_model(\"models/base_siamese\")"
   ]
  },
  {
   "cell_type": "code",
   "execution_count": 40,
   "id": "40ceea33",
   "metadata": {},
   "outputs": [
    {
     "name": "stdout",
     "output_type": "stream",
     "text": [
      "Model: \"model_1\"\n",
      "__________________________________________________________________________________________________\n",
      " Layer (type)                   Output Shape         Param #     Connected to                     \n",
      "==================================================================================================\n",
      " input_1 (InputLayer)           [(None, 47)]         0           []                               \n",
      "                                                                                                  \n",
      " input_2 (InputLayer)           [(None, 47)]         0           []                               \n",
      "                                                                                                  \n",
      " model (Functional)             (None, 100)          13732       ['input_1[0][0]',                \n",
      "                                                                  'input_2[0][0]']                \n",
      "                                                                                                  \n",
      " dot (Dot)                      (None, 1)            0           ['model[0][0]',                  \n",
      "                                                                  'model[1][0]']                  \n",
      "                                                                                                  \n",
      "==================================================================================================\n",
      "Total params: 13,732\n",
      "Trainable params: 13,732\n",
      "Non-trainable params: 0\n",
      "__________________________________________________________________________________________________\n"
     ]
    }
   ],
   "source": [
    "model.summary()"
   ]
  },
  {
   "cell_type": "code",
   "execution_count": null,
   "id": "2862f307",
   "metadata": {},
   "outputs": [],
   "source": []
  }
 ],
 "metadata": {
  "kernelspec": {
   "display_name": "Python 3",
   "language": "python",
   "name": "python3"
  },
  "language_info": {
   "codemirror_mode": {
    "name": "ipython",
    "version": 3
   },
   "file_extension": ".py",
   "mimetype": "text/x-python",
   "name": "python",
   "nbconvert_exporter": "python",
   "pygments_lexer": "ipython3",
   "version": "3.8.8"
  }
 },
 "nbformat": 4,
 "nbformat_minor": 5
}
