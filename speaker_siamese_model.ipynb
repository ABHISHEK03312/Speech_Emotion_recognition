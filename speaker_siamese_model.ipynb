{
 "cells": [
  {
   "cell_type": "code",
   "execution_count": 1,
   "id": "e494bc6d",
   "metadata": {},
   "outputs": [],
   "source": [
    "import pandas as pd\n",
    "import time\n",
    "import numpy as np\n",
    "import matplotlib.pyplot as plt\n",
    "import seaborn as sns\n",
    "\n",
    "from sklearn.metrics import confusion_matrix\n",
    "from sklearn.metrics import classification_report\n",
    "\n",
    "# tensorflow libraries\n",
    "import tensorflow as tf\n",
    "import tensorflow.keras as keras\n",
    "from tensorflow.keras.models import Model\n",
    "from tensorflow.keras import Sequential\n",
    "from tensorflow.keras.layers import Input, Dense, Dropout, Lambda\n",
    "import tensorflow.keras.backend as K"
   ]
  },
  {
   "cell_type": "code",
   "execution_count": 2,
   "id": "2b9e32c0",
   "metadata": {},
   "outputs": [],
   "source": [
    "train_df = pd.read_pickle('Speaker_Classification_data/train.df')\n",
    "test_df = pd.read_pickle('Speaker_Classification_data/test.df')"
   ]
  },
  {
   "cell_type": "code",
   "execution_count": 3,
   "id": "aa933888",
   "metadata": {},
   "outputs": [
    {
     "data": {
      "text/html": [
       "<div>\n",
       "<style scoped>\n",
       "    .dataframe tbody tr th:only-of-type {\n",
       "        vertical-align: middle;\n",
       "    }\n",
       "\n",
       "    .dataframe tbody tr th {\n",
       "        vertical-align: top;\n",
       "    }\n",
       "\n",
       "    .dataframe thead th {\n",
       "        text-align: right;\n",
       "    }\n",
       "</style>\n",
       "<table border=\"1\" class=\"dataframe\">\n",
       "  <thead>\n",
       "    <tr style=\"text-align: right;\">\n",
       "      <th></th>\n",
       "      <th>inputA</th>\n",
       "      <th>inputB</th>\n",
       "      <th>label</th>\n",
       "    </tr>\n",
       "  </thead>\n",
       "  <tbody>\n",
       "    <tr>\n",
       "      <th>0</th>\n",
       "      <td>[0.24985932948240364, 0.6350656914100974, 0.82...</td>\n",
       "      <td>[0.7820350888855649, 0.3198341320895355, 0.303...</td>\n",
       "      <td>1</td>\n",
       "    </tr>\n",
       "    <tr>\n",
       "      <th>1</th>\n",
       "      <td>[0.3447592728071933, 0.7605236831924497, 0.789...</td>\n",
       "      <td>[0.6068565133586963, 0.4892604057585005, 0.647...</td>\n",
       "      <td>1</td>\n",
       "    </tr>\n",
       "    <tr>\n",
       "      <th>2</th>\n",
       "      <td>[0.5835598702428237, 0.2923623783944991, 0.494...</td>\n",
       "      <td>[0.7092419823457793, 0.3953920733270686, 0.584...</td>\n",
       "      <td>0</td>\n",
       "    </tr>\n",
       "    <tr>\n",
       "      <th>3</th>\n",
       "      <td>[0.6494945188525626, 0.33861761010055624, 0.29...</td>\n",
       "      <td>[0.412796658774194, 0.6307090412962476, 0.7552...</td>\n",
       "      <td>0</td>\n",
       "    </tr>\n",
       "    <tr>\n",
       "      <th>4</th>\n",
       "      <td>[0.5530646953235432, 0.46914860434629924, 0.48...</td>\n",
       "      <td>[0.605411651622807, 0.5611188390198073, 0.5267...</td>\n",
       "      <td>1</td>\n",
       "    </tr>\n",
       "  </tbody>\n",
       "</table>\n",
       "</div>"
      ],
      "text/plain": [
       "                                              inputA  \\\n",
       "0  [0.24985932948240364, 0.6350656914100974, 0.82...   \n",
       "1  [0.3447592728071933, 0.7605236831924497, 0.789...   \n",
       "2  [0.5835598702428237, 0.2923623783944991, 0.494...   \n",
       "3  [0.6494945188525626, 0.33861761010055624, 0.29...   \n",
       "4  [0.5530646953235432, 0.46914860434629924, 0.48...   \n",
       "\n",
       "                                              inputB  label  \n",
       "0  [0.7820350888855649, 0.3198341320895355, 0.303...      1  \n",
       "1  [0.6068565133586963, 0.4892604057585005, 0.647...      1  \n",
       "2  [0.7092419823457793, 0.3953920733270686, 0.584...      0  \n",
       "3  [0.412796658774194, 0.6307090412962476, 0.7552...      0  \n",
       "4  [0.605411651622807, 0.5611188390198073, 0.5267...      1  "
      ]
     },
     "execution_count": 3,
     "metadata": {},
     "output_type": "execute_result"
    }
   ],
   "source": [
    "train_df.head()"
   ]
  },
  {
   "cell_type": "code",
   "execution_count": 4,
   "id": "a74816d3",
   "metadata": {},
   "outputs": [
    {
     "data": {
      "text/html": [
       "<div>\n",
       "<style scoped>\n",
       "    .dataframe tbody tr th:only-of-type {\n",
       "        vertical-align: middle;\n",
       "    }\n",
       "\n",
       "    .dataframe tbody tr th {\n",
       "        vertical-align: top;\n",
       "    }\n",
       "\n",
       "    .dataframe thead th {\n",
       "        text-align: right;\n",
       "    }\n",
       "</style>\n",
       "<table border=\"1\" class=\"dataframe\">\n",
       "  <thead>\n",
       "    <tr style=\"text-align: right;\">\n",
       "      <th></th>\n",
       "      <th>inputA</th>\n",
       "      <th>inputB</th>\n",
       "      <th>label</th>\n",
       "    </tr>\n",
       "  </thead>\n",
       "  <tbody>\n",
       "    <tr>\n",
       "      <th>0</th>\n",
       "      <td>[0.7599851760351478, 0.27829568977021635, 0.39...</td>\n",
       "      <td>[0.3881078382392493, 0.6320058758104472, 0.777...</td>\n",
       "      <td>1</td>\n",
       "    </tr>\n",
       "    <tr>\n",
       "      <th>1</th>\n",
       "      <td>[0.23891840228138905, 0.19716560358624316, 0.7...</td>\n",
       "      <td>[0.1339817574334914, 0.3268776091606487, 0.788...</td>\n",
       "      <td>1</td>\n",
       "    </tr>\n",
       "    <tr>\n",
       "      <th>2</th>\n",
       "      <td>[0.75814829097616, 0.38292398110746095, 0.6330...</td>\n",
       "      <td>[0.3696297750956259, 0.5905143892117646, 0.885...</td>\n",
       "      <td>0</td>\n",
       "    </tr>\n",
       "    <tr>\n",
       "      <th>3</th>\n",
       "      <td>[0.2607263177495158, 0.6446019065053701, 0.742...</td>\n",
       "      <td>[0.729151566561377, 0.1314536503611208, 0.2343...</td>\n",
       "      <td>0</td>\n",
       "    </tr>\n",
       "    <tr>\n",
       "      <th>4</th>\n",
       "      <td>[0.7674167172311745, 0.26044605158506295, 0.08...</td>\n",
       "      <td>[0.8528030713373913, 0.2308533587518186, 0.265...</td>\n",
       "      <td>1</td>\n",
       "    </tr>\n",
       "  </tbody>\n",
       "</table>\n",
       "</div>"
      ],
      "text/plain": [
       "                                              inputA  \\\n",
       "0  [0.7599851760351478, 0.27829568977021635, 0.39...   \n",
       "1  [0.23891840228138905, 0.19716560358624316, 0.7...   \n",
       "2  [0.75814829097616, 0.38292398110746095, 0.6330...   \n",
       "3  [0.2607263177495158, 0.6446019065053701, 0.742...   \n",
       "4  [0.7674167172311745, 0.26044605158506295, 0.08...   \n",
       "\n",
       "                                              inputB  label  \n",
       "0  [0.3881078382392493, 0.6320058758104472, 0.777...      1  \n",
       "1  [0.1339817574334914, 0.3268776091606487, 0.788...      1  \n",
       "2  [0.3696297750956259, 0.5905143892117646, 0.885...      0  \n",
       "3  [0.729151566561377, 0.1314536503611208, 0.2343...      0  \n",
       "4  [0.8528030713373913, 0.2308533587518186, 0.265...      1  "
      ]
     },
     "execution_count": 4,
     "metadata": {},
     "output_type": "execute_result"
    }
   ],
   "source": [
    "test_df.head()"
   ]
  },
  {
   "cell_type": "code",
   "execution_count": 5,
   "id": "726daf43",
   "metadata": {},
   "outputs": [],
   "source": [
    "def build_siamese_model(inputsize, nlayers=2, nsize=64, emb_dim=100):\n",
    "    inputs = Input(inputsize)\n",
    "    x = Dense(nsize, activation='relu')(inputs)\n",
    "    x = Dropout(0.1)(x)\n",
    "    for _ in range(nlayers-1):\n",
    "        x = Dense(nsize, activation='relu')(x)\n",
    "        x = Dropout(0.1)(x)\n",
    "    outputs = Dense(emb_dim)(x)\n",
    "    model = Model(inputs, outputs)\n",
    "    \n",
    "    return model"
   ]
  },
  {
   "cell_type": "code",
   "execution_count": 6,
   "id": "32869e28",
   "metadata": {},
   "outputs": [],
   "source": [
    "def cosine_similarity(vests):\n",
    "    x, y = vests\n",
    "    x = K.l2_normalize(x, axis=-1)\n",
    "    y = K.l2_normalize(y, axis=-1)\n",
    "    return K.sum(x * y, axis=-1, keepdims=True)\n",
    "\n",
    "def cos_dist_output_shape(shapes):\n",
    "    shape1, shape2 = shapes\n",
    "    return (shape1[0],1)"
   ]
  },
  {
   "cell_type": "code",
   "execution_count": 11,
   "id": "20f70e74",
   "metadata": {},
   "outputs": [],
   "source": [
    "# building model\n",
    "input_shape = len(train_df['inputA'][0])\n",
    "inputA = Input(input_shape)\n",
    "inputB = Input(input_shape)\n",
    "featureExtractor = build_siamese_model(input_shape)\n",
    "featsA = featureExtractor(inputA)\n",
    "featsB = featureExtractor(inputB)\n",
    "\n",
    "output_cos = Lambda(cosine_similarity, output_shape=cos_dist_output_shape)([featsA, featsB])\n",
    "model = Model(inputs=[inputA, inputB], outputs=output_cos)\n",
    "\n",
    "model.compile(loss=\"binary_crossentropy\", optimizer=\"adam\", metrics=[\"accuracy\"])"
   ]
  },
  {
   "cell_type": "code",
   "execution_count": 8,
   "id": "6b6725d3",
   "metadata": {},
   "outputs": [
    {
     "name": "stdout",
     "output_type": "stream",
     "text": [
      "Model: \"model_1\"\n",
      "__________________________________________________________________________________________________\n",
      " Layer (type)                   Output Shape         Param #     Connected to                     \n",
      "==================================================================================================\n",
      " input_1 (InputLayer)           [(None, 47)]         0           []                               \n",
      "                                                                                                  \n",
      " input_2 (InputLayer)           [(None, 47)]         0           []                               \n",
      "                                                                                                  \n",
      " model (Functional)             (None, 100)          13732       ['input_1[0][0]',                \n",
      "                                                                  'input_2[0][0]']                \n",
      "                                                                                                  \n",
      " lambda (Lambda)                (None, 1)            0           ['model[0][0]',                  \n",
      "                                                                  'model[1][0]']                  \n",
      "                                                                                                  \n",
      "==================================================================================================\n",
      "Total params: 13,732\n",
      "Trainable params: 13,732\n",
      "Non-trainable params: 0\n",
      "__________________________________________________________________________________________________\n"
     ]
    }
   ],
   "source": [
    "model.summary()"
   ]
  },
  {
   "cell_type": "code",
   "execution_count": 14,
   "id": "f39bbd4d",
   "metadata": {},
   "outputs": [],
   "source": [
    "X1_train = np.asarray(list(train_df['inputA']), dtype=np.float32)\n",
    "X2_train = np.asarray(list(train_df['inputB']), dtype=np.float32)\n",
    "\n",
    "X1_test = np.asarray(list(test_df['inputA']), dtype=np.float32)\n",
    "X2_test = np.asarray(list(test_df['inputB']), dtype=np.float32)"
   ]
  },
  {
   "cell_type": "code",
   "execution_count": 20,
   "id": "2ef0f743",
   "metadata": {
    "scrolled": true
   },
   "outputs": [
    {
     "name": "stdout",
     "output_type": "stream",
     "text": [
      "Epoch 1/50\n",
      "59471/59471 - 36s - loss: 0.5701 - accuracy: 0.7477 - val_loss: 0.4162 - val_accuracy: 0.8289\n",
      "Epoch 2/50\n",
      "59471/59471 - 36s - loss: 0.4383 - accuracy: 0.8153 - val_loss: 0.3223 - val_accuracy: 0.8716\n",
      "Epoch 3/50\n",
      "59471/59471 - 36s - loss: 0.3850 - accuracy: 0.8441 - val_loss: 0.2900 - val_accuracy: 0.8873\n",
      "Epoch 4/50\n",
      "59471/59471 - 36s - loss: 0.3504 - accuracy: 0.8592 - val_loss: 0.2696 - val_accuracy: 0.8954\n",
      "Epoch 5/50\n",
      "59471/59471 - 35s - loss: 0.3263 - accuracy: 0.8718 - val_loss: 0.2530 - val_accuracy: 0.9079\n",
      "Epoch 6/50\n",
      "59471/59471 - 36s - loss: 0.3048 - accuracy: 0.8829 - val_loss: 0.2859 - val_accuracy: 0.9002\n",
      "Epoch 7/50\n",
      "59471/59471 - 36s - loss: 0.2995 - accuracy: 0.8831 - val_loss: 0.2527 - val_accuracy: 0.9097\n",
      "Epoch 8/50\n",
      "59471/59471 - 36s - loss: 0.3118 - accuracy: 0.8824 - val_loss: 0.2231 - val_accuracy: 0.9148\n",
      "Epoch 9/50\n",
      "59471/59471 - 36s - loss: 0.2862 - accuracy: 0.8934 - val_loss: 0.1981 - val_accuracy: 0.9300\n",
      "Epoch 10/50\n",
      "59471/59471 - 36s - loss: 0.2826 - accuracy: 0.8947 - val_loss: 0.1987 - val_accuracy: 0.9269\n",
      "Epoch 11/50\n",
      "59471/59471 - 36s - loss: 0.2834 - accuracy: 0.8944 - val_loss: 0.2589 - val_accuracy: 0.8981\n",
      "Epoch 12/50\n",
      "59471/59471 - 36s - loss: 0.2663 - accuracy: 0.8994 - val_loss: 0.1908 - val_accuracy: 0.9306\n",
      "Epoch 13/50\n",
      "59471/59471 - 35s - loss: 0.2703 - accuracy: 0.8990 - val_loss: 0.1926 - val_accuracy: 0.9315\n",
      "Epoch 14/50\n",
      "59471/59471 - 35s - loss: 0.2558 - accuracy: 0.9044 - val_loss: 0.1906 - val_accuracy: 0.9319\n",
      "Epoch 15/50\n",
      "59471/59471 - 36s - loss: 0.2595 - accuracy: 0.9019 - val_loss: 0.1859 - val_accuracy: 0.9341\n",
      "Epoch 16/50\n",
      "59471/59471 - 30s - loss: 0.2508 - accuracy: 0.9074 - val_loss: 0.1767 - val_accuracy: 0.9346\n",
      "Epoch 17/50\n",
      "59471/59471 - 30s - loss: 0.2502 - accuracy: 0.9088 - val_loss: 0.1750 - val_accuracy: 0.9359\n",
      "Epoch 18/50\n",
      "59471/59471 - 30s - loss: 0.2457 - accuracy: 0.9110 - val_loss: 0.1695 - val_accuracy: 0.9394\n",
      "Epoch 19/50\n",
      "59471/59471 - 30s - loss: 0.2447 - accuracy: 0.9109 - val_loss: 0.2210 - val_accuracy: 0.9201\n",
      "Epoch 20/50\n",
      "59471/59471 - 30s - loss: 0.2361 - accuracy: 0.9149 - val_loss: 0.1700 - val_accuracy: 0.9390\n",
      "Epoch 21/50\n",
      "59471/59471 - 30s - loss: 0.2338 - accuracy: 0.9156 - val_loss: 0.1543 - val_accuracy: 0.9473\n",
      "Epoch 22/50\n",
      "59471/59471 - 30s - loss: 0.2320 - accuracy: 0.9151 - val_loss: 0.2044 - val_accuracy: 0.9251\n",
      "Epoch 23/50\n",
      "59471/59471 - 30s - loss: 0.2405 - accuracy: 0.9129 - val_loss: 0.1475 - val_accuracy: 0.9500\n",
      "Epoch 24/50\n",
      "59471/59471 - 30s - loss: 0.2321 - accuracy: 0.9167 - val_loss: 0.1631 - val_accuracy: 0.9413\n",
      "Epoch 25/50\n",
      "59471/59471 - 30s - loss: 0.2297 - accuracy: 0.9199 - val_loss: 0.1794 - val_accuracy: 0.9375\n",
      "Epoch 26/50\n",
      "59471/59471 - 30s - loss: 0.2333 - accuracy: 0.9186 - val_loss: 0.1591 - val_accuracy: 0.9444\n",
      "Epoch 27/50\n",
      "59471/59471 - 30s - loss: 0.2260 - accuracy: 0.9200 - val_loss: 0.1437 - val_accuracy: 0.9494\n",
      "Epoch 28/50\n",
      "59471/59471 - 30s - loss: 0.2152 - accuracy: 0.9226 - val_loss: 0.1565 - val_accuracy: 0.9443\n",
      "Epoch 29/50\n",
      "59471/59471 - 30s - loss: 0.2302 - accuracy: 0.9191 - val_loss: 0.1367 - val_accuracy: 0.9531\n",
      "Epoch 30/50\n",
      "59471/59471 - 30s - loss: 0.2168 - accuracy: 0.9219 - val_loss: 0.1546 - val_accuracy: 0.9443\n",
      "Epoch 31/50\n",
      "59471/59471 - 29s - loss: 0.2170 - accuracy: 0.9217 - val_loss: 0.1360 - val_accuracy: 0.9540\n",
      "Epoch 32/50\n",
      "59471/59471 - 30s - loss: 0.2131 - accuracy: 0.9230 - val_loss: 0.1581 - val_accuracy: 0.9463\n",
      "Epoch 33/50\n",
      "59471/59471 - 30s - loss: 0.2143 - accuracy: 0.9256 - val_loss: 0.1426 - val_accuracy: 0.9501\n",
      "Epoch 34/50\n",
      "59471/59471 - 30s - loss: 0.2101 - accuracy: 0.9253 - val_loss: 0.1324 - val_accuracy: 0.9566\n",
      "Epoch 35/50\n",
      "59471/59471 - 30s - loss: 0.2194 - accuracy: 0.9232 - val_loss: 0.1363 - val_accuracy: 0.9541\n",
      "Epoch 36/50\n",
      "59471/59471 - 30s - loss: 0.2052 - accuracy: 0.9277 - val_loss: 0.1282 - val_accuracy: 0.9557\n",
      "Epoch 37/50\n",
      "59471/59471 - 29s - loss: 0.2086 - accuracy: 0.9271 - val_loss: 0.1315 - val_accuracy: 0.9531\n",
      "Epoch 38/50\n",
      "59471/59471 - 30s - loss: 0.2198 - accuracy: 0.9225 - val_loss: 0.1301 - val_accuracy: 0.9566\n",
      "Epoch 39/50\n",
      "59471/59471 - 29s - loss: 0.2031 - accuracy: 0.9289 - val_loss: 0.1164 - val_accuracy: 0.9621\n",
      "Epoch 40/50\n",
      "59471/59471 - 30s - loss: 0.2243 - accuracy: 0.9225 - val_loss: 0.2221 - val_accuracy: 0.9139\n",
      "Epoch 41/50\n",
      "59471/59471 - 30s - loss: 0.2070 - accuracy: 0.9269 - val_loss: 0.1232 - val_accuracy: 0.9588\n",
      "Epoch 42/50\n",
      "59471/59471 - 30s - loss: 0.2066 - accuracy: 0.9271 - val_loss: 0.1211 - val_accuracy: 0.9600\n",
      "Epoch 43/50\n",
      "59471/59471 - 29s - loss: 0.2065 - accuracy: 0.9263 - val_loss: 0.1191 - val_accuracy: 0.9627\n",
      "Epoch 44/50\n",
      "59471/59471 - 30s - loss: 0.1995 - accuracy: 0.9313 - val_loss: 0.1394 - val_accuracy: 0.9505\n",
      "Epoch 45/50\n",
      "59471/59471 - 30s - loss: 0.2084 - accuracy: 0.9257 - val_loss: 0.1240 - val_accuracy: 0.9588\n",
      "Epoch 46/50\n",
      "59471/59471 - 29s - loss: 0.1988 - accuracy: 0.9298 - val_loss: 0.1153 - val_accuracy: 0.9641\n",
      "Epoch 47/50\n",
      "59471/59471 - 30s - loss: 0.2028 - accuracy: 0.9281 - val_loss: 0.1440 - val_accuracy: 0.9505\n",
      "Epoch 48/50\n",
      "59471/59471 - 30s - loss: 0.2005 - accuracy: 0.9285 - val_loss: 0.1308 - val_accuracy: 0.9548\n",
      "Epoch 49/50\n",
      "59471/59471 - 30s - loss: 0.2056 - accuracy: 0.9250 - val_loss: 0.1259 - val_accuracy: 0.9579\n",
      "Epoch 50/50\n",
      "59471/59471 - 29s - loss: 0.2240 - accuracy: 0.9202 - val_loss: 0.1206 - val_accuracy: 0.9599\n"
     ]
    }
   ],
   "source": [
    "history = model.fit([X1_train, X2_train], train_df['label'],\n",
    "          validation_data=([X1_test, X2_test], test_df['label']),\n",
    "          batch_size=1, epochs=50, verbose=2)"
   ]
  },
  {
   "cell_type": "code",
   "execution_count": 17,
   "id": "b25d2ae7",
   "metadata": {},
   "outputs": [],
   "source": [
    "def plot_from_history(hist, metric='accuracy', label='Training and Test accuracy', save_path=\"\"):\n",
    "    plt.figure()\n",
    "    plt.plot(range(1, 51), hist[metric], 'orange', label='Training '+metric)\n",
    "    plt.plot(range(1, 51), hist[\"val_\"+metric], 'blue', label='Test '+metric)\n",
    "    plt.title(label)\n",
    "    plt.xlabel('Epochs')\n",
    "    plt.ylabel(metric)\n",
    "    plt.legend()\n",
    "    if len(save_path):\n",
    "        plt.savefig(save_path)\n",
    "    plt.show()"
   ]
  },
  {
   "cell_type": "code",
   "execution_count": 21,
   "id": "c8c54dbd",
   "metadata": {},
   "outputs": [
    {
     "data": {
      "image/png": "[encoded data removed]",
      "text/plain": [
       "<Figure size 432x288 with 1 Axes>"
      ]
     },
     "metadata": {
      "needs_background": "light"
     },
     "output_type": "display_data"
    }
   ],
   "source": [
    "plot_from_history(history.history)"
   ]
  },
  {
   "cell_type": "code",
   "execution_count": 9,
   "id": "508f66b5",
   "metadata": {},
   "outputs": [
    {
     "name": "stdout",
     "output_type": "stream",
     "text": [
      "INFO:tensorflow:Assets written to: ./models/base_siamese\\assets\n"
     ]
    }
   ],
   "source": [
    "model.save(\"./models/base_siamese\")"
   ]
  },
  {
   "cell_type": "code",
   "execution_count": 14,
   "id": "8f31bf7d",
   "metadata": {},
   "outputs": [
    {
     "data": {
      "text/plain": [
       "0.9952235"
      ]
     },
     "execution_count": 14,
     "metadata": {},
     "output_type": "execute_result"
    }
   ],
   "source": [
    "model.predict([np.array([train_df['inputA'][0]]), np.array([train_df['inputB'][0]])])[0][0]"
   ]
  },
  {
   "cell_type": "code",
   "execution_count": 15,
   "id": "799761e2",
   "metadata": {},
   "outputs": [
    {
     "data": {
      "text/plain": [
       "array([[ 0.9952234 ],\n",
       "       [ 0.95960826],\n",
       "       [-0.16397488],\n",
       "       ...,\n",
       "       [ 0.8950638 ],\n",
       "       [ 0.01008426],\n",
       "       [ 0.9910331 ]], dtype=float32)"
      ]
     },
     "execution_count": 15,
     "metadata": {},
     "output_type": "execute_result"
    }
   ],
   "source": [
    "model.predict([np.array(list(train_df['inputA'])), np.array(list(train_df['inputB']))])"
   ]
  },
  {
   "cell_type": "code",
   "execution_count": 16,
   "id": "b88aced5",
   "metadata": {},
   "outputs": [
    {
     "name": "stdout",
     "output_type": "stream",
     "text": [
      "Done in: 6.350922346115112 seconds\n",
      "Average time per pred: 0.0001067902397154094 seconds\n"
     ]
    },
    {
     "data": {
      "text/html": [
       "<div>\n",
       "<style scoped>\n",
       "    .dataframe tbody tr th:only-of-type {\n",
       "        vertical-align: middle;\n",
       "    }\n",
       "\n",
       "    .dataframe tbody tr th {\n",
       "        vertical-align: top;\n",
       "    }\n",
       "\n",
       "    .dataframe thead th {\n",
       "        text-align: right;\n",
       "    }\n",
       "</style>\n",
       "<table border=\"1\" class=\"dataframe\">\n",
       "  <thead>\n",
       "    <tr style=\"text-align: right;\">\n",
       "      <th></th>\n",
       "      <th>inputA</th>\n",
       "      <th>inputB</th>\n",
       "      <th>label</th>\n",
       "      <th>preds</th>\n",
       "    </tr>\n",
       "  </thead>\n",
       "  <tbody>\n",
       "    <tr>\n",
       "      <th>0</th>\n",
       "      <td>[0.24985932948240364, 0.6350656914100974, 0.82...</td>\n",
       "      <td>[0.7820350888855649, 0.3198341320895355, 0.303...</td>\n",
       "      <td>1</td>\n",
       "      <td>0.995223</td>\n",
       "    </tr>\n",
       "    <tr>\n",
       "      <th>1</th>\n",
       "      <td>[0.3447592728071933, 0.7605236831924497, 0.789...</td>\n",
       "      <td>[0.6068565133586963, 0.4892604057585005, 0.647...</td>\n",
       "      <td>1</td>\n",
       "      <td>0.959608</td>\n",
       "    </tr>\n",
       "    <tr>\n",
       "      <th>2</th>\n",
       "      <td>[0.5835598702428237, 0.2923623783944991, 0.494...</td>\n",
       "      <td>[0.7092419823457793, 0.3953920733270686, 0.584...</td>\n",
       "      <td>0</td>\n",
       "      <td>-0.163975</td>\n",
       "    </tr>\n",
       "    <tr>\n",
       "      <th>3</th>\n",
       "      <td>[0.6494945188525626, 0.33861761010055624, 0.29...</td>\n",
       "      <td>[0.412796658774194, 0.6307090412962476, 0.7552...</td>\n",
       "      <td>0</td>\n",
       "      <td>-0.253983</td>\n",
       "    </tr>\n",
       "    <tr>\n",
       "      <th>4</th>\n",
       "      <td>[0.5530646953235432, 0.46914860434629924, 0.48...</td>\n",
       "      <td>[0.605411651622807, 0.5611188390198073, 0.5267...</td>\n",
       "      <td>1</td>\n",
       "      <td>0.972610</td>\n",
       "    </tr>\n",
       "  </tbody>\n",
       "</table>\n",
       "</div>"
      ],
      "text/plain": [
       "                                              inputA  \\\n",
       "0  [0.24985932948240364, 0.6350656914100974, 0.82...   \n",
       "1  [0.3447592728071933, 0.7605236831924497, 0.789...   \n",
       "2  [0.5835598702428237, 0.2923623783944991, 0.494...   \n",
       "3  [0.6494945188525626, 0.33861761010055624, 0.29...   \n",
       "4  [0.5530646953235432, 0.46914860434629924, 0.48...   \n",
       "\n",
       "                                              inputB  label     preds  \n",
       "0  [0.7820350888855649, 0.3198341320895355, 0.303...      1  0.995223  \n",
       "1  [0.6068565133586963, 0.4892604057585005, 0.647...      1  0.959608  \n",
       "2  [0.7092419823457793, 0.3953920733270686, 0.584...      0 -0.163975  \n",
       "3  [0.412796658774194, 0.6307090412962476, 0.7552...      0 -0.253983  \n",
       "4  [0.605411651622807, 0.5611188390198073, 0.5267...      1  0.972610  "
      ]
     },
     "execution_count": 16,
     "metadata": {},
     "output_type": "execute_result"
    }
   ],
   "source": [
    "start = time.time()\n",
    "preds = [x[0] for x in model.predict([np.array(list(train_df['inputA'])), np.array(list(train_df['inputB']))])]\n",
    "end = time.time()\n",
    "train_results = train_df.copy()\n",
    "train_results['preds'] = preds\n",
    "print(\"Done in:\", (end-start), \"seconds\")\n",
    "print(\"Average time per pred:\", ((end-start)/len(train_df)), \"seconds\")\n",
    "train_results.head()"
   ]
  },
  {
   "cell_type": "code",
   "execution_count": 17,
   "id": "85eee755",
   "metadata": {},
   "outputs": [
    {
     "data": {
      "text/plain": [
       "<AxesSubplot:title={'center':'preds'}, xlabel='label'>"
      ]
     },
     "execution_count": 17,
     "metadata": {},
     "output_type": "execute_result"
    },
    {
     "data": {
      "image/png": "[encoded data removed]",
      "text/plain": [
       "<Figure size 576x576 with 1 Axes>"
      ]
     },
     "metadata": {
      "needs_background": "light"
     },
     "output_type": "display_data"
    }
   ],
   "source": [
    "train_results.boxplot('preds', 'label', figsize=(8,8))"
   ]
  },
  {
   "cell_type": "code",
   "execution_count": 18,
   "id": "bddc5cb9",
   "metadata": {},
   "outputs": [
    {
     "data": {
      "image/png": "[encoded data removed]",
      "text/plain": [
       "<Figure size 432x288 with 1 Axes>"
      ]
     },
     "metadata": {
      "needs_background": "light"
     },
     "output_type": "display_data"
    }
   ],
   "source": [
    "ax = sns.violinplot(x=\"label\", y=\"preds\", data=train_results)"
   ]
  },
  {
   "cell_type": "code",
   "execution_count": 19,
   "id": "b5750c5a",
   "metadata": {},
   "outputs": [
    {
     "data": {
      "text/html": [
       "<div>\n",
       "<style scoped>\n",
       "    .dataframe tbody tr th:only-of-type {\n",
       "        vertical-align: middle;\n",
       "    }\n",
       "\n",
       "    .dataframe tbody tr th {\n",
       "        vertical-align: top;\n",
       "    }\n",
       "\n",
       "    .dataframe thead th {\n",
       "        text-align: right;\n",
       "    }\n",
       "</style>\n",
       "<table border=\"1\" class=\"dataframe\">\n",
       "  <thead>\n",
       "    <tr style=\"text-align: right;\">\n",
       "      <th></th>\n",
       "      <th>inputA</th>\n",
       "      <th>inputB</th>\n",
       "      <th>label</th>\n",
       "      <th>preds</th>\n",
       "      <th>pred_class</th>\n",
       "    </tr>\n",
       "  </thead>\n",
       "  <tbody>\n",
       "    <tr>\n",
       "      <th>0</th>\n",
       "      <td>[0.24985932948240364, 0.6350656914100974, 0.82...</td>\n",
       "      <td>[0.7820350888855649, 0.3198341320895355, 0.303...</td>\n",
       "      <td>1</td>\n",
       "      <td>0.995223</td>\n",
       "      <td>1</td>\n",
       "    </tr>\n",
       "    <tr>\n",
       "      <th>1</th>\n",
       "      <td>[0.3447592728071933, 0.7605236831924497, 0.789...</td>\n",
       "      <td>[0.6068565133586963, 0.4892604057585005, 0.647...</td>\n",
       "      <td>1</td>\n",
       "      <td>0.959608</td>\n",
       "      <td>1</td>\n",
       "    </tr>\n",
       "    <tr>\n",
       "      <th>2</th>\n",
       "      <td>[0.5835598702428237, 0.2923623783944991, 0.494...</td>\n",
       "      <td>[0.7092419823457793, 0.3953920733270686, 0.584...</td>\n",
       "      <td>0</td>\n",
       "      <td>-0.163975</td>\n",
       "      <td>0</td>\n",
       "    </tr>\n",
       "    <tr>\n",
       "      <th>3</th>\n",
       "      <td>[0.6494945188525626, 0.33861761010055624, 0.29...</td>\n",
       "      <td>[0.412796658774194, 0.6307090412962476, 0.7552...</td>\n",
       "      <td>0</td>\n",
       "      <td>-0.253983</td>\n",
       "      <td>0</td>\n",
       "    </tr>\n",
       "    <tr>\n",
       "      <th>4</th>\n",
       "      <td>[0.5530646953235432, 0.46914860434629924, 0.48...</td>\n",
       "      <td>[0.605411651622807, 0.5611188390198073, 0.5267...</td>\n",
       "      <td>1</td>\n",
       "      <td>0.972610</td>\n",
       "      <td>1</td>\n",
       "    </tr>\n",
       "  </tbody>\n",
       "</table>\n",
       "</div>"
      ],
      "text/plain": [
       "                                              inputA  \\\n",
       "0  [0.24985932948240364, 0.6350656914100974, 0.82...   \n",
       "1  [0.3447592728071933, 0.7605236831924497, 0.789...   \n",
       "2  [0.5835598702428237, 0.2923623783944991, 0.494...   \n",
       "3  [0.6494945188525626, 0.33861761010055624, 0.29...   \n",
       "4  [0.5530646953235432, 0.46914860434629924, 0.48...   \n",
       "\n",
       "                                              inputB  label     preds  \\\n",
       "0  [0.7820350888855649, 0.3198341320895355, 0.303...      1  0.995223   \n",
       "1  [0.6068565133586963, 0.4892604057585005, 0.647...      1  0.959608   \n",
       "2  [0.7092419823457793, 0.3953920733270686, 0.584...      0 -0.163975   \n",
       "3  [0.412796658774194, 0.6307090412962476, 0.7552...      0 -0.253983   \n",
       "4  [0.605411651622807, 0.5611188390198073, 0.5267...      1  0.972610   \n",
       "\n",
       "   pred_class  \n",
       "0           1  \n",
       "1           1  \n",
       "2           0  \n",
       "3           0  \n",
       "4           1  "
      ]
     },
     "execution_count": 19,
     "metadata": {},
     "output_type": "execute_result"
    }
   ],
   "source": [
    "threshold = 0.65\n",
    "train_results['pred_class'] = train_results.apply(lambda x: int(x['preds']>=threshold), axis=1)\n",
    "train_results.head()"
   ]
  },
  {
   "cell_type": "code",
   "execution_count": 20,
   "id": "2a08d9ba",
   "metadata": {},
   "outputs": [
    {
     "name": "stdout",
     "output_type": "stream",
     "text": [
      "[[28130  1651]\n",
      " [  423 29267]]\n"
     ]
    }
   ],
   "source": [
    "print(confusion_matrix(train_results.label, train_results.pred_class))"
   ]
  },
  {
   "cell_type": "code",
   "execution_count": 21,
   "id": "ad357c19",
   "metadata": {},
   "outputs": [
    {
     "name": "stdout",
     "output_type": "stream",
     "text": [
      "              precision    recall  f1-score   support\n",
      "\n",
      "           0       0.99      0.94      0.96     29781\n",
      "           1       0.95      0.99      0.97     29690\n",
      "\n",
      "    accuracy                           0.97     59471\n",
      "   macro avg       0.97      0.97      0.97     59471\n",
      "weighted avg       0.97      0.97      0.97     59471\n",
      "\n"
     ]
    }
   ],
   "source": [
    "print(classification_report(train_results.label, train_results.pred_class))"
   ]
  },
  {
   "cell_type": "code",
   "execution_count": 22,
   "id": "ea3446df",
   "metadata": {},
   "outputs": [],
   "source": [
    "train_results.to_csv('siamese_train_preds.csv', index=False)"
   ]
  },
  {
   "cell_type": "code",
   "execution_count": 23,
   "id": "b94854c8",
   "metadata": {},
   "outputs": [
    {
     "name": "stdout",
     "output_type": "stream",
     "text": [
      "Done in: 2.007836103439331 seconds\n",
      "Average time per pred: 3.3761599829149184e-05 seconds\n"
     ]
    },
    {
     "data": {
      "text/html": [
       "<div>\n",
       "<style scoped>\n",
       "    .dataframe tbody tr th:only-of-type {\n",
       "        vertical-align: middle;\n",
       "    }\n",
       "\n",
       "    .dataframe tbody tr th {\n",
       "        vertical-align: top;\n",
       "    }\n",
       "\n",
       "    .dataframe thead th {\n",
       "        text-align: right;\n",
       "    }\n",
       "</style>\n",
       "<table border=\"1\" class=\"dataframe\">\n",
       "  <thead>\n",
       "    <tr style=\"text-align: right;\">\n",
       "      <th></th>\n",
       "      <th>inputA</th>\n",
       "      <th>inputB</th>\n",
       "      <th>label</th>\n",
       "      <th>preds</th>\n",
       "    </tr>\n",
       "  </thead>\n",
       "  <tbody>\n",
       "    <tr>\n",
       "      <th>0</th>\n",
       "      <td>[0.7599851760351478, 0.27829568977021635, 0.39...</td>\n",
       "      <td>[0.3881078382392493, 0.6320058758104472, 0.777...</td>\n",
       "      <td>1</td>\n",
       "      <td>0.933248</td>\n",
       "    </tr>\n",
       "    <tr>\n",
       "      <th>1</th>\n",
       "      <td>[0.23891840228138905, 0.19716560358624316, 0.7...</td>\n",
       "      <td>[0.1339817574334914, 0.3268776091606487, 0.788...</td>\n",
       "      <td>1</td>\n",
       "      <td>0.984288</td>\n",
       "    </tr>\n",
       "    <tr>\n",
       "      <th>2</th>\n",
       "      <td>[0.75814829097616, 0.38292398110746095, 0.6330...</td>\n",
       "      <td>[0.3696297750956259, 0.5905143892117646, 0.885...</td>\n",
       "      <td>0</td>\n",
       "      <td>-0.031089</td>\n",
       "    </tr>\n",
       "    <tr>\n",
       "      <th>3</th>\n",
       "      <td>[0.2607263177495158, 0.6446019065053701, 0.742...</td>\n",
       "      <td>[0.729151566561377, 0.1314536503611208, 0.2343...</td>\n",
       "      <td>0</td>\n",
       "      <td>-0.133252</td>\n",
       "    </tr>\n",
       "    <tr>\n",
       "      <th>4</th>\n",
       "      <td>[0.7674167172311745, 0.26044605158506295, 0.08...</td>\n",
       "      <td>[0.8528030713373913, 0.2308533587518186, 0.265...</td>\n",
       "      <td>1</td>\n",
       "      <td>0.931724</td>\n",
       "    </tr>\n",
       "  </tbody>\n",
       "</table>\n",
       "</div>"
      ],
      "text/plain": [
       "                                              inputA  \\\n",
       "0  [0.7599851760351478, 0.27829568977021635, 0.39...   \n",
       "1  [0.23891840228138905, 0.19716560358624316, 0.7...   \n",
       "2  [0.75814829097616, 0.38292398110746095, 0.6330...   \n",
       "3  [0.2607263177495158, 0.6446019065053701, 0.742...   \n",
       "4  [0.7674167172311745, 0.26044605158506295, 0.08...   \n",
       "\n",
       "                                              inputB  label     preds  \n",
       "0  [0.3881078382392493, 0.6320058758104472, 0.777...      1  0.933248  \n",
       "1  [0.1339817574334914, 0.3268776091606487, 0.788...      1  0.984288  \n",
       "2  [0.3696297750956259, 0.5905143892117646, 0.885...      0 -0.031089  \n",
       "3  [0.729151566561377, 0.1314536503611208, 0.2343...      0 -0.133252  \n",
       "4  [0.8528030713373913, 0.2308533587518186, 0.265...      1  0.931724  "
      ]
     },
     "execution_count": 23,
     "metadata": {},
     "output_type": "execute_result"
    }
   ],
   "source": [
    "start = time.time()\n",
    "preds = [x[0] for x in model.predict([np.array(list(test_df['inputA'])), np.array(list(test_df['inputB']))])]\n",
    "end = time.time()\n",
    "test_results = test_df.copy()\n",
    "test_results['preds'] = preds\n",
    "print(\"Done in:\", (end-start), \"seconds\")\n",
    "print(\"Average time per pred:\", ((end-start)/len(train_df)), \"seconds\")\n",
    "test_results.head()"
   ]
  },
  {
   "cell_type": "code",
   "execution_count": 24,
   "id": "d6f0ee32",
   "metadata": {},
   "outputs": [
    {
     "data": {
      "text/html": [
       "<div>\n",
       "<style scoped>\n",
       "    .dataframe tbody tr th:only-of-type {\n",
       "        vertical-align: middle;\n",
       "    }\n",
       "\n",
       "    .dataframe tbody tr th {\n",
       "        vertical-align: top;\n",
       "    }\n",
       "\n",
       "    .dataframe thead th {\n",
       "        text-align: right;\n",
       "    }\n",
       "</style>\n",
       "<table border=\"1\" class=\"dataframe\">\n",
       "  <thead>\n",
       "    <tr style=\"text-align: right;\">\n",
       "      <th></th>\n",
       "      <th>inputA</th>\n",
       "      <th>inputB</th>\n",
       "      <th>label</th>\n",
       "      <th>preds</th>\n",
       "      <th>pred_class</th>\n",
       "    </tr>\n",
       "  </thead>\n",
       "  <tbody>\n",
       "    <tr>\n",
       "      <th>0</th>\n",
       "      <td>[0.7599851760351478, 0.27829568977021635, 0.39...</td>\n",
       "      <td>[0.3881078382392493, 0.6320058758104472, 0.777...</td>\n",
       "      <td>1</td>\n",
       "      <td>0.933248</td>\n",
       "      <td>1</td>\n",
       "    </tr>\n",
       "    <tr>\n",
       "      <th>1</th>\n",
       "      <td>[0.23891840228138905, 0.19716560358624316, 0.7...</td>\n",
       "      <td>[0.1339817574334914, 0.3268776091606487, 0.788...</td>\n",
       "      <td>1</td>\n",
       "      <td>0.984288</td>\n",
       "      <td>1</td>\n",
       "    </tr>\n",
       "    <tr>\n",
       "      <th>2</th>\n",
       "      <td>[0.75814829097616, 0.38292398110746095, 0.6330...</td>\n",
       "      <td>[0.3696297750956259, 0.5905143892117646, 0.885...</td>\n",
       "      <td>0</td>\n",
       "      <td>-0.031089</td>\n",
       "      <td>0</td>\n",
       "    </tr>\n",
       "    <tr>\n",
       "      <th>3</th>\n",
       "      <td>[0.2607263177495158, 0.6446019065053701, 0.742...</td>\n",
       "      <td>[0.729151566561377, 0.1314536503611208, 0.2343...</td>\n",
       "      <td>0</td>\n",
       "      <td>-0.133252</td>\n",
       "      <td>0</td>\n",
       "    </tr>\n",
       "    <tr>\n",
       "      <th>4</th>\n",
       "      <td>[0.7674167172311745, 0.26044605158506295, 0.08...</td>\n",
       "      <td>[0.8528030713373913, 0.2308533587518186, 0.265...</td>\n",
       "      <td>1</td>\n",
       "      <td>0.931724</td>\n",
       "      <td>1</td>\n",
       "    </tr>\n",
       "  </tbody>\n",
       "</table>\n",
       "</div>"
      ],
      "text/plain": [
       "                                              inputA  \\\n",
       "0  [0.7599851760351478, 0.27829568977021635, 0.39...   \n",
       "1  [0.23891840228138905, 0.19716560358624316, 0.7...   \n",
       "2  [0.75814829097616, 0.38292398110746095, 0.6330...   \n",
       "3  [0.2607263177495158, 0.6446019065053701, 0.742...   \n",
       "4  [0.7674167172311745, 0.26044605158506295, 0.08...   \n",
       "\n",
       "                                              inputB  label     preds  \\\n",
       "0  [0.3881078382392493, 0.6320058758104472, 0.777...      1  0.933248   \n",
       "1  [0.1339817574334914, 0.3268776091606487, 0.788...      1  0.984288   \n",
       "2  [0.3696297750956259, 0.5905143892117646, 0.885...      0 -0.031089   \n",
       "3  [0.729151566561377, 0.1314536503611208, 0.2343...      0 -0.133252   \n",
       "4  [0.8528030713373913, 0.2308533587518186, 0.265...      1  0.931724   \n",
       "\n",
       "   pred_class  \n",
       "0           1  \n",
       "1           1  \n",
       "2           0  \n",
       "3           0  \n",
       "4           1  "
      ]
     },
     "execution_count": 24,
     "metadata": {},
     "output_type": "execute_result"
    }
   ],
   "source": [
    "threshold = 0.65\n",
    "test_results['pred_class'] = test_results.apply(lambda x: int(x['preds']>=threshold), axis=1)\n",
    "test_results.head()"
   ]
  },
  {
   "cell_type": "code",
   "execution_count": 25,
   "id": "d4c92b6a",
   "metadata": {},
   "outputs": [
    {
     "name": "stdout",
     "output_type": "stream",
     "text": [
      "[[11981   718]\n",
      " [  177 12612]]\n"
     ]
    }
   ],
   "source": [
    "print(confusion_matrix(test_results.label, test_results.pred_class))"
   ]
  },
  {
   "cell_type": "code",
   "execution_count": 26,
   "id": "2939e09b",
   "metadata": {},
   "outputs": [
    {
     "name": "stdout",
     "output_type": "stream",
     "text": [
      "              precision    recall  f1-score   support\n",
      "\n",
      "           0       0.99      0.94      0.96     12699\n",
      "           1       0.95      0.99      0.97     12789\n",
      "\n",
      "    accuracy                           0.96     25488\n",
      "   macro avg       0.97      0.96      0.96     25488\n",
      "weighted avg       0.97      0.96      0.96     25488\n",
      "\n"
     ]
    }
   ],
   "source": [
    "print(classification_report(test_results.label, test_results.pred_class))"
   ]
  },
  {
   "cell_type": "code",
   "execution_count": 78,
   "id": "d45d077e",
   "metadata": {},
   "outputs": [],
   "source": [
    "test_results.to_csv('siamese_test_preds.csv', index=False)"
   ]
  },
  {
   "cell_type": "code",
   "execution_count": 12,
   "id": "6b61a4da",
   "metadata": {},
   "outputs": [
    {
     "data": {
      "text/plain": [
       "<tensorflow.python.training.tracking.util.CheckpointLoadStatus at 0x12c09716a00>"
      ]
     },
     "execution_count": 12,
     "metadata": {},
     "output_type": "execute_result"
    }
   ],
   "source": [
    "model.load_weights(\"models/base_siamese\")"
   ]
  },
  {
   "cell_type": "code",
   "execution_count": 13,
   "id": "40ceea33",
   "metadata": {},
   "outputs": [
    {
     "name": "stdout",
     "output_type": "stream",
     "text": [
      "Model: \"model_3\"\n",
      "__________________________________________________________________________________________________\n",
      " Layer (type)                   Output Shape         Param #     Connected to                     \n",
      "==================================================================================================\n",
      " input_4 (InputLayer)           [(None, 47)]         0           []                               \n",
      "                                                                                                  \n",
      " input_5 (InputLayer)           [(None, 47)]         0           []                               \n",
      "                                                                                                  \n",
      " model_2 (Functional)           (None, 100)          13732       ['input_4[0][0]',                \n",
      "                                                                  'input_5[0][0]']                \n",
      "                                                                                                  \n",
      " lambda_1 (Lambda)              (None, 1)            0           ['model_2[0][0]',                \n",
      "                                                                  'model_2[1][0]']                \n",
      "                                                                                                  \n",
      "==================================================================================================\n",
      "Total params: 13,732\n",
      "Trainable params: 13,732\n",
      "Non-trainable params: 0\n",
      "__________________________________________________________________________________________________\n"
     ]
    }
   ],
   "source": [
    "model.summary()"
   ]
  },
  {
   "cell_type": "code",
   "execution_count": null,
   "id": "2862f307",
   "metadata": {},
   "outputs": [],
   "source": []
  }
 ],
 "metadata": {
  "kernelspec": {
   "display_name": "Python 3",
   "language": "python",
   "name": "python3"
  },
  "language_info": {
   "codemirror_mode": {
    "name": "ipython",
    "version": 3
   },
   "file_extension": ".py",
   "mimetype": "text/x-python",
   "name": "python",
   "nbconvert_exporter": "python",
   "pygments_lexer": "ipython3",
   "version": "3.9.5"
  }
 },
 "nbformat": 4,
 "nbformat_minor": 5
}
